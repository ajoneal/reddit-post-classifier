{
 "cells": [
  {
   "cell_type": "markdown",
   "id": "24f04b48",
   "metadata": {},
   "source": [
    "# Importing Libraries/Reading in Data"
   ]
  },
  {
   "cell_type": "code",
   "execution_count": 1,
   "id": "fdb5486e",
   "metadata": {},
   "outputs": [],
   "source": [
    "import pandas as pd\n",
    "import numpy as np\n",
    "import matplotlib.pyplot as plt\n",
    "\n",
    "from sklearn.feature_extraction.text import CountVectorizer, TfidfVectorizer\n",
    "from sklearn.model_selection import train_test_split, GridSearchCV\n",
    "from sklearn.pipeline import Pipeline\n",
    "from sklearn.linear_model import LogisticRegression\n",
    "import sklearn.metrics as metrics\n",
    "from sklearn.neighbors import KNeighborsClassifier\n",
    "from sklearn.tree import DecisionTreeClassifier\n",
    "from sklearn.ensemble import RandomForestClassifier"
   ]
  },
  {
   "cell_type": "code",
   "execution_count": 2,
   "id": "ea3f275f",
   "metadata": {},
   "outputs": [
    {
     "data": {
      "text/html": [
       "<div>\n",
       "<style scoped>\n",
       "    .dataframe tbody tr th:only-of-type {\n",
       "        vertical-align: middle;\n",
       "    }\n",
       "\n",
       "    .dataframe tbody tr th {\n",
       "        vertical-align: top;\n",
       "    }\n",
       "\n",
       "    .dataframe thead th {\n",
       "        text-align: right;\n",
       "    }\n",
       "</style>\n",
       "<table border=\"1\" class=\"dataframe\">\n",
       "  <thead>\n",
       "    <tr style=\"text-align: right;\">\n",
       "      <th></th>\n",
       "      <th>title</th>\n",
       "      <th>selftext</th>\n",
       "      <th>subreddit</th>\n",
       "      <th>created_utc</th>\n",
       "    </tr>\n",
       "  </thead>\n",
       "  <tbody>\n",
       "    <tr>\n",
       "      <th>0</th>\n",
       "      <td>Genreverse</td>\n",
       "      <td>Hi everyone, \\n\\nHere at Genreverse our ultima...</td>\n",
       "      <td>Tomorrowland</td>\n",
       "      <td>1637031457</td>\n",
       "    </tr>\n",
       "    <tr>\n",
       "      <th>1</th>\n",
       "      <td>Tomorrowland and it's bass line-up</td>\n",
       "      <td>So obviously Tomorrowland has always had a gre...</td>\n",
       "      <td>Tomorrowland</td>\n",
       "      <td>1637002849</td>\n",
       "    </tr>\n",
       "    <tr>\n",
       "      <th>2</th>\n",
       "      <td>Hand crafts 2021</td>\n",
       "      <td>NaN</td>\n",
       "      <td>Tomorrowland</td>\n",
       "      <td>1636935255</td>\n",
       "    </tr>\n",
       "    <tr>\n",
       "      <th>3</th>\n",
       "      <td>Winter TML lodging</td>\n",
       "      <td>hello! I have the 4 day pass without lodging a...</td>\n",
       "      <td>Tomorrowland</td>\n",
       "      <td>1636922669</td>\n",
       "    </tr>\n",
       "    <tr>\n",
       "      <th>4</th>\n",
       "      <td>Was Tomorrowland around the world 2020 a speci...</td>\n",
       "      <td>NaN</td>\n",
       "      <td>Tomorrowland</td>\n",
       "      <td>1636904090</td>\n",
       "    </tr>\n",
       "  </tbody>\n",
       "</table>\n",
       "</div>"
      ],
      "text/plain": [
       "                                               title  \\\n",
       "0                                         Genreverse   \n",
       "1                 Tomorrowland and it's bass line-up   \n",
       "2                                   Hand crafts 2021   \n",
       "3                                 Winter TML lodging   \n",
       "4  Was Tomorrowland around the world 2020 a speci...   \n",
       "\n",
       "                                            selftext     subreddit  \\\n",
       "0  Hi everyone, \\n\\nHere at Genreverse our ultima...  Tomorrowland   \n",
       "1  So obviously Tomorrowland has always had a gre...  Tomorrowland   \n",
       "2                                                NaN  Tomorrowland   \n",
       "3  hello! I have the 4 day pass without lodging a...  Tomorrowland   \n",
       "4                                                NaN  Tomorrowland   \n",
       "\n",
       "   created_utc  \n",
       "0   1637031457  \n",
       "1   1637002849  \n",
       "2   1636935255  \n",
       "3   1636922669  \n",
       "4   1636904090  "
      ]
     },
     "execution_count": 2,
     "metadata": {},
     "output_type": "execute_result"
    }
   ],
   "source": [
    "df = pd.read_csv('Data/Prem-Tomorrowland_posts_11-16.csv')\n",
    "df.head()"
   ]
  },
  {
   "cell_type": "code",
   "execution_count": 3,
   "id": "8163a14f",
   "metadata": {},
   "outputs": [
    {
     "data": {
      "text/plain": [
       "(2000, 4)"
      ]
     },
     "execution_count": 3,
     "metadata": {},
     "output_type": "execute_result"
    }
   ],
   "source": [
    "df.shape"
   ]
  },
  {
   "cell_type": "markdown",
   "id": "82198bd0",
   "metadata": {},
   "source": [
    "---"
   ]
  },
  {
   "cell_type": "markdown",
   "id": "0d329b28",
   "metadata": {},
   "source": [
    "# Cleaning/Preprocessing/EDA"
   ]
  },
  {
   "cell_type": "markdown",
   "id": "2f1769c7",
   "metadata": {},
   "source": [
    "### Cleaning/Creating Length Columns"
   ]
  },
  {
   "cell_type": "code",
   "execution_count": 4,
   "id": "b55c58bf",
   "metadata": {},
   "outputs": [
    {
     "data": {
      "text/plain": [
       "title            0\n",
       "selftext       885\n",
       "subreddit        0\n",
       "created_utc      0\n",
       "dtype: int64"
      ]
     },
     "execution_count": 4,
     "metadata": {},
     "output_type": "execute_result"
    }
   ],
   "source": [
    "df.isnull().sum()"
   ]
  },
  {
   "cell_type": "code",
   "execution_count": 5,
   "id": "a4772af5",
   "metadata": {},
   "outputs": [],
   "source": [
    "df['selftext'].fillna('', inplace=True)  \n",
    "# fill with a blank string. Almost even split between nulls for each subreddit (already checked in title notebook)"
   ]
  },
  {
   "cell_type": "code",
   "execution_count": 6,
   "id": "317ce96b",
   "metadata": {},
   "outputs": [],
   "source": [
    "length = []\n",
    "for i in df['selftext']:\n",
    "    length.append(len(i))\n",
    "    \n",
    "df['selftext_length'] = length"
   ]
  },
  {
   "cell_type": "code",
   "execution_count": 7,
   "id": "1cfe9d73",
   "metadata": {},
   "outputs": [],
   "source": [
    "num_words = []\n",
    "for i in df['selftext']:\n",
    "    num_words.append(len(i.split()))\n",
    "\n",
    "df['selftext_word_count'] = num_words"
   ]
  },
  {
   "cell_type": "code",
   "execution_count": 8,
   "id": "dbc72c15",
   "metadata": {},
   "outputs": [
    {
     "data": {
      "text/html": [
       "<div>\n",
       "<style scoped>\n",
       "    .dataframe tbody tr th:only-of-type {\n",
       "        vertical-align: middle;\n",
       "    }\n",
       "\n",
       "    .dataframe tbody tr th {\n",
       "        vertical-align: top;\n",
       "    }\n",
       "\n",
       "    .dataframe thead th {\n",
       "        text-align: right;\n",
       "    }\n",
       "</style>\n",
       "<table border=\"1\" class=\"dataframe\">\n",
       "  <thead>\n",
       "    <tr style=\"text-align: right;\">\n",
       "      <th></th>\n",
       "      <th>title</th>\n",
       "      <th>selftext</th>\n",
       "      <th>subreddit</th>\n",
       "      <th>created_utc</th>\n",
       "      <th>selftext_length</th>\n",
       "      <th>selftext_word_count</th>\n",
       "    </tr>\n",
       "  </thead>\n",
       "  <tbody>\n",
       "    <tr>\n",
       "      <th>0</th>\n",
       "      <td>Genreverse</td>\n",
       "      <td>Hi everyone, \\n\\nHere at Genreverse our ultima...</td>\n",
       "      <td>Tomorrowland</td>\n",
       "      <td>1637031457</td>\n",
       "      <td>398</td>\n",
       "      <td>57</td>\n",
       "    </tr>\n",
       "    <tr>\n",
       "      <th>1</th>\n",
       "      <td>Tomorrowland and it's bass line-up</td>\n",
       "      <td>So obviously Tomorrowland has always had a gre...</td>\n",
       "      <td>Tomorrowland</td>\n",
       "      <td>1637002849</td>\n",
       "      <td>620</td>\n",
       "      <td>104</td>\n",
       "    </tr>\n",
       "    <tr>\n",
       "      <th>2</th>\n",
       "      <td>Hand crafts 2021</td>\n",
       "      <td></td>\n",
       "      <td>Tomorrowland</td>\n",
       "      <td>1636935255</td>\n",
       "      <td>0</td>\n",
       "      <td>0</td>\n",
       "    </tr>\n",
       "    <tr>\n",
       "      <th>3</th>\n",
       "      <td>Winter TML lodging</td>\n",
       "      <td>hello! I have the 4 day pass without lodging a...</td>\n",
       "      <td>Tomorrowland</td>\n",
       "      <td>1636922669</td>\n",
       "      <td>334</td>\n",
       "      <td>65</td>\n",
       "    </tr>\n",
       "    <tr>\n",
       "      <th>4</th>\n",
       "      <td>Was Tomorrowland around the world 2020 a speci...</td>\n",
       "      <td></td>\n",
       "      <td>Tomorrowland</td>\n",
       "      <td>1636904090</td>\n",
       "      <td>0</td>\n",
       "      <td>0</td>\n",
       "    </tr>\n",
       "  </tbody>\n",
       "</table>\n",
       "</div>"
      ],
      "text/plain": [
       "                                               title  \\\n",
       "0                                         Genreverse   \n",
       "1                 Tomorrowland and it's bass line-up   \n",
       "2                                   Hand crafts 2021   \n",
       "3                                 Winter TML lodging   \n",
       "4  Was Tomorrowland around the world 2020 a speci...   \n",
       "\n",
       "                                            selftext     subreddit  \\\n",
       "0  Hi everyone, \\n\\nHere at Genreverse our ultima...  Tomorrowland   \n",
       "1  So obviously Tomorrowland has always had a gre...  Tomorrowland   \n",
       "2                                                     Tomorrowland   \n",
       "3  hello! I have the 4 day pass without lodging a...  Tomorrowland   \n",
       "4                                                     Tomorrowland   \n",
       "\n",
       "   created_utc  selftext_length  selftext_word_count  \n",
       "0   1637031457              398                   57  \n",
       "1   1637002849              620                  104  \n",
       "2   1636935255                0                    0  \n",
       "3   1636922669              334                   65  \n",
       "4   1636904090                0                    0  "
      ]
     },
     "execution_count": 8,
     "metadata": {},
     "output_type": "execute_result"
    }
   ],
   "source": [
    "df.head()"
   ]
  },
  {
   "cell_type": "code",
   "execution_count": 9,
   "id": "264e92b2",
   "metadata": {},
   "outputs": [
    {
     "data": {
      "text/html": [
       "<div>\n",
       "<style scoped>\n",
       "    .dataframe tbody tr th:only-of-type {\n",
       "        vertical-align: middle;\n",
       "    }\n",
       "\n",
       "    .dataframe tbody tr th {\n",
       "        vertical-align: top;\n",
       "    }\n",
       "\n",
       "    .dataframe thead th {\n",
       "        text-align: right;\n",
       "    }\n",
       "</style>\n",
       "<table border=\"1\" class=\"dataframe\">\n",
       "  <thead>\n",
       "    <tr style=\"text-align: right;\">\n",
       "      <th></th>\n",
       "      <th>selftext_length</th>\n",
       "      <th>selftext_word_count</th>\n",
       "    </tr>\n",
       "    <tr>\n",
       "      <th>subreddit</th>\n",
       "      <th></th>\n",
       "      <th></th>\n",
       "    </tr>\n",
       "  </thead>\n",
       "  <tbody>\n",
       "    <tr>\n",
       "      <th>PremierLeague</th>\n",
       "      <td>182.256</td>\n",
       "      <td>28.285</td>\n",
       "    </tr>\n",
       "    <tr>\n",
       "      <th>Tomorrowland</th>\n",
       "      <td>196.799</td>\n",
       "      <td>33.495</td>\n",
       "    </tr>\n",
       "  </tbody>\n",
       "</table>\n",
       "</div>"
      ],
      "text/plain": [
       "               selftext_length  selftext_word_count\n",
       "subreddit                                          \n",
       "PremierLeague          182.256               28.285\n",
       "Tomorrowland           196.799               33.495"
      ]
     },
     "execution_count": 9,
     "metadata": {},
     "output_type": "execute_result"
    }
   ],
   "source": [
    "df.groupby('subreddit').mean()[['selftext_length', 'selftext_word_count']]"
   ]
  },
  {
   "cell_type": "markdown",
   "id": "43f4a8c5",
   "metadata": {},
   "source": [
    "**Premier Leauge posts tend to have shorter selftext lengths and word counts than Tomorrowland posts on average.**"
   ]
  },
  {
   "cell_type": "code",
   "execution_count": 10,
   "id": "8a704f8e",
   "metadata": {},
   "outputs": [],
   "source": [
    "cvec = CountVectorizer(stop_words='english')\n",
    "cvec.fit(df['selftext'])\n",
    "selftext_cvec = cvec.transform(df['selftext'])"
   ]
  },
  {
   "cell_type": "code",
   "execution_count": 11,
   "id": "00455304",
   "metadata": {},
   "outputs": [
    {
     "data": {
      "text/html": [
       "<div>\n",
       "<style scoped>\n",
       "    .dataframe tbody tr th:only-of-type {\n",
       "        vertical-align: middle;\n",
       "    }\n",
       "\n",
       "    .dataframe tbody tr th {\n",
       "        vertical-align: top;\n",
       "    }\n",
       "\n",
       "    .dataframe thead th {\n",
       "        text-align: right;\n",
       "    }\n",
       "</style>\n",
       "<table border=\"1\" class=\"dataframe\">\n",
       "  <thead>\n",
       "    <tr style=\"text-align: right;\">\n",
       "      <th></th>\n",
       "      <th>00</th>\n",
       "      <th>000</th>\n",
       "      <th>001</th>\n",
       "      <th>005</th>\n",
       "      <th>005056aa7581</th>\n",
       "      <th>00s</th>\n",
       "      <th>01</th>\n",
       "      <th>02</th>\n",
       "      <th>03</th>\n",
       "      <th>04</th>\n",
       "      <th>...</th>\n",
       "      <th>zme2bw5qo</th>\n",
       "      <th>zomer</th>\n",
       "      <th>zone</th>\n",
       "      <th>zones</th>\n",
       "      <th>zonneveld</th>\n",
       "      <th>zoom</th>\n",
       "      <th>zouma</th>\n",
       "      <th>zzzz</th>\n",
       "      <th>ñíguez</th>\n",
       "      <th>čolak</th>\n",
       "    </tr>\n",
       "  </thead>\n",
       "  <tbody>\n",
       "    <tr>\n",
       "      <th>0</th>\n",
       "      <td>0</td>\n",
       "      <td>0</td>\n",
       "      <td>0</td>\n",
       "      <td>0</td>\n",
       "      <td>0</td>\n",
       "      <td>0</td>\n",
       "      <td>0</td>\n",
       "      <td>0</td>\n",
       "      <td>0</td>\n",
       "      <td>0</td>\n",
       "      <td>...</td>\n",
       "      <td>0</td>\n",
       "      <td>0</td>\n",
       "      <td>0</td>\n",
       "      <td>0</td>\n",
       "      <td>0</td>\n",
       "      <td>0</td>\n",
       "      <td>0</td>\n",
       "      <td>0</td>\n",
       "      <td>0</td>\n",
       "      <td>0</td>\n",
       "    </tr>\n",
       "    <tr>\n",
       "      <th>1</th>\n",
       "      <td>0</td>\n",
       "      <td>0</td>\n",
       "      <td>0</td>\n",
       "      <td>0</td>\n",
       "      <td>0</td>\n",
       "      <td>0</td>\n",
       "      <td>0</td>\n",
       "      <td>0</td>\n",
       "      <td>0</td>\n",
       "      <td>0</td>\n",
       "      <td>...</td>\n",
       "      <td>0</td>\n",
       "      <td>0</td>\n",
       "      <td>0</td>\n",
       "      <td>0</td>\n",
       "      <td>0</td>\n",
       "      <td>0</td>\n",
       "      <td>0</td>\n",
       "      <td>0</td>\n",
       "      <td>0</td>\n",
       "      <td>0</td>\n",
       "    </tr>\n",
       "    <tr>\n",
       "      <th>2</th>\n",
       "      <td>0</td>\n",
       "      <td>0</td>\n",
       "      <td>0</td>\n",
       "      <td>0</td>\n",
       "      <td>0</td>\n",
       "      <td>0</td>\n",
       "      <td>0</td>\n",
       "      <td>0</td>\n",
       "      <td>0</td>\n",
       "      <td>0</td>\n",
       "      <td>...</td>\n",
       "      <td>0</td>\n",
       "      <td>0</td>\n",
       "      <td>0</td>\n",
       "      <td>0</td>\n",
       "      <td>0</td>\n",
       "      <td>0</td>\n",
       "      <td>0</td>\n",
       "      <td>0</td>\n",
       "      <td>0</td>\n",
       "      <td>0</td>\n",
       "    </tr>\n",
       "    <tr>\n",
       "      <th>3</th>\n",
       "      <td>0</td>\n",
       "      <td>0</td>\n",
       "      <td>0</td>\n",
       "      <td>0</td>\n",
       "      <td>0</td>\n",
       "      <td>0</td>\n",
       "      <td>0</td>\n",
       "      <td>0</td>\n",
       "      <td>0</td>\n",
       "      <td>0</td>\n",
       "      <td>...</td>\n",
       "      <td>0</td>\n",
       "      <td>0</td>\n",
       "      <td>0</td>\n",
       "      <td>0</td>\n",
       "      <td>0</td>\n",
       "      <td>0</td>\n",
       "      <td>0</td>\n",
       "      <td>0</td>\n",
       "      <td>0</td>\n",
       "      <td>0</td>\n",
       "    </tr>\n",
       "    <tr>\n",
       "      <th>4</th>\n",
       "      <td>0</td>\n",
       "      <td>0</td>\n",
       "      <td>0</td>\n",
       "      <td>0</td>\n",
       "      <td>0</td>\n",
       "      <td>0</td>\n",
       "      <td>0</td>\n",
       "      <td>0</td>\n",
       "      <td>0</td>\n",
       "      <td>0</td>\n",
       "      <td>...</td>\n",
       "      <td>0</td>\n",
       "      <td>0</td>\n",
       "      <td>0</td>\n",
       "      <td>0</td>\n",
       "      <td>0</td>\n",
       "      <td>0</td>\n",
       "      <td>0</td>\n",
       "      <td>0</td>\n",
       "      <td>0</td>\n",
       "      <td>0</td>\n",
       "    </tr>\n",
       "    <tr>\n",
       "      <th>...</th>\n",
       "      <td>...</td>\n",
       "      <td>...</td>\n",
       "      <td>...</td>\n",
       "      <td>...</td>\n",
       "      <td>...</td>\n",
       "      <td>...</td>\n",
       "      <td>...</td>\n",
       "      <td>...</td>\n",
       "      <td>...</td>\n",
       "      <td>...</td>\n",
       "      <td>...</td>\n",
       "      <td>...</td>\n",
       "      <td>...</td>\n",
       "      <td>...</td>\n",
       "      <td>...</td>\n",
       "      <td>...</td>\n",
       "      <td>...</td>\n",
       "      <td>...</td>\n",
       "      <td>...</td>\n",
       "      <td>...</td>\n",
       "      <td>...</td>\n",
       "    </tr>\n",
       "    <tr>\n",
       "      <th>1995</th>\n",
       "      <td>0</td>\n",
       "      <td>0</td>\n",
       "      <td>0</td>\n",
       "      <td>0</td>\n",
       "      <td>0</td>\n",
       "      <td>0</td>\n",
       "      <td>0</td>\n",
       "      <td>0</td>\n",
       "      <td>0</td>\n",
       "      <td>0</td>\n",
       "      <td>...</td>\n",
       "      <td>0</td>\n",
       "      <td>0</td>\n",
       "      <td>0</td>\n",
       "      <td>0</td>\n",
       "      <td>0</td>\n",
       "      <td>0</td>\n",
       "      <td>0</td>\n",
       "      <td>0</td>\n",
       "      <td>0</td>\n",
       "      <td>0</td>\n",
       "    </tr>\n",
       "    <tr>\n",
       "      <th>1996</th>\n",
       "      <td>0</td>\n",
       "      <td>0</td>\n",
       "      <td>0</td>\n",
       "      <td>0</td>\n",
       "      <td>0</td>\n",
       "      <td>0</td>\n",
       "      <td>0</td>\n",
       "      <td>0</td>\n",
       "      <td>0</td>\n",
       "      <td>0</td>\n",
       "      <td>...</td>\n",
       "      <td>0</td>\n",
       "      <td>0</td>\n",
       "      <td>0</td>\n",
       "      <td>0</td>\n",
       "      <td>0</td>\n",
       "      <td>0</td>\n",
       "      <td>0</td>\n",
       "      <td>0</td>\n",
       "      <td>0</td>\n",
       "      <td>0</td>\n",
       "    </tr>\n",
       "    <tr>\n",
       "      <th>1997</th>\n",
       "      <td>0</td>\n",
       "      <td>0</td>\n",
       "      <td>0</td>\n",
       "      <td>0</td>\n",
       "      <td>0</td>\n",
       "      <td>0</td>\n",
       "      <td>0</td>\n",
       "      <td>0</td>\n",
       "      <td>0</td>\n",
       "      <td>0</td>\n",
       "      <td>...</td>\n",
       "      <td>0</td>\n",
       "      <td>0</td>\n",
       "      <td>0</td>\n",
       "      <td>0</td>\n",
       "      <td>0</td>\n",
       "      <td>0</td>\n",
       "      <td>0</td>\n",
       "      <td>0</td>\n",
       "      <td>0</td>\n",
       "      <td>0</td>\n",
       "    </tr>\n",
       "    <tr>\n",
       "      <th>1998</th>\n",
       "      <td>0</td>\n",
       "      <td>0</td>\n",
       "      <td>0</td>\n",
       "      <td>0</td>\n",
       "      <td>0</td>\n",
       "      <td>0</td>\n",
       "      <td>0</td>\n",
       "      <td>0</td>\n",
       "      <td>0</td>\n",
       "      <td>0</td>\n",
       "      <td>...</td>\n",
       "      <td>0</td>\n",
       "      <td>0</td>\n",
       "      <td>0</td>\n",
       "      <td>0</td>\n",
       "      <td>0</td>\n",
       "      <td>0</td>\n",
       "      <td>0</td>\n",
       "      <td>0</td>\n",
       "      <td>0</td>\n",
       "      <td>0</td>\n",
       "    </tr>\n",
       "    <tr>\n",
       "      <th>1999</th>\n",
       "      <td>0</td>\n",
       "      <td>0</td>\n",
       "      <td>0</td>\n",
       "      <td>0</td>\n",
       "      <td>0</td>\n",
       "      <td>0</td>\n",
       "      <td>0</td>\n",
       "      <td>0</td>\n",
       "      <td>0</td>\n",
       "      <td>0</td>\n",
       "      <td>...</td>\n",
       "      <td>0</td>\n",
       "      <td>0</td>\n",
       "      <td>0</td>\n",
       "      <td>0</td>\n",
       "      <td>0</td>\n",
       "      <td>0</td>\n",
       "      <td>0</td>\n",
       "      <td>0</td>\n",
       "      <td>0</td>\n",
       "      <td>0</td>\n",
       "    </tr>\n",
       "  </tbody>\n",
       "</table>\n",
       "<p>2000 rows × 6532 columns</p>\n",
       "</div>"
      ],
      "text/plain": [
       "      00  000  001  005  005056aa7581  00s  01  02  03  04  ...  zme2bw5qo  \\\n",
       "0      0    0    0    0             0    0   0   0   0   0  ...          0   \n",
       "1      0    0    0    0             0    0   0   0   0   0  ...          0   \n",
       "2      0    0    0    0             0    0   0   0   0   0  ...          0   \n",
       "3      0    0    0    0             0    0   0   0   0   0  ...          0   \n",
       "4      0    0    0    0             0    0   0   0   0   0  ...          0   \n",
       "...   ..  ...  ...  ...           ...  ...  ..  ..  ..  ..  ...        ...   \n",
       "1995   0    0    0    0             0    0   0   0   0   0  ...          0   \n",
       "1996   0    0    0    0             0    0   0   0   0   0  ...          0   \n",
       "1997   0    0    0    0             0    0   0   0   0   0  ...          0   \n",
       "1998   0    0    0    0             0    0   0   0   0   0  ...          0   \n",
       "1999   0    0    0    0             0    0   0   0   0   0  ...          0   \n",
       "\n",
       "      zomer  zone  zones  zonneveld  zoom  zouma  zzzz  ñíguez  čolak  \n",
       "0         0     0      0          0     0      0     0       0      0  \n",
       "1         0     0      0          0     0      0     0       0      0  \n",
       "2         0     0      0          0     0      0     0       0      0  \n",
       "3         0     0      0          0     0      0     0       0      0  \n",
       "4         0     0      0          0     0      0     0       0      0  \n",
       "...     ...   ...    ...        ...   ...    ...   ...     ...    ...  \n",
       "1995      0     0      0          0     0      0     0       0      0  \n",
       "1996      0     0      0          0     0      0     0       0      0  \n",
       "1997      0     0      0          0     0      0     0       0      0  \n",
       "1998      0     0      0          0     0      0     0       0      0  \n",
       "1999      0     0      0          0     0      0     0       0      0  \n",
       "\n",
       "[2000 rows x 6532 columns]"
      ]
     },
     "execution_count": 11,
     "metadata": {},
     "output_type": "execute_result"
    }
   ],
   "source": [
    "selftext_words = pd.DataFrame(selftext_cvec.todense(), columns=cvec.get_feature_names())\n",
    "selftext_words"
   ]
  },
  {
   "cell_type": "code",
   "execution_count": 12,
   "id": "63b09cc6",
   "metadata": {},
   "outputs": [],
   "source": [
    "selftext_words['which_sub'] = df['subreddit']"
   ]
  },
  {
   "cell_type": "code",
   "execution_count": 13,
   "id": "cda5450d",
   "metadata": {},
   "outputs": [
    {
     "data": {
      "image/png": "[encoded data removed]",
      "text/plain": [
       "<Figure size 864x432 with 1 Axes>"
      ]
     },
     "metadata": {
      "needs_background": "light"
     },
     "output_type": "display_data"
    }
   ],
   "source": [
    "ax = selftext_words.groupby('which_sub').sum().T.sort_values('Tomorrowland', ascending=False).head(15).sort_values('Tomorrowland').plot(kind='barh', figsize=(12,6))\n",
    "plt.title('Top 15 Tomorrowland Selftext Words', size=20)\n",
    "plt.xlabel('Frequency of Word in Selftext', size=15)\n",
    "plt.ylabel('Word', size=15)\n",
    "ax.legend(title='Subreddit', labels=(\"PremierLeague\",\"Tomorrowland\"))\n",
    "#plt.savefig('./Visuals/top15tomo_selftext_words.png', bbox_inches='tight');\n",
    "plt.show();"
   ]
  },
  {
   "cell_type": "code",
   "execution_count": 14,
   "id": "f65b8db6",
   "metadata": {},
   "outputs": [
    {
     "data": {
      "image/png": "[encoded data removed]",
      "text/plain": [
       "<Figure size 864x432 with 1 Axes>"
      ]
     },
     "metadata": {
      "needs_background": "light"
     },
     "output_type": "display_data"
    }
   ],
   "source": [
    "ax = selftext_words.groupby('which_sub').sum().T.sort_values('PremierLeague', ascending=False).head(15).sort_values('PremierLeague').plot(kind='barh', figsize=(12,6))\n",
    "plt.title('Top 15 PremierLeague Selftext Words', size=20)\n",
    "plt.xlabel('Frequency of Word in Selftext', size=15)\n",
    "plt.ylabel('Word', size=15)\n",
    "ax.legend(title='Subreddit', labels=(\"PremierLeague\",\"Tomorrowland\"))\n",
    "#plt.savefig('./Visuals/top15prem_selftext_words.png', bbox_inches='tight');\n",
    "plt.show();"
   ]
  },
  {
   "cell_type": "markdown",
   "id": "7b2ef3fd",
   "metadata": {},
   "source": [
    "*There seems to be more overlap of top occuring words in the selftext than there was in the titles.  Not sure if accuracy scores will be as good in these models*"
   ]
  },
  {
   "cell_type": "code",
   "execution_count": 15,
   "id": "b65327af",
   "metadata": {},
   "outputs": [],
   "source": [
    "selftext_and_words = pd.merge(df, selftext_words, on=df.index)\n",
    "selftext_and_words.drop(columns='key_0', inplace=True)"
   ]
  },
  {
   "cell_type": "code",
   "execution_count": 16,
   "id": "c9ae7d4f",
   "metadata": {},
   "outputs": [
    {
     "data": {
      "text/html": [
       "<div>\n",
       "<style scoped>\n",
       "    .dataframe tbody tr th:only-of-type {\n",
       "        vertical-align: middle;\n",
       "    }\n",
       "\n",
       "    .dataframe tbody tr th {\n",
       "        vertical-align: top;\n",
       "    }\n",
       "\n",
       "    .dataframe thead th {\n",
       "        text-align: right;\n",
       "    }\n",
       "</style>\n",
       "<table border=\"1\" class=\"dataframe\">\n",
       "  <thead>\n",
       "    <tr style=\"text-align: right;\">\n",
       "      <th></th>\n",
       "      <th>title_x</th>\n",
       "      <th>selftext</th>\n",
       "      <th>subreddit_x</th>\n",
       "      <th>created_utc</th>\n",
       "      <th>selftext_length</th>\n",
       "      <th>selftext_word_count</th>\n",
       "      <th>00</th>\n",
       "      <th>000</th>\n",
       "      <th>001</th>\n",
       "      <th>005</th>\n",
       "      <th>...</th>\n",
       "      <th>zomer</th>\n",
       "      <th>zone</th>\n",
       "      <th>zones</th>\n",
       "      <th>zonneveld</th>\n",
       "      <th>zoom</th>\n",
       "      <th>zouma</th>\n",
       "      <th>zzzz</th>\n",
       "      <th>ñíguez</th>\n",
       "      <th>čolak</th>\n",
       "      <th>which_sub</th>\n",
       "    </tr>\n",
       "  </thead>\n",
       "  <tbody>\n",
       "    <tr>\n",
       "      <th>0</th>\n",
       "      <td>Genreverse</td>\n",
       "      <td>Hi everyone, \\n\\nHere at Genreverse our ultima...</td>\n",
       "      <td>Tomorrowland</td>\n",
       "      <td>1637031457</td>\n",
       "      <td>398</td>\n",
       "      <td>57</td>\n",
       "      <td>0</td>\n",
       "      <td>0</td>\n",
       "      <td>0</td>\n",
       "      <td>0</td>\n",
       "      <td>...</td>\n",
       "      <td>0</td>\n",
       "      <td>0</td>\n",
       "      <td>0</td>\n",
       "      <td>0</td>\n",
       "      <td>0</td>\n",
       "      <td>0</td>\n",
       "      <td>0</td>\n",
       "      <td>0</td>\n",
       "      <td>0</td>\n",
       "      <td>Tomorrowland</td>\n",
       "    </tr>\n",
       "    <tr>\n",
       "      <th>1</th>\n",
       "      <td>Tomorrowland and it's bass line-up</td>\n",
       "      <td>So obviously Tomorrowland has always had a gre...</td>\n",
       "      <td>Tomorrowland</td>\n",
       "      <td>1637002849</td>\n",
       "      <td>620</td>\n",
       "      <td>104</td>\n",
       "      <td>0</td>\n",
       "      <td>0</td>\n",
       "      <td>0</td>\n",
       "      <td>0</td>\n",
       "      <td>...</td>\n",
       "      <td>0</td>\n",
       "      <td>0</td>\n",
       "      <td>0</td>\n",
       "      <td>0</td>\n",
       "      <td>0</td>\n",
       "      <td>0</td>\n",
       "      <td>0</td>\n",
       "      <td>0</td>\n",
       "      <td>0</td>\n",
       "      <td>Tomorrowland</td>\n",
       "    </tr>\n",
       "  </tbody>\n",
       "</table>\n",
       "<p>2 rows × 6539 columns</p>\n",
       "</div>"
      ],
      "text/plain": [
       "                              title_x  \\\n",
       "0                          Genreverse   \n",
       "1  Tomorrowland and it's bass line-up   \n",
       "\n",
       "                                            selftext   subreddit_x  \\\n",
       "0  Hi everyone, \\n\\nHere at Genreverse our ultima...  Tomorrowland   \n",
       "1  So obviously Tomorrowland has always had a gre...  Tomorrowland   \n",
       "\n",
       "   created_utc  selftext_length  selftext_word_count  00  000  001  005  ...  \\\n",
       "0   1637031457              398                   57   0    0    0    0  ...   \n",
       "1   1637002849              620                  104   0    0    0    0  ...   \n",
       "\n",
       "   zomer  zone  zones  zonneveld  zoom  zouma  zzzz  ñíguez  čolak  \\\n",
       "0      0     0      0          0     0      0     0       0      0   \n",
       "1      0     0      0          0     0      0     0       0      0   \n",
       "\n",
       "      which_sub  \n",
       "0  Tomorrowland  \n",
       "1  Tomorrowland  \n",
       "\n",
       "[2 rows x 6539 columns]"
      ]
     },
     "execution_count": 16,
     "metadata": {},
     "output_type": "execute_result"
    }
   ],
   "source": [
    "selftext_and_words.head(2)"
   ]
  },
  {
   "cell_type": "code",
   "execution_count": 17,
   "id": "57b264d4",
   "metadata": {},
   "outputs": [
    {
     "data": {
      "text/plain": [
       "amp          301\n",
       "league       216\n",
       "https        178\n",
       "shots        158\n",
       "removed      147\n",
       "com          129\n",
       "premier      116\n",
       "think        114\n",
       "united       104\n",
       "like         100\n",
       "match         99\n",
       "reddit        96\n",
       "poll          96\n",
       "team          96\n",
       "liverpool     89\n",
       "dtype: int64"
      ]
     },
     "execution_count": 17,
     "metadata": {},
     "output_type": "execute_result"
    }
   ],
   "source": [
    "prem_selftext_words = selftext_and_words[selftext_and_words['subreddit_x'] == 'PremierLeague'].drop(columns=['title_x', 'selftext', \n",
    "                                                                                                    'subreddit_x', 'created_utc',\n",
    "                                                                                                    'selftext_length', 'selftext_word_count',\n",
    "                                                                                                    'which_sub'])\n",
    "top15_prem_selftext_words = prem_selftext_words.sum().sort_values(ascending=False).head(15)\n",
    "top15_prem_selftext_words"
   ]
  },
  {
   "cell_type": "code",
   "execution_count": 18,
   "id": "8ef85451",
   "metadata": {},
   "outputs": [
    {
     "data": {
      "text/plain": [
       "<BarContainer object of 15 artists>"
      ]
     },
     "execution_count": 18,
     "metadata": {},
     "output_type": "execute_result"
    },
    {
     "data": {
      "image/png": "[encoded data removed]",
      "text/plain": [
       "<Figure size 720x432 with 1 Axes>"
      ]
     },
     "metadata": {
      "needs_background": "light"
     },
     "output_type": "display_data"
    }
   ],
   "source": [
    "plt.figure(figsize=(10,6))\n",
    "plt.barh(y=top15_prem_selftext_words.sort_values().index, width=top15_prem_selftext_words.sort_values())"
   ]
  },
  {
   "cell_type": "code",
   "execution_count": 19,
   "id": "e2ebd87f",
   "metadata": {},
   "outputs": [
    {
     "data": {
      "text/plain": [
       "tomorrowland    376\n",
       "tickets         182\n",
       "https           164\n",
       "amp             155\n",
       "festival        149\n",
       "just            128\n",
       "people          124\n",
       "tml             123\n",
       "like            119\n",
       "year            117\n",
       "ticket          116\n",
       "know            109\n",
       "com             100\n",
       "2022             99\n",
       "2021             88\n",
       "dtype: int64"
      ]
     },
     "execution_count": 19,
     "metadata": {},
     "output_type": "execute_result"
    }
   ],
   "source": [
    "tomo_selftext_words = selftext_and_words[selftext_and_words['subreddit_x'] == 'Tomorrowland'].drop(columns=['title_x', 'selftext', \n",
    "                                                                                                    'subreddit_x', 'created_utc',\n",
    "                                                                                                    'selftext_length', 'selftext_word_count', \n",
    "                                                                                                   'which_sub'])\n",
    "top15_tomo_selftext_words = tomo_selftext_words.sum().sort_values(ascending=False).head(15)\n",
    "top15_tomo_selftext_words"
   ]
  },
  {
   "cell_type": "code",
   "execution_count": 20,
   "id": "496dc07a",
   "metadata": {},
   "outputs": [
    {
     "data": {
      "text/plain": [
       "<BarContainer object of 15 artists>"
      ]
     },
     "execution_count": 20,
     "metadata": {},
     "output_type": "execute_result"
    },
    {
     "data": {
      "image/png": "[encoded data removed]",
      "text/plain": [
       "<Figure size 720x432 with 1 Axes>"
      ]
     },
     "metadata": {
      "needs_background": "light"
     },
     "output_type": "display_data"
    }
   ],
   "source": [
    "plt.figure(figsize=(10,6))\n",
    "plt.barh(y=top15_tomo_selftext_words.sort_values().index, width=top15_tomo_selftext_words.sort_values())"
   ]
  },
  {
   "cell_type": "markdown",
   "id": "349e8ac0",
   "metadata": {},
   "source": [
    "---"
   ]
  },
  {
   "cell_type": "markdown",
   "id": "637f7eff",
   "metadata": {},
   "source": [
    "# Models"
   ]
  },
  {
   "cell_type": "markdown",
   "id": "79a7a395",
   "metadata": {},
   "source": [
    "### Model Preparation"
   ]
  },
  {
   "cell_type": "code",
   "execution_count": 21,
   "id": "dbfc5be2",
   "metadata": {},
   "outputs": [],
   "source": [
    "df['subreddit'] = df['subreddit'].map({'Tomorrowland': 0, 'PremierLeague': 1})"
   ]
  },
  {
   "cell_type": "code",
   "execution_count": 22,
   "id": "b7f4bd79",
   "metadata": {},
   "outputs": [],
   "source": [
    "X = df['selftext']\n",
    "y = df['subreddit']"
   ]
  },
  {
   "cell_type": "code",
   "execution_count": 23,
   "id": "5836d688",
   "metadata": {},
   "outputs": [
    {
     "data": {
      "text/plain": [
       "0    0.5\n",
       "1    0.5\n",
       "Name: subreddit, dtype: float64"
      ]
     },
     "execution_count": 23,
     "metadata": {},
     "output_type": "execute_result"
    }
   ],
   "source": [
    "y.value_counts(normalize=True)\n",
    "# baseline accuracy of 50% if predicting subreddit is from Premier League subreddit <- looking to beat this"
   ]
  },
  {
   "cell_type": "code",
   "execution_count": 24,
   "id": "e41f6a57",
   "metadata": {},
   "outputs": [],
   "source": [
    "X_train, X_test, y_train, y_test = train_test_split(X, y, random_state=42, stratify=y)"
   ]
  },
  {
   "cell_type": "markdown",
   "id": "0f25ceeb",
   "metadata": {},
   "source": [
    "---"
   ]
  },
  {
   "cell_type": "markdown",
   "id": "7122adb6",
   "metadata": {},
   "source": [
    "### Model 1 - KNN with CountVectorizer"
   ]
  },
  {
   "cell_type": "code",
   "execution_count": 25,
   "id": "667368cb",
   "metadata": {},
   "outputs": [],
   "source": [
    "pipe1 = Pipeline([\n",
    "    ('cvec', CountVectorizer()),\n",
    "    ('knn', KNeighborsClassifier())\n",
    "])"
   ]
  },
  {
   "cell_type": "code",
   "execution_count": 26,
   "id": "fb2c24c7",
   "metadata": {},
   "outputs": [],
   "source": [
    "params1 = {\n",
    "    'cvec__min_df': [15, 16, 17],\n",
    "    'cvec__max_df': [.1, .2, .3],\n",
    "    'cvec__binary': [True, False],\n",
    "    'cvec__stop_words': [None, 'english'],\n",
    "    'knn__weights': ['uniform', 'distance']\n",
    "}"
   ]
  },
  {
   "cell_type": "code",
   "execution_count": 27,
   "id": "3fe5e471",
   "metadata": {},
   "outputs": [
    {
     "name": "stdout",
     "output_type": "stream",
     "text": [
      "0.6693333333333333\n"
     ]
    },
    {
     "data": {
      "text/plain": [
       "{'cvec__binary': False,\n",
       " 'cvec__max_df': 0.2,\n",
       " 'cvec__min_df': 16,\n",
       " 'cvec__stop_words': 'english',\n",
       " 'knn__weights': 'uniform'}"
      ]
     },
     "execution_count": 27,
     "metadata": {},
     "output_type": "execute_result"
    }
   ],
   "source": [
    "gs1 = GridSearchCV(pipe1, param_grid=params1)\n",
    "gs1.fit(X_train, y_train)\n",
    "print(gs1.best_score_)\n",
    "gs1.best_params_"
   ]
  },
  {
   "cell_type": "code",
   "execution_count": 28,
   "id": "2f811b94",
   "metadata": {},
   "outputs": [
    {
     "data": {
      "text/plain": [
       "<sklearn.metrics._plot.confusion_matrix.ConfusionMatrixDisplay at 0x2aaca085f10>"
      ]
     },
     "execution_count": 28,
     "metadata": {},
     "output_type": "execute_result"
    },
    {
     "data": {
      "image/png": "[encoded data removed]",
      "text/plain": [
       "<Figure size 432x288 with 2 Axes>"
      ]
     },
     "metadata": {
      "needs_background": "light"
     },
     "output_type": "display_data"
    }
   ],
   "source": [
    "metrics.plot_confusion_matrix(gs1, X_test, y_test, display_labels=['Tomorrowland', 'PremierLeague'])"
   ]
  },
  {
   "cell_type": "code",
   "execution_count": 29,
   "id": "6362debb",
   "metadata": {},
   "outputs": [],
   "source": [
    "preds1 = gs1.predict(X_test)\n",
    "tn1, fp1, fn1, tp1 = metrics.confusion_matrix(y_test, preds1).flatten()"
   ]
  },
  {
   "cell_type": "markdown",
   "id": "fdc2bc60",
   "metadata": {},
   "source": [
    "**Specificity - How good did the model perform at predicting Tomorrowland selftexts?**"
   ]
  },
  {
   "cell_type": "code",
   "execution_count": 30,
   "id": "d70d1e7b",
   "metadata": {},
   "outputs": [
    {
     "data": {
      "text/plain": [
       "0.916"
      ]
     },
     "execution_count": 30,
     "metadata": {},
     "output_type": "execute_result"
    }
   ],
   "source": [
    "tn1 / (tn1 + fp1)   # Model was very good at predicting subreddit if selftext came from Tomorrowland"
   ]
  },
  {
   "cell_type": "markdown",
   "id": "368df96d",
   "metadata": {},
   "source": [
    "**Sensitivity - How good did the model perform at predicting Premier League selftexts?**"
   ]
  },
  {
   "cell_type": "code",
   "execution_count": 98,
   "id": "ec788a28",
   "metadata": {},
   "outputs": [
    {
     "data": {
      "text/plain": [
       "0.42"
      ]
     },
     "execution_count": 98,
     "metadata": {},
     "output_type": "execute_result"
    }
   ],
   "source": [
    "tp1 / (tp1 + fn1)   # Model was not good at all predicting subreddit if selftext came from Premier League (worse than baseline)"
   ]
  },
  {
   "cell_type": "code",
   "execution_count": 32,
   "id": "ca804aad",
   "metadata": {},
   "outputs": [
    {
     "data": {
      "text/plain": [
       "1778    Why did Evans only receive a yellow when Lapor...\n",
       "1171                                                     \n",
       "1605                                                     \n",
       "1088                                                     \n",
       "1603                                             Discuss.\n",
       "1571                                                     \n",
       "1167    Few examples could be Carlo Ancelotti back to ...\n",
       "1475                                                     \n",
       "1295                                                     \n",
       "1919    Hello,my name's Joshua and I don't post much s...\n",
       "1641                                                     \n",
       "1333                                                     \n",
       "1041                                                     \n",
       "1038    I question whether some fan channels are trues...\n",
       "1647                                                     \n",
       "1228    What kinda match do you prefer for your team? ...\n",
       "1574                                                     \n",
       "1801    Not bad for a team as universally pilloried as...\n",
       "1062    I'm fed up of 3pm games not being showed and h...\n",
       "1711                                                     \n",
       "1290                                                     \n",
       "1031                                                     \n",
       "1578                                                     \n",
       "1317                                                     \n",
       "1447                                                     \n",
       "1345                                                     \n",
       "1028                                                     \n",
       "1010    &amp;#x200B;\\n\\nhttps://preview.redd.it/7u4mrj...\n",
       "1512                                                     \n",
       "1748                                                     \n",
       "1284                                                     \n",
       "1985                                                     \n",
       "1991    Tottenham, once upon a time, we're like Thrash...\n",
       "1883                                                     \n",
       "1050                                                     \n",
       "1176                                                     \n",
       "1312                                                     \n",
       "1978    Well this scenario would make sense as Watford...\n",
       "1934                                                     \n",
       "1326                                                     \n",
       "1536                                                     \n",
       "1684    Not necessarily saying he will become the best...\n",
       "1294                                                     \n",
       "1378                                                     \n",
       "1435                                                     \n",
       "1288                          I’m forever blowing bubbles\n",
       "1269                                                     \n",
       "1626                                                     \n",
       "1595    Which one you having in your starting lineup a...\n",
       "1810                                                     \n",
       "1709                                                     \n",
       "1440    I'm sure there must be some statistics. Which ...\n",
       "1217                                                     \n",
       "1181                                                     \n",
       "1301                                                     \n",
       "1998                                                     \n",
       "1318                                                     \n",
       "1816                                                     \n",
       "1902                                                     \n",
       "1253                                                     \n",
       "Name: selftext, dtype: object"
      ]
     },
     "execution_count": 32,
     "metadata": {},
     "output_type": "execute_result"
    }
   ],
   "source": [
    "preds1 = gs1.predict(X_test)\n",
    "X_test[(y_test != preds1) & (preds1 == 0)].head(60)"
   ]
  },
  {
   "cell_type": "code",
   "execution_count": 34,
   "id": "9c8bf916",
   "metadata": {},
   "outputs": [
    {
     "data": {
      "text/plain": [
       "270    Ugh of course they messed up PDT again, where ...\n",
       "937    Getting static / distortion while playing thro...\n",
       "106                                            [removed]\n",
       "475                                            [removed]\n",
       "553                                            [removed]\n",
       "491    Hello all! Since we still don't know if the fe...\n",
       "562                                            [removed]\n",
       "214                                            [removed]\n",
       "413    I saw some of you wondering when/who received ...\n",
       "987    Includes Train ride from Amsterdam to Belgium\\...\n",
       "269    Not only that I have to see that \"You are a pi...\n",
       "928    Sorry if this is a stupid question - I was jus...\n",
       "337    Hey guys, do u know if there is any discount c...\n",
       "98                                             [removed]\n",
       "315    I‘m amazed by the quality of everything surrou...\n",
       "880                                            [removed]\n",
       "782    When are we able to and when is the deadline t...\n",
       "540                                            [removed]\n",
       "317                                            [removed]\n",
       "64     \\n\\n[View Poll](https://www.reddit.com/poll/q9...\n",
       "105    Can't find a second person to go with locally,...\n",
       "Name: selftext, dtype: object"
      ]
     },
     "execution_count": 34,
     "metadata": {},
     "output_type": "execute_result"
    }
   ],
   "source": [
    "X_test[(y_test != preds1) & (preds1 == 1)].head(21)"
   ]
  },
  {
   "cell_type": "markdown",
   "id": "1c5db026",
   "metadata": {},
   "source": [
    "---"
   ]
  },
  {
   "cell_type": "markdown",
   "id": "11e94f3d",
   "metadata": {},
   "source": [
    "### Model 2 - KNN with TFIDF"
   ]
  },
  {
   "cell_type": "code",
   "execution_count": 35,
   "id": "cc2f3901",
   "metadata": {},
   "outputs": [],
   "source": [
    "pipe2 = Pipeline([\n",
    "    ('tvec', TfidfVectorizer()),\n",
    "    ('knn', KNeighborsClassifier())\n",
    "])"
   ]
  },
  {
   "cell_type": "code",
   "execution_count": 36,
   "id": "e23ef8b2",
   "metadata": {},
   "outputs": [],
   "source": [
    "params2 = {\n",
    "    'knn__n_neighbors': [4, 5, 6, 7],\n",
    "    'tvec__stop_words': ['english', None],\n",
    "    'tvec__min_df': [22, 23, 24, 25, 26, 27],\n",
    "    'tvec__max_df': [.1, .2, .3],\n",
    "    'tvec__ngram_range': [(1,1), (1,2)]\n",
    "}"
   ]
  },
  {
   "cell_type": "code",
   "execution_count": 37,
   "id": "97b5a0aa",
   "metadata": {},
   "outputs": [
    {
     "name": "stdout",
     "output_type": "stream",
     "text": [
      "0.6859999999999999\n"
     ]
    },
    {
     "data": {
      "text/plain": [
       "{'knn__n_neighbors': 5,\n",
       " 'tvec__max_df': 0.1,\n",
       " 'tvec__min_df': 24,\n",
       " 'tvec__ngram_range': (1, 2),\n",
       " 'tvec__stop_words': 'english'}"
      ]
     },
     "execution_count": 37,
     "metadata": {},
     "output_type": "execute_result"
    }
   ],
   "source": [
    "gs2 = GridSearchCV(pipe2, param_grid=params2)\n",
    "gs2.fit(X_train, y_train)\n",
    "print(gs2.best_score_)\n",
    "gs2.best_params_"
   ]
  },
  {
   "cell_type": "code",
   "execution_count": 38,
   "id": "a5bd1268",
   "metadata": {},
   "outputs": [
    {
     "data": {
      "text/plain": [
       "<sklearn.metrics._plot.confusion_matrix.ConfusionMatrixDisplay at 0x2aad19cdc40>"
      ]
     },
     "execution_count": 38,
     "metadata": {},
     "output_type": "execute_result"
    },
    {
     "data": {
      "image/png": "[encoded data removed]",
      "text/plain": [
       "<Figure size 432x288 with 2 Axes>"
      ]
     },
     "metadata": {
      "needs_background": "light"
     },
     "output_type": "display_data"
    }
   ],
   "source": [
    "metrics.plot_confusion_matrix(gs2, X_test, y_test, display_labels=['Tomorrowland', 'PremierLeague'])"
   ]
  },
  {
   "cell_type": "code",
   "execution_count": 39,
   "id": "d75f7b32",
   "metadata": {},
   "outputs": [],
   "source": [
    "preds2 = gs2.predict(X_test)\n",
    "tn2, fp2, fn2, tp2 = metrics.confusion_matrix(y_test, preds2).flatten()"
   ]
  },
  {
   "cell_type": "markdown",
   "id": "1c6cea43",
   "metadata": {},
   "source": [
    "**Specificity - How good did the model perform at predicting Tomorrowland selftexts?**"
   ]
  },
  {
   "cell_type": "code",
   "execution_count": 40,
   "id": "aed8e4b1",
   "metadata": {},
   "outputs": [
    {
     "data": {
      "text/plain": [
       "0.396"
      ]
     },
     "execution_count": 40,
     "metadata": {},
     "output_type": "execute_result"
    }
   ],
   "source": [
    "tn2 / (tn2 + fp2)   # Model was not good at all predicting subreddit if selftext came from Tomorrowland (worse than baseline)"
   ]
  },
  {
   "cell_type": "markdown",
   "id": "4ff96aa6",
   "metadata": {},
   "source": [
    "**Sensitivity - How good did the model perform at predicting Premier League selftexts?**"
   ]
  },
  {
   "cell_type": "code",
   "execution_count": 41,
   "id": "1475bc2f",
   "metadata": {},
   "outputs": [
    {
     "data": {
      "text/plain": [
       "0.936"
      ]
     },
     "execution_count": 41,
     "metadata": {},
     "output_type": "execute_result"
    }
   ],
   "source": [
    "tp2 / (tp2 + fn2)   # Model was very good at predicting subreddit if selftext came from Premier League"
   ]
  },
  {
   "cell_type": "code",
   "execution_count": 42,
   "id": "a710bb48",
   "metadata": {},
   "outputs": [
    {
     "data": {
      "text/plain": [
       "1778    Why did Evans only receive a yellow when Lapor...\n",
       "1919    Hello,my name's Joshua and I don't post much s...\n",
       "1062    I'm fed up of 3pm games not being showed and h...\n",
       "1010    &amp;#x200B;\\n\\nhttps://preview.redd.it/7u4mrj...\n",
       "1991    Tottenham, once upon a time, we're like Thrash...\n",
       "1404    He’s obviously way below managers like Pep, Kl...\n",
       "1004     FYI, would have loved to have spoken to Shin ...\n",
       "1621    Does a manager really influence performance th...\n",
       "1566       Which one would you want in your side and why?\n",
       "1083    Hello Everyone, \\n\\nI am studying abroad from ...\n",
       "1260    The last time they were all in the top 6 was 2...\n",
       "1897    Hello! I am an American currently living the U...\n",
       "1156    Their recent performances have been abysmal an...\n",
       "1348     I would like my crow cooked medium rare, please.\n",
       "1804    Don't conceded. Even A draw could have got us ...\n",
       "1959    &amp;#x200B;\\n\\nhttps://preview.redd.it/egt90w...\n",
       "Name: selftext, dtype: object"
      ]
     },
     "execution_count": 42,
     "metadata": {},
     "output_type": "execute_result"
    }
   ],
   "source": [
    "preds2 = gs2.predict(X_test)\n",
    "X_test[(y_test != preds2) & (preds2 == 0)].head(16)"
   ]
  },
  {
   "cell_type": "code",
   "execution_count": 43,
   "id": "6aea92ef",
   "metadata": {},
   "outputs": [
    {
     "data": {
      "text/plain": [
       "654                                                     \n",
       "646                                                     \n",
       "484                                                     \n",
       "566                                                     \n",
       "839                                                     \n",
       "772                                                     \n",
       "35                                                      \n",
       "700                                                     \n",
       "614                                                     \n",
       "347                                                     \n",
       "546                                                     \n",
       "233                                                     \n",
       "686                                                     \n",
       "821                                                     \n",
       "504                                                     \n",
       "702    Hey guys,\\n\\nI ran into the issue of having to...\n",
       "937    Getting static / distortion while playing thro...\n",
       "106                                            [removed]\n",
       "639                                                     \n",
       "224                                                     \n",
       "441                                                     \n",
       "4                                                       \n",
       "475                                            [removed]\n",
       "560                                                     \n",
       "996                                                     \n",
       "642                                                     \n",
       "981                                                     \n",
       "612                                                     \n",
       "553                                            [removed]\n",
       "508    I thought this might be a good question to ask...\n",
       "803                                            [deleted]\n",
       "502                                                     \n",
       "161                                                     \n",
       "243                                                     \n",
       "563                                                     \n",
       "982                                                     \n",
       "13     I'm finally getting my refund for GJ from 2020...\n",
       "699                                                     \n",
       "230                                                     \n",
       "683                                                     \n",
       "509                                                     \n",
       "206    Hey Fam! So I’m sure we are all missing every ...\n",
       "768    I don’t really think tomorrowland is possible ...\n",
       "170                                                     \n",
       "814                                                     \n",
       "661                                                     \n",
       "607                                                     \n",
       "491    Hello all! Since we still don't know if the fe...\n",
       "972                                                     \n",
       "562                                            [removed]\n",
       "466                                                     \n",
       "804                                            [deleted]\n",
       "733                                                     \n",
       "166                                                     \n",
       "898    It's 10.25h and the relive won't work her in b...\n",
       "214                                            [removed]\n",
       "724    The decision on the summer festivals by the be...\n",
       "34                                                      \n",
       "520                                                     \n",
       "805                                            [deleted]\n",
       "Name: selftext, dtype: object"
      ]
     },
     "execution_count": 43,
     "metadata": {},
     "output_type": "execute_result"
    }
   ],
   "source": [
    "X_test[(y_test != preds2) & (preds2 == 1)].head(60)"
   ]
  },
  {
   "cell_type": "markdown",
   "id": "a64d3eae",
   "metadata": {},
   "source": [
    "---"
   ]
  },
  {
   "cell_type": "markdown",
   "id": "da09c68e",
   "metadata": {},
   "source": [
    "### Model 3 - Logistic Regression with CountVectorizer"
   ]
  },
  {
   "cell_type": "code",
   "execution_count": 44,
   "id": "0c3e8d14",
   "metadata": {},
   "outputs": [],
   "source": [
    "pipe3 = Pipeline([\n",
    "    ('cvec', CountVectorizer()),\n",
    "    ('logreg', LogisticRegression())\n",
    "])"
   ]
  },
  {
   "cell_type": "code",
   "execution_count": 45,
   "id": "a56ec45e",
   "metadata": {},
   "outputs": [],
   "source": [
    "params3 = {\n",
    "    'cvec__min_df': [1, 2, 3],\n",
    "    'cvec__max_df': [.1, .2, .3],\n",
    "    'cvec__binary': [True, False],\n",
    "    'cvec__stop_words': [None, 'english'],\n",
    "    'cvec__ngram_range': [(1,1), (1,2)],\n",
    "    'logreg__C': [1, 2, 3]\n",
    "}"
   ]
  },
  {
   "cell_type": "code",
   "execution_count": 46,
   "id": "e16c7d04",
   "metadata": {},
   "outputs": [
    {
     "name": "stdout",
     "output_type": "stream",
     "text": [
      "0.7360000000000001\n"
     ]
    },
    {
     "data": {
      "text/plain": [
       "{'cvec__binary': True,\n",
       " 'cvec__max_df': 0.1,\n",
       " 'cvec__min_df': 2,\n",
       " 'cvec__ngram_range': (1, 1),\n",
       " 'cvec__stop_words': 'english',\n",
       " 'logreg__C': 1}"
      ]
     },
     "execution_count": 46,
     "metadata": {},
     "output_type": "execute_result"
    }
   ],
   "source": [
    "gs3 = GridSearchCV(pipe3, param_grid=params3)\n",
    "gs3.fit(X_train, y_train)\n",
    "print(gs3.best_score_)\n",
    "gs3.best_params_"
   ]
  },
  {
   "cell_type": "code",
   "execution_count": 47,
   "id": "70e782c1",
   "metadata": {},
   "outputs": [
    {
     "data": {
      "text/plain": [
       "<sklearn.metrics._plot.confusion_matrix.ConfusionMatrixDisplay at 0x2aad08fa700>"
      ]
     },
     "execution_count": 47,
     "metadata": {},
     "output_type": "execute_result"
    },
    {
     "data": {
      "image/png": "[encoded data removed]",
      "text/plain": [
       "<Figure size 432x288 with 2 Axes>"
      ]
     },
     "metadata": {
      "needs_background": "light"
     },
     "output_type": "display_data"
    }
   ],
   "source": [
    "metrics.plot_confusion_matrix(gs3, X_test, y_test, display_labels=['Tomorrowland', 'PremierLeague'])"
   ]
  },
  {
   "cell_type": "code",
   "execution_count": 48,
   "id": "04727e1c",
   "metadata": {},
   "outputs": [],
   "source": [
    "preds3 = gs3.predict(X_test)\n",
    "tn3, fp3, fn3, tp3 = metrics.confusion_matrix(y_test, preds3).flatten()"
   ]
  },
  {
   "cell_type": "markdown",
   "id": "6c48767b",
   "metadata": {},
   "source": [
    "**Specificity - How good did the model perform at predicting Tomorrowland selftexts?**"
   ]
  },
  {
   "cell_type": "code",
   "execution_count": 49,
   "id": "f8442f6e",
   "metadata": {},
   "outputs": [
    {
     "data": {
      "text/plain": [
       "0.948"
      ]
     },
     "execution_count": 49,
     "metadata": {},
     "output_type": "execute_result"
    }
   ],
   "source": [
    "tn3 / (tn3 + fp3)   # Model was very good at predicting subreddit if selftext came from Tomorrowland"
   ]
  },
  {
   "cell_type": "markdown",
   "id": "86bf0fa8",
   "metadata": {},
   "source": [
    "**Sensitivity - How good did the model perform at predicting Premier League selftexts?**"
   ]
  },
  {
   "cell_type": "code",
   "execution_count": 99,
   "id": "6eef5fea",
   "metadata": {},
   "outputs": [
    {
     "data": {
      "text/plain": [
       "0.516"
      ]
     },
     "execution_count": 99,
     "metadata": {},
     "output_type": "execute_result"
    }
   ],
   "source": [
    "tp3 / (tp3 + fn3)   # Model was not very good at predicting subreddit if selftext came from Premier League (almost equal to baseline)"
   ]
  },
  {
   "cell_type": "code",
   "execution_count": 51,
   "id": "78d32e22",
   "metadata": {},
   "outputs": [
    {
     "data": {
      "text/plain": [
       "1778    Why did Evans only receive a yellow when Lapor...\n",
       "1171                                                     \n",
       "1605                                                     \n",
       "1088                                                     \n",
       "1603                                             Discuss.\n",
       "1571                                                     \n",
       "1167    Few examples could be Carlo Ancelotti back to ...\n",
       "1024    If I had to choose just one person. I'm going ...\n",
       "1475                                                     \n",
       "1295                                                     \n",
       "1641                                                     \n",
       "1333                                                     \n",
       "1041                                                     \n",
       "1647                                                     \n",
       "1574                                                     \n",
       "1711                                                     \n",
       "1290                                                     \n",
       "1031                                                     \n",
       "1578                                                     \n",
       "1317                                                     \n",
       "1447                                                     \n",
       "1345                                                     \n",
       "1028                                                     \n",
       "1010    &amp;#x200B;\\n\\nhttps://preview.redd.it/7u4mrj...\n",
       "1512                                                     \n",
       "1748                                                     \n",
       "1284                                                     \n",
       "1985                                                     \n",
       "1883                                                     \n",
       "1050                                                     \n",
       "1176                                                     \n",
       "1312                                                     \n",
       "1934                                                     \n",
       "1326                                                     \n",
       "1536                                                     \n",
       "1294                                                     \n",
       "1378                                                     \n",
       "1435                                                     \n",
       "1288                          I’m forever blowing bubbles\n",
       "1269                                                     \n",
       "1626                                                     \n",
       "1595    Which one you having in your starting lineup a...\n",
       "1810                                                     \n",
       "1709                                                     \n",
       "1440    I'm sure there must be some statistics. Which ...\n",
       "1217                                                     \n",
       "1181                                                     \n",
       "1301                                                     \n",
       "1998                                                     \n",
       "1318                                                     \n",
       "1816                                                     \n",
       "1902                                                     \n",
       "1253                                                     \n",
       "1669                                                     \n",
       "1682                                                     \n",
       "1566       Which one would you want in your side and why?\n",
       "1179                                                     \n",
       "1105                                                     \n",
       "1022                                                     \n",
       "1805                                                     \n",
       "Name: selftext, dtype: object"
      ]
     },
     "execution_count": 51,
     "metadata": {},
     "output_type": "execute_result"
    }
   ],
   "source": [
    "preds3 = gs3.predict(X_test)\n",
    "X_test[(y_test != preds3) & (preds3 == 0)].head(60)"
   ]
  },
  {
   "cell_type": "code",
   "execution_count": 52,
   "id": "f93fc93f",
   "metadata": {},
   "outputs": [
    {
     "data": {
      "text/plain": [
       "106                                            [removed]\n",
       "475                                            [removed]\n",
       "553                                            [removed]\n",
       "562                                            [removed]\n",
       "214                                            [removed]\n",
       "600    Anyone has a good 1-2 hour mashup of the best ...\n",
       "98                                             [removed]\n",
       "288                             If so, can you share? ❤️\n",
       "880                                            [removed]\n",
       "632    Don’t use Reddit much but I have been trying t...\n",
       "540                                            [removed]\n",
       "317                                            [removed]\n",
       "64     \\n\\n[View Poll](https://www.reddit.com/poll/q9...\n",
       "Name: selftext, dtype: object"
      ]
     },
     "execution_count": 52,
     "metadata": {},
     "output_type": "execute_result"
    }
   ],
   "source": [
    "X_test[(y_test != preds3) & (preds3 == 1)].head(13)"
   ]
  },
  {
   "cell_type": "markdown",
   "id": "7751eb5c",
   "metadata": {},
   "source": [
    "---"
   ]
  },
  {
   "cell_type": "markdown",
   "id": "da88eee7",
   "metadata": {},
   "source": [
    "### Model 4 - Logistic Regression with TFIDF"
   ]
  },
  {
   "cell_type": "code",
   "execution_count": 53,
   "id": "940ebef2",
   "metadata": {},
   "outputs": [],
   "source": [
    "pipe4 = Pipeline([\n",
    "    ('tvec', TfidfVectorizer()),\n",
    "    ('logreg', LogisticRegression())\n",
    "])"
   ]
  },
  {
   "cell_type": "code",
   "execution_count": 54,
   "id": "b0518026",
   "metadata": {},
   "outputs": [],
   "source": [
    "params4 = {\n",
    "    'tvec__stop_words': [None, 'english'],\n",
    "    'tvec__min_df': [1, 2, 3, 4, 5],\n",
    "    'tvec__max_df': [.2, .3, .4],\n",
    "    'tvec__ngram_range': [(1,1), (1,2)],\n",
    "    'logreg__C': [1, 2, 3]\n",
    "}"
   ]
  },
  {
   "cell_type": "code",
   "execution_count": 55,
   "id": "f6785ede",
   "metadata": {},
   "outputs": [
    {
     "name": "stdout",
     "output_type": "stream",
     "text": [
      "0.74\n"
     ]
    },
    {
     "data": {
      "text/plain": [
       "{'logreg__C': 3,\n",
       " 'tvec__max_df': 0.2,\n",
       " 'tvec__min_df': 2,\n",
       " 'tvec__ngram_range': (1, 2),\n",
       " 'tvec__stop_words': 'english'}"
      ]
     },
     "execution_count": 55,
     "metadata": {},
     "output_type": "execute_result"
    }
   ],
   "source": [
    "gs4 = GridSearchCV(pipe4, param_grid=params4)\n",
    "gs4.fit(X_train, y_train)\n",
    "print(gs4.best_score_)\n",
    "gs4.best_params_"
   ]
  },
  {
   "cell_type": "code",
   "execution_count": 56,
   "id": "7e687ca5",
   "metadata": {},
   "outputs": [
    {
     "data": {
      "text/plain": [
       "<sklearn.metrics._plot.confusion_matrix.ConfusionMatrixDisplay at 0x2aad0823340>"
      ]
     },
     "execution_count": 56,
     "metadata": {},
     "output_type": "execute_result"
    },
    {
     "data": {
      "image/png": "[encoded data removed]",
      "text/plain": [
       "<Figure size 432x288 with 2 Axes>"
      ]
     },
     "metadata": {
      "needs_background": "light"
     },
     "output_type": "display_data"
    }
   ],
   "source": [
    "metrics.plot_confusion_matrix(gs4, X_test, y_test, display_labels=['Tomorrowland', 'PremierLeague'])"
   ]
  },
  {
   "cell_type": "code",
   "execution_count": 57,
   "id": "ae5c675a",
   "metadata": {},
   "outputs": [],
   "source": [
    "preds4 = gs4.predict(X_test)\n",
    "tn4, fp4, fn4, tp4 = metrics.confusion_matrix(y_test, preds4).flatten()"
   ]
  },
  {
   "cell_type": "markdown",
   "id": "e324a162",
   "metadata": {},
   "source": [
    "**Specificity - How good did the model perform at predicting Tomorrowland selftexts?**"
   ]
  },
  {
   "cell_type": "code",
   "execution_count": 58,
   "id": "70c9f759",
   "metadata": {},
   "outputs": [
    {
     "data": {
      "text/plain": [
       "0.948"
      ]
     },
     "execution_count": 58,
     "metadata": {},
     "output_type": "execute_result"
    }
   ],
   "source": [
    "tn4 / (tn4 + fp4)   # Model was very good at predicting subreddit if selftext came from Tomorrowland"
   ]
  },
  {
   "cell_type": "markdown",
   "id": "990a55ac",
   "metadata": {},
   "source": [
    "**Sensitivity - How good did the model perform at predicting Premier League selftexts?**"
   ]
  },
  {
   "cell_type": "code",
   "execution_count": 59,
   "id": "308f5121",
   "metadata": {},
   "outputs": [
    {
     "data": {
      "text/plain": [
       "0.536"
      ]
     },
     "execution_count": 59,
     "metadata": {},
     "output_type": "execute_result"
    }
   ],
   "source": [
    "tp4 / (tp4 + fn4)   # Model was not very good at predicting subreddit if selftext came from Premier League (almost equal to baseline)"
   ]
  },
  {
   "cell_type": "code",
   "execution_count": 60,
   "id": "85088975",
   "metadata": {},
   "outputs": [
    {
     "data": {
      "text/plain": [
       "1778    Why did Evans only receive a yellow when Lapor...\n",
       "1171                                                     \n",
       "1605                                                     \n",
       "1088                                                     \n",
       "1603                                             Discuss.\n",
       "1571                                                     \n",
       "1024    If I had to choose just one person. I'm going ...\n",
       "1475                                                     \n",
       "1295                                                     \n",
       "1641                                                     \n",
       "1333                                                     \n",
       "1041                                                     \n",
       "1647                                                     \n",
       "1574                                                     \n",
       "1711                                                     \n",
       "1290                                                     \n",
       "1031                                                     \n",
       "1578                                                     \n",
       "1317                                                     \n",
       "1447                                                     \n",
       "1345                                                     \n",
       "1028                                                     \n",
       "1010    &amp;#x200B;\\n\\nhttps://preview.redd.it/7u4mrj...\n",
       "1512                                                     \n",
       "1748                                                     \n",
       "1284                                                     \n",
       "1985                                                     \n",
       "1991    Tottenham, once upon a time, we're like Thrash...\n",
       "1883                                                     \n",
       "1050                                                     \n",
       "1176                                                     \n",
       "1312                                                     \n",
       "1934                                                     \n",
       "1326                                                     \n",
       "1536                                                     \n",
       "1294                                                     \n",
       "1378                                                     \n",
       "1435                                                     \n",
       "1288                          I’m forever blowing bubbles\n",
       "1269                                                     \n",
       "1626                                                     \n",
       "1810                                                     \n",
       "1709                                                     \n",
       "1217                                                     \n",
       "1181                                                     \n",
       "1301                                                     \n",
       "1998                                                     \n",
       "1318                                                     \n",
       "1816                                                     \n",
       "1902                                                     \n",
       "1253                                                     \n",
       "1669                                                     \n",
       "1682                                                     \n",
       "1566       Which one would you want in your side and why?\n",
       "1179                                                     \n",
       "1105                                                     \n",
       "1022                                                     \n",
       "1805                                                     \n",
       "1668                                                     \n",
       "1341                                                     \n",
       "Name: selftext, dtype: object"
      ]
     },
     "execution_count": 60,
     "metadata": {},
     "output_type": "execute_result"
    }
   ],
   "source": [
    "preds4 = gs4.predict(X_test)\n",
    "X_test[(y_test != preds4) & (preds4 == 0)].head(60)"
   ]
  },
  {
   "cell_type": "code",
   "execution_count": 61,
   "id": "7473219f",
   "metadata": {},
   "outputs": [
    {
     "data": {
      "text/plain": [
       "106                                            [removed]\n",
       "475                                            [removed]\n",
       "553                                            [removed]\n",
       "562                                            [removed]\n",
       "214                                            [removed]\n",
       "564    We're proud to be one of the featured sub-Redd...\n",
       "98                                             [removed]\n",
       "288                             If so, can you share? ❤️\n",
       "880                                            [removed]\n",
       "540                                            [removed]\n",
       "317                                            [removed]\n",
       "64     \\n\\n[View Poll](https://www.reddit.com/poll/q9...\n",
       "384    &amp;#x200B;\\n\\nhttps://preview.redd.it/gpdyrg...\n",
       "Name: selftext, dtype: object"
      ]
     },
     "execution_count": 61,
     "metadata": {},
     "output_type": "execute_result"
    }
   ],
   "source": [
    "X_test[(y_test != preds4) & (preds4 == 1)].head(13)"
   ]
  },
  {
   "cell_type": "markdown",
   "id": "7e12ef0c",
   "metadata": {},
   "source": [
    "---"
   ]
  },
  {
   "cell_type": "markdown",
   "id": "4559c614",
   "metadata": {},
   "source": [
    "### Model 5 - Decision Tree with CountVectorizer"
   ]
  },
  {
   "cell_type": "code",
   "execution_count": 62,
   "id": "7655ae82",
   "metadata": {},
   "outputs": [],
   "source": [
    "pipe5 = Pipeline([\n",
    "    ('cvec', CountVectorizer()),\n",
    "    ('dt', DecisionTreeClassifier())\n",
    "])"
   ]
  },
  {
   "cell_type": "code",
   "execution_count": 63,
   "id": "248ee4af",
   "metadata": {},
   "outputs": [],
   "source": [
    "params5 = {\n",
    "    'cvec__min_df': [1, 2, 3, 4],\n",
    "    'cvec__max_df': [.1, .2, .3, .4],\n",
    "    'cvec__binary': [True, False],\n",
    "    'cvec__stop_words': ['english', None],\n",
    "    'dt__random_state': [10],\n",
    "    'dt__min_samples_split': [5, 6, 7, 8, 9, 10]\n",
    "}"
   ]
  },
  {
   "cell_type": "code",
   "execution_count": 64,
   "id": "b579b7d8",
   "metadata": {},
   "outputs": [
    {
     "name": "stdout",
     "output_type": "stream",
     "text": [
      "0.7133333333333333\n"
     ]
    },
    {
     "data": {
      "text/plain": [
       "{'cvec__binary': True,\n",
       " 'cvec__max_df': 0.2,\n",
       " 'cvec__min_df': 2,\n",
       " 'cvec__stop_words': 'english',\n",
       " 'dt__min_samples_split': 8,\n",
       " 'dt__random_state': 10}"
      ]
     },
     "execution_count": 64,
     "metadata": {},
     "output_type": "execute_result"
    }
   ],
   "source": [
    "gs5 = GridSearchCV(pipe5, param_grid=params5)\n",
    "gs5.fit(X_train, y_train)\n",
    "print(gs5.best_score_)\n",
    "gs5.best_params_"
   ]
  },
  {
   "cell_type": "code",
   "execution_count": 65,
   "id": "4ff92bfa",
   "metadata": {},
   "outputs": [
    {
     "data": {
      "text/plain": [
       "<sklearn.metrics._plot.confusion_matrix.ConfusionMatrixDisplay at 0x2aad2239f70>"
      ]
     },
     "execution_count": 65,
     "metadata": {},
     "output_type": "execute_result"
    },
    {
     "data": {
      "image/png": "[encoded data removed]",
      "text/plain": [
       "<Figure size 432x288 with 2 Axes>"
      ]
     },
     "metadata": {
      "needs_background": "light"
     },
     "output_type": "display_data"
    }
   ],
   "source": [
    "metrics.plot_confusion_matrix(gs5, X_test, y_test, display_labels=['Tomorrowland', 'PremierLeague'])"
   ]
  },
  {
   "cell_type": "code",
   "execution_count": 66,
   "id": "2f9cfdcf",
   "metadata": {},
   "outputs": [],
   "source": [
    "preds5 = gs5.predict(X_test)\n",
    "tn5, fp5, fn5, tp5 = metrics.confusion_matrix(y_test, preds5).flatten()"
   ]
  },
  {
   "cell_type": "markdown",
   "id": "5fb37146",
   "metadata": {},
   "source": [
    "**Specificity - How good did the model perform at predicting Tomorrowland selftexts?**"
   ]
  },
  {
   "cell_type": "code",
   "execution_count": 67,
   "id": "22b4d301",
   "metadata": {},
   "outputs": [
    {
     "data": {
      "text/plain": [
       "0.94"
      ]
     },
     "execution_count": 67,
     "metadata": {},
     "output_type": "execute_result"
    }
   ],
   "source": [
    "tn5 / (tn5 + fp5)   # Model was very good at predicting subreddit if selftext came from Tomorrowland"
   ]
  },
  {
   "cell_type": "markdown",
   "id": "a4e220ea",
   "metadata": {},
   "source": [
    "**Sensitivity - How good did the model perform at predicting Premier League selftexts?**"
   ]
  },
  {
   "cell_type": "code",
   "execution_count": 68,
   "id": "d266358f",
   "metadata": {},
   "outputs": [
    {
     "data": {
      "text/plain": [
       "0.48"
      ]
     },
     "execution_count": 68,
     "metadata": {},
     "output_type": "execute_result"
    }
   ],
   "source": [
    "tp5 / (tp5 + fn5)   # Model was not very good at predicting subreddit if selftext came from Premier League (almost equal to baseline)"
   ]
  },
  {
   "cell_type": "code",
   "execution_count": 100,
   "id": "cc54b237",
   "metadata": {},
   "outputs": [
    {
     "data": {
      "text/plain": [
       "1778    Why did Evans only receive a yellow when Lapor...\n",
       "1171                                                     \n",
       "1605                                                     \n",
       "1088                                                     \n",
       "1603                                             Discuss.\n",
       "1571                                                     \n",
       "1167    Few examples could be Carlo Ancelotti back to ...\n",
       "1024    If I had to choose just one person. I'm going ...\n",
       "1475                                                     \n",
       "1295                                                     \n",
       "1641                                                     \n",
       "1333                                                     \n",
       "1041                                                     \n",
       "1647                                                     \n",
       "1574                                                     \n",
       "1801    Not bad for a team as universally pilloried as...\n",
       "1062    I'm fed up of 3pm games not being showed and h...\n",
       "1711                                                     \n",
       "1290                                                     \n",
       "1031                                                     \n",
       "1578                                                     \n",
       "1317                                                     \n",
       "1447                                                     \n",
       "1345                                                     \n",
       "1028                                                     \n",
       "1010    &amp;#x200B;\\n\\nhttps://preview.redd.it/7u4mrj...\n",
       "1512                                                     \n",
       "1748                                                     \n",
       "1284                                                     \n",
       "1798    Daniel levy always budgeting. Even struggled i...\n",
       "1985                                                     \n",
       "1883                                                     \n",
       "1050                                                     \n",
       "1176                                                     \n",
       "1312                                                     \n",
       "1934                                                     \n",
       "1326                                                     \n",
       "1536                                                     \n",
       "1294                                                     \n",
       "1378                                                     \n",
       "1435                                                     \n",
       "1288                          I’m forever blowing bubbles\n",
       "1269                                                     \n",
       "1626                                                     \n",
       "1595    Which one you having in your starting lineup a...\n",
       "1810                                                     \n",
       "1709                                                     \n",
       "1440    I'm sure there must be some statistics. Which ...\n",
       "1217                                                     \n",
       "1181                                                     \n",
       "1301                                                     \n",
       "1998                                                     \n",
       "1318                                                     \n",
       "1816                                                     \n",
       "1902                                                     \n",
       "1253                                                     \n",
       "1669                                                     \n",
       "1776                    TAA or Reece James whose better ?\n",
       "1621    Does a manager really influence performance th...\n",
       "1682                                                     \n",
       "Name: selftext, dtype: object"
      ]
     },
     "execution_count": 100,
     "metadata": {},
     "output_type": "execute_result"
    }
   ],
   "source": [
    "preds5 = gs5.predict(X_test)\n",
    "X_test[(y_test != preds5) & (preds5 == 0)].head(60)"
   ]
  },
  {
   "cell_type": "code",
   "execution_count": 101,
   "id": "22adad53",
   "metadata": {},
   "outputs": [
    {
     "data": {
      "text/plain": [
       "106                                            [removed]\n",
       "475                                            [removed]\n",
       "553                                            [removed]\n",
       "562                                            [removed]\n",
       "214                                            [removed]\n",
       "724    The decision on the summer festivals by the be...\n",
       "385    In my account I can change the names now but w...\n",
       "337    Hey guys, do u know if there is any discount c...\n",
       "98                                             [removed]\n",
       "880                                            [removed]\n",
       "627    [https://www.vrt.be/vrtnws/en/2021/04/24/flemi...\n",
       "540                                            [removed]\n",
       "317                                            [removed]\n",
       "410    PNigma Feat. BuSuJ\\n\\n&amp;#x200B;\\n\\n&amp;#x2...\n",
       "384    &amp;#x200B;\\n\\nhttps://preview.redd.it/gpdyrg...\n",
       "Name: selftext, dtype: object"
      ]
     },
     "execution_count": 101,
     "metadata": {},
     "output_type": "execute_result"
    }
   ],
   "source": [
    "X_test[(y_test != preds5) & (preds5 == 1)].head(15)"
   ]
  },
  {
   "cell_type": "markdown",
   "id": "c3300c60",
   "metadata": {},
   "source": [
    "---"
   ]
  },
  {
   "cell_type": "markdown",
   "id": "29a37d3a",
   "metadata": {},
   "source": [
    "### Model 6 - Decision Tree with TFIDF"
   ]
  },
  {
   "cell_type": "code",
   "execution_count": 71,
   "id": "6d913fab",
   "metadata": {},
   "outputs": [],
   "source": [
    "pipe6 = Pipeline([\n",
    "    ('tvec', TfidfVectorizer()),\n",
    "    ('dt', DecisionTreeClassifier())\n",
    "])"
   ]
  },
  {
   "cell_type": "code",
   "execution_count": 72,
   "id": "cc351ee1",
   "metadata": {},
   "outputs": [],
   "source": [
    "params6 = {\n",
    "    'tvec__stop_words': ['english', None],\n",
    "    'tvec__min_df': [2, 3, 4, 5, 6],\n",
    "    'tvec__max_df': [.1, .2, .3, .4],\n",
    "    'tvec__ngram_range': [(1,1), (1,2)],\n",
    "    'dt__random_state': [42],\n",
    "    'dt__min_samples_split': [2, 3, 4]\n",
    "}"
   ]
  },
  {
   "cell_type": "code",
   "execution_count": 73,
   "id": "35d1e5b5",
   "metadata": {},
   "outputs": [
    {
     "name": "stdout",
     "output_type": "stream",
     "text": [
      "0.7033333333333334\n"
     ]
    },
    {
     "data": {
      "text/plain": [
       "{'dt__min_samples_split': 3,\n",
       " 'dt__random_state': 42,\n",
       " 'tvec__max_df': 0.2,\n",
       " 'tvec__min_df': 2,\n",
       " 'tvec__ngram_range': (1, 2),\n",
       " 'tvec__stop_words': 'english'}"
      ]
     },
     "execution_count": 73,
     "metadata": {},
     "output_type": "execute_result"
    }
   ],
   "source": [
    "gs6 = GridSearchCV(pipe6, param_grid=params6)\n",
    "gs6.fit(X_train, y_train)\n",
    "print(gs6.best_score_)\n",
    "gs6.best_params_"
   ]
  },
  {
   "cell_type": "code",
   "execution_count": 74,
   "id": "3533d036",
   "metadata": {},
   "outputs": [
    {
     "data": {
      "text/plain": [
       "<sklearn.metrics._plot.confusion_matrix.ConfusionMatrixDisplay at 0x2aac9eb4700>"
      ]
     },
     "execution_count": 74,
     "metadata": {},
     "output_type": "execute_result"
    },
    {
     "data": {
      "image/png": "[encoded data removed]",
      "text/plain": [
       "<Figure size 432x288 with 2 Axes>"
      ]
     },
     "metadata": {
      "needs_background": "light"
     },
     "output_type": "display_data"
    }
   ],
   "source": [
    "metrics.plot_confusion_matrix(gs6, X_test, y_test, display_labels=['Tomorrowland', 'PremierLeague'])"
   ]
  },
  {
   "cell_type": "code",
   "execution_count": 75,
   "id": "d5adf8b6",
   "metadata": {},
   "outputs": [],
   "source": [
    "preds6 = gs6.predict(X_test)\n",
    "tn6, fp6, fn6, tp6 = metrics.confusion_matrix(y_test, preds6).flatten()"
   ]
  },
  {
   "cell_type": "markdown",
   "id": "7a5fb6f9",
   "metadata": {},
   "source": [
    "**Specificity - How good did the model perform at predicting Tomorrowland selftexts?**"
   ]
  },
  {
   "cell_type": "code",
   "execution_count": 76,
   "id": "768cc1c9",
   "metadata": {},
   "outputs": [
    {
     "data": {
      "text/plain": [
       "0.924"
      ]
     },
     "execution_count": 76,
     "metadata": {},
     "output_type": "execute_result"
    }
   ],
   "source": [
    "tn6 / (tn6 + fp6)   # Model was very good at predicting subreddit if selftext came from Tomorrowland"
   ]
  },
  {
   "cell_type": "markdown",
   "id": "077174ec",
   "metadata": {},
   "source": [
    "**Sensitivity - How good did the model perform at predicting Premier League selftexts?**"
   ]
  },
  {
   "cell_type": "code",
   "execution_count": 77,
   "id": "09912a8b",
   "metadata": {},
   "outputs": [
    {
     "data": {
      "text/plain": [
       "0.472"
      ]
     },
     "execution_count": 77,
     "metadata": {},
     "output_type": "execute_result"
    }
   ],
   "source": [
    "tp6 / (tp6 + fn6)   # Model was not very good at predicting subreddit if selftext came from Premier League (almost equal to baseline)"
   ]
  },
  {
   "cell_type": "code",
   "execution_count": 102,
   "id": "deaa1a43",
   "metadata": {},
   "outputs": [
    {
     "data": {
      "text/plain": [
       "1778    Why did Evans only receive a yellow when Lapor...\n",
       "1171                                                     \n",
       "1605                                                     \n",
       "1088                                                     \n",
       "1603                                             Discuss.\n",
       "1571                                                     \n",
       "1167    Few examples could be Carlo Ancelotti back to ...\n",
       "1475                                                     \n",
       "1295                                                     \n",
       "1641                                                     \n",
       "1333                                                     \n",
       "1041                                                     \n",
       "1647                                                     \n",
       "1574                                                     \n",
       "1711                                                     \n",
       "1290                                                     \n",
       "1031                                                     \n",
       "1578                                                     \n",
       "1317                                                     \n",
       "1447                                                     \n",
       "1948    All the media is reporting that Ole has been g...\n",
       "1345                                                     \n",
       "1028                                                     \n",
       "1010    &amp;#x200B;\\n\\nhttps://preview.redd.it/7u4mrj...\n",
       "1512                                                     \n",
       "1748                                                     \n",
       "1284                                                     \n",
       "1985                                                     \n",
       "1883                                                     \n",
       "1050                                                     \n",
       "1176                                                     \n",
       "1312                                                     \n",
       "1978    Well this scenario would make sense as Watford...\n",
       "1934                                                     \n",
       "1326                                                     \n",
       "1536                                                     \n",
       "1294                                                     \n",
       "1378                                                     \n",
       "1435                                                     \n",
       "1288                          I’m forever blowing bubbles\n",
       "1269                                                     \n",
       "1626                                                     \n",
       "1595    Which one you having in your starting lineup a...\n",
       "1810                                                     \n",
       "1404    He’s obviously way below managers like Pep, Kl...\n",
       "1709                                                     \n",
       "1440    I'm sure there must be some statistics. Which ...\n",
       "1217                                                     \n",
       "1181                                                     \n",
       "1301                                                     \n",
       "1998                                                     \n",
       "1318                                                     \n",
       "1816                                                     \n",
       "1902                                                     \n",
       "1253                                                     \n",
       "1669                                                     \n",
       "1621    Does a manager really influence performance th...\n",
       "1682                                                     \n",
       "1566       Which one would you want in your side and why?\n",
       "1179                                                     \n",
       "Name: selftext, dtype: object"
      ]
     },
     "execution_count": 102,
     "metadata": {},
     "output_type": "execute_result"
    }
   ],
   "source": [
    "preds6 = gs6.predict(X_test)\n",
    "X_test[(y_test != preds6) & (preds6 == 0)].head(60)"
   ]
  },
  {
   "cell_type": "code",
   "execution_count": 103,
   "id": "82a3ae81",
   "metadata": {},
   "outputs": [
    {
     "data": {
      "text/plain": [
       "106                                            [removed]\n",
       "475                                            [removed]\n",
       "553                                            [removed]\n",
       "890    I figured out together with my son that we can...\n",
       "562                                            [removed]\n",
       "27     Hey everyone,\\n\\nJust wondering about lodging ...\n",
       "214                                            [removed]\n",
       "379    As title, you have time until July 31st.\\n\\nSe...\n",
       "269    Not only that I have to see that \"You are a pi...\n",
       "337    Hey guys, do u know if there is any discount c...\n",
       "98                                             [removed]\n",
       "315    I‘m amazed by the quality of everything surrou...\n",
       "831    I was looking for a list of the top 100 songs ...\n",
       "880                                            [removed]\n",
       "510    Waiting on pins and needles here, was expectin...\n",
       "540                                            [removed]\n",
       "317                                            [removed]\n",
       "624    So Tomorrowlans is famous for having its Djs g...\n",
       "857    I saw on their instagram that they have one po...\n",
       "Name: selftext, dtype: object"
      ]
     },
     "execution_count": 103,
     "metadata": {},
     "output_type": "execute_result"
    }
   ],
   "source": [
    "X_test[(y_test != preds6) & (preds6 == 1)].head(19)"
   ]
  },
  {
   "cell_type": "markdown",
   "id": "e3b6d14b",
   "metadata": {},
   "source": [
    "---"
   ]
  },
  {
   "cell_type": "markdown",
   "id": "54eb9f1c",
   "metadata": {},
   "source": [
    "### Model 7 - RandomForest with CountVectorizer"
   ]
  },
  {
   "cell_type": "code",
   "execution_count": 80,
   "id": "a4eaaa4c",
   "metadata": {},
   "outputs": [],
   "source": [
    "pipe7 = Pipeline([\n",
    "    ('cvec', CountVectorizer()),\n",
    "    ('rf', RandomForestClassifier())\n",
    "])"
   ]
  },
  {
   "cell_type": "code",
   "execution_count": 81,
   "id": "67a5cad3",
   "metadata": {},
   "outputs": [],
   "source": [
    "params7 = {\n",
    "    'cvec__min_df': [1, 2, 3, 4],\n",
    "    'cvec__max_df': [.1, .2, .3, .4],\n",
    "    'cvec__binary': [True, False],\n",
    "    'cvec__stop_words': ['english', None],\n",
    "    'rf__random_state': [42]\n",
    "}"
   ]
  },
  {
   "cell_type": "code",
   "execution_count": 82,
   "id": "b4f69e3d",
   "metadata": {},
   "outputs": [
    {
     "name": "stdout",
     "output_type": "stream",
     "text": [
      "0.7366666666666667\n"
     ]
    },
    {
     "data": {
      "text/plain": [
       "{'cvec__binary': True,\n",
       " 'cvec__max_df': 0.2,\n",
       " 'cvec__min_df': 2,\n",
       " 'cvec__stop_words': 'english',\n",
       " 'rf__random_state': 42}"
      ]
     },
     "execution_count": 82,
     "metadata": {},
     "output_type": "execute_result"
    }
   ],
   "source": [
    "gs7 = GridSearchCV(pipe7, param_grid=params7)\n",
    "gs7.fit(X_train, y_train)\n",
    "print(gs7.best_score_)\n",
    "gs7.best_params_"
   ]
  },
  {
   "cell_type": "code",
   "execution_count": 83,
   "id": "37efd817",
   "metadata": {},
   "outputs": [
    {
     "data": {
      "text/plain": [
       "<sklearn.metrics._plot.confusion_matrix.ConfusionMatrixDisplay at 0x2aad24f1340>"
      ]
     },
     "execution_count": 83,
     "metadata": {},
     "output_type": "execute_result"
    },
    {
     "data": {
      "image/png": "[encoded data removed]",
      "text/plain": [
       "<Figure size 432x288 with 2 Axes>"
      ]
     },
     "metadata": {
      "needs_background": "light"
     },
     "output_type": "display_data"
    }
   ],
   "source": [
    "metrics.plot_confusion_matrix(gs7, X_test, y_test, display_labels=['Tomorrowland', 'PremierLeague'])"
   ]
  },
  {
   "cell_type": "code",
   "execution_count": 84,
   "id": "f6b32ac4",
   "metadata": {},
   "outputs": [],
   "source": [
    "preds7 = gs7.predict(X_test)\n",
    "tn7, fp7, fn7, tp7 = metrics.confusion_matrix(y_test, preds7).flatten()"
   ]
  },
  {
   "cell_type": "markdown",
   "id": "663459f2",
   "metadata": {},
   "source": [
    "**Specificity - How good did the model perform at predicting Tomorrowland selftexts?**"
   ]
  },
  {
   "cell_type": "code",
   "execution_count": 85,
   "id": "5dd415c2",
   "metadata": {},
   "outputs": [
    {
     "data": {
      "text/plain": [
       "0.948"
      ]
     },
     "execution_count": 85,
     "metadata": {},
     "output_type": "execute_result"
    }
   ],
   "source": [
    "tn7 / (tn7 + fp7)   # Model was very good at predicting subreddit if selftext came from Tomorrowland"
   ]
  },
  {
   "cell_type": "markdown",
   "id": "e18bad93",
   "metadata": {},
   "source": [
    "**Sensitivity - How good did the model perform at predicting Premier League selftexts?**"
   ]
  },
  {
   "cell_type": "code",
   "execution_count": 86,
   "id": "330674cb",
   "metadata": {},
   "outputs": [
    {
     "data": {
      "text/plain": [
       "0.524"
      ]
     },
     "execution_count": 86,
     "metadata": {},
     "output_type": "execute_result"
    }
   ],
   "source": [
    "tp7 / (tp7 + fn7)   # Model was not very good at predicting subreddit if selftext came from Premier League (almost equal to baseline)"
   ]
  },
  {
   "cell_type": "code",
   "execution_count": 104,
   "id": "37291612",
   "metadata": {},
   "outputs": [
    {
     "data": {
      "text/plain": [
       "1778    Why did Evans only receive a yellow when Lapor...\n",
       "1171                                                     \n",
       "1605                                                     \n",
       "1088                                                     \n",
       "1603                                             Discuss.\n",
       "1571                                                     \n",
       "1024    If I had to choose just one person. I'm going ...\n",
       "1475                                                     \n",
       "1295                                                     \n",
       "1919    Hello,my name's Joshua and I don't post much s...\n",
       "1641                                                     \n",
       "1333                                                     \n",
       "1041                                                     \n",
       "1647                                                     \n",
       "1574                                                     \n",
       "1711                                                     \n",
       "1290                                                     \n",
       "1031                                                     \n",
       "1578                                                     \n",
       "1317                                                     \n",
       "1447                                                     \n",
       "1345                                                     \n",
       "1028                                                     \n",
       "1512                                                     \n",
       "1748                                                     \n",
       "1284                                                     \n",
       "1985                                                     \n",
       "1883                                                     \n",
       "1050                                                     \n",
       "1176                                                     \n",
       "1312                                                     \n",
       "1934                                                     \n",
       "1326                                                     \n",
       "1536                                                     \n",
       "1294                                                     \n",
       "1378                                                     \n",
       "1435                                                     \n",
       "1288                          I’m forever blowing bubbles\n",
       "1269                                                     \n",
       "1626                                                     \n",
       "1595    Which one you having in your starting lineup a...\n",
       "1810                                                     \n",
       "1709                                                     \n",
       "1217                                                     \n",
       "1181                                                     \n",
       "1301                                                     \n",
       "1998                                                     \n",
       "1318                                                     \n",
       "1816                                                     \n",
       "1902                                                     \n",
       "1253                                                     \n",
       "1669                                                     \n",
       "1621    Does a manager really influence performance th...\n",
       "1682                                                     \n",
       "1179                                                     \n",
       "1105                                                     \n",
       "1022                                                     \n",
       "1805                                                     \n",
       "1668                                                     \n",
       "1910                          I’ll go first Neto&gt;Foden\n",
       "Name: selftext, dtype: object"
      ]
     },
     "execution_count": 104,
     "metadata": {},
     "output_type": "execute_result"
    }
   ],
   "source": [
    "preds7 = gs7.predict(X_test)\n",
    "X_test[(y_test != preds7) & (preds7 == 0)].head(60)"
   ]
  },
  {
   "cell_type": "code",
   "execution_count": 105,
   "id": "470de51a",
   "metadata": {},
   "outputs": [
    {
     "data": {
      "text/plain": [
       "270    Ugh of course they messed up PDT again, where ...\n",
       "106                                            [removed]\n",
       "475                                            [removed]\n",
       "553                                            [removed]\n",
       "562                                            [removed]\n",
       "214                                            [removed]\n",
       "98                                             [removed]\n",
       "288                             If so, can you share? ❤️\n",
       "880                                            [removed]\n",
       "540                                            [removed]\n",
       "317                                            [removed]\n",
       "410    PNigma Feat. BuSuJ\\n\\n&amp;#x200B;\\n\\n&amp;#x2...\n",
       "384    &amp;#x200B;\\n\\nhttps://preview.redd.it/gpdyrg...\n",
       "Name: selftext, dtype: object"
      ]
     },
     "execution_count": 105,
     "metadata": {},
     "output_type": "execute_result"
    }
   ],
   "source": [
    "X_test[(y_test != preds7) & (preds7 == 1)].head(13)"
   ]
  },
  {
   "cell_type": "markdown",
   "id": "cdfa4bba",
   "metadata": {},
   "source": [
    "---"
   ]
  },
  {
   "cell_type": "markdown",
   "id": "35dff267",
   "metadata": {},
   "source": [
    "### Model 8 - RandomForest with TFIDF"
   ]
  },
  {
   "cell_type": "code",
   "execution_count": 89,
   "id": "a2dbe41e",
   "metadata": {},
   "outputs": [],
   "source": [
    "pipe8 = Pipeline([\n",
    "    ('tvec', TfidfVectorizer()),\n",
    "    ('rf', RandomForestClassifier())\n",
    "])"
   ]
  },
  {
   "cell_type": "code",
   "execution_count": 90,
   "id": "83fa73f7",
   "metadata": {},
   "outputs": [],
   "source": [
    "params8 = {\n",
    "    'tvec__stop_words': [None, 'english'],\n",
    "    'tvec__min_df': [1, 2, 3, 4, 5],\n",
    "    'tvec__max_df': [.2, .3, .4],\n",
    "    'tvec__ngram_range': [(1,1), (1,2)],\n",
    "    'rf__random_state': [42]\n",
    "}"
   ]
  },
  {
   "cell_type": "code",
   "execution_count": 91,
   "id": "884a511e",
   "metadata": {},
   "outputs": [
    {
     "name": "stdout",
     "output_type": "stream",
     "text": [
      "0.7353333333333334\n"
     ]
    },
    {
     "data": {
      "text/plain": [
       "{'rf__random_state': 42,\n",
       " 'tvec__max_df': 0.2,\n",
       " 'tvec__min_df': 1,\n",
       " 'tvec__ngram_range': (1, 1),\n",
       " 'tvec__stop_words': 'english'}"
      ]
     },
     "execution_count": 91,
     "metadata": {},
     "output_type": "execute_result"
    }
   ],
   "source": [
    "gs8 = GridSearchCV(pipe8, param_grid=params8)\n",
    "gs8.fit(X_train, y_train)\n",
    "print(gs8.best_score_)\n",
    "gs8.best_params_"
   ]
  },
  {
   "cell_type": "code",
   "execution_count": 92,
   "id": "b32fb447",
   "metadata": {},
   "outputs": [
    {
     "data": {
      "text/plain": [
       "<sklearn.metrics._plot.confusion_matrix.ConfusionMatrixDisplay at 0x2aad27f2fa0>"
      ]
     },
     "execution_count": 92,
     "metadata": {},
     "output_type": "execute_result"
    },
    {
     "data": {
      "image/png": "[encoded data removed]",
      "text/plain": [
       "<Figure size 432x288 with 2 Axes>"
      ]
     },
     "metadata": {
      "needs_background": "light"
     },
     "output_type": "display_data"
    }
   ],
   "source": [
    "metrics.plot_confusion_matrix(gs8, X_test, y_test, display_labels=['Tomorrowland', 'PremierLeague'])"
   ]
  },
  {
   "cell_type": "code",
   "execution_count": 93,
   "id": "837f4e17",
   "metadata": {},
   "outputs": [],
   "source": [
    "preds8 = gs8.predict(X_test)\n",
    "tn8, fp8, fn8, tp8 = metrics.confusion_matrix(y_test, preds8).flatten()"
   ]
  },
  {
   "cell_type": "markdown",
   "id": "0630bd3a",
   "metadata": {},
   "source": [
    "**Specificity - How good did the model perform at predicting Tomorrowland selftexts?**"
   ]
  },
  {
   "cell_type": "code",
   "execution_count": 94,
   "id": "6aa4d0a8",
   "metadata": {},
   "outputs": [
    {
     "data": {
      "text/plain": [
       "0.956"
      ]
     },
     "execution_count": 94,
     "metadata": {},
     "output_type": "execute_result"
    }
   ],
   "source": [
    "tn8 / (tn8 + fp8)   # Model was very good at predicting subreddit if selftext came from Tomorrowland"
   ]
  },
  {
   "cell_type": "markdown",
   "id": "70278eb6",
   "metadata": {},
   "source": [
    "**Sensitivity - How good did the model perform at predicting Premier League selftexts?**"
   ]
  },
  {
   "cell_type": "code",
   "execution_count": 95,
   "id": "e3bd963b",
   "metadata": {},
   "outputs": [
    {
     "data": {
      "text/plain": [
       "0.516"
      ]
     },
     "execution_count": 95,
     "metadata": {},
     "output_type": "execute_result"
    }
   ],
   "source": [
    "tp8 / (tp8 + fn8)   # Model was not very good at predicting subreddit if selftext came from Premier League (almost equal to baseline)"
   ]
  },
  {
   "cell_type": "code",
   "execution_count": 106,
   "id": "ccee49f8",
   "metadata": {},
   "outputs": [
    {
     "data": {
      "text/plain": [
       "1778    Why did Evans only receive a yellow when Lapor...\n",
       "1171                                                     \n",
       "1605                                                     \n",
       "1088                                                     \n",
       "1603                                             Discuss.\n",
       "1571                                                     \n",
       "1024    If I had to choose just one person. I'm going ...\n",
       "1475                                                     \n",
       "1295                                                     \n",
       "1919    Hello,my name's Joshua and I don't post much s...\n",
       "1641                                                     \n",
       "1333                                                     \n",
       "1041                                                     \n",
       "1647                                                     \n",
       "1574                                                     \n",
       "1711                                                     \n",
       "1290                                                     \n",
       "1031                                                     \n",
       "1578                                                     \n",
       "1317                                                     \n",
       "1447                                                     \n",
       "1345                                                     \n",
       "1028                                                     \n",
       "1010    &amp;#x200B;\\n\\nhttps://preview.redd.it/7u4mrj...\n",
       "1512                                                     \n",
       "1748                                                     \n",
       "1284                                                     \n",
       "1985                                                     \n",
       "1991    Tottenham, once upon a time, we're like Thrash...\n",
       "1883                                                     \n",
       "1050                                                     \n",
       "1176                                                     \n",
       "1312                                                     \n",
       "1934                                                     \n",
       "1326                                                     \n",
       "1536                                                     \n",
       "1294                                                     \n",
       "1378                                                     \n",
       "1435                                                     \n",
       "1288                          I’m forever blowing bubbles\n",
       "1269                                                     \n",
       "1626                                                     \n",
       "1595    Which one you having in your starting lineup a...\n",
       "1810                                                     \n",
       "1709                                                     \n",
       "1217                                                     \n",
       "1181                                                     \n",
       "1301                                                     \n",
       "1998                                                     \n",
       "1318                                                     \n",
       "1816                                                     \n",
       "1902                                                     \n",
       "1253                                                     \n",
       "1669                                                     \n",
       "1682                                                     \n",
       "1566       Which one would you want in your side and why?\n",
       "1179                                                     \n",
       "1105                                                     \n",
       "1022                                                     \n",
       "1805                                                     \n",
       "Name: selftext, dtype: object"
      ]
     },
     "execution_count": 106,
     "metadata": {},
     "output_type": "execute_result"
    }
   ],
   "source": [
    "preds8 = gs8.predict(X_test)\n",
    "X_test[(y_test != preds8) & (preds8 == 0)].head(60)"
   ]
  },
  {
   "cell_type": "code",
   "execution_count": 107,
   "id": "a2648473",
   "metadata": {},
   "outputs": [
    {
     "data": {
      "text/plain": [
       "270    Ugh of course they messed up PDT again, where ...\n",
       "106                                            [removed]\n",
       "475                                            [removed]\n",
       "553                                            [removed]\n",
       "562                                            [removed]\n",
       "214                                            [removed]\n",
       "98                                             [removed]\n",
       "880                                            [removed]\n",
       "540                                            [removed]\n",
       "317                                            [removed]\n",
       "384    &amp;#x200B;\\n\\nhttps://preview.redd.it/gpdyrg...\n",
       "Name: selftext, dtype: object"
      ]
     },
     "execution_count": 107,
     "metadata": {},
     "output_type": "execute_result"
    }
   ],
   "source": [
    "X_test[(y_test != preds8) & (preds8 == 1)].head(11)"
   ]
  },
  {
   "cell_type": "code",
   "execution_count": null,
   "id": "59997ba8",
   "metadata": {},
   "outputs": [],
   "source": []
  }
 ],
 "metadata": {
  "kernelspec": {
   "display_name": "Python 3",
   "language": "python",
   "name": "python3"
  },
  "language_info": {
   "codemirror_mode": {
    "name": "ipython",
    "version": 3
   },
   "file_extension": ".py",
   "mimetype": "text/x-python",
   "name": "python",
   "nbconvert_exporter": "python",
   "pygments_lexer": "ipython3",
   "version": "3.8.8"
  }
 },
 "nbformat": 4,
 "nbformat_minor": 5
}
