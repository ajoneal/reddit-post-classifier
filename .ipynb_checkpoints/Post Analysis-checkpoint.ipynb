{
 "cells": [
  {
   "cell_type": "markdown",
   "id": "b308a2a8",
   "metadata": {},
   "source": [
    "# Importing Libraries/Reading in Data"
   ]
  },
  {
   "cell_type": "code",
   "execution_count": 132,
   "id": "bc5e80e5",
   "metadata": {},
   "outputs": [],
   "source": [
    "import pandas as pd\n",
    "import numpy as np\n",
    "import matplotlib.pyplot as plt\n",
    "import seaborn as sns\n",
    "\n",
    "from sklearn.feature_extraction.text import CountVectorizer, TfidfVectorizer\n",
    "from sklearn.model_selection import train_test_split, GridSearchCV\n",
    "from sklearn.pipeline import Pipeline\n",
    "from sklearn.linear_model import LogisticRegression\n",
    "import sklearn.metrics as metrics\n",
    "from sklearn.neighbors import KNeighborsClassifier\n",
    "from sklearn.tree import DecisionTreeClassifier\n",
    "from sklearn.ensemble import RandomForestClassifier"
   ]
  },
  {
   "cell_type": "code",
   "execution_count": 2,
   "id": "8191c722",
   "metadata": {},
   "outputs": [
    {
     "data": {
      "text/html": [
       "<div>\n",
       "<style scoped>\n",
       "    .dataframe tbody tr th:only-of-type {\n",
       "        vertical-align: middle;\n",
       "    }\n",
       "\n",
       "    .dataframe tbody tr th {\n",
       "        vertical-align: top;\n",
       "    }\n",
       "\n",
       "    .dataframe thead th {\n",
       "        text-align: right;\n",
       "    }\n",
       "</style>\n",
       "<table border=\"1\" class=\"dataframe\">\n",
       "  <thead>\n",
       "    <tr style=\"text-align: right;\">\n",
       "      <th></th>\n",
       "      <th>title</th>\n",
       "      <th>selftext</th>\n",
       "      <th>subreddit</th>\n",
       "      <th>created_utc</th>\n",
       "    </tr>\n",
       "  </thead>\n",
       "  <tbody>\n",
       "    <tr>\n",
       "      <th>0</th>\n",
       "      <td>Genreverse</td>\n",
       "      <td>Hi everyone, \\n\\nHere at Genreverse our ultima...</td>\n",
       "      <td>Tomorrowland</td>\n",
       "      <td>1637031457</td>\n",
       "    </tr>\n",
       "    <tr>\n",
       "      <th>1</th>\n",
       "      <td>Tomorrowland and it's bass line-up</td>\n",
       "      <td>So obviously Tomorrowland has always had a gre...</td>\n",
       "      <td>Tomorrowland</td>\n",
       "      <td>1637002849</td>\n",
       "    </tr>\n",
       "    <tr>\n",
       "      <th>2</th>\n",
       "      <td>Hand crafts 2021</td>\n",
       "      <td>NaN</td>\n",
       "      <td>Tomorrowland</td>\n",
       "      <td>1636935255</td>\n",
       "    </tr>\n",
       "    <tr>\n",
       "      <th>3</th>\n",
       "      <td>Winter TML lodging</td>\n",
       "      <td>hello! I have the 4 day pass without lodging a...</td>\n",
       "      <td>Tomorrowland</td>\n",
       "      <td>1636922669</td>\n",
       "    </tr>\n",
       "    <tr>\n",
       "      <th>4</th>\n",
       "      <td>Was Tomorrowland around the world 2020 a speci...</td>\n",
       "      <td>NaN</td>\n",
       "      <td>Tomorrowland</td>\n",
       "      <td>1636904090</td>\n",
       "    </tr>\n",
       "  </tbody>\n",
       "</table>\n",
       "</div>"
      ],
      "text/plain": [
       "                                               title  \\\n",
       "0                                         Genreverse   \n",
       "1                 Tomorrowland and it's bass line-up   \n",
       "2                                   Hand crafts 2021   \n",
       "3                                 Winter TML lodging   \n",
       "4  Was Tomorrowland around the world 2020 a speci...   \n",
       "\n",
       "                                            selftext     subreddit  \\\n",
       "0  Hi everyone, \\n\\nHere at Genreverse our ultima...  Tomorrowland   \n",
       "1  So obviously Tomorrowland has always had a gre...  Tomorrowland   \n",
       "2                                                NaN  Tomorrowland   \n",
       "3  hello! I have the 4 day pass without lodging a...  Tomorrowland   \n",
       "4                                                NaN  Tomorrowland   \n",
       "\n",
       "   created_utc  \n",
       "0   1637031457  \n",
       "1   1637002849  \n",
       "2   1636935255  \n",
       "3   1636922669  \n",
       "4   1636904090  "
      ]
     },
     "execution_count": 2,
     "metadata": {},
     "output_type": "execute_result"
    }
   ],
   "source": [
    "df = pd.read_csv('Data/Prem-Tomorrowland_posts_11-16.csv')\n",
    "df.head()"
   ]
  },
  {
   "cell_type": "code",
   "execution_count": 3,
   "id": "295a70ec",
   "metadata": {},
   "outputs": [
    {
     "data": {
      "text/plain": [
       "(2000, 4)"
      ]
     },
     "execution_count": 3,
     "metadata": {},
     "output_type": "execute_result"
    }
   ],
   "source": [
    "df.shape"
   ]
  },
  {
   "cell_type": "markdown",
   "id": "7f6a72dd",
   "metadata": {},
   "source": [
    "---"
   ]
  },
  {
   "cell_type": "markdown",
   "id": "9264991e",
   "metadata": {},
   "source": [
    "# Cleaning/Preprocessing/EDA"
   ]
  },
  {
   "cell_type": "markdown",
   "id": "4fdc4074",
   "metadata": {},
   "source": [
    "### Cleaning/Combining Text/Creating Post Length"
   ]
  },
  {
   "cell_type": "code",
   "execution_count": 4,
   "id": "24042665",
   "metadata": {},
   "outputs": [
    {
     "data": {
      "text/plain": [
       "title            0\n",
       "selftext       885\n",
       "subreddit        0\n",
       "created_utc      0\n",
       "dtype: int64"
      ]
     },
     "execution_count": 4,
     "metadata": {},
     "output_type": "execute_result"
    }
   ],
   "source": [
    "df.isnull().sum()"
   ]
  },
  {
   "cell_type": "code",
   "execution_count": 98,
   "id": "b4e20c88",
   "metadata": {},
   "outputs": [],
   "source": [
    "df['selftext'].fillna('', inplace=True)  \n",
    "# fill with a blank string. Almost even split between nulls for each subreddit (already checked in title and selftext notebook)"
   ]
  },
  {
   "cell_type": "code",
   "execution_count": 6,
   "id": "1ae89640",
   "metadata": {},
   "outputs": [],
   "source": [
    "df['post_text'] = df['title'] + ' ' + df['selftext']"
   ]
  },
  {
   "cell_type": "code",
   "execution_count": 7,
   "id": "c68ee3fb",
   "metadata": {},
   "outputs": [],
   "source": [
    "length = []\n",
    "for i in df['post_text']:\n",
    "    length.append(len(i))\n",
    "    \n",
    "df['post_length'] = length"
   ]
  },
  {
   "cell_type": "code",
   "execution_count": 8,
   "id": "d10b836e",
   "metadata": {},
   "outputs": [],
   "source": [
    "num_words = []\n",
    "for i in df['post_text']:\n",
    "    num_words.append(len(i.split()))\n",
    "\n",
    "df['post_word_count'] = num_words"
   ]
  },
  {
   "cell_type": "code",
   "execution_count": 9,
   "id": "f0c0d67c",
   "metadata": {},
   "outputs": [
    {
     "data": {
      "text/html": [
       "<div>\n",
       "<style scoped>\n",
       "    .dataframe tbody tr th:only-of-type {\n",
       "        vertical-align: middle;\n",
       "    }\n",
       "\n",
       "    .dataframe tbody tr th {\n",
       "        vertical-align: top;\n",
       "    }\n",
       "\n",
       "    .dataframe thead th {\n",
       "        text-align: right;\n",
       "    }\n",
       "</style>\n",
       "<table border=\"1\" class=\"dataframe\">\n",
       "  <thead>\n",
       "    <tr style=\"text-align: right;\">\n",
       "      <th></th>\n",
       "      <th>title</th>\n",
       "      <th>selftext</th>\n",
       "      <th>subreddit</th>\n",
       "      <th>created_utc</th>\n",
       "      <th>post_text</th>\n",
       "      <th>post_length</th>\n",
       "      <th>post_word_count</th>\n",
       "    </tr>\n",
       "  </thead>\n",
       "  <tbody>\n",
       "    <tr>\n",
       "      <th>0</th>\n",
       "      <td>Genreverse</td>\n",
       "      <td>Hi everyone, \\n\\nHere at Genreverse our ultima...</td>\n",
       "      <td>Tomorrowland</td>\n",
       "      <td>1637031457</td>\n",
       "      <td>Genreverse Hi everyone, \\n\\nHere at Genreverse...</td>\n",
       "      <td>409</td>\n",
       "      <td>58</td>\n",
       "    </tr>\n",
       "    <tr>\n",
       "      <th>1</th>\n",
       "      <td>Tomorrowland and it's bass line-up</td>\n",
       "      <td>So obviously Tomorrowland has always had a gre...</td>\n",
       "      <td>Tomorrowland</td>\n",
       "      <td>1637002849</td>\n",
       "      <td>Tomorrowland and it's bass line-up So obviousl...</td>\n",
       "      <td>655</td>\n",
       "      <td>109</td>\n",
       "    </tr>\n",
       "    <tr>\n",
       "      <th>2</th>\n",
       "      <td>Hand crafts 2021</td>\n",
       "      <td></td>\n",
       "      <td>Tomorrowland</td>\n",
       "      <td>1636935255</td>\n",
       "      <td>Hand crafts 2021</td>\n",
       "      <td>17</td>\n",
       "      <td>3</td>\n",
       "    </tr>\n",
       "    <tr>\n",
       "      <th>3</th>\n",
       "      <td>Winter TML lodging</td>\n",
       "      <td>hello! I have the 4 day pass without lodging a...</td>\n",
       "      <td>Tomorrowland</td>\n",
       "      <td>1636922669</td>\n",
       "      <td>Winter TML lodging hello! I have the 4 day pas...</td>\n",
       "      <td>353</td>\n",
       "      <td>68</td>\n",
       "    </tr>\n",
       "    <tr>\n",
       "      <th>4</th>\n",
       "      <td>Was Tomorrowland around the world 2020 a speci...</td>\n",
       "      <td></td>\n",
       "      <td>Tomorrowland</td>\n",
       "      <td>1636904090</td>\n",
       "      <td>Was Tomorrowland around the world 2020 a speci...</td>\n",
       "      <td>61</td>\n",
       "      <td>9</td>\n",
       "    </tr>\n",
       "  </tbody>\n",
       "</table>\n",
       "</div>"
      ],
      "text/plain": [
       "                                               title  \\\n",
       "0                                         Genreverse   \n",
       "1                 Tomorrowland and it's bass line-up   \n",
       "2                                   Hand crafts 2021   \n",
       "3                                 Winter TML lodging   \n",
       "4  Was Tomorrowland around the world 2020 a speci...   \n",
       "\n",
       "                                            selftext     subreddit  \\\n",
       "0  Hi everyone, \\n\\nHere at Genreverse our ultima...  Tomorrowland   \n",
       "1  So obviously Tomorrowland has always had a gre...  Tomorrowland   \n",
       "2                                                     Tomorrowland   \n",
       "3  hello! I have the 4 day pass without lodging a...  Tomorrowland   \n",
       "4                                                     Tomorrowland   \n",
       "\n",
       "   created_utc                                          post_text  \\\n",
       "0   1637031457  Genreverse Hi everyone, \\n\\nHere at Genreverse...   \n",
       "1   1637002849  Tomorrowland and it's bass line-up So obviousl...   \n",
       "2   1636935255                                  Hand crafts 2021    \n",
       "3   1636922669  Winter TML lodging hello! I have the 4 day pas...   \n",
       "4   1636904090  Was Tomorrowland around the world 2020 a speci...   \n",
       "\n",
       "   post_length  post_word_count  \n",
       "0          409               58  \n",
       "1          655              109  \n",
       "2           17                3  \n",
       "3          353               68  \n",
       "4           61                9  "
      ]
     },
     "execution_count": 9,
     "metadata": {},
     "output_type": "execute_result"
    }
   ],
   "source": [
    "df.head()"
   ]
  },
  {
   "cell_type": "code",
   "execution_count": 10,
   "id": "23f659d3",
   "metadata": {},
   "outputs": [
    {
     "data": {
      "text/html": [
       "<div>\n",
       "<style scoped>\n",
       "    .dataframe tbody tr th:only-of-type {\n",
       "        vertical-align: middle;\n",
       "    }\n",
       "\n",
       "    .dataframe tbody tr th {\n",
       "        vertical-align: top;\n",
       "    }\n",
       "\n",
       "    .dataframe thead th {\n",
       "        text-align: right;\n",
       "    }\n",
       "</style>\n",
       "<table border=\"1\" class=\"dataframe\">\n",
       "  <thead>\n",
       "    <tr style=\"text-align: right;\">\n",
       "      <th></th>\n",
       "      <th>post_length</th>\n",
       "      <th>post_word_count</th>\n",
       "    </tr>\n",
       "    <tr>\n",
       "      <th>subreddit</th>\n",
       "      <th></th>\n",
       "      <th></th>\n",
       "    </tr>\n",
       "  </thead>\n",
       "  <tbody>\n",
       "    <tr>\n",
       "      <th>PremierLeague</th>\n",
       "      <td>244.275</td>\n",
       "      <td>39.092</td>\n",
       "    </tr>\n",
       "    <tr>\n",
       "      <th>Tomorrowland</th>\n",
       "      <td>245.422</td>\n",
       "      <td>41.666</td>\n",
       "    </tr>\n",
       "  </tbody>\n",
       "</table>\n",
       "</div>"
      ],
      "text/plain": [
       "               post_length  post_word_count\n",
       "subreddit                                  \n",
       "PremierLeague      244.275           39.092\n",
       "Tomorrowland       245.422           41.666"
      ]
     },
     "execution_count": 10,
     "metadata": {},
     "output_type": "execute_result"
    }
   ],
   "source": [
    "df.groupby('subreddit').mean()[['post_length', 'post_word_count']]"
   ]
  },
  {
   "cell_type": "markdown",
   "id": "90ce6421",
   "metadata": {},
   "source": [
    "**Tomorrowland posts are slightly longer on average than Premier League posts but not by much.**"
   ]
  },
  {
   "cell_type": "code",
   "execution_count": 11,
   "id": "e9c1dbaf",
   "metadata": {},
   "outputs": [],
   "source": [
    "cvec = CountVectorizer(stop_words='english')\n",
    "cvec.fit(df['post_text'])\n",
    "post_cvec = cvec.transform(df['post_text'])"
   ]
  },
  {
   "cell_type": "code",
   "execution_count": 12,
   "id": "223b8c8e",
   "metadata": {},
   "outputs": [
    {
     "data": {
      "text/html": [
       "<div>\n",
       "<style scoped>\n",
       "    .dataframe tbody tr th:only-of-type {\n",
       "        vertical-align: middle;\n",
       "    }\n",
       "\n",
       "    .dataframe tbody tr th {\n",
       "        vertical-align: top;\n",
       "    }\n",
       "\n",
       "    .dataframe thead th {\n",
       "        text-align: right;\n",
       "    }\n",
       "</style>\n",
       "<table border=\"1\" class=\"dataframe\">\n",
       "  <thead>\n",
       "    <tr style=\"text-align: right;\">\n",
       "      <th></th>\n",
       "      <th>00</th>\n",
       "      <th>000</th>\n",
       "      <th>001</th>\n",
       "      <th>005</th>\n",
       "      <th>005056aa7581</th>\n",
       "      <th>007</th>\n",
       "      <th>00a</th>\n",
       "      <th>00s</th>\n",
       "      <th>01</th>\n",
       "      <th>02</th>\n",
       "      <th>...</th>\n",
       "      <th>čolak</th>\n",
       "      <th>ខភ</th>\n",
       "      <th>គជ</th>\n",
       "      <th>𝗕𝗼𝘂𝗻𝗱𝗮𝗿𝗶𝗲𝘀</th>\n",
       "      <th>𝗕𝗿𝗲𝗮𝗸𝗶𝗻𝗴</th>\n",
       "      <th>𝗤𝗼𝗻𝘁𝗶𝗻𝗲𝗻𝘁</th>\n",
       "      <th>𝗧𝗵𝗲</th>\n",
       "      <th>𝗽𝗼𝘀𝘁𝗽𝗼𝗻𝗲𝗱</th>\n",
       "      <th>𝘁𝗼</th>\n",
       "      <th>𝟮𝟬𝟮𝟮</th>\n",
       "    </tr>\n",
       "  </thead>\n",
       "  <tbody>\n",
       "    <tr>\n",
       "      <th>0</th>\n",
       "      <td>0</td>\n",
       "      <td>0</td>\n",
       "      <td>0</td>\n",
       "      <td>0</td>\n",
       "      <td>0</td>\n",
       "      <td>0</td>\n",
       "      <td>0</td>\n",
       "      <td>0</td>\n",
       "      <td>0</td>\n",
       "      <td>0</td>\n",
       "      <td>...</td>\n",
       "      <td>0</td>\n",
       "      <td>0</td>\n",
       "      <td>0</td>\n",
       "      <td>0</td>\n",
       "      <td>0</td>\n",
       "      <td>0</td>\n",
       "      <td>0</td>\n",
       "      <td>0</td>\n",
       "      <td>0</td>\n",
       "      <td>0</td>\n",
       "    </tr>\n",
       "    <tr>\n",
       "      <th>1</th>\n",
       "      <td>0</td>\n",
       "      <td>0</td>\n",
       "      <td>0</td>\n",
       "      <td>0</td>\n",
       "      <td>0</td>\n",
       "      <td>0</td>\n",
       "      <td>0</td>\n",
       "      <td>0</td>\n",
       "      <td>0</td>\n",
       "      <td>0</td>\n",
       "      <td>...</td>\n",
       "      <td>0</td>\n",
       "      <td>0</td>\n",
       "      <td>0</td>\n",
       "      <td>0</td>\n",
       "      <td>0</td>\n",
       "      <td>0</td>\n",
       "      <td>0</td>\n",
       "      <td>0</td>\n",
       "      <td>0</td>\n",
       "      <td>0</td>\n",
       "    </tr>\n",
       "    <tr>\n",
       "      <th>2</th>\n",
       "      <td>0</td>\n",
       "      <td>0</td>\n",
       "      <td>0</td>\n",
       "      <td>0</td>\n",
       "      <td>0</td>\n",
       "      <td>0</td>\n",
       "      <td>0</td>\n",
       "      <td>0</td>\n",
       "      <td>0</td>\n",
       "      <td>0</td>\n",
       "      <td>...</td>\n",
       "      <td>0</td>\n",
       "      <td>0</td>\n",
       "      <td>0</td>\n",
       "      <td>0</td>\n",
       "      <td>0</td>\n",
       "      <td>0</td>\n",
       "      <td>0</td>\n",
       "      <td>0</td>\n",
       "      <td>0</td>\n",
       "      <td>0</td>\n",
       "    </tr>\n",
       "    <tr>\n",
       "      <th>3</th>\n",
       "      <td>0</td>\n",
       "      <td>0</td>\n",
       "      <td>0</td>\n",
       "      <td>0</td>\n",
       "      <td>0</td>\n",
       "      <td>0</td>\n",
       "      <td>0</td>\n",
       "      <td>0</td>\n",
       "      <td>0</td>\n",
       "      <td>0</td>\n",
       "      <td>...</td>\n",
       "      <td>0</td>\n",
       "      <td>0</td>\n",
       "      <td>0</td>\n",
       "      <td>0</td>\n",
       "      <td>0</td>\n",
       "      <td>0</td>\n",
       "      <td>0</td>\n",
       "      <td>0</td>\n",
       "      <td>0</td>\n",
       "      <td>0</td>\n",
       "    </tr>\n",
       "    <tr>\n",
       "      <th>4</th>\n",
       "      <td>0</td>\n",
       "      <td>0</td>\n",
       "      <td>0</td>\n",
       "      <td>0</td>\n",
       "      <td>0</td>\n",
       "      <td>0</td>\n",
       "      <td>0</td>\n",
       "      <td>0</td>\n",
       "      <td>0</td>\n",
       "      <td>0</td>\n",
       "      <td>...</td>\n",
       "      <td>0</td>\n",
       "      <td>0</td>\n",
       "      <td>0</td>\n",
       "      <td>0</td>\n",
       "      <td>0</td>\n",
       "      <td>0</td>\n",
       "      <td>0</td>\n",
       "      <td>0</td>\n",
       "      <td>0</td>\n",
       "      <td>0</td>\n",
       "    </tr>\n",
       "    <tr>\n",
       "      <th>...</th>\n",
       "      <td>...</td>\n",
       "      <td>...</td>\n",
       "      <td>...</td>\n",
       "      <td>...</td>\n",
       "      <td>...</td>\n",
       "      <td>...</td>\n",
       "      <td>...</td>\n",
       "      <td>...</td>\n",
       "      <td>...</td>\n",
       "      <td>...</td>\n",
       "      <td>...</td>\n",
       "      <td>...</td>\n",
       "      <td>...</td>\n",
       "      <td>...</td>\n",
       "      <td>...</td>\n",
       "      <td>...</td>\n",
       "      <td>...</td>\n",
       "      <td>...</td>\n",
       "      <td>...</td>\n",
       "      <td>...</td>\n",
       "      <td>...</td>\n",
       "    </tr>\n",
       "    <tr>\n",
       "      <th>1995</th>\n",
       "      <td>0</td>\n",
       "      <td>0</td>\n",
       "      <td>0</td>\n",
       "      <td>0</td>\n",
       "      <td>0</td>\n",
       "      <td>0</td>\n",
       "      <td>0</td>\n",
       "      <td>0</td>\n",
       "      <td>0</td>\n",
       "      <td>0</td>\n",
       "      <td>...</td>\n",
       "      <td>0</td>\n",
       "      <td>0</td>\n",
       "      <td>0</td>\n",
       "      <td>0</td>\n",
       "      <td>0</td>\n",
       "      <td>0</td>\n",
       "      <td>0</td>\n",
       "      <td>0</td>\n",
       "      <td>0</td>\n",
       "      <td>0</td>\n",
       "    </tr>\n",
       "    <tr>\n",
       "      <th>1996</th>\n",
       "      <td>0</td>\n",
       "      <td>0</td>\n",
       "      <td>0</td>\n",
       "      <td>0</td>\n",
       "      <td>0</td>\n",
       "      <td>0</td>\n",
       "      <td>0</td>\n",
       "      <td>0</td>\n",
       "      <td>0</td>\n",
       "      <td>0</td>\n",
       "      <td>...</td>\n",
       "      <td>0</td>\n",
       "      <td>0</td>\n",
       "      <td>0</td>\n",
       "      <td>0</td>\n",
       "      <td>0</td>\n",
       "      <td>0</td>\n",
       "      <td>0</td>\n",
       "      <td>0</td>\n",
       "      <td>0</td>\n",
       "      <td>0</td>\n",
       "    </tr>\n",
       "    <tr>\n",
       "      <th>1997</th>\n",
       "      <td>0</td>\n",
       "      <td>0</td>\n",
       "      <td>0</td>\n",
       "      <td>0</td>\n",
       "      <td>0</td>\n",
       "      <td>0</td>\n",
       "      <td>0</td>\n",
       "      <td>0</td>\n",
       "      <td>0</td>\n",
       "      <td>0</td>\n",
       "      <td>...</td>\n",
       "      <td>0</td>\n",
       "      <td>0</td>\n",
       "      <td>0</td>\n",
       "      <td>0</td>\n",
       "      <td>0</td>\n",
       "      <td>0</td>\n",
       "      <td>0</td>\n",
       "      <td>0</td>\n",
       "      <td>0</td>\n",
       "      <td>0</td>\n",
       "    </tr>\n",
       "    <tr>\n",
       "      <th>1998</th>\n",
       "      <td>0</td>\n",
       "      <td>0</td>\n",
       "      <td>0</td>\n",
       "      <td>0</td>\n",
       "      <td>0</td>\n",
       "      <td>0</td>\n",
       "      <td>0</td>\n",
       "      <td>0</td>\n",
       "      <td>0</td>\n",
       "      <td>0</td>\n",
       "      <td>...</td>\n",
       "      <td>0</td>\n",
       "      <td>0</td>\n",
       "      <td>0</td>\n",
       "      <td>0</td>\n",
       "      <td>0</td>\n",
       "      <td>0</td>\n",
       "      <td>0</td>\n",
       "      <td>0</td>\n",
       "      <td>0</td>\n",
       "      <td>0</td>\n",
       "    </tr>\n",
       "    <tr>\n",
       "      <th>1999</th>\n",
       "      <td>0</td>\n",
       "      <td>0</td>\n",
       "      <td>0</td>\n",
       "      <td>0</td>\n",
       "      <td>0</td>\n",
       "      <td>0</td>\n",
       "      <td>0</td>\n",
       "      <td>0</td>\n",
       "      <td>0</td>\n",
       "      <td>0</td>\n",
       "      <td>...</td>\n",
       "      <td>0</td>\n",
       "      <td>0</td>\n",
       "      <td>0</td>\n",
       "      <td>0</td>\n",
       "      <td>0</td>\n",
       "      <td>0</td>\n",
       "      <td>0</td>\n",
       "      <td>0</td>\n",
       "      <td>0</td>\n",
       "      <td>0</td>\n",
       "    </tr>\n",
       "  </tbody>\n",
       "</table>\n",
       "<p>2000 rows × 7732 columns</p>\n",
       "</div>"
      ],
      "text/plain": [
       "      00  000  001  005  005056aa7581  007  00a  00s  01  02  ...  čolak  ខភ  \\\n",
       "0      0    0    0    0             0    0    0    0   0   0  ...      0   0   \n",
       "1      0    0    0    0             0    0    0    0   0   0  ...      0   0   \n",
       "2      0    0    0    0             0    0    0    0   0   0  ...      0   0   \n",
       "3      0    0    0    0             0    0    0    0   0   0  ...      0   0   \n",
       "4      0    0    0    0             0    0    0    0   0   0  ...      0   0   \n",
       "...   ..  ...  ...  ...           ...  ...  ...  ...  ..  ..  ...    ...  ..   \n",
       "1995   0    0    0    0             0    0    0    0   0   0  ...      0   0   \n",
       "1996   0    0    0    0             0    0    0    0   0   0  ...      0   0   \n",
       "1997   0    0    0    0             0    0    0    0   0   0  ...      0   0   \n",
       "1998   0    0    0    0             0    0    0    0   0   0  ...      0   0   \n",
       "1999   0    0    0    0             0    0    0    0   0   0  ...      0   0   \n",
       "\n",
       "      គជ  𝗕𝗼𝘂𝗻𝗱𝗮𝗿𝗶𝗲𝘀  𝗕𝗿𝗲𝗮𝗸𝗶𝗻𝗴  𝗤𝗼𝗻𝘁𝗶𝗻𝗲𝗻𝘁  𝗧𝗵𝗲  𝗽𝗼𝘀𝘁𝗽𝗼𝗻𝗲𝗱  𝘁𝗼  𝟮𝟬𝟮𝟮  \n",
       "0      0           0         0          0    0          0   0     0  \n",
       "1      0           0         0          0    0          0   0     0  \n",
       "2      0           0         0          0    0          0   0     0  \n",
       "3      0           0         0          0    0          0   0     0  \n",
       "4      0           0         0          0    0          0   0     0  \n",
       "...   ..         ...       ...        ...  ...        ...  ..   ...  \n",
       "1995   0           0         0          0    0          0   0     0  \n",
       "1996   0           0         0          0    0          0   0     0  \n",
       "1997   0           0         0          0    0          0   0     0  \n",
       "1998   0           0         0          0    0          0   0     0  \n",
       "1999   0           0         0          0    0          0   0     0  \n",
       "\n",
       "[2000 rows x 7732 columns]"
      ]
     },
     "execution_count": 12,
     "metadata": {},
     "output_type": "execute_result"
    }
   ],
   "source": [
    "post_words = pd.DataFrame(post_cvec.todense(), columns=cvec.get_feature_names())\n",
    "post_words"
   ]
  },
  {
   "cell_type": "code",
   "execution_count": 13,
   "id": "5a9547bd",
   "metadata": {},
   "outputs": [],
   "source": [
    "post_words['which_sub'] = df['subreddit']"
   ]
  },
  {
   "cell_type": "code",
   "execution_count": 14,
   "id": "27d83d72",
   "metadata": {},
   "outputs": [
    {
     "data": {
      "image/png": "[encoded data removed]",
      "text/plain": [
       "<Figure size 864x432 with 1 Axes>"
      ]
     },
     "metadata": {
      "needs_background": "light"
     },
     "output_type": "display_data"
    }
   ],
   "source": [
    "ax = post_words.groupby('which_sub').sum().T.sort_values('Tomorrowland', ascending=False).head(15).sort_values('Tomorrowland').plot(kind='barh', figsize=(12,6))\n",
    "plt.title('Top 15 Tomorrowland Post Words', size=20)\n",
    "plt.xlabel('Frequency of Word in Post', size=15)\n",
    "plt.ylabel('Word', size=15)\n",
    "ax.legend(title='Subreddit', labels=(\"PremierLeague\",\"Tomorrowland\"))\n",
    "#plt.savefig('./Visuals/top15tomo_selftext_words.png', bbox_inches='tight');\n",
    "plt.show();"
   ]
  },
  {
   "cell_type": "code",
   "execution_count": 15,
   "id": "b4e8f83e",
   "metadata": {},
   "outputs": [
    {
     "data": {
      "image/png": "[encoded data removed]",
      "text/plain": [
       "<Figure size 864x432 with 1 Axes>"
      ]
     },
     "metadata": {
      "needs_background": "light"
     },
     "output_type": "display_data"
    }
   ],
   "source": [
    "ax = post_words.groupby('which_sub').sum().T.sort_values('PremierLeague', ascending=False).head(15).sort_values('PremierLeague').plot(kind='barh', figsize=(12,6))\n",
    "plt.title('Top 15 PremierLeague Post Words', size=20)\n",
    "plt.xlabel('Frequency of Word in Post', size=15)\n",
    "plt.ylabel('Word', size=15)\n",
    "ax.legend(title='Subreddit', labels=(\"PremierLeague\",\"Tomorrowland\"))\n",
    "#plt.savefig('./Visuals/top15prem_selftext_words.png', bbox_inches='tight');\n",
    "plt.show();"
   ]
  },
  {
   "cell_type": "code",
   "execution_count": 16,
   "id": "8f643501",
   "metadata": {},
   "outputs": [],
   "source": [
    "posts_and_words = pd.merge(df, post_words, on=df.index)\n",
    "posts_and_words.drop(columns='key_0', inplace=True)"
   ]
  },
  {
   "cell_type": "code",
   "execution_count": 17,
   "id": "fe01549c",
   "metadata": {},
   "outputs": [
    {
     "data": {
      "text/html": [
       "<div>\n",
       "<style scoped>\n",
       "    .dataframe tbody tr th:only-of-type {\n",
       "        vertical-align: middle;\n",
       "    }\n",
       "\n",
       "    .dataframe tbody tr th {\n",
       "        vertical-align: top;\n",
       "    }\n",
       "\n",
       "    .dataframe thead th {\n",
       "        text-align: right;\n",
       "    }\n",
       "</style>\n",
       "<table border=\"1\" class=\"dataframe\">\n",
       "  <thead>\n",
       "    <tr style=\"text-align: right;\">\n",
       "      <th></th>\n",
       "      <th>title_x</th>\n",
       "      <th>selftext</th>\n",
       "      <th>subreddit_x</th>\n",
       "      <th>created_utc</th>\n",
       "      <th>post_text</th>\n",
       "      <th>post_length</th>\n",
       "      <th>post_word_count</th>\n",
       "      <th>00</th>\n",
       "      <th>000</th>\n",
       "      <th>001</th>\n",
       "      <th>...</th>\n",
       "      <th>ខភ</th>\n",
       "      <th>គជ</th>\n",
       "      <th>𝗕𝗼𝘂𝗻𝗱𝗮𝗿𝗶𝗲𝘀</th>\n",
       "      <th>𝗕𝗿𝗲𝗮𝗸𝗶𝗻𝗴</th>\n",
       "      <th>𝗤𝗼𝗻𝘁𝗶𝗻𝗲𝗻𝘁</th>\n",
       "      <th>𝗧𝗵𝗲</th>\n",
       "      <th>𝗽𝗼𝘀𝘁𝗽𝗼𝗻𝗲𝗱</th>\n",
       "      <th>𝘁𝗼</th>\n",
       "      <th>𝟮𝟬𝟮𝟮</th>\n",
       "      <th>which_sub</th>\n",
       "    </tr>\n",
       "  </thead>\n",
       "  <tbody>\n",
       "    <tr>\n",
       "      <th>0</th>\n",
       "      <td>Genreverse</td>\n",
       "      <td>Hi everyone, \\n\\nHere at Genreverse our ultima...</td>\n",
       "      <td>Tomorrowland</td>\n",
       "      <td>1637031457</td>\n",
       "      <td>Genreverse Hi everyone, \\n\\nHere at Genreverse...</td>\n",
       "      <td>409</td>\n",
       "      <td>58</td>\n",
       "      <td>0</td>\n",
       "      <td>0</td>\n",
       "      <td>0</td>\n",
       "      <td>...</td>\n",
       "      <td>0</td>\n",
       "      <td>0</td>\n",
       "      <td>0</td>\n",
       "      <td>0</td>\n",
       "      <td>0</td>\n",
       "      <td>0</td>\n",
       "      <td>0</td>\n",
       "      <td>0</td>\n",
       "      <td>0</td>\n",
       "      <td>Tomorrowland</td>\n",
       "    </tr>\n",
       "    <tr>\n",
       "      <th>1</th>\n",
       "      <td>Tomorrowland and it's bass line-up</td>\n",
       "      <td>So obviously Tomorrowland has always had a gre...</td>\n",
       "      <td>Tomorrowland</td>\n",
       "      <td>1637002849</td>\n",
       "      <td>Tomorrowland and it's bass line-up So obviousl...</td>\n",
       "      <td>655</td>\n",
       "      <td>109</td>\n",
       "      <td>0</td>\n",
       "      <td>0</td>\n",
       "      <td>0</td>\n",
       "      <td>...</td>\n",
       "      <td>0</td>\n",
       "      <td>0</td>\n",
       "      <td>0</td>\n",
       "      <td>0</td>\n",
       "      <td>0</td>\n",
       "      <td>0</td>\n",
       "      <td>0</td>\n",
       "      <td>0</td>\n",
       "      <td>0</td>\n",
       "      <td>Tomorrowland</td>\n",
       "    </tr>\n",
       "  </tbody>\n",
       "</table>\n",
       "<p>2 rows × 7740 columns</p>\n",
       "</div>"
      ],
      "text/plain": [
       "                              title_x  \\\n",
       "0                          Genreverse   \n",
       "1  Tomorrowland and it's bass line-up   \n",
       "\n",
       "                                            selftext   subreddit_x  \\\n",
       "0  Hi everyone, \\n\\nHere at Genreverse our ultima...  Tomorrowland   \n",
       "1  So obviously Tomorrowland has always had a gre...  Tomorrowland   \n",
       "\n",
       "   created_utc                                          post_text  \\\n",
       "0   1637031457  Genreverse Hi everyone, \\n\\nHere at Genreverse...   \n",
       "1   1637002849  Tomorrowland and it's bass line-up So obviousl...   \n",
       "\n",
       "   post_length  post_word_count  00  000  001  ...  ខភ  គជ  𝗕𝗼𝘂𝗻𝗱𝗮𝗿𝗶𝗲𝘀  \\\n",
       "0          409               58   0    0    0  ...   0   0           0   \n",
       "1          655              109   0    0    0  ...   0   0           0   \n",
       "\n",
       "   𝗕𝗿𝗲𝗮𝗸𝗶𝗻𝗴  𝗤𝗼𝗻𝘁𝗶𝗻𝗲𝗻𝘁  𝗧𝗵𝗲  𝗽𝗼𝘀𝘁𝗽𝗼𝗻𝗲𝗱  𝘁𝗼  𝟮𝟬𝟮𝟮     which_sub  \n",
       "0         0          0    0          0   0     0  Tomorrowland  \n",
       "1         0          0    0          0   0     0  Tomorrowland  \n",
       "\n",
       "[2 rows x 7740 columns]"
      ]
     },
     "execution_count": 17,
     "metadata": {},
     "output_type": "execute_result"
    }
   ],
   "source": [
    "posts_and_words.head(2)"
   ]
  },
  {
   "cell_type": "code",
   "execution_count": 18,
   "id": "e50d5d3b",
   "metadata": {},
   "outputs": [
    {
     "data": {
      "text/plain": [
       "league        384\n",
       "amp           318\n",
       "premier       257\n",
       "united        201\n",
       "https         183\n",
       "think         175\n",
       "team          174\n",
       "manchester    171\n",
       "shots         158\n",
       "removed       147\n",
       "match         141\n",
       "liverpool     137\n",
       "season        133\n",
       "best          132\n",
       "city          129\n",
       "dtype: int64"
      ]
     },
     "execution_count": 18,
     "metadata": {},
     "output_type": "execute_result"
    }
   ],
   "source": [
    "prem_post_words = posts_and_words[posts_and_words['subreddit_x'] == 'PremierLeague'].drop(columns=['title_x', 'selftext', \n",
    "                                                                                                    'subreddit_x', 'created_utc',\n",
    "                                                                                                    'post_length', 'post_word_count',\n",
    "                                                                                                    'which_sub', 'post_text'])\n",
    "top15prem_post_words = prem_post_words.sum().sort_values(ascending=False).head(15)\n",
    "top15prem_post_words"
   ]
  },
  {
   "cell_type": "code",
   "execution_count": 19,
   "id": "0b13dd8c",
   "metadata": {},
   "outputs": [
    {
     "data": {
      "text/plain": [
       "<BarContainer object of 15 artists>"
      ]
     },
     "execution_count": 19,
     "metadata": {},
     "output_type": "execute_result"
    },
    {
     "data": {
      "image/png": "[encoded data removed]",
      "text/plain": [
       "<Figure size 720x432 with 1 Axes>"
      ]
     },
     "metadata": {
      "needs_background": "light"
     },
     "output_type": "display_data"
    }
   ],
   "source": [
    "plt.figure(figsize=(10,6))\n",
    "plt.barh(y=top15prem_post_words.sort_values().index, width=top15prem_post_words.sort_values())"
   ]
  },
  {
   "cell_type": "code",
   "execution_count": 20,
   "id": "b8730498",
   "metadata": {},
   "outputs": [
    {
     "data": {
      "text/plain": [
       "tomorrowland    626\n",
       "tickets         239\n",
       "tml             192\n",
       "amp             178\n",
       "festival        174\n",
       "https           169\n",
       "2022            168\n",
       "2021            159\n",
       "ticket          150\n",
       "just            146\n",
       "people          145\n",
       "like            139\n",
       "year            138\n",
       "know            130\n",
       "winter          116\n",
       "dtype: int64"
      ]
     },
     "execution_count": 20,
     "metadata": {},
     "output_type": "execute_result"
    }
   ],
   "source": [
    "tomo_post_words = posts_and_words[posts_and_words['subreddit_x'] == 'Tomorrowland'].drop(columns=['title_x', 'selftext', \n",
    "                                                                                                    'subreddit_x', 'created_utc',\n",
    "                                                                                                    'post_length', 'post_word_count', \n",
    "                                                                                                   'which_sub', 'post_text'])\n",
    "top15tomo_post_words = tomo_post_words.sum().sort_values(ascending=False).head(15)\n",
    "top15tomo_post_words"
   ]
  },
  {
   "cell_type": "code",
   "execution_count": 21,
   "id": "e9274f57",
   "metadata": {},
   "outputs": [
    {
     "data": {
      "text/plain": [
       "<BarContainer object of 15 artists>"
      ]
     },
     "execution_count": 21,
     "metadata": {},
     "output_type": "execute_result"
    },
    {
     "data": {
      "image/png": "[encoded data removed]",
      "text/plain": [
       "<Figure size 720x432 with 1 Axes>"
      ]
     },
     "metadata": {
      "needs_background": "light"
     },
     "output_type": "display_data"
    }
   ],
   "source": [
    "plt.figure(figsize=(10,6))\n",
    "plt.barh(y=top15tomo_post_words.sort_values().index, width=top15tomo_post_words.sort_values())"
   ]
  },
  {
   "cell_type": "markdown",
   "id": "ea1081bb",
   "metadata": {},
   "source": [
    "---"
   ]
  },
  {
   "cell_type": "markdown",
   "id": "fcd054b3",
   "metadata": {},
   "source": [
    "# Models"
   ]
  },
  {
   "cell_type": "markdown",
   "id": "a45d508c",
   "metadata": {},
   "source": [
    "### Model Preparation"
   ]
  },
  {
   "cell_type": "code",
   "execution_count": 22,
   "id": "4652b29c",
   "metadata": {},
   "outputs": [],
   "source": [
    "df['subreddit'] = df['subreddit'].map({'Tomorrowland': 0, 'PremierLeague': 1})"
   ]
  },
  {
   "cell_type": "code",
   "execution_count": 23,
   "id": "0caf9bb5",
   "metadata": {},
   "outputs": [],
   "source": [
    "X = df['post_text']\n",
    "y = df['subreddit']"
   ]
  },
  {
   "cell_type": "code",
   "execution_count": 24,
   "id": "73ae00df",
   "metadata": {},
   "outputs": [
    {
     "data": {
      "text/plain": [
       "0    0.5\n",
       "1    0.5\n",
       "Name: subreddit, dtype: float64"
      ]
     },
     "execution_count": 24,
     "metadata": {},
     "output_type": "execute_result"
    }
   ],
   "source": [
    "y.value_counts(normalize=True)\n",
    "# baseline accuracy of 50% if predicting subreddit is from Premier League subreddit <- looking to beat this"
   ]
  },
  {
   "cell_type": "code",
   "execution_count": 25,
   "id": "1fede90d",
   "metadata": {},
   "outputs": [],
   "source": [
    "X_train, X_test, y_train, y_test = train_test_split(X, y, random_state=42, stratify=y)"
   ]
  },
  {
   "cell_type": "markdown",
   "id": "3ebdc339",
   "metadata": {},
   "source": [
    "---"
   ]
  },
  {
   "cell_type": "markdown",
   "id": "39da09d9",
   "metadata": {},
   "source": [
    "### Model 1 - KNN with CountVectorizer"
   ]
  },
  {
   "cell_type": "code",
   "execution_count": 26,
   "id": "017461a7",
   "metadata": {},
   "outputs": [],
   "source": [
    "pipe1 = Pipeline([\n",
    "    ('cvec', CountVectorizer()),\n",
    "    ('knn', KNeighborsClassifier())\n",
    "])"
   ]
  },
  {
   "cell_type": "code",
   "execution_count": 27,
   "id": "40877225",
   "metadata": {},
   "outputs": [],
   "source": [
    "params1 = {\n",
    "    'cvec__min_df': [15, 16, 17],\n",
    "    'cvec__max_df': [.1, .2, .3],\n",
    "    'cvec__binary': [True, False],\n",
    "    'cvec__stop_words': [None, 'english'],\n",
    "    'knn__weights': ['uniform', 'distance']\n",
    "}"
   ]
  },
  {
   "cell_type": "code",
   "execution_count": 28,
   "id": "470ab8d2",
   "metadata": {},
   "outputs": [
    {
     "name": "stdout",
     "output_type": "stream",
     "text": [
      "0.836\n"
     ]
    },
    {
     "data": {
      "text/plain": [
       "{'cvec__binary': False,\n",
       " 'cvec__max_df': 0.2,\n",
       " 'cvec__min_df': 16,\n",
       " 'cvec__stop_words': 'english',\n",
       " 'knn__weights': 'distance'}"
      ]
     },
     "execution_count": 28,
     "metadata": {},
     "output_type": "execute_result"
    }
   ],
   "source": [
    "gs1 = GridSearchCV(pipe1, param_grid=params1)\n",
    "gs1.fit(X_train, y_train)\n",
    "print(gs1.best_score_)\n",
    "gs1.best_params_"
   ]
  },
  {
   "cell_type": "code",
   "execution_count": 29,
   "id": "3363eba0",
   "metadata": {},
   "outputs": [
    {
     "data": {
      "text/plain": [
       "<sklearn.metrics._plot.confusion_matrix.ConfusionMatrixDisplay at 0x2d307d68ca0>"
      ]
     },
     "execution_count": 29,
     "metadata": {},
     "output_type": "execute_result"
    },
    {
     "data": {
      "image/png": "[encoded data removed]",
      "text/plain": [
       "<Figure size 432x288 with 2 Axes>"
      ]
     },
     "metadata": {
      "needs_background": "light"
     },
     "output_type": "display_data"
    }
   ],
   "source": [
    "metrics.plot_confusion_matrix(gs1, X_test, y_test, display_labels=['Tomorrowland', 'PremierLeague'])"
   ]
  },
  {
   "cell_type": "code",
   "execution_count": 30,
   "id": "799aa690",
   "metadata": {},
   "outputs": [],
   "source": [
    "preds1 = gs1.predict(X_test)\n",
    "tn1, fp1, fn1, tp1 = metrics.confusion_matrix(y_test, preds1).flatten()"
   ]
  },
  {
   "cell_type": "markdown",
   "id": "bd87d90f",
   "metadata": {},
   "source": [
    "**Specificity - How good did the model perform at predicting Tomorrowland posts?**"
   ]
  },
  {
   "cell_type": "code",
   "execution_count": 31,
   "id": "c91b7fa0",
   "metadata": {},
   "outputs": [
    {
     "data": {
      "text/plain": [
       "0.94"
      ]
     },
     "execution_count": 31,
     "metadata": {},
     "output_type": "execute_result"
    }
   ],
   "source": [
    "tn1 / (tn1 + fp1)   # Model was very good at predicting subreddit if post came from Tomorrowland"
   ]
  },
  {
   "cell_type": "markdown",
   "id": "07c28863",
   "metadata": {},
   "source": [
    "**Sensitivity - How good did the model perform at predicting Premier League posts?**"
   ]
  },
  {
   "cell_type": "code",
   "execution_count": 32,
   "id": "118a5c19",
   "metadata": {},
   "outputs": [
    {
     "data": {
      "text/plain": [
       "0.7"
      ]
     },
     "execution_count": 32,
     "metadata": {},
     "output_type": "execute_result"
    }
   ],
   "source": [
    "tp1 / (tp1 + fn1)   # Model was not as good at predicting subreddit if post came from Premier League"
   ]
  },
  {
   "cell_type": "code",
   "execution_count": 33,
   "id": "e9ada153",
   "metadata": {},
   "outputs": [
    {
     "data": {
      "text/plain": [
       "1778    Someone explain this to me Why did Evans only ...\n",
       "1605                    Online Career Mode - FIFA 22 XB1 \n",
       "1571                     Breakdown of annual squad wages \n",
       "1024    Ward-prowse, TAA, and Maddison, who are you ta...\n",
       "1295                             Proper baller. Deserved \n",
       "1919    Please subscribe to my channel Hello,my name's...\n",
       "1641                                   Pretty much this! \n",
       "1228    A commanding performance or a open-ended thril...\n",
       "1062    Anyone else fed up of 3pm games not being tele...\n",
       "1290    Former wonder kids who failed to live up to th...\n",
       "1317    Seems you lot appreciated the last one I poste...\n",
       "1345                  This man deserves a lot of respect \n",
       "1028                         Best youngster in the prem. \n",
       "1748    Do you think Suarez would get away with this t...\n",
       "1912    What do you think the Top 3 Will be in order b...\n",
       "1991    If Liverpool play \"Heavy Metal Football\", what...\n",
       "1883              Best cdm right now? I would say rodri. \n",
       "1050    A video providing a surface level breakdown of...\n",
       "1978    Who would be the next Watford manager after Ra...\n",
       "1934    Salah's best goal at Old Trafford | TOP OF THE...\n",
       "1326    Which Club would you say has the most talented...\n",
       "1536    'Bad, very bad indeed' - Italian media denounc...\n",
       "1269         Who remembers this classic Redknapp moment? \n",
       "1626                                    Pure masterclass \n",
       "1595    Van Nistelrooy or RVP Which one you having in ...\n",
       "1810    Is Sean Dyche the most underrated manager in w...\n",
       "1404    How good/ bad of a manager really is Ole when ...\n",
       "1998    What do you think is more impressive? Salah ge...\n",
       "1816    Hey lads, I see that some of you have little c...\n",
       "1902    Goals conceded and clean sheets for all PL tea...\n",
       "1253    'I am not sure what the plan is' - why are Eve...\n",
       "1669     Wolves fans,what's your opinion on Lage so far? \n",
       "1682         How Sick have these gents been this season! \n",
       "1566    RVP or Van Nistelrooy Which one would you want...\n",
       "1668                       I made this on the glowforge. \n",
       "1910    What are you unpopular opinions? I’ll go first...\n",
       "1546    PL clubs ranked on how many days since their l...\n",
       "1587    Does Brighton fly to Newcastle? I see it’s a n...\n",
       "1844    What is the worst transfer for the club you su...\n",
       "1418                     Is jonjo shelvey a good player? \n",
       "1528             All the best RBs statistics this season \n",
       "1243    How to watch All Today’s Football Matches For ...\n",
       "1377                                                Good \n",
       "1083    Study abroad student wanting to experience the...\n",
       "1458    According to statistics from Artificial Intell...\n",
       "1831    For all the Spurs fans what made you support t...\n",
       "1645    What's your 'BEST XI OF THE DECADE' of these t...\n",
       "1573    Whats the best example of a player coming back...\n",
       "1215    American trying to get more into football, con...\n",
       "1260    The so called “big 6” anyone else think this a...\n",
       "1103    Interesting. Is it because Scholes played the ...\n",
       "1164    Mount and CHO finding Lampard after a season o...\n",
       "1553    Why did Man City get rid of Leroy Sane? Seems ...\n",
       "1897    American with a ticket question- How to get ti...\n",
       "1474    Can Someone British Translate a Term the Comme...\n",
       "1131    Lukaku Cross Body Finish! PES 2021 Ultra Reali...\n",
       "1319    NEW PL TOP 6,NEW ORDER  I even want to play Bl...\n",
       "1401                      Anybody need a new goalkeeper? \n",
       "1348    guess the hammers are for real. I would like m...\n",
       "1799    Thank you for your sacrifice nuno and spur. Yo...\n",
       "Name: post_text, dtype: object"
      ]
     },
     "execution_count": 33,
     "metadata": {},
     "output_type": "execute_result"
    }
   ],
   "source": [
    "preds1 = gs1.predict(X_test)\n",
    "X_test[(y_test != preds1) & (preds1 == 0)].head(60)"
   ]
  },
  {
   "cell_type": "code",
   "execution_count": 34,
   "id": "30fb33e8",
   "metadata": {},
   "outputs": [
    {
     "data": {
      "text/plain": [
       "106    I have created great content for your children...\n",
       "475    Global Journey Easy Tent: Swap weekends using ...\n",
       "553                      SOCIAL MEDIA MANAGING [removed]\n",
       "491    Tomorrowland 2021 attendance poll Hello all! S...\n",
       "562             KUMBH MELA WITH WATER BROTHERS [removed]\n",
       "21     In light of the Astroworld tragedy, can we ple...\n",
       "98                    Treasure Case TML Winter [removed]\n",
       "880          Info request // swapping weekends [removed]\n",
       "776    Classic house Listen to JayyeSpen mix classics...\n",
       "540    India’s COVID crisis ‘beyond heartbreaking’: W...\n",
       "317                                     NeKKoN [removed]\n",
       "840    Anyone happen to record Kolsch &amp; Joris Voo...\n",
       "565    Earn Free Amazon Gift Cards &amp; Codes Legall...\n",
       "64     Best treasure case \\n\\n[View Poll](https://www...\n",
       "418    Can I stay the entire week at dreamville? So I...\n",
       "Name: post_text, dtype: object"
      ]
     },
     "execution_count": 34,
     "metadata": {},
     "output_type": "execute_result"
    }
   ],
   "source": [
    "X_test[(y_test != preds1) & (preds1 == 1)].head(15)"
   ]
  },
  {
   "cell_type": "code",
   "execution_count": 136,
   "id": "a72a584b",
   "metadata": {},
   "outputs": [
    {
     "data": {
      "text/html": [
       "<div>\n",
       "<style scoped>\n",
       "    .dataframe tbody tr th:only-of-type {\n",
       "        vertical-align: middle;\n",
       "    }\n",
       "\n",
       "    .dataframe tbody tr th {\n",
       "        vertical-align: top;\n",
       "    }\n",
       "\n",
       "    .dataframe thead th {\n",
       "        text-align: right;\n",
       "    }\n",
       "</style>\n",
       "<table border=\"1\" class=\"dataframe\">\n",
       "  <thead>\n",
       "    <tr style=\"text-align: right;\">\n",
       "      <th></th>\n",
       "      <th>true_values</th>\n",
       "      <th>pred_probs</th>\n",
       "    </tr>\n",
       "  </thead>\n",
       "  <tbody>\n",
       "    <tr>\n",
       "      <th>1370</th>\n",
       "      <td>1</td>\n",
       "      <td>1.000000</td>\n",
       "    </tr>\n",
       "    <tr>\n",
       "      <th>654</th>\n",
       "      <td>0</td>\n",
       "      <td>0.000000</td>\n",
       "    </tr>\n",
       "    <tr>\n",
       "      <th>1778</th>\n",
       "      <td>1</td>\n",
       "      <td>0.193998</td>\n",
       "    </tr>\n",
       "    <tr>\n",
       "      <th>646</th>\n",
       "      <td>0</td>\n",
       "      <td>0.184699</td>\n",
       "    </tr>\n",
       "    <tr>\n",
       "      <th>1171</th>\n",
       "      <td>1</td>\n",
       "      <td>1.000000</td>\n",
       "    </tr>\n",
       "  </tbody>\n",
       "</table>\n",
       "</div>"
      ],
      "text/plain": [
       "      true_values  pred_probs\n",
       "1370            1    1.000000\n",
       "654             0    0.000000\n",
       "1778            1    0.193998\n",
       "646             0    0.184699\n",
       "1171            1    1.000000"
      ]
     },
     "execution_count": 136,
     "metadata": {},
     "output_type": "execute_result"
    }
   ],
   "source": [
    "pred1_df = pd.DataFrame({'true_values': y_test,\n",
    "                        'pred_probs': gs1.predict_proba(X_test)[:,1]})\n",
    "\n",
    "pred1_df.head()"
   ]
  },
  {
   "cell_type": "code",
   "execution_count": 137,
   "id": "11df7a60",
   "metadata": {},
   "outputs": [
    {
     "name": "stderr",
     "output_type": "stream",
     "text": [
      "C:\\Users\\ao322\\anaconda3\\lib\\site-packages\\seaborn\\distributions.py:2557: FutureWarning: `distplot` is a deprecated function and will be removed in a future version. Please adapt your code to use either `displot` (a figure-level function with similar flexibility) or `histplot` (an axes-level function for histograms).\n",
      "  warnings.warn(msg, FutureWarning)\n"
     ]
    },
    {
     "data": {
      "image/png": "[encoded data removed]",
      "text/plain": [
       "<Figure size 864x360 with 1 Axes>"
      ]
     },
     "metadata": {
      "needs_background": "light"
     },
     "output_type": "display_data"
    }
   ],
   "source": [
    "plt.figure(figsize = (12, 5))\n",
    "\n",
    "# code from classification metrics lecture ii\n",
    "for group in pred1_df.groupby('true_values'):\n",
    "    sns.distplot(group[1], kde = False, bins = 20, label = [f'Actual Outcome = {group[0]}'])\n",
    "\n",
    "plt.axvline(y.mean(), color='r')\n",
    "plt.xlabel('Predicted Probability that Outcome = 1')\n",
    "plt.legend();"
   ]
  },
  {
   "cell_type": "code",
   "execution_count": 138,
   "id": "2e0933ea",
   "metadata": {},
   "outputs": [
    {
     "data": {
      "image/png": "[encoded data removed]",
      "text/plain": [
       "<Figure size 432x288 with 1 Axes>"
      ]
     },
     "metadata": {
      "needs_background": "light"
     },
     "output_type": "display_data"
    }
   ],
   "source": [
    "# ROC curve for Model 1\n",
    "metrics.plot_roc_curve(gs1, X_test, y_test)\n",
    "# worst case scenario line\n",
    "plt.plot([0,1], [0,1], label='Baseline');"
   ]
  },
  {
   "cell_type": "markdown",
   "id": "d31c9584",
   "metadata": {},
   "source": [
    "---"
   ]
  },
  {
   "cell_type": "markdown",
   "id": "479dfd42",
   "metadata": {},
   "source": [
    "### Model 2 - KNN with TFIDF"
   ]
  },
  {
   "cell_type": "code",
   "execution_count": 35,
   "id": "38610722",
   "metadata": {},
   "outputs": [],
   "source": [
    "pipe2 = Pipeline([\n",
    "    ('tvec', TfidfVectorizer()),\n",
    "    ('knn', KNeighborsClassifier())\n",
    "])"
   ]
  },
  {
   "cell_type": "code",
   "execution_count": 122,
   "id": "231dc6a7",
   "metadata": {},
   "outputs": [],
   "source": [
    "params2 = {\n",
    "    'tvec__stop_words': ['english', None],\n",
    "    'tvec__min_df': [22, 23, 24, 25, 26, 27],\n",
    "    'tvec__max_df': [.1, .2, .3],\n",
    "    'tvec__ngram_range': [(1,1), (1,2)],\n",
    "    'knn__weights': ['uniform', 'distance']\n",
    "}"
   ]
  },
  {
   "cell_type": "code",
   "execution_count": 123,
   "id": "0dac3755",
   "metadata": {},
   "outputs": [
    {
     "name": "stdout",
     "output_type": "stream",
     "text": [
      "0.8460000000000001\n"
     ]
    },
    {
     "data": {
      "text/plain": [
       "{'knn__weights': 'uniform',\n",
       " 'tvec__max_df': 0.2,\n",
       " 'tvec__min_df': 26,\n",
       " 'tvec__ngram_range': (1, 1),\n",
       " 'tvec__stop_words': 'english'}"
      ]
     },
     "execution_count": 123,
     "metadata": {},
     "output_type": "execute_result"
    }
   ],
   "source": [
    "gs2 = GridSearchCV(pipe2, param_grid=params2)\n",
    "gs2.fit(X_train, y_train)\n",
    "print(gs2.best_score_)\n",
    "gs2.best_params_"
   ]
  },
  {
   "cell_type": "code",
   "execution_count": 124,
   "id": "11f3d00d",
   "metadata": {},
   "outputs": [
    {
     "data": {
      "text/plain": [
       "<sklearn.metrics._plot.confusion_matrix.ConfusionMatrixDisplay at 0x2d309e65b80>"
      ]
     },
     "execution_count": 124,
     "metadata": {},
     "output_type": "execute_result"
    },
    {
     "data": {
      "image/png": "[encoded data removed]",
      "text/plain": [
       "<Figure size 432x288 with 2 Axes>"
      ]
     },
     "metadata": {
      "needs_background": "light"
     },
     "output_type": "display_data"
    }
   ],
   "source": [
    "metrics.plot_confusion_matrix(gs2, X_test, y_test, display_labels=['Tomorrowland', 'PremierLeague'])"
   ]
  },
  {
   "cell_type": "code",
   "execution_count": 125,
   "id": "7cec2b55",
   "metadata": {},
   "outputs": [],
   "source": [
    "preds2 = gs2.predict(X_test)\n",
    "tn2, fp2, fn2, tp2 = metrics.confusion_matrix(y_test, preds2).flatten()"
   ]
  },
  {
   "cell_type": "markdown",
   "id": "f8384c05",
   "metadata": {},
   "source": [
    "**Specificity - How good did the model perform at predicting Tomorrowland posts?**"
   ]
  },
  {
   "cell_type": "code",
   "execution_count": 126,
   "id": "ca3c5b68",
   "metadata": {},
   "outputs": [
    {
     "data": {
      "text/plain": [
       "0.908"
      ]
     },
     "execution_count": 126,
     "metadata": {},
     "output_type": "execute_result"
    }
   ],
   "source": [
    "tn2 / (tn2 + fp2)   # Model was very good at predicting subreddit if post came from Tomorrowland"
   ]
  },
  {
   "cell_type": "markdown",
   "id": "6442bcf7",
   "metadata": {},
   "source": [
    "**Sensitivity - How good did the model perform at predicting Premier League posts?**"
   ]
  },
  {
   "cell_type": "code",
   "execution_count": 127,
   "id": "94cb5f97",
   "metadata": {},
   "outputs": [
    {
     "data": {
      "text/plain": [
       "0.732"
      ]
     },
     "execution_count": 127,
     "metadata": {},
     "output_type": "execute_result"
    }
   ],
   "source": [
    "tp2 / (tp2 + fn2)   # Model was not as good at predicting subreddit if post came from Premier League"
   ]
  },
  {
   "cell_type": "code",
   "execution_count": 128,
   "id": "ccf762bb",
   "metadata": {},
   "outputs": [
    {
     "data": {
      "text/plain": [
       "1778    Someone explain this to me Why did Evans only ...\n",
       "1605                    Online Career Mode - FIFA 22 XB1 \n",
       "1571                     Breakdown of annual squad wages \n",
       "1167    Are there any PL manager who got sacked but re...\n",
       "1024    Ward-prowse, TAA, and Maddison, who are you ta...\n",
       "1295                             Proper baller. Deserved \n",
       "1919    Please subscribe to my channel Hello,my name's...\n",
       "1641                                   Pretty much this! \n",
       "1945    Why did Pogba get a red card against Liverpool...\n",
       "1228    A commanding performance or a open-ended thril...\n",
       "1459    Which are the most unexpected signings in rece...\n",
       "1574    Word is circulating that managers love it at S...\n",
       "1724    Match, Team and Player of the weekend! Who was...\n",
       "1290    Former wonder kids who failed to live up to th...\n",
       "1317    Seems you lot appreciated the last one I poste...\n",
       "1028                         Best youngster in the prem. \n",
       "1010    Premier Bets - Brand new Premier League system...\n",
       "1748    Do you think Suarez would get away with this t...\n",
       "1050    A video providing a surface level breakdown of...\n",
       "1176    Premier League clubs set to benefit from three...\n",
       "1214    Can someone explain ffp? I keep hearing about ...\n",
       "1934    Salah's best goal at Old Trafford | TOP OF THE...\n",
       "1536    'Bad, very bad indeed' - Italian media denounc...\n",
       "1209    Was David Moyes that bad at United? I have alw...\n",
       "1269         Who remembers this classic Redknapp moment? \n",
       "1626                                    Pure masterclass \n",
       "1907    Have goals outside the box declined in the EPL...\n",
       "1440    Which minute of the match has the most goals? ...\n",
       "1998    What do you think is more impressive? Salah ge...\n",
       "1816    Hey lads, I see that some of you have little c...\n",
       "1328    God I love Moyes's Westham I'll preface this b...\n",
       "1566    RVP or Van Nistelrooy Which one would you want...\n",
       "1668                       I made this on the glowforge. \n",
       "1910    What are you unpopular opinions? I’ll go first...\n",
       "1304    If ole stays till the end of the season what c...\n",
       "1900    How good was was Poch's Spurs? Now that it's a...\n",
       "1419    Dought in team's playstyle Hello everyone,\\n\\n...\n",
       "1587    Does Brighton fly to Newcastle? I see it’s a n...\n",
       "1927    What current duos seem to have the most on-fie...\n",
       "1083    Study abroad student wanting to experience the...\n",
       "1634    Tottenham fans - let's hear your predictions o...\n",
       "1937    Is Brendan Rodgers a viable option for Man Uni...\n",
       "1458    According to statistics from Artificial Intell...\n",
       "1573    Whats the best example of a player coming back...\n",
       "1103    Interesting. Is it because Scholes played the ...\n",
       "1897    American with a ticket question- How to get ti...\n",
       "1474    Can Someone British Translate a Term the Comme...\n",
       "1499    HELP：Who can tell me which team's badge appear...\n",
       "1131    Lukaku Cross Body Finish! PES 2021 Ultra Reali...\n",
       "1690    Who is your clubs player that you want to leav...\n",
       "1401                      Anybody need a new goalkeeper? \n",
       "1348    guess the hammers are for real. I would like m...\n",
       "1784    Thoughts on Arsenal? Predictions on Top4 &amp;...\n",
       "1799    Thank you for your sacrifice nuno and spur. Yo...\n",
       "1155    If you had to create Prem Bench Team, who woul...\n",
       "1768    Does Kane still get a move to Man City next se...\n",
       "1502    Which player do you think was an absolute ball...\n",
       "1375    EPL Teams Play Style Described by Music Genres...\n",
       "1410           Eddie Howe on his way into the Amex today \n",
       "1814    Newcastle vs Chelsea has shown why added time ...\n",
       "Name: post_text, dtype: object"
      ]
     },
     "execution_count": 128,
     "metadata": {},
     "output_type": "execute_result"
    }
   ],
   "source": [
    "preds2 = gs2.predict(X_test)\n",
    "X_test[(y_test != preds2) & (preds2 == 0)].head(60)"
   ]
  },
  {
   "cell_type": "code",
   "execution_count": 129,
   "id": "9fa66306",
   "metadata": {},
   "outputs": [
    {
     "data": {
      "text/plain": [
       "106    I have created great content for your children...\n",
       "553                      SOCIAL MEDIA MANAGING [removed]\n",
       "890    Is it possible to watch (share)the relive? I f...\n",
       "491    Tomorrowland 2021 attendance poll Hello all! S...\n",
       "562             KUMBH MELA WITH WATER BROTHERS [removed]\n",
       "898    When does the relive platform go open? It's 10...\n",
       "267    One of the best ways to watch: with Philips Hu...\n",
       "269    Stream doesn't work Not only that I have to se...\n",
       "21     In light of the Astroworld tragedy, can we ple...\n",
       "856    NYE code giveaway I have a code for one lucky ...\n",
       "288    Is there a URL to get the US stream/event from...\n",
       "880          Info request // swapping weekends [removed]\n",
       "461    Tomorrowland 2021 Am I the only one that waits...\n",
       "540    India’s COVID crisis ‘beyond heartbreaking’: W...\n",
       "742    Hey my lovely people!! This is a cover of Befo...\n",
       "317                                     NeKKoN [removed]\n",
       "840    Anyone happen to record Kolsch &amp; Joris Voo...\n",
       "565    Earn Free Amazon Gift Cards &amp; Codes Legall...\n",
       "64     Best treasure case \\n\\n[View Poll](https://www...\n",
       "624    Most memorable speech? So Tomorrowlans is famo...\n",
       "953    Can I Watch On IOS ?! (PLEASE HELP) Hello, \\n\\...\n",
       "410    Workin' on my stage Name for 2024. Lmk what yo...\n",
       "384    Moose Bar Will be Brought Back After All! &amp...\n",
       "Name: post_text, dtype: object"
      ]
     },
     "execution_count": 129,
     "metadata": {},
     "output_type": "execute_result"
    }
   ],
   "source": [
    "X_test[(y_test != preds2) & (preds2 == 1)].head(23)"
   ]
  },
  {
   "cell_type": "code",
   "execution_count": 139,
   "id": "ba1f36b2",
   "metadata": {},
   "outputs": [
    {
     "data": {
      "text/html": [
       "<div>\n",
       "<style scoped>\n",
       "    .dataframe tbody tr th:only-of-type {\n",
       "        vertical-align: middle;\n",
       "    }\n",
       "\n",
       "    .dataframe tbody tr th {\n",
       "        vertical-align: top;\n",
       "    }\n",
       "\n",
       "    .dataframe thead th {\n",
       "        text-align: right;\n",
       "    }\n",
       "</style>\n",
       "<table border=\"1\" class=\"dataframe\">\n",
       "  <thead>\n",
       "    <tr style=\"text-align: right;\">\n",
       "      <th></th>\n",
       "      <th>true_values</th>\n",
       "      <th>pred_probs</th>\n",
       "    </tr>\n",
       "  </thead>\n",
       "  <tbody>\n",
       "    <tr>\n",
       "      <th>1370</th>\n",
       "      <td>1</td>\n",
       "      <td>0.8</td>\n",
       "    </tr>\n",
       "    <tr>\n",
       "      <th>654</th>\n",
       "      <td>0</td>\n",
       "      <td>0.0</td>\n",
       "    </tr>\n",
       "    <tr>\n",
       "      <th>1778</th>\n",
       "      <td>1</td>\n",
       "      <td>0.4</td>\n",
       "    </tr>\n",
       "    <tr>\n",
       "      <th>646</th>\n",
       "      <td>0</td>\n",
       "      <td>0.4</td>\n",
       "    </tr>\n",
       "    <tr>\n",
       "      <th>1171</th>\n",
       "      <td>1</td>\n",
       "      <td>1.0</td>\n",
       "    </tr>\n",
       "  </tbody>\n",
       "</table>\n",
       "</div>"
      ],
      "text/plain": [
       "      true_values  pred_probs\n",
       "1370            1         0.8\n",
       "654             0         0.0\n",
       "1778            1         0.4\n",
       "646             0         0.4\n",
       "1171            1         1.0"
      ]
     },
     "execution_count": 139,
     "metadata": {},
     "output_type": "execute_result"
    }
   ],
   "source": [
    "pred2_df = pd.DataFrame({'true_values': y_test,\n",
    "                        'pred_probs': gs2.predict_proba(X_test)[:,1]})\n",
    "\n",
    "pred2_df.head()"
   ]
  },
  {
   "cell_type": "code",
   "execution_count": 145,
   "id": "a3e00ef1",
   "metadata": {},
   "outputs": [
    {
     "name": "stderr",
     "output_type": "stream",
     "text": [
      "C:\\Users\\ao322\\anaconda3\\lib\\site-packages\\seaborn\\distributions.py:2557: FutureWarning: `distplot` is a deprecated function and will be removed in a future version. Please adapt your code to use either `displot` (a figure-level function with similar flexibility) or `histplot` (an axes-level function for histograms).\n",
      "  warnings.warn(msg, FutureWarning)\n"
     ]
    },
    {
     "data": {
      "image/png": "[encoded data removed]",
      "text/plain": [
       "<Figure size 864x360 with 1 Axes>"
      ]
     },
     "metadata": {
      "needs_background": "light"
     },
     "output_type": "display_data"
    }
   ],
   "source": [
    "plt.figure(figsize = (12, 5))\n",
    "\n",
    "# code from classification metrics lecture ii\n",
    "for group in pred2_df.groupby('true_values'):\n",
    "    sns.distplot(group[1], kde = False, bins = 20, label = [f'Actual Outcome = {group[0]}'])\n",
    "\n",
    "plt.axvline(y.mean(), color='r')\n",
    "plt.xlabel('Predicted Probability that Outcome = 1')\n",
    "plt.legend();"
   ]
  },
  {
   "cell_type": "code",
   "execution_count": 151,
   "id": "3141a4c7",
   "metadata": {},
   "outputs": [
    {
     "data": {
      "image/png": "[encoded data removed]",
      "text/plain": [
       "<Figure size 432x288 with 1 Axes>"
      ]
     },
     "metadata": {
      "needs_background": "light"
     },
     "output_type": "display_data"
    }
   ],
   "source": [
    "# ROC curve for Model 2\n",
    "metrics.plot_roc_curve(gs2, X_test, y_test)\n",
    "# worst case scenario line\n",
    "plt.plot([0,1], [0,1], label='Baseline');"
   ]
  },
  {
   "cell_type": "markdown",
   "id": "e87be4e6",
   "metadata": {},
   "source": [
    "---"
   ]
  },
  {
   "cell_type": "markdown",
   "id": "2f3ca7fb",
   "metadata": {},
   "source": [
    "### Model 3 - Logistic Regression with CountVectorizer"
   ]
  },
  {
   "cell_type": "code",
   "execution_count": 44,
   "id": "48315c27",
   "metadata": {},
   "outputs": [],
   "source": [
    "pipe3 = Pipeline([\n",
    "    ('cvec', CountVectorizer()),\n",
    "    ('logreg', LogisticRegression())\n",
    "])"
   ]
  },
  {
   "cell_type": "code",
   "execution_count": 45,
   "id": "e203db17",
   "metadata": {},
   "outputs": [],
   "source": [
    "params3 = {\n",
    "    'cvec__min_df': [1, 2, 3],\n",
    "    'cvec__max_df': [.1, .2, .3],\n",
    "    'cvec__binary': [True, False],\n",
    "    'cvec__stop_words': [None, 'english'],\n",
    "    'cvec__ngram_range': [(1,1), (1,2)],\n",
    "    'logreg__C': [1, 2, 3]\n",
    "}"
   ]
  },
  {
   "cell_type": "code",
   "execution_count": 46,
   "id": "98b7e056",
   "metadata": {},
   "outputs": [
    {
     "name": "stdout",
     "output_type": "stream",
     "text": [
      "0.9293333333333333\n"
     ]
    },
    {
     "data": {
      "text/plain": [
       "{'cvec__binary': True,\n",
       " 'cvec__max_df': 0.2,\n",
       " 'cvec__min_df': 1,\n",
       " 'cvec__ngram_range': (1, 1),\n",
       " 'cvec__stop_words': 'english',\n",
       " 'logreg__C': 2}"
      ]
     },
     "execution_count": 46,
     "metadata": {},
     "output_type": "execute_result"
    }
   ],
   "source": [
    "gs3 = GridSearchCV(pipe3, param_grid=params3)\n",
    "gs3.fit(X_train, y_train)\n",
    "print(gs3.best_score_)\n",
    "gs3.best_params_"
   ]
  },
  {
   "cell_type": "code",
   "execution_count": 47,
   "id": "d02a6b48",
   "metadata": {},
   "outputs": [
    {
     "data": {
      "text/plain": [
       "<sklearn.metrics._plot.confusion_matrix.ConfusionMatrixDisplay at 0x2d3094721c0>"
      ]
     },
     "execution_count": 47,
     "metadata": {},
     "output_type": "execute_result"
    },
    {
     "data": {
      "image/png": "[encoded data removed]",
      "text/plain": [
       "<Figure size 432x288 with 2 Axes>"
      ]
     },
     "metadata": {
      "needs_background": "light"
     },
     "output_type": "display_data"
    }
   ],
   "source": [
    "metrics.plot_confusion_matrix(gs3, X_test, y_test, display_labels=['Tomorrowland', 'PremierLeague'])"
   ]
  },
  {
   "cell_type": "code",
   "execution_count": 48,
   "id": "fb20caa1",
   "metadata": {},
   "outputs": [],
   "source": [
    "preds3 = gs3.predict(X_test)\n",
    "tn3, fp3, fn3, tp3 = metrics.confusion_matrix(y_test, preds3).flatten()"
   ]
  },
  {
   "cell_type": "markdown",
   "id": "229230f9",
   "metadata": {},
   "source": [
    "**Specificity - How good did the model perform at predicting Tomorrowland posts?**"
   ]
  },
  {
   "cell_type": "code",
   "execution_count": 49,
   "id": "3e9df402",
   "metadata": {},
   "outputs": [
    {
     "data": {
      "text/plain": [
       "0.968"
      ]
     },
     "execution_count": 49,
     "metadata": {},
     "output_type": "execute_result"
    }
   ],
   "source": [
    "tn3 / (tn3 + fp3)   # Model was very good at predicting subreddit if post came from Tomorrowland"
   ]
  },
  {
   "cell_type": "markdown",
   "id": "b62b62c2",
   "metadata": {},
   "source": [
    "**Sensitivity - How good did the model perform at predicting Premier League posts?**"
   ]
  },
  {
   "cell_type": "code",
   "execution_count": 50,
   "id": "a7304f62",
   "metadata": {},
   "outputs": [
    {
     "data": {
      "text/plain": [
       "0.912"
      ]
     },
     "execution_count": 50,
     "metadata": {},
     "output_type": "execute_result"
    }
   ],
   "source": [
    "tp3 / (tp3 + fn3)   # Model was very good at predicting subreddit if post came from Premier League"
   ]
  },
  {
   "cell_type": "code",
   "execution_count": 51,
   "id": "195ce147",
   "metadata": {},
   "outputs": [
    {
     "data": {
      "text/plain": [
       "1778    Someone explain this to me Why did Evans only ...\n",
       "1605                    Online Career Mode - FIFA 22 XB1 \n",
       "1024    Ward-prowse, TAA, and Maddison, who are you ta...\n",
       "1295                             Proper baller. Deserved \n",
       "1919    Please subscribe to my channel Hello,my name's...\n",
       "1641                                   Pretty much this! \n",
       "1062    Anyone else fed up of 3pm games not being tele...\n",
       "1290    Former wonder kids who failed to live up to th...\n",
       "1317    Seems you lot appreciated the last one I poste...\n",
       "1284    What was the year/reason you started supportin...\n",
       "1626                                    Pure masterclass \n",
       "1668                       I made this on the glowforge. \n",
       "1377                                                Good \n",
       "1458    According to statistics from Artificial Intell...\n",
       "1103    Interesting. Is it because Scholes played the ...\n",
       "1131    Lukaku Cross Body Finish! PES 2021 Ultra Reali...\n",
       "1401                      Anybody need a new goalkeeper? \n",
       "1348    guess the hammers are for real. I would like m...\n",
       "1410           Eddie Howe on his way into the Amex today \n",
       "1500    HELP：Who can tell me which team's badge appear...\n",
       "1663                                                   😳 \n",
       "1362    Operation Exercise: What's the coded message b...\n",
       "Name: post_text, dtype: object"
      ]
     },
     "execution_count": 51,
     "metadata": {},
     "output_type": "execute_result"
    }
   ],
   "source": [
    "preds3 = gs3.predict(X_test)\n",
    "X_test[(y_test != preds3) & (preds3 == 0)].head(22)"
   ]
  },
  {
   "cell_type": "code",
   "execution_count": 52,
   "id": "70ab78ee",
   "metadata": {},
   "outputs": [
    {
     "data": {
      "text/plain": [
       "106    I have created great content for your children...\n",
       "553                      SOCIAL MEDIA MANAGING [removed]\n",
       "562             KUMBH MELA WITH WATER BROTHERS [removed]\n",
       "805    The best time of my life deserves to be on my ...\n",
       "880          Info request // swapping weekends [removed]\n",
       "540    India’s COVID crisis ‘beyond heartbreaking’: W...\n",
       "317                                     NeKKoN [removed]\n",
       "64     Best treasure case \\n\\n[View Poll](https://www...\n",
       "Name: post_text, dtype: object"
      ]
     },
     "execution_count": 52,
     "metadata": {},
     "output_type": "execute_result"
    }
   ],
   "source": [
    "X_test[(y_test != preds3) & (preds3 == 1)].head(8)"
   ]
  },
  {
   "cell_type": "code",
   "execution_count": 140,
   "id": "9292c1e1",
   "metadata": {},
   "outputs": [
    {
     "data": {
      "text/html": [
       "<div>\n",
       "<style scoped>\n",
       "    .dataframe tbody tr th:only-of-type {\n",
       "        vertical-align: middle;\n",
       "    }\n",
       "\n",
       "    .dataframe tbody tr th {\n",
       "        vertical-align: top;\n",
       "    }\n",
       "\n",
       "    .dataframe thead th {\n",
       "        text-align: right;\n",
       "    }\n",
       "</style>\n",
       "<table border=\"1\" class=\"dataframe\">\n",
       "  <thead>\n",
       "    <tr style=\"text-align: right;\">\n",
       "      <th></th>\n",
       "      <th>true_values</th>\n",
       "      <th>pred_probs</th>\n",
       "    </tr>\n",
       "  </thead>\n",
       "  <tbody>\n",
       "    <tr>\n",
       "      <th>1370</th>\n",
       "      <td>1</td>\n",
       "      <td>0.974152</td>\n",
       "    </tr>\n",
       "    <tr>\n",
       "      <th>654</th>\n",
       "      <td>0</td>\n",
       "      <td>0.079616</td>\n",
       "    </tr>\n",
       "    <tr>\n",
       "      <th>1778</th>\n",
       "      <td>1</td>\n",
       "      <td>0.345504</td>\n",
       "    </tr>\n",
       "    <tr>\n",
       "      <th>646</th>\n",
       "      <td>0</td>\n",
       "      <td>0.180152</td>\n",
       "    </tr>\n",
       "    <tr>\n",
       "      <th>1171</th>\n",
       "      <td>1</td>\n",
       "      <td>0.976090</td>\n",
       "    </tr>\n",
       "  </tbody>\n",
       "</table>\n",
       "</div>"
      ],
      "text/plain": [
       "      true_values  pred_probs\n",
       "1370            1    0.974152\n",
       "654             0    0.079616\n",
       "1778            1    0.345504\n",
       "646             0    0.180152\n",
       "1171            1    0.976090"
      ]
     },
     "execution_count": 140,
     "metadata": {},
     "output_type": "execute_result"
    }
   ],
   "source": [
    "pred3_df = pd.DataFrame({'true_values': y_test,\n",
    "                        'pred_probs': gs3.predict_proba(X_test)[:,1]})\n",
    "\n",
    "pred3_df.head()"
   ]
  },
  {
   "cell_type": "code",
   "execution_count": 146,
   "id": "9daef9a6",
   "metadata": {},
   "outputs": [
    {
     "data": {
      "image/png": "[encoded data removed]",
      "text/plain": [
       "<Figure size 864x360 with 1 Axes>"
      ]
     },
     "metadata": {
      "needs_background": "light"
     },
     "output_type": "display_data"
    }
   ],
   "source": [
    "plt.figure(figsize = (12, 5))\n",
    "\n",
    "# code from classification metrics lecture ii\n",
    "for group in pred3_df.groupby('true_values'):\n",
    "    sns.distplot(group[1], kde = False, bins = 20, label = [f'Actual Outcome = {group[0]}'])\n",
    "\n",
    "plt.axvline(y.mean(), color='r')\n",
    "plt.xlabel('Predicted Probability that Outcome = 1')\n",
    "plt.legend();"
   ]
  },
  {
   "cell_type": "code",
   "execution_count": 152,
   "id": "ea27f186",
   "metadata": {},
   "outputs": [
    {
     "data": {
      "image/png": "[encoded data removed]",
      "text/plain": [
       "<Figure size 432x288 with 1 Axes>"
      ]
     },
     "metadata": {
      "needs_background": "light"
     },
     "output_type": "display_data"
    }
   ],
   "source": [
    "# ROC curve for Model 3\n",
    "metrics.plot_roc_curve(gs3, X_test, y_test)\n",
    "# worst case scenario line\n",
    "plt.plot([0,1], [0,1], label='Baseline');"
   ]
  },
  {
   "cell_type": "markdown",
   "id": "1a001f5b",
   "metadata": {},
   "source": [
    "---"
   ]
  },
  {
   "cell_type": "markdown",
   "id": "0916bee7",
   "metadata": {},
   "source": [
    "### Model 4 - Logistic Regression with TFIDF"
   ]
  },
  {
   "cell_type": "code",
   "execution_count": 53,
   "id": "d48abed5",
   "metadata": {},
   "outputs": [],
   "source": [
    "pipe4 = Pipeline([\n",
    "    ('tvec', TfidfVectorizer()),\n",
    "    ('logreg', LogisticRegression())\n",
    "])"
   ]
  },
  {
   "cell_type": "code",
   "execution_count": 54,
   "id": "4a57f9a4",
   "metadata": {},
   "outputs": [],
   "source": [
    "params4 = {\n",
    "    'tvec__stop_words': [None, 'english'],\n",
    "    'tvec__min_df': [1, 2, 3],\n",
    "    'tvec__max_df': [.1, .2, .3],\n",
    "    'tvec__ngram_range': [(1,1), (1,2)],\n",
    "    'logreg__C': [1, 2, 3]\n",
    "}"
   ]
  },
  {
   "cell_type": "code",
   "execution_count": 55,
   "id": "f333d5c8",
   "metadata": {},
   "outputs": [
    {
     "name": "stdout",
     "output_type": "stream",
     "text": [
      "0.9393333333333335\n"
     ]
    },
    {
     "data": {
      "text/plain": [
       "{'logreg__C': 3,\n",
       " 'tvec__max_df': 0.2,\n",
       " 'tvec__min_df': 1,\n",
       " 'tvec__ngram_range': (1, 1),\n",
       " 'tvec__stop_words': 'english'}"
      ]
     },
     "execution_count": 55,
     "metadata": {},
     "output_type": "execute_result"
    }
   ],
   "source": [
    "gs4 = GridSearchCV(pipe4, param_grid=params4)\n",
    "gs4.fit(X_train, y_train)\n",
    "print(gs4.best_score_)\n",
    "gs4.best_params_"
   ]
  },
  {
   "cell_type": "code",
   "execution_count": 56,
   "id": "5a6dc255",
   "metadata": {},
   "outputs": [
    {
     "data": {
      "text/plain": [
       "<sklearn.metrics._plot.confusion_matrix.ConfusionMatrixDisplay at 0x2d30957e100>"
      ]
     },
     "execution_count": 56,
     "metadata": {},
     "output_type": "execute_result"
    },
    {
     "data": {
      "image/png": "[encoded data removed]",
      "text/plain": [
       "<Figure size 432x288 with 2 Axes>"
      ]
     },
     "metadata": {
      "needs_background": "light"
     },
     "output_type": "display_data"
    }
   ],
   "source": [
    "metrics.plot_confusion_matrix(gs4, X_test, y_test, display_labels=['Tomorrowland', 'PremierLeague'])"
   ]
  },
  {
   "cell_type": "code",
   "execution_count": 57,
   "id": "6a88110b",
   "metadata": {},
   "outputs": [],
   "source": [
    "preds4 = gs4.predict(X_test)\n",
    "tn4, fp4, fn4, tp4 = metrics.confusion_matrix(y_test, preds4).flatten()"
   ]
  },
  {
   "cell_type": "markdown",
   "id": "064a6876",
   "metadata": {},
   "source": [
    "**Specificity - How good did the model perform at predicting Tomorrowland posts?**"
   ]
  },
  {
   "cell_type": "code",
   "execution_count": 58,
   "id": "495638b3",
   "metadata": {},
   "outputs": [
    {
     "data": {
      "text/plain": [
       "0.964"
      ]
     },
     "execution_count": 58,
     "metadata": {},
     "output_type": "execute_result"
    }
   ],
   "source": [
    "tn4 / (tn4 + fp4)   # Model was very good at predicting subreddit if post came from Tomorrowland"
   ]
  },
  {
   "cell_type": "markdown",
   "id": "b0e38982",
   "metadata": {},
   "source": [
    "**Sensitivity - How good did the model perform at predicting Premier League posts?**"
   ]
  },
  {
   "cell_type": "code",
   "execution_count": 59,
   "id": "2ddc8141",
   "metadata": {},
   "outputs": [
    {
     "data": {
      "text/plain": [
       "0.936"
      ]
     },
     "execution_count": 59,
     "metadata": {},
     "output_type": "execute_result"
    }
   ],
   "source": [
    "tp4 / (tp4 + fn4)   # Model was very good at predicting subreddit if post came from Premier League"
   ]
  },
  {
   "cell_type": "code",
   "execution_count": 60,
   "id": "5cc4c220",
   "metadata": {},
   "outputs": [
    {
     "data": {
      "text/plain": [
       "1778    Someone explain this to me Why did Evans only ...\n",
       "1605                    Online Career Mode - FIFA 22 XB1 \n",
       "1024    Ward-prowse, TAA, and Maddison, who are you ta...\n",
       "1919    Please subscribe to my channel Hello,my name's...\n",
       "1641                                   Pretty much this! \n",
       "1290    Former wonder kids who failed to live up to th...\n",
       "1317    Seems you lot appreciated the last one I poste...\n",
       "1626                                    Pure masterclass \n",
       "1816    Hey lads, I see that some of you have little c...\n",
       "1668                       I made this on the glowforge. \n",
       "1458    According to statistics from Artificial Intell...\n",
       "1131    Lukaku Cross Body Finish! PES 2021 Ultra Reali...\n",
       "1401                      Anybody need a new goalkeeper? \n",
       "1348    guess the hammers are for real. I would like m...\n",
       "1663                                                   😳 \n",
       "1362    Operation Exercise: What's the coded message b...\n",
       "Name: post_text, dtype: object"
      ]
     },
     "execution_count": 60,
     "metadata": {},
     "output_type": "execute_result"
    }
   ],
   "source": [
    "preds4 = gs4.predict(X_test)\n",
    "X_test[(y_test != preds4) & (preds4 == 0)].head(16)"
   ]
  },
  {
   "cell_type": "code",
   "execution_count": 61,
   "id": "376c1acf",
   "metadata": {},
   "outputs": [
    {
     "data": {
      "text/plain": [
       "566                                  NFTb Bot @nftb_bot \n",
       "106    I have created great content for your children...\n",
       "553                      SOCIAL MEDIA MANAGING [removed]\n",
       "562             KUMBH MELA WITH WATER BROTHERS [removed]\n",
       "805    The best time of my life deserves to be on my ...\n",
       "267    One of the best ways to watch: with Philips Hu...\n",
       "540    India’s COVID crisis ‘beyond heartbreaking’: W...\n",
       "317                                     NeKKoN [removed]\n",
       "64     Best treasure case \\n\\n[View Poll](https://www...\n",
       "Name: post_text, dtype: object"
      ]
     },
     "execution_count": 61,
     "metadata": {},
     "output_type": "execute_result"
    }
   ],
   "source": [
    "X_test[(y_test != preds4) & (preds4 == 1)].head(9)"
   ]
  },
  {
   "cell_type": "code",
   "execution_count": 141,
   "id": "73f0caf1",
   "metadata": {},
   "outputs": [
    {
     "data": {
      "text/html": [
       "<div>\n",
       "<style scoped>\n",
       "    .dataframe tbody tr th:only-of-type {\n",
       "        vertical-align: middle;\n",
       "    }\n",
       "\n",
       "    .dataframe tbody tr th {\n",
       "        vertical-align: top;\n",
       "    }\n",
       "\n",
       "    .dataframe thead th {\n",
       "        text-align: right;\n",
       "    }\n",
       "</style>\n",
       "<table border=\"1\" class=\"dataframe\">\n",
       "  <thead>\n",
       "    <tr style=\"text-align: right;\">\n",
       "      <th></th>\n",
       "      <th>true_values</th>\n",
       "      <th>pred_probs</th>\n",
       "    </tr>\n",
       "  </thead>\n",
       "  <tbody>\n",
       "    <tr>\n",
       "      <th>1370</th>\n",
       "      <td>1</td>\n",
       "      <td>0.847092</td>\n",
       "    </tr>\n",
       "    <tr>\n",
       "      <th>654</th>\n",
       "      <td>0</td>\n",
       "      <td>0.197113</td>\n",
       "    </tr>\n",
       "    <tr>\n",
       "      <th>1778</th>\n",
       "      <td>1</td>\n",
       "      <td>0.393035</td>\n",
       "    </tr>\n",
       "    <tr>\n",
       "      <th>646</th>\n",
       "      <td>0</td>\n",
       "      <td>0.260692</td>\n",
       "    </tr>\n",
       "    <tr>\n",
       "      <th>1171</th>\n",
       "      <td>1</td>\n",
       "      <td>0.940326</td>\n",
       "    </tr>\n",
       "  </tbody>\n",
       "</table>\n",
       "</div>"
      ],
      "text/plain": [
       "      true_values  pred_probs\n",
       "1370            1    0.847092\n",
       "654             0    0.197113\n",
       "1778            1    0.393035\n",
       "646             0    0.260692\n",
       "1171            1    0.940326"
      ]
     },
     "execution_count": 141,
     "metadata": {},
     "output_type": "execute_result"
    }
   ],
   "source": [
    "pred4_df = pd.DataFrame({'true_values': y_test,\n",
    "                        'pred_probs': gs4.predict_proba(X_test)[:,1]})\n",
    "\n",
    "pred4_df.head()"
   ]
  },
  {
   "cell_type": "code",
   "execution_count": 147,
   "id": "ec8ab3ed",
   "metadata": {},
   "outputs": [
    {
     "data": {
      "image/png": "[encoded data removed]",
      "text/plain": [
       "<Figure size 864x360 with 1 Axes>"
      ]
     },
     "metadata": {
      "needs_background": "light"
     },
     "output_type": "display_data"
    }
   ],
   "source": [
    "plt.figure(figsize = (12, 5))\n",
    "\n",
    "# code from classification metrics lecture ii\n",
    "for group in pred4_df.groupby('true_values'):\n",
    "    sns.distplot(group[1], kde = False, bins = 20, label = [f'Actual Outcome = {group[0]}'])\n",
    "\n",
    "plt.axvline(y.mean(), color='r')\n",
    "plt.xlabel('Predicted Probability that Outcome = 1')\n",
    "plt.legend();"
   ]
  },
  {
   "cell_type": "code",
   "execution_count": 153,
   "id": "02d03ae4",
   "metadata": {},
   "outputs": [
    {
     "data": {
      "image/png": "[encoded data removed]",
      "text/plain": [
       "<Figure size 432x288 with 1 Axes>"
      ]
     },
     "metadata": {
      "needs_background": "light"
     },
     "output_type": "display_data"
    }
   ],
   "source": [
    "# ROC curve for Model 4\n",
    "metrics.plot_roc_curve(gs4, X_test, y_test)\n",
    "# worst case scenario line\n",
    "plt.plot([0,1], [0,1], label='Baseline');"
   ]
  },
  {
   "cell_type": "markdown",
   "id": "a3e07919",
   "metadata": {},
   "source": [
    "---"
   ]
  },
  {
   "cell_type": "markdown",
   "id": "afa90081",
   "metadata": {},
   "source": [
    "### Model 5 - Decision Tree with CountVectorizer"
   ]
  },
  {
   "cell_type": "code",
   "execution_count": 62,
   "id": "7db636b0",
   "metadata": {},
   "outputs": [],
   "source": [
    "pipe5 = Pipeline([\n",
    "    ('cvec', CountVectorizer()),\n",
    "    ('dt', DecisionTreeClassifier())\n",
    "])"
   ]
  },
  {
   "cell_type": "code",
   "execution_count": 63,
   "id": "f2e5ef8a",
   "metadata": {},
   "outputs": [],
   "source": [
    "params5 = {\n",
    "    'cvec__min_df': [1, 2, 3],\n",
    "    'cvec__max_df': [.1, .2, .3],\n",
    "    'cvec__binary': [True, False],\n",
    "    'cvec__stop_words': ['english', None],\n",
    "    'dt__random_state': [10],\n",
    "    'dt__min_samples_split': [3, 4, 5, 6]\n",
    "}"
   ]
  },
  {
   "cell_type": "code",
   "execution_count": 64,
   "id": "b76888f1",
   "metadata": {},
   "outputs": [
    {
     "name": "stdout",
     "output_type": "stream",
     "text": [
      "0.9033333333333333\n"
     ]
    },
    {
     "data": {
      "text/plain": [
       "{'cvec__binary': False,\n",
       " 'cvec__max_df': 0.2,\n",
       " 'cvec__min_df': 1,\n",
       " 'cvec__stop_words': 'english',\n",
       " 'dt__min_samples_split': 5,\n",
       " 'dt__random_state': 10}"
      ]
     },
     "execution_count": 64,
     "metadata": {},
     "output_type": "execute_result"
    }
   ],
   "source": [
    "gs5 = GridSearchCV(pipe5, param_grid=params5)\n",
    "gs5.fit(X_train, y_train)\n",
    "print(gs5.best_score_)\n",
    "gs5.best_params_"
   ]
  },
  {
   "cell_type": "code",
   "execution_count": 65,
   "id": "4aef2887",
   "metadata": {},
   "outputs": [
    {
     "data": {
      "text/plain": [
       "<sklearn.metrics._plot.confusion_matrix.ConfusionMatrixDisplay at 0x2d30959d9a0>"
      ]
     },
     "execution_count": 65,
     "metadata": {},
     "output_type": "execute_result"
    },
    {
     "data": {
      "image/png": "[encoded data removed]",
      "text/plain": [
       "<Figure size 432x288 with 2 Axes>"
      ]
     },
     "metadata": {
      "needs_background": "light"
     },
     "output_type": "display_data"
    }
   ],
   "source": [
    "metrics.plot_confusion_matrix(gs5, X_test, y_test, display_labels=['Tomorrowland', 'PremierLeague'])"
   ]
  },
  {
   "cell_type": "code",
   "execution_count": 66,
   "id": "a59dbe46",
   "metadata": {},
   "outputs": [],
   "source": [
    "preds5 = gs5.predict(X_test)\n",
    "tn5, fp5, fn5, tp5 = metrics.confusion_matrix(y_test, preds5).flatten()"
   ]
  },
  {
   "cell_type": "markdown",
   "id": "83999a84",
   "metadata": {},
   "source": [
    "**Specificity - How good did the model perform at predicting Tomorrowland posts?**"
   ]
  },
  {
   "cell_type": "code",
   "execution_count": 67,
   "id": "b163c683",
   "metadata": {},
   "outputs": [
    {
     "data": {
      "text/plain": [
       "0.932"
      ]
     },
     "execution_count": 67,
     "metadata": {},
     "output_type": "execute_result"
    }
   ],
   "source": [
    "tn5 / (tn5 + fp5)   # Model was very good at predicting subreddit if post came from Tomorrowland"
   ]
  },
  {
   "cell_type": "markdown",
   "id": "22d1ba73",
   "metadata": {},
   "source": [
    "**Sensitivity - How good did the model perform at predicting Premier League posts?**"
   ]
  },
  {
   "cell_type": "code",
   "execution_count": 68,
   "id": "d7bc43d5",
   "metadata": {},
   "outputs": [
    {
     "data": {
      "text/plain": [
       "0.884"
      ]
     },
     "execution_count": 68,
     "metadata": {},
     "output_type": "execute_result"
    }
   ],
   "source": [
    "tp5 / (tp5 + fn5)   # Model was good at predicting subreddit if post came from Tomorrowland"
   ]
  },
  {
   "cell_type": "code",
   "execution_count": 69,
   "id": "7e4b7f67",
   "metadata": {},
   "outputs": [
    {
     "data": {
      "text/plain": [
       "1778    Someone explain this to me Why did Evans only ...\n",
       "1605                    Online Career Mode - FIFA 22 XB1 \n",
       "1571                     Breakdown of annual squad wages \n",
       "1024    Ward-prowse, TAA, and Maddison, who are you ta...\n",
       "1295                             Proper baller. Deserved \n",
       "1641                                   Pretty much this! \n",
       "1574    Word is circulating that managers love it at S...\n",
       "1317    Seems you lot appreciated the last one I poste...\n",
       "1345                  This man deserves a lot of respect \n",
       "1028                         Best youngster in the prem. \n",
       "1883              Best cdm right now? I would say rodri. \n",
       "1536    'Bad, very bad indeed' - Italian media denounc...\n",
       "1269         Who remembers this classic Redknapp moment? \n",
       "1626                                    Pure masterclass \n",
       "1669     Wolves fans,what's your opinion on Lage so far? \n",
       "1668                       I made this on the glowforge. \n",
       "1377                                                Good \n",
       "1458    According to statistics from Artificial Intell...\n",
       "1831    For all the Spurs fans what made you support t...\n",
       "1103    Interesting. Is it because Scholes played the ...\n",
       "1131    Lukaku Cross Body Finish! PES 2021 Ultra Reali...\n",
       "1401                      Anybody need a new goalkeeper? \n",
       "1348    guess the hammers are for real. I would like m...\n",
       "1410           Eddie Howe on his way into the Amex today \n",
       "1735    On a Macro level the Wages are ruining Players...\n",
       "1827    Neymar da Silva Santos, why doesn’t Neymar rec...\n",
       "1346                                   West Ham [removed]\n",
       "1663                                                   😳 \n",
       "1362    Operation Exercise: What's the coded message b...\n",
       "Name: post_text, dtype: object"
      ]
     },
     "execution_count": 69,
     "metadata": {},
     "output_type": "execute_result"
    }
   ],
   "source": [
    "preds5 = gs5.predict(X_test)\n",
    "X_test[(y_test != preds5) & (preds5 == 0)].head(29)"
   ]
  },
  {
   "cell_type": "code",
   "execution_count": 70,
   "id": "519340e2",
   "metadata": {},
   "outputs": [
    {
     "data": {
      "text/plain": [
       "700    +++UPDATE+++ So, my mom painted me ODESZA's \"A...\n",
       "106    I have created great content for your children...\n",
       "475    Global Journey Easy Tent: Swap weekends using ...\n",
       "553                      SOCIAL MEDIA MANAGING [removed]\n",
       "508    Miracle items? I thought this might be a good ...\n",
       "890    Is it possible to watch (share)the relive? I f...\n",
       "13     Refund question for non SEPA I'm finally getti...\n",
       "562             KUMBH MELA WITH WATER BROTHERS [removed]\n",
       "724    Decision 2021 postponed from 15 march to?? The...\n",
       "385    How long will name change option last? In my a...\n",
       "880          Info request // swapping weekends [removed]\n",
       "632    Help with karma. Don’t use Reddit much but I h...\n",
       "540    India’s COVID crisis ‘beyond heartbreaking’: W...\n",
       "317                                     NeKKoN [removed]\n",
       "64     Best treasure case \\n\\n[View Poll](https://www...\n",
       "410    Workin' on my stage Name for 2024. Lmk what yo...\n",
       "561    [OFFER] 20€ FOR YOU + 20€ FOR YOUR FRIEND! (MA...\n",
       "Name: post_text, dtype: object"
      ]
     },
     "execution_count": 70,
     "metadata": {},
     "output_type": "execute_result"
    }
   ],
   "source": [
    "X_test[(y_test != preds5) & (preds5 == 1)].head(17)"
   ]
  },
  {
   "cell_type": "code",
   "execution_count": 142,
   "id": "ea0403ac",
   "metadata": {},
   "outputs": [
    {
     "data": {
      "text/html": [
       "<div>\n",
       "<style scoped>\n",
       "    .dataframe tbody tr th:only-of-type {\n",
       "        vertical-align: middle;\n",
       "    }\n",
       "\n",
       "    .dataframe tbody tr th {\n",
       "        vertical-align: top;\n",
       "    }\n",
       "\n",
       "    .dataframe thead th {\n",
       "        text-align: right;\n",
       "    }\n",
       "</style>\n",
       "<table border=\"1\" class=\"dataframe\">\n",
       "  <thead>\n",
       "    <tr style=\"text-align: right;\">\n",
       "      <th></th>\n",
       "      <th>true_values</th>\n",
       "      <th>pred_probs</th>\n",
       "    </tr>\n",
       "  </thead>\n",
       "  <tbody>\n",
       "    <tr>\n",
       "      <th>1370</th>\n",
       "      <td>1</td>\n",
       "      <td>1.0</td>\n",
       "    </tr>\n",
       "    <tr>\n",
       "      <th>654</th>\n",
       "      <td>0</td>\n",
       "      <td>0.0</td>\n",
       "    </tr>\n",
       "    <tr>\n",
       "      <th>1778</th>\n",
       "      <td>1</td>\n",
       "      <td>0.0</td>\n",
       "    </tr>\n",
       "    <tr>\n",
       "      <th>646</th>\n",
       "      <td>0</td>\n",
       "      <td>0.0</td>\n",
       "    </tr>\n",
       "    <tr>\n",
       "      <th>1171</th>\n",
       "      <td>1</td>\n",
       "      <td>1.0</td>\n",
       "    </tr>\n",
       "  </tbody>\n",
       "</table>\n",
       "</div>"
      ],
      "text/plain": [
       "      true_values  pred_probs\n",
       "1370            1         1.0\n",
       "654             0         0.0\n",
       "1778            1         0.0\n",
       "646             0         0.0\n",
       "1171            1         1.0"
      ]
     },
     "execution_count": 142,
     "metadata": {},
     "output_type": "execute_result"
    }
   ],
   "source": [
    "pred5_df = pd.DataFrame({'true_values': y_test,\n",
    "                        'pred_probs': gs5.predict_proba(X_test)[:,1]})\n",
    "\n",
    "pred5_df.head()"
   ]
  },
  {
   "cell_type": "code",
   "execution_count": 148,
   "id": "b1c8a472",
   "metadata": {},
   "outputs": [
    {
     "data": {
      "image/png": "[encoded data removed]",
      "text/plain": [
       "<Figure size 864x360 with 1 Axes>"
      ]
     },
     "metadata": {
      "needs_background": "light"
     },
     "output_type": "display_data"
    }
   ],
   "source": [
    "plt.figure(figsize = (12, 5))\n",
    "\n",
    "# code from classification metrics lecture ii\n",
    "for group in pred5_df.groupby('true_values'):\n",
    "    sns.distplot(group[1], kde = False, bins = 20, label = [f'Actual Outcome = {group[0]}'])\n",
    "\n",
    "plt.axvline(y.mean(), color='r')\n",
    "plt.xlabel('Predicted Probability that Outcome = 1')\n",
    "plt.legend();"
   ]
  },
  {
   "cell_type": "code",
   "execution_count": 154,
   "id": "c546a066",
   "metadata": {},
   "outputs": [
    {
     "data": {
      "image/png": "[encoded data removed]",
      "text/plain": [
       "<Figure size 432x288 with 1 Axes>"
      ]
     },
     "metadata": {
      "needs_background": "light"
     },
     "output_type": "display_data"
    }
   ],
   "source": [
    "# ROC curve for Model 5\n",
    "metrics.plot_roc_curve(gs5, X_test, y_test)\n",
    "# worst case scenario line\n",
    "plt.plot([0,1], [0,1], label='Baseline');"
   ]
  },
  {
   "cell_type": "markdown",
   "id": "4aa66a28",
   "metadata": {},
   "source": [
    "---"
   ]
  },
  {
   "cell_type": "markdown",
   "id": "722888f2",
   "metadata": {},
   "source": [
    "### Model 6 - Decision Tree with TFIDF"
   ]
  },
  {
   "cell_type": "code",
   "execution_count": 71,
   "id": "47f9b70e",
   "metadata": {},
   "outputs": [],
   "source": [
    "pipe6 = Pipeline([\n",
    "    ('tvec', TfidfVectorizer()),\n",
    "    ('dt', DecisionTreeClassifier())\n",
    "])"
   ]
  },
  {
   "cell_type": "code",
   "execution_count": 72,
   "id": "9cad1a55",
   "metadata": {},
   "outputs": [],
   "source": [
    "params6 = {\n",
    "    'tvec__stop_words': ['english', None],\n",
    "    'tvec__min_df': [1, 2, 3],\n",
    "    'tvec__max_df': [.1, .2, .3],\n",
    "    'tvec__ngram_range': [(1,1), (1,2)],\n",
    "    'dt__random_state': [42],\n",
    "    'dt__min_samples_split': [2, 3]\n",
    "}"
   ]
  },
  {
   "cell_type": "code",
   "execution_count": 73,
   "id": "53c02f29",
   "metadata": {},
   "outputs": [
    {
     "name": "stdout",
     "output_type": "stream",
     "text": [
      "0.8993333333333332\n"
     ]
    },
    {
     "data": {
      "text/plain": [
       "{'dt__min_samples_split': 2,\n",
       " 'dt__random_state': 42,\n",
       " 'tvec__max_df': 0.2,\n",
       " 'tvec__min_df': 2,\n",
       " 'tvec__ngram_range': (1, 2),\n",
       " 'tvec__stop_words': 'english'}"
      ]
     },
     "execution_count": 73,
     "metadata": {},
     "output_type": "execute_result"
    }
   ],
   "source": [
    "gs6 = GridSearchCV(pipe6, param_grid=params6)\n",
    "gs6.fit(X_train, y_train)\n",
    "print(gs6.best_score_)\n",
    "gs6.best_params_"
   ]
  },
  {
   "cell_type": "code",
   "execution_count": 74,
   "id": "386dc56b",
   "metadata": {},
   "outputs": [
    {
     "data": {
      "text/plain": [
       "<sklearn.metrics._plot.confusion_matrix.ConfusionMatrixDisplay at 0x2d37f039e50>"
      ]
     },
     "execution_count": 74,
     "metadata": {},
     "output_type": "execute_result"
    },
    {
     "data": {
      "image/png": "[encoded data removed]",
      "text/plain": [
       "<Figure size 432x288 with 2 Axes>"
      ]
     },
     "metadata": {
      "needs_background": "light"
     },
     "output_type": "display_data"
    }
   ],
   "source": [
    "metrics.plot_confusion_matrix(gs6, X_test, y_test, display_labels=['Tomorrowland', 'PremierLeague'])"
   ]
  },
  {
   "cell_type": "code",
   "execution_count": 75,
   "id": "855fdf5d",
   "metadata": {},
   "outputs": [],
   "source": [
    "preds6 = gs6.predict(X_test)\n",
    "tn6, fp6, fn6, tp6 = metrics.confusion_matrix(y_test, preds6).flatten()"
   ]
  },
  {
   "cell_type": "markdown",
   "id": "3e132cd7",
   "metadata": {},
   "source": [
    "**Specificity - How good did the model perform at predicting Tomorrowland posts?**"
   ]
  },
  {
   "cell_type": "code",
   "execution_count": 76,
   "id": "b83a5024",
   "metadata": {},
   "outputs": [
    {
     "data": {
      "text/plain": [
       "0.94"
      ]
     },
     "execution_count": 76,
     "metadata": {},
     "output_type": "execute_result"
    }
   ],
   "source": [
    "tn6 / (tn6 + fp6)   # Model was very good at predicting subreddit if post came from Tomorrowland"
   ]
  },
  {
   "cell_type": "markdown",
   "id": "bd30d78b",
   "metadata": {},
   "source": [
    "**Sensitivity - How good did the model perform at predicting Premier League posts?**"
   ]
  },
  {
   "cell_type": "code",
   "execution_count": 77,
   "id": "b0bedfe9",
   "metadata": {},
   "outputs": [
    {
     "data": {
      "text/plain": [
       "0.852"
      ]
     },
     "execution_count": 77,
     "metadata": {},
     "output_type": "execute_result"
    }
   ],
   "source": [
    "tp6 / (tp6 + fn6)   # Model was good at predicting subreddit if post came from Premier League"
   ]
  },
  {
   "cell_type": "code",
   "execution_count": 78,
   "id": "ccd7e991",
   "metadata": {},
   "outputs": [
    {
     "data": {
      "text/plain": [
       "1778    Someone explain this to me Why did Evans only ...\n",
       "1605                    Online Career Mode - FIFA 22 XB1 \n",
       "1571                     Breakdown of annual squad wages \n",
       "1024    Ward-prowse, TAA, and Maddison, who are you ta...\n",
       "1295                             Proper baller. Deserved \n",
       "1641                                   Pretty much this! \n",
       "1038    Are fan channels independent? I question wheth...\n",
       "1459    Which are the most unexpected signings in rece...\n",
       "1317    Seems you lot appreciated the last one I poste...\n",
       "1028                         Best youngster in the prem. \n",
       "1284    What was the year/reason you started supportin...\n",
       "1883              Best cdm right now? I would say rodri. \n",
       "1050    A video providing a surface level breakdown of...\n",
       "1214    Can someone explain ffp? I keep hearing about ...\n",
       "1326    Which Club would you say has the most talented...\n",
       "1536    'Bad, very bad indeed' - Italian media denounc...\n",
       "1269         Who remembers this classic Redknapp moment? \n",
       "1626                                    Pure masterclass \n",
       "1595    Van Nistelrooy or RVP Which one you having in ...\n",
       "1816    Hey lads, I see that some of you have little c...\n",
       "1136    Reece James or Trent Alexander Arnold??? [remo...\n",
       "1669     Wolves fans,what's your opinion on Lage so far? \n",
       "1668                       I made this on the glowforge. \n",
       "1910    What are you unpopular opinions? I’ll go first...\n",
       "1844    What is the worst transfer for the club you su...\n",
       "1377                                                Good \n",
       "1458    According to statistics from Artificial Intell...\n",
       "1103    Interesting. Is it because Scholes played the ...\n",
       "1131    Lukaku Cross Body Finish! PES 2021 Ultra Reali...\n",
       "1348    guess the hammers are for real. I would like m...\n",
       "1754    Let's talk about Alex Oxlade-Chamberlain I've ...\n",
       "1012                                 Genesis576 [removed]\n",
       "1410           Eddie Howe on his way into the Amex today \n",
       "1827    Neymar da Silva Santos, why doesn’t Neymar rec...\n",
       "1700    Are Man Utd reluctantly or not, stuck with Ole...\n",
       "1663                                                   😳 \n",
       "1362    Operation Exercise: What's the coded message b...\n",
       "Name: post_text, dtype: object"
      ]
     },
     "execution_count": 78,
     "metadata": {},
     "output_type": "execute_result"
    }
   ],
   "source": [
    "preds6 = gs6.predict(X_test)\n",
    "X_test[(y_test != preds6) & (preds6 == 0)].head(37)"
   ]
  },
  {
   "cell_type": "code",
   "execution_count": 79,
   "id": "248af97d",
   "metadata": {},
   "outputs": [
    {
     "data": {
      "text/plain": [
       "686    Let's gooooo!!!! Finally something to look for...\n",
       "106    I have created great content for your children...\n",
       "553                      SOCIAL MEDIA MANAGING [removed]\n",
       "508    Miracle items? I thought this might be a good ...\n",
       "890    Is it possible to watch (share)the relive? I f...\n",
       "13     Refund question for non SEPA I'm finally getti...\n",
       "562             KUMBH MELA WITH WATER BROTHERS [removed]\n",
       "385    How long will name change option last? In my a...\n",
       "58                         Does anyone know about this? \n",
       "880          Info request // swapping weekends [removed]\n",
       "632    Help with karma. Don’t use Reddit much but I h...\n",
       "709    Does anyone have the drink menu from 2019 summ...\n",
       "540    India’s COVID crisis ‘beyond heartbreaking’: W...\n",
       "64     Best treasure case \\n\\n[View Poll](https://www...\n",
       "216    Musical Events of 8th August Greetings, Commun...\n",
       "Name: post_text, dtype: object"
      ]
     },
     "execution_count": 79,
     "metadata": {},
     "output_type": "execute_result"
    }
   ],
   "source": [
    "X_test[(y_test != preds6) & (preds6 == 1)].head(15)"
   ]
  },
  {
   "cell_type": "code",
   "execution_count": 143,
   "id": "9ccbbec2",
   "metadata": {},
   "outputs": [
    {
     "data": {
      "text/html": [
       "<div>\n",
       "<style scoped>\n",
       "    .dataframe tbody tr th:only-of-type {\n",
       "        vertical-align: middle;\n",
       "    }\n",
       "\n",
       "    .dataframe tbody tr th {\n",
       "        vertical-align: top;\n",
       "    }\n",
       "\n",
       "    .dataframe thead th {\n",
       "        text-align: right;\n",
       "    }\n",
       "</style>\n",
       "<table border=\"1\" class=\"dataframe\">\n",
       "  <thead>\n",
       "    <tr style=\"text-align: right;\">\n",
       "      <th></th>\n",
       "      <th>true_values</th>\n",
       "      <th>pred_probs</th>\n",
       "    </tr>\n",
       "  </thead>\n",
       "  <tbody>\n",
       "    <tr>\n",
       "      <th>1370</th>\n",
       "      <td>1</td>\n",
       "      <td>1.0</td>\n",
       "    </tr>\n",
       "    <tr>\n",
       "      <th>654</th>\n",
       "      <td>0</td>\n",
       "      <td>0.0</td>\n",
       "    </tr>\n",
       "    <tr>\n",
       "      <th>1778</th>\n",
       "      <td>1</td>\n",
       "      <td>0.0</td>\n",
       "    </tr>\n",
       "    <tr>\n",
       "      <th>646</th>\n",
       "      <td>0</td>\n",
       "      <td>0.0</td>\n",
       "    </tr>\n",
       "    <tr>\n",
       "      <th>1171</th>\n",
       "      <td>1</td>\n",
       "      <td>1.0</td>\n",
       "    </tr>\n",
       "  </tbody>\n",
       "</table>\n",
       "</div>"
      ],
      "text/plain": [
       "      true_values  pred_probs\n",
       "1370            1         1.0\n",
       "654             0         0.0\n",
       "1778            1         0.0\n",
       "646             0         0.0\n",
       "1171            1         1.0"
      ]
     },
     "execution_count": 143,
     "metadata": {},
     "output_type": "execute_result"
    }
   ],
   "source": [
    "pred6_df = pd.DataFrame({'true_values': y_test,\n",
    "                        'pred_probs': gs6.predict_proba(X_test)[:,1]})\n",
    "\n",
    "pred6_df.head()"
   ]
  },
  {
   "cell_type": "code",
   "execution_count": 149,
   "id": "6ea313ae",
   "metadata": {},
   "outputs": [
    {
     "data": {
      "image/png": "[encoded data removed]",
      "text/plain": [
       "<Figure size 864x360 with 1 Axes>"
      ]
     },
     "metadata": {
      "needs_background": "light"
     },
     "output_type": "display_data"
    }
   ],
   "source": [
    "plt.figure(figsize = (12, 5))\n",
    "\n",
    "# code from classification metrics lecture ii\n",
    "for group in pred6_df.groupby('true_values'):\n",
    "    sns.distplot(group[1], kde = False, bins = 20, label = [f'Actual Outcome = {group[0]}'])\n",
    "\n",
    "plt.axvline(y.mean(), color='r')\n",
    "plt.xlabel('Predicted Probability that Outcome = 1')\n",
    "plt.legend();"
   ]
  },
  {
   "cell_type": "code",
   "execution_count": 155,
   "id": "5f910b8b",
   "metadata": {},
   "outputs": [
    {
     "data": {
      "image/png": "[encoded data removed]",
      "text/plain": [
       "<Figure size 432x288 with 1 Axes>"
      ]
     },
     "metadata": {
      "needs_background": "light"
     },
     "output_type": "display_data"
    }
   ],
   "source": [
    "# ROC curve for Model 6\n",
    "metrics.plot_roc_curve(gs6, X_test, y_test)\n",
    "# worst case scenario line\n",
    "plt.plot([0,1], [0,1], label='Baseline');"
   ]
  },
  {
   "cell_type": "markdown",
   "id": "9ffb91de",
   "metadata": {},
   "source": [
    "---"
   ]
  },
  {
   "cell_type": "markdown",
   "id": "0929f04c",
   "metadata": {},
   "source": [
    "### Model 7 - RandomForest with CountVectorizer"
   ]
  },
  {
   "cell_type": "code",
   "execution_count": 80,
   "id": "a1c16187",
   "metadata": {},
   "outputs": [],
   "source": [
    "pipe7 = Pipeline([\n",
    "    ('cvec', CountVectorizer()),\n",
    "    ('rf', RandomForestClassifier())\n",
    "])"
   ]
  },
  {
   "cell_type": "code",
   "execution_count": 81,
   "id": "442a4aca",
   "metadata": {},
   "outputs": [],
   "source": [
    "params7 = {\n",
    "    'cvec__min_df': [3, 4, 5],\n",
    "    'cvec__max_df': [.1, .2, .3],\n",
    "    'cvec__binary': [True, False],\n",
    "    'cvec__stop_words': ['english', None],\n",
    "    'rf__random_state': [42]\n",
    "}"
   ]
  },
  {
   "cell_type": "code",
   "execution_count": 82,
   "id": "2e0f936e",
   "metadata": {},
   "outputs": [
    {
     "name": "stdout",
     "output_type": "stream",
     "text": [
      "0.9199999999999999\n"
     ]
    },
    {
     "data": {
      "text/plain": [
       "{'cvec__binary': False,\n",
       " 'cvec__max_df': 0.2,\n",
       " 'cvec__min_df': 4,\n",
       " 'cvec__stop_words': None,\n",
       " 'rf__random_state': 42}"
      ]
     },
     "execution_count": 82,
     "metadata": {},
     "output_type": "execute_result"
    }
   ],
   "source": [
    "gs7 = GridSearchCV(pipe7, param_grid=params7)\n",
    "gs7.fit(X_train, y_train)\n",
    "print(gs7.best_score_)\n",
    "gs7.best_params_"
   ]
  },
  {
   "cell_type": "code",
   "execution_count": 83,
   "id": "6c6f8418",
   "metadata": {},
   "outputs": [
    {
     "data": {
      "text/plain": [
       "<sklearn.metrics._plot.confusion_matrix.ConfusionMatrixDisplay at 0x2d3099e0b20>"
      ]
     },
     "execution_count": 83,
     "metadata": {},
     "output_type": "execute_result"
    },
    {
     "data": {
      "image/png": "[encoded data removed]",
      "text/plain": [
       "<Figure size 432x288 with 2 Axes>"
      ]
     },
     "metadata": {
      "needs_background": "light"
     },
     "output_type": "display_data"
    }
   ],
   "source": [
    "metrics.plot_confusion_matrix(gs7, X_test, y_test, display_labels=['Tomorrowland', 'PremierLeague'])"
   ]
  },
  {
   "cell_type": "code",
   "execution_count": 84,
   "id": "712eff7f",
   "metadata": {},
   "outputs": [],
   "source": [
    "preds7 = gs7.predict(X_test)\n",
    "tn7, fp7, fn7, tp7 = metrics.confusion_matrix(y_test, preds7).flatten()"
   ]
  },
  {
   "cell_type": "markdown",
   "id": "dd18b782",
   "metadata": {},
   "source": [
    "**Specificity - How good did the model perform at predicting Tomorrowland posts?**"
   ]
  },
  {
   "cell_type": "code",
   "execution_count": 85,
   "id": "e5e15c3f",
   "metadata": {},
   "outputs": [
    {
     "data": {
      "text/plain": [
       "0.968"
      ]
     },
     "execution_count": 85,
     "metadata": {},
     "output_type": "execute_result"
    }
   ],
   "source": [
    "tn7 / (tn7 + fp7)   # Model was very good at predicting subreddit if post came from Tomorrowland"
   ]
  },
  {
   "cell_type": "markdown",
   "id": "b4498bf8",
   "metadata": {},
   "source": [
    "**Sensitivity - How good did the model perform at predicting Premier League posts?**"
   ]
  },
  {
   "cell_type": "code",
   "execution_count": 86,
   "id": "f30a6103",
   "metadata": {},
   "outputs": [
    {
     "data": {
      "text/plain": [
       "0.912"
      ]
     },
     "execution_count": 86,
     "metadata": {},
     "output_type": "execute_result"
    }
   ],
   "source": [
    "tp7 / (tp7 + fn7)   # Model was very good at predicting subreddit if post came from Premier League"
   ]
  },
  {
   "cell_type": "code",
   "execution_count": 87,
   "id": "63c9775a",
   "metadata": {},
   "outputs": [
    {
     "data": {
      "text/plain": [
       "1778    Someone explain this to me Why did Evans only ...\n",
       "1605                    Online Career Mode - FIFA 22 XB1 \n",
       "1571                     Breakdown of annual squad wages \n",
       "1295                             Proper baller. Deserved \n",
       "1641                                   Pretty much this! \n",
       "1062    Anyone else fed up of 3pm games not being tele...\n",
       "1317    Seems you lot appreciated the last one I poste...\n",
       "1028                         Best youngster in the prem. \n",
       "1536    'Bad, very bad indeed' - Italian media denounc...\n",
       "1626                                    Pure masterclass \n",
       "1668                       I made this on the glowforge. \n",
       "1910    What are you unpopular opinions? I’ll go first...\n",
       "1377                                                Good \n",
       "1458    According to statistics from Artificial Intell...\n",
       "1260    The so called “big 6” anyone else think this a...\n",
       "1103    Interesting. Is it because Scholes played the ...\n",
       "1131    Lukaku Cross Body Finish! PES 2021 Ultra Reali...\n",
       "1401                      Anybody need a new goalkeeper? \n",
       "1348    guess the hammers are for real. I would like m...\n",
       "1827    Neymar da Silva Santos, why doesn’t Neymar rec...\n",
       "1663                                                   😳 \n",
       "1661    TOTS so far in my opinion. What do you guys th...\n",
       "Name: post_text, dtype: object"
      ]
     },
     "execution_count": 87,
     "metadata": {},
     "output_type": "execute_result"
    }
   ],
   "source": [
    "preds7 = gs7.predict(X_test)\n",
    "X_test[(y_test != preds7) & (preds7 == 0)].head(22)"
   ]
  },
  {
   "cell_type": "code",
   "execution_count": 88,
   "id": "a0517a85",
   "metadata": {},
   "outputs": [
    {
     "data": {
      "text/plain": [
       "106    I have created great content for your children...\n",
       "553                      SOCIAL MEDIA MANAGING [removed]\n",
       "562             KUMBH MELA WITH WATER BROTHERS [removed]\n",
       "880          Info request // swapping weekends [removed]\n",
       "540    India’s COVID crisis ‘beyond heartbreaking’: W...\n",
       "317                                     NeKKoN [removed]\n",
       "64     Best treasure case \\n\\n[View Poll](https://www...\n",
       "624    Most memorable speech? So Tomorrowlans is famo...\n",
       "Name: post_text, dtype: object"
      ]
     },
     "execution_count": 88,
     "metadata": {},
     "output_type": "execute_result"
    }
   ],
   "source": [
    "X_test[(y_test != preds7) & (preds7 == 1)].head(8)"
   ]
  },
  {
   "cell_type": "code",
   "execution_count": 144,
   "id": "5faaeb22",
   "metadata": {},
   "outputs": [
    {
     "data": {
      "text/html": [
       "<div>\n",
       "<style scoped>\n",
       "    .dataframe tbody tr th:only-of-type {\n",
       "        vertical-align: middle;\n",
       "    }\n",
       "\n",
       "    .dataframe tbody tr th {\n",
       "        vertical-align: top;\n",
       "    }\n",
       "\n",
       "    .dataframe thead th {\n",
       "        text-align: right;\n",
       "    }\n",
       "</style>\n",
       "<table border=\"1\" class=\"dataframe\">\n",
       "  <thead>\n",
       "    <tr style=\"text-align: right;\">\n",
       "      <th></th>\n",
       "      <th>true_values</th>\n",
       "      <th>pred_probs</th>\n",
       "    </tr>\n",
       "  </thead>\n",
       "  <tbody>\n",
       "    <tr>\n",
       "      <th>1370</th>\n",
       "      <td>1</td>\n",
       "      <td>0.760000</td>\n",
       "    </tr>\n",
       "    <tr>\n",
       "      <th>654</th>\n",
       "      <td>0</td>\n",
       "      <td>0.170000</td>\n",
       "    </tr>\n",
       "    <tr>\n",
       "      <th>1778</th>\n",
       "      <td>1</td>\n",
       "      <td>0.390295</td>\n",
       "    </tr>\n",
       "    <tr>\n",
       "      <th>646</th>\n",
       "      <td>0</td>\n",
       "      <td>0.359026</td>\n",
       "    </tr>\n",
       "    <tr>\n",
       "      <th>1171</th>\n",
       "      <td>1</td>\n",
       "      <td>1.000000</td>\n",
       "    </tr>\n",
       "  </tbody>\n",
       "</table>\n",
       "</div>"
      ],
      "text/plain": [
       "      true_values  pred_probs\n",
       "1370            1    0.760000\n",
       "654             0    0.170000\n",
       "1778            1    0.390295\n",
       "646             0    0.359026\n",
       "1171            1    1.000000"
      ]
     },
     "execution_count": 144,
     "metadata": {},
     "output_type": "execute_result"
    }
   ],
   "source": [
    "pred7_df = pd.DataFrame({'true_values': y_test,\n",
    "                        'pred_probs': gs7.predict_proba(X_test)[:,1]})\n",
    "\n",
    "pred7_df.head()"
   ]
  },
  {
   "cell_type": "code",
   "execution_count": 150,
   "id": "51c58dc4",
   "metadata": {},
   "outputs": [
    {
     "data": {
      "image/png": "[encoded data removed]",
      "text/plain": [
       "<Figure size 864x360 with 1 Axes>"
      ]
     },
     "metadata": {
      "needs_background": "light"
     },
     "output_type": "display_data"
    }
   ],
   "source": [
    "plt.figure(figsize = (12, 5))\n",
    "\n",
    "# code from classification metrics lecture ii\n",
    "for group in pred7_df.groupby('true_values'):\n",
    "    sns.distplot(group[1], kde = False, bins = 20, label = [f'Actual Outcome = {group[0]}'])\n",
    "\n",
    "plt.axvline(y.mean(), color='r')\n",
    "plt.xlabel('Predicted Probability that Outcome = 1')\n",
    "plt.legend();"
   ]
  },
  {
   "cell_type": "code",
   "execution_count": 156,
   "id": "59f4bab2",
   "metadata": {},
   "outputs": [
    {
     "data": {
      "image/png": "[encoded data removed]",
      "text/plain": [
       "<Figure size 432x288 with 1 Axes>"
      ]
     },
     "metadata": {
      "needs_background": "light"
     },
     "output_type": "display_data"
    }
   ],
   "source": [
    "# ROC curve for Model 7\n",
    "metrics.plot_roc_curve(gs7, X_test, y_test)\n",
    "# worst case scenario line\n",
    "plt.plot([0,1], [0,1], label='Baseline');"
   ]
  },
  {
   "cell_type": "markdown",
   "id": "63d4863c",
   "metadata": {},
   "source": [
    "---"
   ]
  },
  {
   "cell_type": "markdown",
   "id": "cbaa4f0b",
   "metadata": {},
   "source": [
    "### Model 8 - RandomForest with TFIDF"
   ]
  },
  {
   "cell_type": "code",
   "execution_count": 89,
   "id": "3a4f6365",
   "metadata": {},
   "outputs": [],
   "source": [
    "pipe8 = Pipeline([\n",
    "    ('tvec', TfidfVectorizer()),\n",
    "    ('rf', RandomForestClassifier())\n",
    "])"
   ]
  },
  {
   "cell_type": "code",
   "execution_count": 90,
   "id": "5efa2301",
   "metadata": {},
   "outputs": [],
   "source": [
    "params8 = {\n",
    "    'tvec__stop_words': [None, 'english'],\n",
    "    'tvec__min_df': [2, 3, 4],\n",
    "    'tvec__max_df': [.1, .2, .3],\n",
    "    'tvec__ngram_range': [(1,1), (1,2)],\n",
    "    'rf__random_state': [42]\n",
    "}"
   ]
  },
  {
   "cell_type": "code",
   "execution_count": 91,
   "id": "1a1f83f6",
   "metadata": {},
   "outputs": [
    {
     "name": "stdout",
     "output_type": "stream",
     "text": [
      "0.9226666666666666\n"
     ]
    },
    {
     "data": {
      "text/plain": [
       "{'rf__random_state': 42,\n",
       " 'tvec__max_df': 0.2,\n",
       " 'tvec__min_df': 3,\n",
       " 'tvec__ngram_range': (1, 2),\n",
       " 'tvec__stop_words': 'english'}"
      ]
     },
     "execution_count": 91,
     "metadata": {},
     "output_type": "execute_result"
    }
   ],
   "source": [
    "gs8 = GridSearchCV(pipe8, param_grid=params8)\n",
    "gs8.fit(X_train, y_train)\n",
    "print(gs8.best_score_)\n",
    "gs8.best_params_"
   ]
  },
  {
   "cell_type": "code",
   "execution_count": 92,
   "id": "b44a0bfd",
   "metadata": {},
   "outputs": [
    {
     "data": {
      "text/plain": [
       "<sklearn.metrics._plot.confusion_matrix.ConfusionMatrixDisplay at 0x2d3094ca610>"
      ]
     },
     "execution_count": 92,
     "metadata": {},
     "output_type": "execute_result"
    },
    {
     "data": {
      "image/png": "[encoded data removed]",
      "text/plain": [
       "<Figure size 432x288 with 2 Axes>"
      ]
     },
     "metadata": {
      "needs_background": "light"
     },
     "output_type": "display_data"
    }
   ],
   "source": [
    "metrics.plot_confusion_matrix(gs8, X_test, y_test, display_labels=['Tomorrowland', 'PremierLeague'])"
   ]
  },
  {
   "cell_type": "code",
   "execution_count": 93,
   "id": "493ae056",
   "metadata": {},
   "outputs": [],
   "source": [
    "preds8 = gs8.predict(X_test)\n",
    "tn8, fp8, fn8, tp8 = metrics.confusion_matrix(y_test, preds8).flatten()"
   ]
  },
  {
   "cell_type": "markdown",
   "id": "99ba7363",
   "metadata": {},
   "source": [
    "**Specificity - How good did the model perform at predicting Tomorrowland posts?**"
   ]
  },
  {
   "cell_type": "code",
   "execution_count": 94,
   "id": "47262944",
   "metadata": {},
   "outputs": [
    {
     "data": {
      "text/plain": [
       "0.976"
      ]
     },
     "execution_count": 94,
     "metadata": {},
     "output_type": "execute_result"
    }
   ],
   "source": [
    "tn8 / (tn8 + fp8)   # Model was very good at predicting subreddit if post came from Tomorrowland"
   ]
  },
  {
   "cell_type": "markdown",
   "id": "46e5360f",
   "metadata": {},
   "source": [
    "**Sensitivity - How good did the model perform at predicting Premier League posts?**"
   ]
  },
  {
   "cell_type": "code",
   "execution_count": 95,
   "id": "7150e6f3",
   "metadata": {},
   "outputs": [
    {
     "data": {
      "text/plain": [
       "0.892"
      ]
     },
     "execution_count": 95,
     "metadata": {},
     "output_type": "execute_result"
    }
   ],
   "source": [
    "tp8 / (tp8 + fn8)   # Model was good at predicting subreddit if post came from Premier League"
   ]
  },
  {
   "cell_type": "code",
   "execution_count": 96,
   "id": "98b39fc1",
   "metadata": {},
   "outputs": [
    {
     "data": {
      "text/plain": [
       "1778    Someone explain this to me Why did Evans only ...\n",
       "1605                    Online Career Mode - FIFA 22 XB1 \n",
       "1571                     Breakdown of annual squad wages \n",
       "1024    Ward-prowse, TAA, and Maddison, who are you ta...\n",
       "1295                             Proper baller. Deserved \n",
       "1641                                   Pretty much this! \n",
       "1062    Anyone else fed up of 3pm games not being tele...\n",
       "1290    Former wonder kids who failed to live up to th...\n",
       "1317    Seems you lot appreciated the last one I poste...\n",
       "1028                         Best youngster in the prem. \n",
       "1536    'Bad, very bad indeed' - Italian media denounc...\n",
       "1269         Who remembers this classic Redknapp moment? \n",
       "1626                                    Pure masterclass \n",
       "1668                       I made this on the glowforge. \n",
       "1910    What are you unpopular opinions? I’ll go first...\n",
       "1843                                  Transfers [removed]\n",
       "1377                                                Good \n",
       "1458    According to statistics from Artificial Intell...\n",
       "1103    Interesting. Is it because Scholes played the ...\n",
       "1131    Lukaku Cross Body Finish! PES 2021 Ultra Reali...\n",
       "1401                      Anybody need a new goalkeeper? \n",
       "1348    guess the hammers are for real. I would like m...\n",
       "1012                                 Genesis576 [removed]\n",
       "1410           Eddie Howe on his way into the Amex today \n",
       "1827    Neymar da Silva Santos, why doesn’t Neymar rec...\n",
       "1663                                                   😳 \n",
       "1362    Operation Exercise: What's the coded message b...\n",
       "Name: post_text, dtype: object"
      ]
     },
     "execution_count": 96,
     "metadata": {},
     "output_type": "execute_result"
    }
   ],
   "source": [
    "preds8 = gs8.predict(X_test)\n",
    "X_test[(y_test != preds8) & (preds8 == 0)].head(27)"
   ]
  },
  {
   "cell_type": "code",
   "execution_count": 97,
   "id": "d282d720",
   "metadata": {},
   "outputs": [
    {
     "data": {
      "text/plain": [
       "106    I have created great content for your children...\n",
       "553                      SOCIAL MEDIA MANAGING [removed]\n",
       "880          Info request // swapping weekends [removed]\n",
       "540    India’s COVID crisis ‘beyond heartbreaking’: W...\n",
       "64     Best treasure case \\n\\n[View Poll](https://www...\n",
       "624    Most memorable speech? So Tomorrowlans is famo...\n",
       "Name: post_text, dtype: object"
      ]
     },
     "execution_count": 97,
     "metadata": {},
     "output_type": "execute_result"
    }
   ],
   "source": [
    "X_test[(y_test != preds8) & (preds8 == 1)].head(6)"
   ]
  },
  {
   "cell_type": "code",
   "execution_count": 133,
   "id": "8cb22178",
   "metadata": {},
   "outputs": [
    {
     "data": {
      "text/html": [
       "<div>\n",
       "<style scoped>\n",
       "    .dataframe tbody tr th:only-of-type {\n",
       "        vertical-align: middle;\n",
       "    }\n",
       "\n",
       "    .dataframe tbody tr th {\n",
       "        vertical-align: top;\n",
       "    }\n",
       "\n",
       "    .dataframe thead th {\n",
       "        text-align: right;\n",
       "    }\n",
       "</style>\n",
       "<table border=\"1\" class=\"dataframe\">\n",
       "  <thead>\n",
       "    <tr style=\"text-align: right;\">\n",
       "      <th></th>\n",
       "      <th>true_values</th>\n",
       "      <th>pred_probs</th>\n",
       "    </tr>\n",
       "  </thead>\n",
       "  <tbody>\n",
       "    <tr>\n",
       "      <th>1370</th>\n",
       "      <td>1</td>\n",
       "      <td>0.910000</td>\n",
       "    </tr>\n",
       "    <tr>\n",
       "      <th>654</th>\n",
       "      <td>0</td>\n",
       "      <td>0.320000</td>\n",
       "    </tr>\n",
       "    <tr>\n",
       "      <th>1778</th>\n",
       "      <td>1</td>\n",
       "      <td>0.294857</td>\n",
       "    </tr>\n",
       "    <tr>\n",
       "      <th>646</th>\n",
       "      <td>0</td>\n",
       "      <td>0.136384</td>\n",
       "    </tr>\n",
       "    <tr>\n",
       "      <th>1171</th>\n",
       "      <td>1</td>\n",
       "      <td>1.000000</td>\n",
       "    </tr>\n",
       "  </tbody>\n",
       "</table>\n",
       "</div>"
      ],
      "text/plain": [
       "      true_values  pred_probs\n",
       "1370            1    0.910000\n",
       "654             0    0.320000\n",
       "1778            1    0.294857\n",
       "646             0    0.136384\n",
       "1171            1    1.000000"
      ]
     },
     "execution_count": 133,
     "metadata": {},
     "output_type": "execute_result"
    }
   ],
   "source": [
    "pred8_df = pd.DataFrame({'true_values': y_test,\n",
    "                        'pred_probs': gs8.predict_proba(X_test)[:,1]})\n",
    "\n",
    "pred8_df.head()"
   ]
  },
  {
   "cell_type": "code",
   "execution_count": 134,
   "id": "41e3179a",
   "metadata": {},
   "outputs": [
    {
     "name": "stderr",
     "output_type": "stream",
     "text": [
      "C:\\Users\\ao322\\anaconda3\\lib\\site-packages\\seaborn\\distributions.py:2557: FutureWarning: `distplot` is a deprecated function and will be removed in a future version. Please adapt your code to use either `displot` (a figure-level function with similar flexibility) or `histplot` (an axes-level function for histograms).\n",
      "  warnings.warn(msg, FutureWarning)\n"
     ]
    },
    {
     "data": {
      "image/png": "[encoded data removed]",
      "text/plain": [
       "<Figure size 864x360 with 1 Axes>"
      ]
     },
     "metadata": {
      "needs_background": "light"
     },
     "output_type": "display_data"
    }
   ],
   "source": [
    "plt.figure(figsize = (12, 5))\n",
    "\n",
    "# code from classification metrics lecture ii\n",
    "for group in pred8_df.groupby('true_values'):\n",
    "    sns.distplot(group[1], kde = False, bins = 20, label = [f'Actual Outcome = {group[0]}'])\n",
    "\n",
    "plt.axvline(y.mean(), color='r')\n",
    "plt.xlabel('Predicted Probability that Outcome = 1')\n",
    "plt.legend();"
   ]
  },
  {
   "cell_type": "code",
   "execution_count": 135,
   "id": "32f73a02",
   "metadata": {},
   "outputs": [
    {
     "data": {
      "image/png": "[encoded data removed]",
      "text/plain": [
       "<Figure size 432x288 with 1 Axes>"
      ]
     },
     "metadata": {
      "needs_background": "light"
     },
     "output_type": "display_data"
    }
   ],
   "source": [
    "# ROC curve for Model 8\n",
    "metrics.plot_roc_curve(gs8, X_test, y_test)\n",
    "# worst case scenario line\n",
    "plt.plot([0,1], [0,1], label='Baseline');"
   ]
  },
  {
   "cell_type": "markdown",
   "id": "fceaf9d5",
   "metadata": {},
   "source": [
    "---"
   ]
  },
  {
   "cell_type": "markdown",
   "id": "187b38b2",
   "metadata": {},
   "source": [
    "# Analysis"
   ]
  },
  {
   "cell_type": "markdown",
   "id": "23443196",
   "metadata": {},
   "source": [
    "### EDA "
   ]
  },
  {
   "cell_type": "markdown",
   "id": "05954adb",
   "metadata": {},
   "source": [
    "*The post length and word count for both Premier League and Tomorrowland posts were fairly similar"
   ]
  },
  {
   "cell_type": "markdown",
   "id": "eef301d4",
   "metadata": {},
   "source": [
    "---"
   ]
  },
  {
   "cell_type": "markdown",
   "id": "8d252afb",
   "metadata": {},
   "source": [
    "### Model Analysis"
   ]
  },
  {
   "cell_type": "markdown",
   "id": "90c76575",
   "metadata": {},
   "source": [
    "*In reviewing the posts of incorrect predictions, the models seemed to incorrectly predict Premier League when the selftext had been removed from the subreddit.*"
   ]
  }
 ],
 "metadata": {
  "kernelspec": {
   "display_name": "Python 3",
   "language": "python",
   "name": "python3"
  },
  "language_info": {
   "codemirror_mode": {
    "name": "ipython",
    "version": 3
   },
   "file_extension": ".py",
   "mimetype": "text/x-python",
   "name": "python",
   "nbconvert_exporter": "python",
   "pygments_lexer": "ipython3",
   "version": "3.8.8"
  }
 },
 "nbformat": 4,
 "nbformat_minor": 5
}
