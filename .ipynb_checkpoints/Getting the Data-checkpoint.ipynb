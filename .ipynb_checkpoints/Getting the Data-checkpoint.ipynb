{
 "cells": [
  {
   "cell_type": "code",
   "execution_count": 1,
   "id": "67f30f5a",
   "metadata": {},
   "outputs": [],
   "source": [
    "import pandas as pd\n",
    "import numpy as np\n",
    "import requests\n",
    "import time\n",
    "\n",
    "pd.set_option('max_columns', 100)"
   ]
  },
  {
   "cell_type": "code",
   "execution_count": 2,
   "id": "9a9d2e7f",
   "metadata": {},
   "outputs": [],
   "source": [
    "url = 'https://api.pushshift.io/reddit/search/submission'"
   ]
  },
  {
   "cell_type": "code",
   "execution_count": 3,
   "id": "dd246187",
   "metadata": {},
   "outputs": [],
   "source": [
    "subreddits = ['Tomorrowland', 'PremierLeague']\n",
    "dfs = []\n",
    "\n",
    "for subreddit in subreddits:\n",
    "    for i in range(10):\n",
    "        # build your params to get the posts\n",
    "        params = {\n",
    "            'subreddit': subreddit,\n",
    "            'size': 100\n",
    "        }\n",
    "        # set before if i is not 0\n",
    "        if i != 0:\n",
    "            params['before'] = last_time\n",
    "        # get the response using requests\n",
    "        res = requests.get(url, params=params)\n",
    "        # turn the response into JSON\n",
    "        data = res.json()\n",
    "        # turn the JSON into a posts dataframe\n",
    "        posts = pd.DataFrame(data['data'])\n",
    "        # narrow the df to just be the columns you care about\n",
    "        posts = posts[['title', 'selftext', 'subreddit', 'created_utc']]\n",
    "        # set before if i is not 0\n",
    "        last_time = posts['created_utc'].values[-1]\n",
    "        # append the dataframe to dfs\n",
    "        dfs.append(posts)\n",
    "        time.sleep(3) # slow down three seconds in between each loop\n",
    "df = pd.concat(dfs)"
   ]
  },
  {
   "cell_type": "code",
   "execution_count": 4,
   "id": "bbe642cf",
   "metadata": {},
   "outputs": [],
   "source": [
    "df.reset_index(inplace=True)  # resetting index so each row has unique index"
   ]
  },
  {
   "cell_type": "code",
   "execution_count": 5,
   "id": "22f0d338",
   "metadata": {},
   "outputs": [],
   "source": [
    "df.drop(columns='index', inplace=True)"
   ]
  },
  {
   "cell_type": "code",
   "execution_count": 6,
   "id": "8b1901ab",
   "metadata": {},
   "outputs": [
    {
     "data": {
      "text/html": [
       "<div>\n",
       "<style scoped>\n",
       "    .dataframe tbody tr th:only-of-type {\n",
       "        vertical-align: middle;\n",
       "    }\n",
       "\n",
       "    .dataframe tbody tr th {\n",
       "        vertical-align: top;\n",
       "    }\n",
       "\n",
       "    .dataframe thead th {\n",
       "        text-align: right;\n",
       "    }\n",
       "</style>\n",
       "<table border=\"1\" class=\"dataframe\">\n",
       "  <thead>\n",
       "    <tr style=\"text-align: right;\">\n",
       "      <th></th>\n",
       "      <th>title</th>\n",
       "      <th>selftext</th>\n",
       "      <th>subreddit</th>\n",
       "      <th>created_utc</th>\n",
       "    </tr>\n",
       "  </thead>\n",
       "  <tbody>\n",
       "    <tr>\n",
       "      <th>0</th>\n",
       "      <td>Genreverse</td>\n",
       "      <td>Hi everyone, \\n\\nHere at Genreverse our ultima...</td>\n",
       "      <td>Tomorrowland</td>\n",
       "      <td>1637031457</td>\n",
       "    </tr>\n",
       "    <tr>\n",
       "      <th>1</th>\n",
       "      <td>Tomorrowland and it's bass line-up</td>\n",
       "      <td>So obviously Tomorrowland has always had a gre...</td>\n",
       "      <td>Tomorrowland</td>\n",
       "      <td>1637002849</td>\n",
       "    </tr>\n",
       "    <tr>\n",
       "      <th>2</th>\n",
       "      <td>Hand crafts 2021</td>\n",
       "      <td></td>\n",
       "      <td>Tomorrowland</td>\n",
       "      <td>1636935255</td>\n",
       "    </tr>\n",
       "    <tr>\n",
       "      <th>3</th>\n",
       "      <td>Winter TML lodging</td>\n",
       "      <td>hello! I have the 4 day pass without lodging a...</td>\n",
       "      <td>Tomorrowland</td>\n",
       "      <td>1636922669</td>\n",
       "    </tr>\n",
       "    <tr>\n",
       "      <th>4</th>\n",
       "      <td>Was Tomorrowland around the world 2020 a speci...</td>\n",
       "      <td></td>\n",
       "      <td>Tomorrowland</td>\n",
       "      <td>1636904090</td>\n",
       "    </tr>\n",
       "  </tbody>\n",
       "</table>\n",
       "</div>"
      ],
      "text/plain": [
       "                                               title  \\\n",
       "0                                         Genreverse   \n",
       "1                 Tomorrowland and it's bass line-up   \n",
       "2                                   Hand crafts 2021   \n",
       "3                                 Winter TML lodging   \n",
       "4  Was Tomorrowland around the world 2020 a speci...   \n",
       "\n",
       "                                            selftext     subreddit  \\\n",
       "0  Hi everyone, \\n\\nHere at Genreverse our ultima...  Tomorrowland   \n",
       "1  So obviously Tomorrowland has always had a gre...  Tomorrowland   \n",
       "2                                                     Tomorrowland   \n",
       "3  hello! I have the 4 day pass without lodging a...  Tomorrowland   \n",
       "4                                                     Tomorrowland   \n",
       "\n",
       "   created_utc  \n",
       "0   1637031457  \n",
       "1   1637002849  \n",
       "2   1636935255  \n",
       "3   1636922669  \n",
       "4   1636904090  "
      ]
     },
     "execution_count": 6,
     "metadata": {},
     "output_type": "execute_result"
    }
   ],
   "source": [
    "df.head()"
   ]
  },
  {
   "cell_type": "code",
   "execution_count": 7,
   "id": "c1aa18c6",
   "metadata": {},
   "outputs": [
    {
     "data": {
      "text/plain": [
       "2000"
      ]
     },
     "execution_count": 7,
     "metadata": {},
     "output_type": "execute_result"
    }
   ],
   "source": [
    "len(df['created_utc'].unique())   # 2000 unique columns"
   ]
  },
  {
   "cell_type": "code",
   "execution_count": 11,
   "id": "7212254f",
   "metadata": {},
   "outputs": [
    {
     "data": {
      "text/plain": [
       "r/PremierLeague Daily Discussion                                                                                                                                                                                                                                       12\n",
       "Weekly \"Who should I root for\" discussion thread                                                                                                                                                                                                                        4\n",
       "Match, Team and Player of the weekend!                                                                                                                                                                                                                                  3\n",
       "r/PremierLeague Midweek Musings                                                                                                                                                                                                                                         3\n",
       "MIXTAPE MARZO 2021 - 20 minutos (MEDUZA, SONNY FODERA, DOM DOLLA...)                                                                                                                                                                                                    3\n",
       "                                                                                                                                                                                                                                                                       ..\n",
       "Let him stay                                                                                                                                                                                                                                                            1\n",
       "Anyone else’s Tomorrowland x JBL Charge 5 on the way?                                                                                                                                                                                                                   1\n",
       "In your mind, what is the major trophy?                                                                                                                                                                                                                                 1\n",
       "Hi! I need some help to appraise the value of the North Face x Tomorrowland jacket shown in the picture below. I have one of 50 made in M, and want to know the potential value, in case i decide to sell it. Haven't been able to find one anywhere for reference.     1\n",
       "First decor for Tomorrowland Winter !                                                                                                                                                                                                                                   1\n",
       "Name: title, Length: 1956, dtype: int64"
      ]
     },
     "execution_count": 11,
     "metadata": {},
     "output_type": "execute_result"
    }
   ],
   "source": [
    "df['title'].value_counts()"
   ]
  },
  {
   "cell_type": "code",
   "execution_count": 10,
   "id": "7424740f",
   "metadata": {},
   "outputs": [
    {
     "data": {
      "text/plain": [
       "                                                                                                                                                                                                                                                                                                                                                                                                                                                                                                                                                                                                                                                                                                                                                                                                                                                                                                                                                                                                                                                                                                                                                                                                                                                                                                                                                                                                                                                                                                                                                                                                                                                                                                                                                                                                                                                                                                                                                                                                                                                                                                                                                                                                                                                                                                                                                                                                                                                                                                                             889\n",
       "[removed]                                                                                                                                                                                                                                                                                                                                                                                                                                                                                                                                                                                                                                                                                                                                                                                                                                                                                                                                                                                                                                                                                                                                                                                                                                                                                                                                                                                                                                                                                                                                                                                                                                                                                                                                                                                                                                                                                                                                                                                                                                                                                                                                                                                                                                                                                                                                                                                                                                                                                                                    129\n",
       "[deleted]                                                                                                                                                                                                                                                                                                                                                                                                                                                                                                                                                                                                                                                                                                                                                                                                                                                                                                                                                                                                                                                                                                                                                                                                                                                                                                                                                                                                                                                                                                                                                                                                                                                                                                                                                                                                                                                                                                                                                                                                                                                                                                                                                                                                                                                                                                                                                                                                                                                                                                                     12\n",
       "What's on your mind? This is the daily discussion thread.\\n\\nI am a bot. If you have any suggestions for this post, [please contact the moderators of this subreddit](https://reddit.com/message/compose/?to=/r/premierleague&amp;subject=Daily%20Thread).                                                                                                                                                                                                                                                                                                                                                                                                                                                                                                                                                                                                                                                                                                                                                                                                                                                                                                                                                                                                                                                                                                                                                                                                                                                                                                                                                                                                                                                                                                                                                                                                                                                                                                                                                                                                                                                                                                                                                                                                                                                                                                                                                                                                                                                                    12\n",
       "Don´t know which Premier League team to support? \\n\\nUse this discussion thread to help you choose.                                                                                                                                                                                                                                                                                                                                                                                                                                                                                                                                                                                                                                                                                                                                                                                                                                                                                                                                                                                                                                                                                                                                                                                                                                                                                                                                                                                                                                                                                                                                                                                                                                                                                                                                                                                                                                                                                                                                                                                                                                                                                                                                                                                                                                                                                                                                                                                                                            4\n",
       "                                                                                                                                                                                                                                                                                                                                                                                                                                                                                                                                                                                                                                                                                                                                                                                                                                                                                                                                                                                                                                                                                                                                                                                                                                                                                                                                                                                                                                                                                                                                                                                                                                                                                                                                                                                                                                                                                                                                                                                                                                                                                                                                                                                                                                                                                                                                                                                                                                                                                                                            ... \n",
       "Last month we saw Mo Salah have player of the month robbed from him as Ronaldo fan-boys swarmed to vote for their idol, regardless of the fact that Mo had the same amount of goals and didn't lose a game.\\n\\nThen this month there's some fantastic goals;\\n\\n*Mo Salah individual brilliance vs Man City.\\n*Mo Salah &lt;See above but against Watford&gt; \\n*Mason Greenwood long range rocket vs Leicester.\\n*Tielemans lovely looped finish in the same game.\\n*Callum Wilson's acrobatic over-the-head shot vs Palace.\\n*Tielemans again with a outside the box smasher on the first touch vs Leicester.\\nAnd \\n*Ronaldos volley finish vs Tottenham. Which was a good finish I'm not going to deny, but mainly down to Fernandes's great pass.\\n\\nIs Ronaldos goal good? Yes it is. Is it the best of this selection? Not even close. Is he probably going to win it anyway? Mark my words he will!\\n\\nPersonally I think Callum Wilson's finish takes the cake.                                                                                                                                                                                                                                                                                                                                                                                                                                                                                                                                                                                                                                                                                                                                                                                                                                                                                                                                                                                                                                                                                                                                                                                                                                                                                                                                                                                                                                                                                                                                                       1\n",
       "Anyone who got a 2p ticket for spectacular easy tents and cant go and looking for someone to sell them, can send me a dm , thanks                                                                                                                                                                                                                                                                                                                                                                                                                                                                                                                                                                                                                                                                                                                                                                                                                                                                                                                                                                                                                                                                                                                                                                                                                                                                                                                                                                                                                                                                                                                                                                                                                                                                                                                                                                                                                                                                                                                                                                                                                                                                                                                                                                                                                                                                                                                                                                                              1\n",
       "Greetings,\\n\\nHope all is well. Just curious as to what's the situation at the moment with getting a complete refund. The last time I checked, you had to claim the ticket and if you wanted a refund, you had to wait 180 days. I purchased a global journey, does it still apply at the moment? \\n\\n&amp;#x200B;\\n\\nThanks                                                                                                                                                                                                                                                                                                                                                                                                                                                                                                                                                                                                                                                                                                                                                                                                                                                                                                                                                                                                                                                                                                                                                                                                                                                                                                                                                                                                                                                                                                                                                                                                                                                                                                                                                                                                                                                                                                                                                                                                                                                                                                                                                                                                   1\n",
       " \\n\\nA mere 298 days had passed between Claudio Ranieri’s Leicester spectacularly winning the [Premier League](https://www.statista.com/topics/1773/premier-league/) and the aforementioned manager being sacked by the club he had brought such unexpected glory. Elite football management is a cut-throat business.\\n\\nAs this infographic shows though, the Foxes aren’t the most ruthless club in the league when it comes to showing managers the door. Of the current top-flight teams that have played in the Premier League for at least ten seasons, Crystal Palace have spent the average shortest amount of time with each of their managers – 450 days.\\n\\nThe shortest tenure at the South London club was that of Frank de Boer. His ill-fated stint lasted just 77 days after Palace failed to score a single goal in his four league games in charge. In fairness, de Boer was replaced by Roy Hodgson who went on to lead the side for 1,350 days before making the decision himself to call an end to his time as boss– a rare luxury for a Premier League manager – saying: \"The time is right to step away from the rigours of top-flight Premier League football.\"\\n\\nThe other end of the scale is somewhat skewed by two legends of the dugout – Arsène Wenger at [Arsenal](https://www.statista.com/study/65916/arsenal-football-club/) and Sir Alex Ferguson at [Manchester United](https://www.statista.com/topics/2376/manchester-united/). Combined, the two spent 17,598 days at their respective clubs. After periods of such stability often come turbulent times though, and for United especially, this has been the case. Calculating for the post-Ferguson era, United’s average would be just 749 days. Arsenal’s first attempt at replacing Wenger – Unai Emery - was ended after 555 days, while Mikel Arteta is still in charge after 687.\\n\\nAfter just 11 games this season, 5 clubs have already parted ways with their manager and chances are there’s at least one more club with a drafted press release containing the phrase: “We would like to thank &lt;insert manager’s name&gt; for his dedication and hard work.\"\\n\\n&amp;#x200B;\\n\\n \\n\\nSource:[https://www.statista.com/chart/26150/shelf-life-expectancy-premier-league-managers/](https://www.statista.com/chart/26150/shelf-life-expectancy-premier-league-managers/)\\n\\n \\n\\nhttps://preview.redd.it/sc2whezw6rz71.png?width=1200&amp;format=png&amp;auto=webp&amp;s=3fb27ca8fe07129a1104cf2df6f1376d35f606ba      1\n",
       "Not only Ronaldo, but De Gea as well. The defense is abysmal, the coaching is embarrassing, and if it wasn't for Ronaldo this team should have 3+ more losses. \\n\\nI watch most every United game because I used to be a huge fan back in the day (Berbatov, Rooney, Nani, teams) and the class this team used to have just isn't there. \\n\\nIts a combination of coaching and personnel right? How can they turn this around? I just love futbol and I want the most revered teams to be at their rightful place at the top for most drama and excitement. \\n\\nI know the coach wasn't at fault for the own goal and missed assignment against City, but when you look at the possession #'s and shots on goal.. its almost like they are inviting City to score. City feels like they are on another level, so its a bad comparison, but something has got to change with United.                                                                                                                                                                                                                                                                                                                                                                                                                                                                                                                                                                                                                                                                                                                                                                                                                                                                                                                                                                                                                                                                                                                                                                                                                                                                                                                                                                                                                                                                                                                                                                                                                                            1\n",
       "Name: selftext, Length: 951, dtype: int64"
      ]
     },
     "execution_count": 10,
     "metadata": {},
     "output_type": "execute_result"
    }
   ],
   "source": [
    "df['selftext'].value_counts()"
   ]
  },
  {
   "cell_type": "code",
   "execution_count": null,
   "id": "d4bd535a",
   "metadata": {},
   "outputs": [],
   "source": []
  }
 ],
 "metadata": {
  "kernelspec": {
   "display_name": "Python 3",
   "language": "python",
   "name": "python3"
  },
  "language_info": {
   "codemirror_mode": {
    "name": "ipython",
    "version": 3
   },
   "file_extension": ".py",
   "mimetype": "text/x-python",
   "name": "python",
   "nbconvert_exporter": "python",
   "pygments_lexer": "ipython3",
   "version": "3.8.8"
  }
 },
 "nbformat": 4,
 "nbformat_minor": 5
}
