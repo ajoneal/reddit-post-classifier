{
 "cells": [
  {
   "cell_type": "code",
   "execution_count": 1,
   "id": "67f30f5a",
   "metadata": {},
   "outputs": [],
   "source": [
    "import pandas as pd\n",
    "import numpy as np\n",
    "import requests\n",
    "import time\n",
    "\n",
    "pd.set_option('max_columns', 100)"
   ]
  },
  {
   "cell_type": "code",
   "execution_count": 2,
   "id": "9a9d2e7f",
   "metadata": {},
   "outputs": [],
   "source": [
    "url = 'https://api.pushshift.io/reddit/search/submission'"
   ]
  },
  {
   "cell_type": "code",
   "execution_count": 3,
   "id": "dd246187",
   "metadata": {},
   "outputs": [],
   "source": [
    "subreddits = ['Tomorrowland', 'PremierLeague']\n",
    "dfs = []\n",
    "\n",
    "for subreddit in subreddits:\n",
    "    for i in range(10):\n",
    "        # build your params to get the posts\n",
    "        params = {\n",
    "            'subreddit': subreddit,\n",
    "            'size': 100\n",
    "        }\n",
    "        # set before if i is not 0\n",
    "        if i != 0:\n",
    "            params['before'] = last_time\n",
    "        # get the response using requests\n",
    "        res = requests.get(url, params=params)\n",
    "        # turn the response into JSON\n",
    "        data = res.json()\n",
    "        # turn the JSON into a posts dataframe\n",
    "        posts = pd.DataFrame(data['data'])\n",
    "        # narrow the df to just be the columns you care about\n",
    "        posts = posts[['title', 'selftext', 'subreddit', 'created_utc']]\n",
    "        # set before if i is not 0\n",
    "        last_time = posts['created_utc'].values[-1]\n",
    "        # append the dataframe to dfs\n",
    "        dfs.append(posts)\n",
    "        time.sleep(3) # slow down three seconds in between each loop\n",
    "df = pd.concat(dfs)"
   ]
  },
  {
   "cell_type": "code",
   "execution_count": 4,
   "id": "bbe642cf",
   "metadata": {},
   "outputs": [],
   "source": [
    "df.reset_index(inplace=True)  # resetting index so each row has unique index"
   ]
  },
  {
   "cell_type": "code",
   "execution_count": 5,
   "id": "22f0d338",
   "metadata": {},
   "outputs": [],
   "source": [
    "df.drop(columns='index', inplace=True)"
   ]
  },
  {
   "cell_type": "code",
   "execution_count": 6,
   "id": "8b1901ab",
   "metadata": {},
   "outputs": [
    {
     "data": {
      "text/html": [
       "<div>\n",
       "<style scoped>\n",
       "    .dataframe tbody tr th:only-of-type {\n",
       "        vertical-align: middle;\n",
       "    }\n",
       "\n",
       "    .dataframe tbody tr th {\n",
       "        vertical-align: top;\n",
       "    }\n",
       "\n",
       "    .dataframe thead th {\n",
       "        text-align: right;\n",
       "    }\n",
       "</style>\n",
       "<table border=\"1\" class=\"dataframe\">\n",
       "  <thead>\n",
       "    <tr style=\"text-align: right;\">\n",
       "      <th></th>\n",
       "      <th>title</th>\n",
       "      <th>selftext</th>\n",
       "      <th>subreddit</th>\n",
       "      <th>created_utc</th>\n",
       "    </tr>\n",
       "  </thead>\n",
       "  <tbody>\n",
       "    <tr>\n",
       "      <th>0</th>\n",
       "      <td>Genreverse</td>\n",
       "      <td>Hi everyone, \\n\\nHere at Genreverse our ultima...</td>\n",
       "      <td>Tomorrowland</td>\n",
       "      <td>1637031457</td>\n",
       "    </tr>\n",
       "    <tr>\n",
       "      <th>1</th>\n",
       "      <td>Tomorrowland and it's bass line-up</td>\n",
       "      <td>So obviously Tomorrowland has always had a gre...</td>\n",
       "      <td>Tomorrowland</td>\n",
       "      <td>1637002849</td>\n",
       "    </tr>\n",
       "    <tr>\n",
       "      <th>2</th>\n",
       "      <td>Hand crafts 2021</td>\n",
       "      <td></td>\n",
       "      <td>Tomorrowland</td>\n",
       "      <td>1636935255</td>\n",
       "    </tr>\n",
       "    <tr>\n",
       "      <th>3</th>\n",
       "      <td>Winter TML lodging</td>\n",
       "      <td>hello! I have the 4 day pass without lodging a...</td>\n",
       "      <td>Tomorrowland</td>\n",
       "      <td>1636922669</td>\n",
       "    </tr>\n",
       "    <tr>\n",
       "      <th>4</th>\n",
       "      <td>Was Tomorrowland around the world 2020 a speci...</td>\n",
       "      <td></td>\n",
       "      <td>Tomorrowland</td>\n",
       "      <td>1636904090</td>\n",
       "    </tr>\n",
       "  </tbody>\n",
       "</table>\n",
       "</div>"
      ],
      "text/plain": [
       "                                               title  \\\n",
       "0                                         Genreverse   \n",
       "1                 Tomorrowland and it's bass line-up   \n",
       "2                                   Hand crafts 2021   \n",
       "3                                 Winter TML lodging   \n",
       "4  Was Tomorrowland around the world 2020 a speci...   \n",
       "\n",
       "                                            selftext     subreddit  \\\n",
       "0  Hi everyone, \\n\\nHere at Genreverse our ultima...  Tomorrowland   \n",
       "1  So obviously Tomorrowland has always had a gre...  Tomorrowland   \n",
       "2                                                     Tomorrowland   \n",
       "3  hello! I have the 4 day pass without lodging a...  Tomorrowland   \n",
       "4                                                     Tomorrowland   \n",
       "\n",
       "   created_utc  \n",
       "0   1637031457  \n",
       "1   1637002849  \n",
       "2   1636935255  \n",
       "3   1636922669  \n",
       "4   1636904090  "
      ]
     },
     "execution_count": 6,
     "metadata": {},
     "output_type": "execute_result"
    }
   ],
   "source": [
    "df.head()"
   ]
  },
  {
   "cell_type": "code",
   "execution_count": 7,
   "id": "c1aa18c6",
   "metadata": {},
   "outputs": [
    {
     "data": {
      "text/plain": [
       "2000"
      ]
     },
     "execution_count": 7,
     "metadata": {},
     "output_type": "execute_result"
    }
   ],
   "source": [
    "len(df['created_utc'].unique())   # 2000 unique columns"
   ]
  },
  {
   "cell_type": "code",
   "execution_count": 8,
   "id": "7212254f",
   "metadata": {},
   "outputs": [
    {
     "data": {
      "text/plain": [
       "r/PremierLeague Daily Discussion                                        12\n",
       "Weekly \"Who should I root for\" discussion thread                         4\n",
       "r/PremierLeague Midweek Musings                                          3\n",
       "Match, Team and Player of the weekend!                                   3\n",
       "MIXTAPE MARZO 2021 - 20 minutos (MEDUZA, SONNY FODERA, DOM DOLLA...)     3\n",
       "                                                                        ..\n",
       "Who do you think will win the next year's world cup?                     1\n",
       "/r/tomorrowland enters TOP 5000 subreddits                               1\n",
       "Excited for tonight. Wish you all a happy new year 2021! Rave on!        1\n",
       "ATW Decoration Ideas                                                     1\n",
       "Wanted: Wallpaper High Resolution Mainstage 2017/2018/2019               1\n",
       "Name: title, Length: 1956, dtype: int64"
      ]
     },
     "execution_count": 8,
     "metadata": {},
     "output_type": "execute_result"
    }
   ],
   "source": [
    "df['title'].value_counts()"
   ]
  },
  {
   "cell_type": "code",
   "execution_count": 9,
   "id": "7424740f",
   "metadata": {},
   "outputs": [
    {
     "data": {
      "text/plain": [
       "                                                                                                                                                                                                                                                                                                                                                                                                                                                                                                                                                                                                                                                                                                     884\n",
       "[removed]                                                                                                                                                                                                                                                                                                                                                                                                                                                                                                                                                                                                                                                                                            131\n",
       "[deleted]                                                                                                                                                                                                                                                                                                                                                                                                                                                                                                                                                                                                                                                                                             12\n",
       "What's on your mind? This is the daily discussion thread.\\n\\nI am a bot. If you have any suggestions for this post, [please contact the moderators of this subreddit](https://reddit.com/message/compose/?to=/r/premierleague&amp;subject=Daily%20Thread).                                                                                                                                                                                                                                                                                                                                                                                                                                            12\n",
       "Don´t know which Premier League team to support? \\n\\nUse this discussion thread to help you choose.                                                                                                                                                                                                                                                                                                                                                                                                                                                                                                                                                                                                    4\n",
       "                                                                                                                                                                                                                                                                                                                                                                                                                                                                                                                                                                                                                                                                                                    ... \n",
       "[removed]\\n\\n[View Poll](https://www.reddit.com/poll/qhnmzb)                                                                                                                                                                                                                                                                                                                                                                                                                                                                                                                                                                                                                                           1\n",
       "A bit of a confusing question. Basically a player that you can look at from 2 different perspectives and think he's both underrated (not talked about enough) and overrated (perceived quality is better than he actually is) at the same time.\\n\\nAn example, would be James Ward-Prowse. Not usually involved in debates and not talked about much in discussions for the England squad, best midfielders in the league etc, so is underrated in that sense. But because of a few of his free-kicks from a while back, I just assume he's a pretty good player, but is he as good as I think he is? Therefore overrated in that sense.\\n\\nWould be interesting to see how people approach this.      1\n",
       "I've followed him since Birmingham and saw that he could for over £100M next summer.\\n\\nI know he liked Gerrard but I doubt Liverpool would spend that much money which is a pity because him in a Klopp team would be awesome.\\n\\nChelsea is most likely IMO.                                                                                                                                                                                                                                                                                                                                                                                                                                         1\n",
       "What happens to them?                                                                                                                                                                                                                                                                                                                                                                                                                                                                                                                                                                                                                                                                                  1\n",
       "If Arsenal win at Anfield they go above them even United are only 5 points behind.\\n\\nDon't get me wrong he is better than Ole but I think he is too loyal to certain players and as a result doesn't put pressure on FSG to get the cheque book out.                                                                                                                                                                                                                                                                                                                                                                                                                                                  1\n",
       "Name: selftext, Length: 954, dtype: int64"
      ]
     },
     "execution_count": 9,
     "metadata": {},
     "output_type": "execute_result"
    }
   ],
   "source": [
    "df['selftext'].value_counts()"
   ]
  },
  {
   "cell_type": "code",
   "execution_count": 10,
   "id": "d4bd535a",
   "metadata": {},
   "outputs": [],
   "source": [
    "df.to_csv('Data/Prem-Tomorrowland_posts_11-16.csv', index=False)"
   ]
  },
  {
   "cell_type": "code",
   "execution_count": null,
   "id": "2aadb131",
   "metadata": {},
   "outputs": [],
   "source": []
  }
 ],
 "metadata": {
  "kernelspec": {
   "display_name": "Python 3",
   "language": "python",
   "name": "python3"
  },
  "language_info": {
   "codemirror_mode": {
    "name": "ipython",
    "version": 3
   },
   "file_extension": ".py",
   "mimetype": "text/x-python",
   "name": "python",
   "nbconvert_exporter": "python",
   "pygments_lexer": "ipython3",
   "version": "3.8.8"
  }
 },
 "nbformat": 4,
 "nbformat_minor": 5
}
