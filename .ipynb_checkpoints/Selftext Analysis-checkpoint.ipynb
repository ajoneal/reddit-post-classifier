{
 "cells": [
  {
   "cell_type": "markdown",
   "id": "24f04b48",
   "metadata": {},
   "source": [
    "# Importing Libraries/Reading in Data"
   ]
  },
  {
   "cell_type": "code",
   "execution_count": 67,
   "id": "fdb5486e",
   "metadata": {},
   "outputs": [],
   "source": [
    "import pandas as pd\n",
    "import numpy as np\n",
    "import matplotlib.pyplot as plt\n",
    "\n",
    "from sklearn.feature_extraction.text import CountVectorizer, TfidfVectorizer\n",
    "from sklearn.model_selection import train_test_split, GridSearchCV\n",
    "from sklearn.pipeline import Pipeline\n",
    "from sklearn.linear_model import LogisticRegression\n",
    "import sklearn.metrics as metrics\n",
    "from sklearn.neighbors import KNeighborsClassifier\n",
    "from sklearn.tree import DecisionTreeClassifier\n",
    "from sklearn.ensemble import RandomForestClassifier"
   ]
  },
  {
   "cell_type": "code",
   "execution_count": 2,
   "id": "ea3f275f",
   "metadata": {},
   "outputs": [
    {
     "data": {
      "text/html": [
       "<div>\n",
       "<style scoped>\n",
       "    .dataframe tbody tr th:only-of-type {\n",
       "        vertical-align: middle;\n",
       "    }\n",
       "\n",
       "    .dataframe tbody tr th {\n",
       "        vertical-align: top;\n",
       "    }\n",
       "\n",
       "    .dataframe thead th {\n",
       "        text-align: right;\n",
       "    }\n",
       "</style>\n",
       "<table border=\"1\" class=\"dataframe\">\n",
       "  <thead>\n",
       "    <tr style=\"text-align: right;\">\n",
       "      <th></th>\n",
       "      <th>title</th>\n",
       "      <th>selftext</th>\n",
       "      <th>subreddit</th>\n",
       "      <th>created_utc</th>\n",
       "    </tr>\n",
       "  </thead>\n",
       "  <tbody>\n",
       "    <tr>\n",
       "      <th>0</th>\n",
       "      <td>Genreverse</td>\n",
       "      <td>Hi everyone, \\n\\nHere at Genreverse our ultima...</td>\n",
       "      <td>Tomorrowland</td>\n",
       "      <td>1637031457</td>\n",
       "    </tr>\n",
       "    <tr>\n",
       "      <th>1</th>\n",
       "      <td>Tomorrowland and it's bass line-up</td>\n",
       "      <td>So obviously Tomorrowland has always had a gre...</td>\n",
       "      <td>Tomorrowland</td>\n",
       "      <td>1637002849</td>\n",
       "    </tr>\n",
       "    <tr>\n",
       "      <th>2</th>\n",
       "      <td>Hand crafts 2021</td>\n",
       "      <td>NaN</td>\n",
       "      <td>Tomorrowland</td>\n",
       "      <td>1636935255</td>\n",
       "    </tr>\n",
       "    <tr>\n",
       "      <th>3</th>\n",
       "      <td>Winter TML lodging</td>\n",
       "      <td>hello! I have the 4 day pass without lodging a...</td>\n",
       "      <td>Tomorrowland</td>\n",
       "      <td>1636922669</td>\n",
       "    </tr>\n",
       "    <tr>\n",
       "      <th>4</th>\n",
       "      <td>Was Tomorrowland around the world 2020 a speci...</td>\n",
       "      <td>NaN</td>\n",
       "      <td>Tomorrowland</td>\n",
       "      <td>1636904090</td>\n",
       "    </tr>\n",
       "  </tbody>\n",
       "</table>\n",
       "</div>"
      ],
      "text/plain": [
       "                                               title  \\\n",
       "0                                         Genreverse   \n",
       "1                 Tomorrowland and it's bass line-up   \n",
       "2                                   Hand crafts 2021   \n",
       "3                                 Winter TML lodging   \n",
       "4  Was Tomorrowland around the world 2020 a speci...   \n",
       "\n",
       "                                            selftext     subreddit  \\\n",
       "0  Hi everyone, \\n\\nHere at Genreverse our ultima...  Tomorrowland   \n",
       "1  So obviously Tomorrowland has always had a gre...  Tomorrowland   \n",
       "2                                                NaN  Tomorrowland   \n",
       "3  hello! I have the 4 day pass without lodging a...  Tomorrowland   \n",
       "4                                                NaN  Tomorrowland   \n",
       "\n",
       "   created_utc  \n",
       "0   1637031457  \n",
       "1   1637002849  \n",
       "2   1636935255  \n",
       "3   1636922669  \n",
       "4   1636904090  "
      ]
     },
     "execution_count": 2,
     "metadata": {},
     "output_type": "execute_result"
    }
   ],
   "source": [
    "df = pd.read_csv('Data/Prem-Tomorrowland_posts_11-16.csv')\n",
    "df.head()"
   ]
  },
  {
   "cell_type": "code",
   "execution_count": 3,
   "id": "8163a14f",
   "metadata": {},
   "outputs": [
    {
     "data": {
      "text/plain": [
       "(2000, 4)"
      ]
     },
     "execution_count": 3,
     "metadata": {},
     "output_type": "execute_result"
    }
   ],
   "source": [
    "df.shape"
   ]
  },
  {
   "cell_type": "markdown",
   "id": "82198bd0",
   "metadata": {},
   "source": [
    "---"
   ]
  },
  {
   "cell_type": "markdown",
   "id": "0d329b28",
   "metadata": {},
   "source": [
    "# Cleaning/Preprocessing/EDA"
   ]
  },
  {
   "cell_type": "markdown",
   "id": "2f1769c7",
   "metadata": {},
   "source": [
    "### Cleaning/Creating Length Columns"
   ]
  },
  {
   "cell_type": "code",
   "execution_count": 4,
   "id": "b55c58bf",
   "metadata": {},
   "outputs": [
    {
     "data": {
      "text/plain": [
       "title            0\n",
       "selftext       885\n",
       "subreddit        0\n",
       "created_utc      0\n",
       "dtype: int64"
      ]
     },
     "execution_count": 4,
     "metadata": {},
     "output_type": "execute_result"
    }
   ],
   "source": [
    "df.isnull().sum()"
   ]
  },
  {
   "cell_type": "code",
   "execution_count": 5,
   "id": "a4772af5",
   "metadata": {},
   "outputs": [],
   "source": [
    "df['selftext'].fillna('', inplace=True)  \n",
    "# fill with a blank string. Almost even split between nulls for each subreddit (already checked in title notebook)"
   ]
  },
  {
   "cell_type": "code",
   "execution_count": 6,
   "id": "317ce96b",
   "metadata": {},
   "outputs": [],
   "source": [
    "length = []\n",
    "for i in df['selftext']:\n",
    "    length.append(len(i))\n",
    "    \n",
    "df['selftext_length'] = length"
   ]
  },
  {
   "cell_type": "code",
   "execution_count": 7,
   "id": "1cfe9d73",
   "metadata": {},
   "outputs": [],
   "source": [
    "num_words = []\n",
    "for i in df['selftext']:\n",
    "    num_words.append(len(i.split()))\n",
    "\n",
    "df['selftext_word_count'] = num_words"
   ]
  },
  {
   "cell_type": "code",
   "execution_count": 8,
   "id": "dbc72c15",
   "metadata": {},
   "outputs": [
    {
     "data": {
      "text/html": [
       "<div>\n",
       "<style scoped>\n",
       "    .dataframe tbody tr th:only-of-type {\n",
       "        vertical-align: middle;\n",
       "    }\n",
       "\n",
       "    .dataframe tbody tr th {\n",
       "        vertical-align: top;\n",
       "    }\n",
       "\n",
       "    .dataframe thead th {\n",
       "        text-align: right;\n",
       "    }\n",
       "</style>\n",
       "<table border=\"1\" class=\"dataframe\">\n",
       "  <thead>\n",
       "    <tr style=\"text-align: right;\">\n",
       "      <th></th>\n",
       "      <th>title</th>\n",
       "      <th>selftext</th>\n",
       "      <th>subreddit</th>\n",
       "      <th>created_utc</th>\n",
       "      <th>selftext_length</th>\n",
       "      <th>selftext_word_count</th>\n",
       "    </tr>\n",
       "  </thead>\n",
       "  <tbody>\n",
       "    <tr>\n",
       "      <th>0</th>\n",
       "      <td>Genreverse</td>\n",
       "      <td>Hi everyone, \\n\\nHere at Genreverse our ultima...</td>\n",
       "      <td>Tomorrowland</td>\n",
       "      <td>1637031457</td>\n",
       "      <td>398</td>\n",
       "      <td>57</td>\n",
       "    </tr>\n",
       "    <tr>\n",
       "      <th>1</th>\n",
       "      <td>Tomorrowland and it's bass line-up</td>\n",
       "      <td>So obviously Tomorrowland has always had a gre...</td>\n",
       "      <td>Tomorrowland</td>\n",
       "      <td>1637002849</td>\n",
       "      <td>620</td>\n",
       "      <td>104</td>\n",
       "    </tr>\n",
       "    <tr>\n",
       "      <th>2</th>\n",
       "      <td>Hand crafts 2021</td>\n",
       "      <td></td>\n",
       "      <td>Tomorrowland</td>\n",
       "      <td>1636935255</td>\n",
       "      <td>0</td>\n",
       "      <td>0</td>\n",
       "    </tr>\n",
       "    <tr>\n",
       "      <th>3</th>\n",
       "      <td>Winter TML lodging</td>\n",
       "      <td>hello! I have the 4 day pass without lodging a...</td>\n",
       "      <td>Tomorrowland</td>\n",
       "      <td>1636922669</td>\n",
       "      <td>334</td>\n",
       "      <td>65</td>\n",
       "    </tr>\n",
       "    <tr>\n",
       "      <th>4</th>\n",
       "      <td>Was Tomorrowland around the world 2020 a speci...</td>\n",
       "      <td></td>\n",
       "      <td>Tomorrowland</td>\n",
       "      <td>1636904090</td>\n",
       "      <td>0</td>\n",
       "      <td>0</td>\n",
       "    </tr>\n",
       "  </tbody>\n",
       "</table>\n",
       "</div>"
      ],
      "text/plain": [
       "                                               title  \\\n",
       "0                                         Genreverse   \n",
       "1                 Tomorrowland and it's bass line-up   \n",
       "2                                   Hand crafts 2021   \n",
       "3                                 Winter TML lodging   \n",
       "4  Was Tomorrowland around the world 2020 a speci...   \n",
       "\n",
       "                                            selftext     subreddit  \\\n",
       "0  Hi everyone, \\n\\nHere at Genreverse our ultima...  Tomorrowland   \n",
       "1  So obviously Tomorrowland has always had a gre...  Tomorrowland   \n",
       "2                                                     Tomorrowland   \n",
       "3  hello! I have the 4 day pass without lodging a...  Tomorrowland   \n",
       "4                                                     Tomorrowland   \n",
       "\n",
       "   created_utc  selftext_length  selftext_word_count  \n",
       "0   1637031457              398                   57  \n",
       "1   1637002849              620                  104  \n",
       "2   1636935255                0                    0  \n",
       "3   1636922669              334                   65  \n",
       "4   1636904090                0                    0  "
      ]
     },
     "execution_count": 8,
     "metadata": {},
     "output_type": "execute_result"
    }
   ],
   "source": [
    "df.head()"
   ]
  },
  {
   "cell_type": "code",
   "execution_count": 9,
   "id": "264e92b2",
   "metadata": {},
   "outputs": [
    {
     "data": {
      "text/html": [
       "<div>\n",
       "<style scoped>\n",
       "    .dataframe tbody tr th:only-of-type {\n",
       "        vertical-align: middle;\n",
       "    }\n",
       "\n",
       "    .dataframe tbody tr th {\n",
       "        vertical-align: top;\n",
       "    }\n",
       "\n",
       "    .dataframe thead th {\n",
       "        text-align: right;\n",
       "    }\n",
       "</style>\n",
       "<table border=\"1\" class=\"dataframe\">\n",
       "  <thead>\n",
       "    <tr style=\"text-align: right;\">\n",
       "      <th></th>\n",
       "      <th>selftext_length</th>\n",
       "      <th>selftext_word_count</th>\n",
       "    </tr>\n",
       "    <tr>\n",
       "      <th>subreddit</th>\n",
       "      <th></th>\n",
       "      <th></th>\n",
       "    </tr>\n",
       "  </thead>\n",
       "  <tbody>\n",
       "    <tr>\n",
       "      <th>PremierLeague</th>\n",
       "      <td>182.256</td>\n",
       "      <td>28.285</td>\n",
       "    </tr>\n",
       "    <tr>\n",
       "      <th>Tomorrowland</th>\n",
       "      <td>196.799</td>\n",
       "      <td>33.495</td>\n",
       "    </tr>\n",
       "  </tbody>\n",
       "</table>\n",
       "</div>"
      ],
      "text/plain": [
       "               selftext_length  selftext_word_count\n",
       "subreddit                                          \n",
       "PremierLeague          182.256               28.285\n",
       "Tomorrowland           196.799               33.495"
      ]
     },
     "execution_count": 9,
     "metadata": {},
     "output_type": "execute_result"
    }
   ],
   "source": [
    "df.groupby('subreddit').mean()[['selftext_length', 'selftext_word_count']]"
   ]
  },
  {
   "cell_type": "markdown",
   "id": "43f4a8c5",
   "metadata": {},
   "source": [
    "**Premier Leauge posts tend to have shorter selftext lengths and word counts than Tomorrowland posts on average.**"
   ]
  },
  {
   "cell_type": "code",
   "execution_count": 10,
   "id": "8a704f8e",
   "metadata": {},
   "outputs": [],
   "source": [
    "cvec = CountVectorizer(stop_words='english')\n",
    "cvec.fit(df['selftext'])\n",
    "selftext_cvec = cvec.transform(df['selftext'])"
   ]
  },
  {
   "cell_type": "code",
   "execution_count": 11,
   "id": "00455304",
   "metadata": {},
   "outputs": [
    {
     "data": {
      "text/html": [
       "<div>\n",
       "<style scoped>\n",
       "    .dataframe tbody tr th:only-of-type {\n",
       "        vertical-align: middle;\n",
       "    }\n",
       "\n",
       "    .dataframe tbody tr th {\n",
       "        vertical-align: top;\n",
       "    }\n",
       "\n",
       "    .dataframe thead th {\n",
       "        text-align: right;\n",
       "    }\n",
       "</style>\n",
       "<table border=\"1\" class=\"dataframe\">\n",
       "  <thead>\n",
       "    <tr style=\"text-align: right;\">\n",
       "      <th></th>\n",
       "      <th>00</th>\n",
       "      <th>000</th>\n",
       "      <th>001</th>\n",
       "      <th>005</th>\n",
       "      <th>005056aa7581</th>\n",
       "      <th>00s</th>\n",
       "      <th>01</th>\n",
       "      <th>02</th>\n",
       "      <th>03</th>\n",
       "      <th>04</th>\n",
       "      <th>...</th>\n",
       "      <th>zme2bw5qo</th>\n",
       "      <th>zomer</th>\n",
       "      <th>zone</th>\n",
       "      <th>zones</th>\n",
       "      <th>zonneveld</th>\n",
       "      <th>zoom</th>\n",
       "      <th>zouma</th>\n",
       "      <th>zzzz</th>\n",
       "      <th>ñíguez</th>\n",
       "      <th>čolak</th>\n",
       "    </tr>\n",
       "  </thead>\n",
       "  <tbody>\n",
       "    <tr>\n",
       "      <th>0</th>\n",
       "      <td>0</td>\n",
       "      <td>0</td>\n",
       "      <td>0</td>\n",
       "      <td>0</td>\n",
       "      <td>0</td>\n",
       "      <td>0</td>\n",
       "      <td>0</td>\n",
       "      <td>0</td>\n",
       "      <td>0</td>\n",
       "      <td>0</td>\n",
       "      <td>...</td>\n",
       "      <td>0</td>\n",
       "      <td>0</td>\n",
       "      <td>0</td>\n",
       "      <td>0</td>\n",
       "      <td>0</td>\n",
       "      <td>0</td>\n",
       "      <td>0</td>\n",
       "      <td>0</td>\n",
       "      <td>0</td>\n",
       "      <td>0</td>\n",
       "    </tr>\n",
       "    <tr>\n",
       "      <th>1</th>\n",
       "      <td>0</td>\n",
       "      <td>0</td>\n",
       "      <td>0</td>\n",
       "      <td>0</td>\n",
       "      <td>0</td>\n",
       "      <td>0</td>\n",
       "      <td>0</td>\n",
       "      <td>0</td>\n",
       "      <td>0</td>\n",
       "      <td>0</td>\n",
       "      <td>...</td>\n",
       "      <td>0</td>\n",
       "      <td>0</td>\n",
       "      <td>0</td>\n",
       "      <td>0</td>\n",
       "      <td>0</td>\n",
       "      <td>0</td>\n",
       "      <td>0</td>\n",
       "      <td>0</td>\n",
       "      <td>0</td>\n",
       "      <td>0</td>\n",
       "    </tr>\n",
       "    <tr>\n",
       "      <th>2</th>\n",
       "      <td>0</td>\n",
       "      <td>0</td>\n",
       "      <td>0</td>\n",
       "      <td>0</td>\n",
       "      <td>0</td>\n",
       "      <td>0</td>\n",
       "      <td>0</td>\n",
       "      <td>0</td>\n",
       "      <td>0</td>\n",
       "      <td>0</td>\n",
       "      <td>...</td>\n",
       "      <td>0</td>\n",
       "      <td>0</td>\n",
       "      <td>0</td>\n",
       "      <td>0</td>\n",
       "      <td>0</td>\n",
       "      <td>0</td>\n",
       "      <td>0</td>\n",
       "      <td>0</td>\n",
       "      <td>0</td>\n",
       "      <td>0</td>\n",
       "    </tr>\n",
       "    <tr>\n",
       "      <th>3</th>\n",
       "      <td>0</td>\n",
       "      <td>0</td>\n",
       "      <td>0</td>\n",
       "      <td>0</td>\n",
       "      <td>0</td>\n",
       "      <td>0</td>\n",
       "      <td>0</td>\n",
       "      <td>0</td>\n",
       "      <td>0</td>\n",
       "      <td>0</td>\n",
       "      <td>...</td>\n",
       "      <td>0</td>\n",
       "      <td>0</td>\n",
       "      <td>0</td>\n",
       "      <td>0</td>\n",
       "      <td>0</td>\n",
       "      <td>0</td>\n",
       "      <td>0</td>\n",
       "      <td>0</td>\n",
       "      <td>0</td>\n",
       "      <td>0</td>\n",
       "    </tr>\n",
       "    <tr>\n",
       "      <th>4</th>\n",
       "      <td>0</td>\n",
       "      <td>0</td>\n",
       "      <td>0</td>\n",
       "      <td>0</td>\n",
       "      <td>0</td>\n",
       "      <td>0</td>\n",
       "      <td>0</td>\n",
       "      <td>0</td>\n",
       "      <td>0</td>\n",
       "      <td>0</td>\n",
       "      <td>...</td>\n",
       "      <td>0</td>\n",
       "      <td>0</td>\n",
       "      <td>0</td>\n",
       "      <td>0</td>\n",
       "      <td>0</td>\n",
       "      <td>0</td>\n",
       "      <td>0</td>\n",
       "      <td>0</td>\n",
       "      <td>0</td>\n",
       "      <td>0</td>\n",
       "    </tr>\n",
       "    <tr>\n",
       "      <th>...</th>\n",
       "      <td>...</td>\n",
       "      <td>...</td>\n",
       "      <td>...</td>\n",
       "      <td>...</td>\n",
       "      <td>...</td>\n",
       "      <td>...</td>\n",
       "      <td>...</td>\n",
       "      <td>...</td>\n",
       "      <td>...</td>\n",
       "      <td>...</td>\n",
       "      <td>...</td>\n",
       "      <td>...</td>\n",
       "      <td>...</td>\n",
       "      <td>...</td>\n",
       "      <td>...</td>\n",
       "      <td>...</td>\n",
       "      <td>...</td>\n",
       "      <td>...</td>\n",
       "      <td>...</td>\n",
       "      <td>...</td>\n",
       "      <td>...</td>\n",
       "    </tr>\n",
       "    <tr>\n",
       "      <th>1995</th>\n",
       "      <td>0</td>\n",
       "      <td>0</td>\n",
       "      <td>0</td>\n",
       "      <td>0</td>\n",
       "      <td>0</td>\n",
       "      <td>0</td>\n",
       "      <td>0</td>\n",
       "      <td>0</td>\n",
       "      <td>0</td>\n",
       "      <td>0</td>\n",
       "      <td>...</td>\n",
       "      <td>0</td>\n",
       "      <td>0</td>\n",
       "      <td>0</td>\n",
       "      <td>0</td>\n",
       "      <td>0</td>\n",
       "      <td>0</td>\n",
       "      <td>0</td>\n",
       "      <td>0</td>\n",
       "      <td>0</td>\n",
       "      <td>0</td>\n",
       "    </tr>\n",
       "    <tr>\n",
       "      <th>1996</th>\n",
       "      <td>0</td>\n",
       "      <td>0</td>\n",
       "      <td>0</td>\n",
       "      <td>0</td>\n",
       "      <td>0</td>\n",
       "      <td>0</td>\n",
       "      <td>0</td>\n",
       "      <td>0</td>\n",
       "      <td>0</td>\n",
       "      <td>0</td>\n",
       "      <td>...</td>\n",
       "      <td>0</td>\n",
       "      <td>0</td>\n",
       "      <td>0</td>\n",
       "      <td>0</td>\n",
       "      <td>0</td>\n",
       "      <td>0</td>\n",
       "      <td>0</td>\n",
       "      <td>0</td>\n",
       "      <td>0</td>\n",
       "      <td>0</td>\n",
       "    </tr>\n",
       "    <tr>\n",
       "      <th>1997</th>\n",
       "      <td>0</td>\n",
       "      <td>0</td>\n",
       "      <td>0</td>\n",
       "      <td>0</td>\n",
       "      <td>0</td>\n",
       "      <td>0</td>\n",
       "      <td>0</td>\n",
       "      <td>0</td>\n",
       "      <td>0</td>\n",
       "      <td>0</td>\n",
       "      <td>...</td>\n",
       "      <td>0</td>\n",
       "      <td>0</td>\n",
       "      <td>0</td>\n",
       "      <td>0</td>\n",
       "      <td>0</td>\n",
       "      <td>0</td>\n",
       "      <td>0</td>\n",
       "      <td>0</td>\n",
       "      <td>0</td>\n",
       "      <td>0</td>\n",
       "    </tr>\n",
       "    <tr>\n",
       "      <th>1998</th>\n",
       "      <td>0</td>\n",
       "      <td>0</td>\n",
       "      <td>0</td>\n",
       "      <td>0</td>\n",
       "      <td>0</td>\n",
       "      <td>0</td>\n",
       "      <td>0</td>\n",
       "      <td>0</td>\n",
       "      <td>0</td>\n",
       "      <td>0</td>\n",
       "      <td>...</td>\n",
       "      <td>0</td>\n",
       "      <td>0</td>\n",
       "      <td>0</td>\n",
       "      <td>0</td>\n",
       "      <td>0</td>\n",
       "      <td>0</td>\n",
       "      <td>0</td>\n",
       "      <td>0</td>\n",
       "      <td>0</td>\n",
       "      <td>0</td>\n",
       "    </tr>\n",
       "    <tr>\n",
       "      <th>1999</th>\n",
       "      <td>0</td>\n",
       "      <td>0</td>\n",
       "      <td>0</td>\n",
       "      <td>0</td>\n",
       "      <td>0</td>\n",
       "      <td>0</td>\n",
       "      <td>0</td>\n",
       "      <td>0</td>\n",
       "      <td>0</td>\n",
       "      <td>0</td>\n",
       "      <td>...</td>\n",
       "      <td>0</td>\n",
       "      <td>0</td>\n",
       "      <td>0</td>\n",
       "      <td>0</td>\n",
       "      <td>0</td>\n",
       "      <td>0</td>\n",
       "      <td>0</td>\n",
       "      <td>0</td>\n",
       "      <td>0</td>\n",
       "      <td>0</td>\n",
       "    </tr>\n",
       "  </tbody>\n",
       "</table>\n",
       "<p>2000 rows × 6532 columns</p>\n",
       "</div>"
      ],
      "text/plain": [
       "      00  000  001  005  005056aa7581  00s  01  02  03  04  ...  zme2bw5qo  \\\n",
       "0      0    0    0    0             0    0   0   0   0   0  ...          0   \n",
       "1      0    0    0    0             0    0   0   0   0   0  ...          0   \n",
       "2      0    0    0    0             0    0   0   0   0   0  ...          0   \n",
       "3      0    0    0    0             0    0   0   0   0   0  ...          0   \n",
       "4      0    0    0    0             0    0   0   0   0   0  ...          0   \n",
       "...   ..  ...  ...  ...           ...  ...  ..  ..  ..  ..  ...        ...   \n",
       "1995   0    0    0    0             0    0   0   0   0   0  ...          0   \n",
       "1996   0    0    0    0             0    0   0   0   0   0  ...          0   \n",
       "1997   0    0    0    0             0    0   0   0   0   0  ...          0   \n",
       "1998   0    0    0    0             0    0   0   0   0   0  ...          0   \n",
       "1999   0    0    0    0             0    0   0   0   0   0  ...          0   \n",
       "\n",
       "      zomer  zone  zones  zonneveld  zoom  zouma  zzzz  ñíguez  čolak  \n",
       "0         0     0      0          0     0      0     0       0      0  \n",
       "1         0     0      0          0     0      0     0       0      0  \n",
       "2         0     0      0          0     0      0     0       0      0  \n",
       "3         0     0      0          0     0      0     0       0      0  \n",
       "4         0     0      0          0     0      0     0       0      0  \n",
       "...     ...   ...    ...        ...   ...    ...   ...     ...    ...  \n",
       "1995      0     0      0          0     0      0     0       0      0  \n",
       "1996      0     0      0          0     0      0     0       0      0  \n",
       "1997      0     0      0          0     0      0     0       0      0  \n",
       "1998      0     0      0          0     0      0     0       0      0  \n",
       "1999      0     0      0          0     0      0     0       0      0  \n",
       "\n",
       "[2000 rows x 6532 columns]"
      ]
     },
     "execution_count": 11,
     "metadata": {},
     "output_type": "execute_result"
    }
   ],
   "source": [
    "selftext_words = pd.DataFrame(selftext_cvec.todense(), columns=cvec.get_feature_names())\n",
    "selftext_words"
   ]
  },
  {
   "cell_type": "code",
   "execution_count": 12,
   "id": "63b09cc6",
   "metadata": {},
   "outputs": [],
   "source": [
    "selftext_words['which_sub'] = df['subreddit']"
   ]
  },
  {
   "cell_type": "code",
   "execution_count": 13,
   "id": "cda5450d",
   "metadata": {},
   "outputs": [
    {
     "data": {
      "image/png": "[encoded data removed]",
      "text/plain": [
       "<Figure size 864x432 with 1 Axes>"
      ]
     },
     "metadata": {
      "needs_background": "light"
     },
     "output_type": "display_data"
    }
   ],
   "source": [
    "ax = selftext_words.groupby('which_sub').sum().T.sort_values('Tomorrowland', ascending=False).head(15).sort_values('Tomorrowland').plot(kind='barh', figsize=(12,6))\n",
    "plt.title('Top 15 Tomorrowland Selftext Words', size=20)\n",
    "plt.xlabel('Frequency of Word in Selftext', size=15)\n",
    "plt.ylabel('Word', size=15)\n",
    "ax.legend(title='Subreddit', labels=(\"PremierLeague\",\"Tomorrowland\"))\n",
    "#plt.savefig('./Visuals/top15tomo_selftext_words.png', bbox_inches='tight');\n",
    "plt.show();"
   ]
  },
  {
   "cell_type": "code",
   "execution_count": 14,
   "id": "f65b8db6",
   "metadata": {},
   "outputs": [
    {
     "data": {
      "image/png": "[encoded data removed]",
      "text/plain": [
       "<Figure size 864x432 with 1 Axes>"
      ]
     },
     "metadata": {
      "needs_background": "light"
     },
     "output_type": "display_data"
    }
   ],
   "source": [
    "ax = selftext_words.groupby('which_sub').sum().T.sort_values('PremierLeague', ascending=False).head(15).sort_values('PremierLeague').plot(kind='barh', figsize=(12,6))\n",
    "plt.title('Top 15 PremierLeague Selftext Words', size=20)\n",
    "plt.xlabel('Frequency of Word in Selftext', size=15)\n",
    "plt.ylabel('Word', size=15)\n",
    "ax.legend(title='Subreddit', labels=(\"PremierLeague\",\"Tomorrowland\"))\n",
    "#plt.savefig('./Visuals/top15prem_selftext_words.png', bbox_inches='tight');\n",
    "plt.show();"
   ]
  },
  {
   "cell_type": "markdown",
   "id": "7b2ef3fd",
   "metadata": {},
   "source": [
    "*There seems to be more overlap of top occuring words in the selftext than there was in the titles.  Not sure if accuracy scores will be as good in these models*"
   ]
  },
  {
   "cell_type": "code",
   "execution_count": 15,
   "id": "b65327af",
   "metadata": {},
   "outputs": [],
   "source": [
    "selftext_and_words = pd.merge(df, selftext_words, on=df.index)\n",
    "selftext_and_words.drop(columns='key_0', inplace=True)"
   ]
  },
  {
   "cell_type": "code",
   "execution_count": 16,
   "id": "c9ae7d4f",
   "metadata": {},
   "outputs": [
    {
     "data": {
      "text/html": [
       "<div>\n",
       "<style scoped>\n",
       "    .dataframe tbody tr th:only-of-type {\n",
       "        vertical-align: middle;\n",
       "    }\n",
       "\n",
       "    .dataframe tbody tr th {\n",
       "        vertical-align: top;\n",
       "    }\n",
       "\n",
       "    .dataframe thead th {\n",
       "        text-align: right;\n",
       "    }\n",
       "</style>\n",
       "<table border=\"1\" class=\"dataframe\">\n",
       "  <thead>\n",
       "    <tr style=\"text-align: right;\">\n",
       "      <th></th>\n",
       "      <th>title_x</th>\n",
       "      <th>selftext</th>\n",
       "      <th>subreddit_x</th>\n",
       "      <th>created_utc</th>\n",
       "      <th>selftext_length</th>\n",
       "      <th>selftext_word_count</th>\n",
       "      <th>00</th>\n",
       "      <th>000</th>\n",
       "      <th>001</th>\n",
       "      <th>005</th>\n",
       "      <th>...</th>\n",
       "      <th>zomer</th>\n",
       "      <th>zone</th>\n",
       "      <th>zones</th>\n",
       "      <th>zonneveld</th>\n",
       "      <th>zoom</th>\n",
       "      <th>zouma</th>\n",
       "      <th>zzzz</th>\n",
       "      <th>ñíguez</th>\n",
       "      <th>čolak</th>\n",
       "      <th>which_sub</th>\n",
       "    </tr>\n",
       "  </thead>\n",
       "  <tbody>\n",
       "    <tr>\n",
       "      <th>0</th>\n",
       "      <td>Genreverse</td>\n",
       "      <td>Hi everyone, \\n\\nHere at Genreverse our ultima...</td>\n",
       "      <td>Tomorrowland</td>\n",
       "      <td>1637031457</td>\n",
       "      <td>398</td>\n",
       "      <td>57</td>\n",
       "      <td>0</td>\n",
       "      <td>0</td>\n",
       "      <td>0</td>\n",
       "      <td>0</td>\n",
       "      <td>...</td>\n",
       "      <td>0</td>\n",
       "      <td>0</td>\n",
       "      <td>0</td>\n",
       "      <td>0</td>\n",
       "      <td>0</td>\n",
       "      <td>0</td>\n",
       "      <td>0</td>\n",
       "      <td>0</td>\n",
       "      <td>0</td>\n",
       "      <td>Tomorrowland</td>\n",
       "    </tr>\n",
       "    <tr>\n",
       "      <th>1</th>\n",
       "      <td>Tomorrowland and it's bass line-up</td>\n",
       "      <td>So obviously Tomorrowland has always had a gre...</td>\n",
       "      <td>Tomorrowland</td>\n",
       "      <td>1637002849</td>\n",
       "      <td>620</td>\n",
       "      <td>104</td>\n",
       "      <td>0</td>\n",
       "      <td>0</td>\n",
       "      <td>0</td>\n",
       "      <td>0</td>\n",
       "      <td>...</td>\n",
       "      <td>0</td>\n",
       "      <td>0</td>\n",
       "      <td>0</td>\n",
       "      <td>0</td>\n",
       "      <td>0</td>\n",
       "      <td>0</td>\n",
       "      <td>0</td>\n",
       "      <td>0</td>\n",
       "      <td>0</td>\n",
       "      <td>Tomorrowland</td>\n",
       "    </tr>\n",
       "  </tbody>\n",
       "</table>\n",
       "<p>2 rows × 6539 columns</p>\n",
       "</div>"
      ],
      "text/plain": [
       "                              title_x  \\\n",
       "0                          Genreverse   \n",
       "1  Tomorrowland and it's bass line-up   \n",
       "\n",
       "                                            selftext   subreddit_x  \\\n",
       "0  Hi everyone, \\n\\nHere at Genreverse our ultima...  Tomorrowland   \n",
       "1  So obviously Tomorrowland has always had a gre...  Tomorrowland   \n",
       "\n",
       "   created_utc  selftext_length  selftext_word_count  00  000  001  005  ...  \\\n",
       "0   1637031457              398                   57   0    0    0    0  ...   \n",
       "1   1637002849              620                  104   0    0    0    0  ...   \n",
       "\n",
       "   zomer  zone  zones  zonneveld  zoom  zouma  zzzz  ñíguez  čolak  \\\n",
       "0      0     0      0          0     0      0     0       0      0   \n",
       "1      0     0      0          0     0      0     0       0      0   \n",
       "\n",
       "      which_sub  \n",
       "0  Tomorrowland  \n",
       "1  Tomorrowland  \n",
       "\n",
       "[2 rows x 6539 columns]"
      ]
     },
     "execution_count": 16,
     "metadata": {},
     "output_type": "execute_result"
    }
   ],
   "source": [
    "selftext_and_words.head(2)"
   ]
  },
  {
   "cell_type": "code",
   "execution_count": 17,
   "id": "57b264d4",
   "metadata": {},
   "outputs": [
    {
     "data": {
      "text/plain": [
       "amp          301\n",
       "league       216\n",
       "https        178\n",
       "shots        158\n",
       "removed      147\n",
       "com          129\n",
       "premier      116\n",
       "think        114\n",
       "united       104\n",
       "like         100\n",
       "match         99\n",
       "reddit        96\n",
       "poll          96\n",
       "team          96\n",
       "liverpool     89\n",
       "dtype: int64"
      ]
     },
     "execution_count": 17,
     "metadata": {},
     "output_type": "execute_result"
    }
   ],
   "source": [
    "prem_selftext_words = selftext_and_words[selftext_and_words['subreddit_x'] == 'PremierLeague'].drop(columns=['title_x', 'selftext', \n",
    "                                                                                                    'subreddit_x', 'created_utc',\n",
    "                                                                                                    'selftext_length', 'selftext_word_count',\n",
    "                                                                                                    'which_sub'])\n",
    "top15_prem_selftext_words = prem_selftext_words.sum().sort_values(ascending=False).head(15)\n",
    "top15_prem_selftext_words"
   ]
  },
  {
   "cell_type": "code",
   "execution_count": 18,
   "id": "8ef85451",
   "metadata": {},
   "outputs": [
    {
     "data": {
      "text/plain": [
       "<BarContainer object of 15 artists>"
      ]
     },
     "execution_count": 18,
     "metadata": {},
     "output_type": "execute_result"
    },
    {
     "data": {
      "image/png": "[encoded data removed]",
      "text/plain": [
       "<Figure size 720x432 with 1 Axes>"
      ]
     },
     "metadata": {
      "needs_background": "light"
     },
     "output_type": "display_data"
    }
   ],
   "source": [
    "plt.figure(figsize=(10,6))\n",
    "plt.barh(y=top15_prem_selftext_words.sort_values().index, width=top15_prem_selftext_words.sort_values())"
   ]
  },
  {
   "cell_type": "code",
   "execution_count": 19,
   "id": "e2ebd87f",
   "metadata": {},
   "outputs": [
    {
     "data": {
      "text/plain": [
       "tomorrowland    376\n",
       "tickets         182\n",
       "https           164\n",
       "amp             155\n",
       "festival        149\n",
       "just            128\n",
       "people          124\n",
       "tml             123\n",
       "like            119\n",
       "year            117\n",
       "ticket          116\n",
       "know            109\n",
       "com             100\n",
       "2022             99\n",
       "2021             88\n",
       "dtype: int64"
      ]
     },
     "execution_count": 19,
     "metadata": {},
     "output_type": "execute_result"
    }
   ],
   "source": [
    "tomo_selftext_words = selftext_and_words[selftext_and_words['subreddit_x'] == 'Tomorrowland'].drop(columns=['title_x', 'selftext', \n",
    "                                                                                                    'subreddit_x', 'created_utc',\n",
    "                                                                                                    'selftext_length', 'selftext_word_count', \n",
    "                                                                                                   'which_sub'])\n",
    "top15_tomo_selftext_words = tomo_selftext_words.sum().sort_values(ascending=False).head(15)\n",
    "top15_tomo_selftext_words"
   ]
  },
  {
   "cell_type": "code",
   "execution_count": 20,
   "id": "496dc07a",
   "metadata": {},
   "outputs": [
    {
     "data": {
      "text/plain": [
       "<BarContainer object of 15 artists>"
      ]
     },
     "execution_count": 20,
     "metadata": {},
     "output_type": "execute_result"
    },
    {
     "data": {
      "image/png": "[encoded data removed]",
      "text/plain": [
       "<Figure size 720x432 with 1 Axes>"
      ]
     },
     "metadata": {
      "needs_background": "light"
     },
     "output_type": "display_data"
    }
   ],
   "source": [
    "plt.figure(figsize=(10,6))\n",
    "plt.barh(y=top15_tomo_selftext_words.sort_values().index, width=top15_tomo_selftext_words.sort_values())"
   ]
  },
  {
   "cell_type": "markdown",
   "id": "349e8ac0",
   "metadata": {},
   "source": [
    "---"
   ]
  },
  {
   "cell_type": "markdown",
   "id": "637f7eff",
   "metadata": {},
   "source": [
    "# Models"
   ]
  },
  {
   "cell_type": "markdown",
   "id": "79a7a395",
   "metadata": {},
   "source": [
    "### Model Preparation"
   ]
  },
  {
   "cell_type": "code",
   "execution_count": 21,
   "id": "dbfc5be2",
   "metadata": {},
   "outputs": [],
   "source": [
    "df['subreddit'] = df['subreddit'].map({'Tomorrowland': 0, 'PremierLeague': 1})"
   ]
  },
  {
   "cell_type": "code",
   "execution_count": 22,
   "id": "b7f4bd79",
   "metadata": {},
   "outputs": [],
   "source": [
    "X = df['selftext']\n",
    "y = df['subreddit']"
   ]
  },
  {
   "cell_type": "code",
   "execution_count": 23,
   "id": "5836d688",
   "metadata": {},
   "outputs": [
    {
     "data": {
      "text/plain": [
       "0    0.5\n",
       "1    0.5\n",
       "Name: subreddit, dtype: float64"
      ]
     },
     "execution_count": 23,
     "metadata": {},
     "output_type": "execute_result"
    }
   ],
   "source": [
    "y.value_counts(normalize=True)\n",
    "# baseline accuracy of 50% if predicting subreddit is from Premier League subreddit <- looking to beat this"
   ]
  },
  {
   "cell_type": "code",
   "execution_count": 24,
   "id": "e41f6a57",
   "metadata": {},
   "outputs": [],
   "source": [
    "X_train, X_test, y_train, y_test = train_test_split(X, y, random_state=42, stratify=y)"
   ]
  },
  {
   "cell_type": "markdown",
   "id": "0f25ceeb",
   "metadata": {},
   "source": [
    "---"
   ]
  },
  {
   "cell_type": "markdown",
   "id": "7122adb6",
   "metadata": {},
   "source": [
    "### Model 1 - KNN with CountVectorizer"
   ]
  },
  {
   "cell_type": "code",
   "execution_count": 25,
   "id": "667368cb",
   "metadata": {},
   "outputs": [],
   "source": [
    "pipe1 = Pipeline([\n",
    "    ('cvec', CountVectorizer()),\n",
    "    ('knn', KNeighborsClassifier())\n",
    "])"
   ]
  },
  {
   "cell_type": "code",
   "execution_count": 26,
   "id": "fb2c24c7",
   "metadata": {},
   "outputs": [],
   "source": [
    "params1 = {\n",
    "    'cvec__min_df': [15, 16, 17],\n",
    "    'cvec__max_df': [.1, .2, .3],\n",
    "    'cvec__binary': [True, False],\n",
    "    'cvec__stop_words': [None, 'english'],\n",
    "    'knn__weights': ['uniform', 'distance']\n",
    "}"
   ]
  },
  {
   "cell_type": "code",
   "execution_count": 27,
   "id": "3fe5e471",
   "metadata": {},
   "outputs": [
    {
     "name": "stdout",
     "output_type": "stream",
     "text": [
      "0.6693333333333333\n"
     ]
    },
    {
     "data": {
      "text/plain": [
       "{'cvec__binary': False,\n",
       " 'cvec__max_df': 0.2,\n",
       " 'cvec__min_df': 16,\n",
       " 'cvec__stop_words': 'english',\n",
       " 'knn__weights': 'uniform'}"
      ]
     },
     "execution_count": 27,
     "metadata": {},
     "output_type": "execute_result"
    }
   ],
   "source": [
    "gs1 = GridSearchCV(pipe1, param_grid=params1)\n",
    "gs1.fit(X_train, y_train)\n",
    "print(gs1.best_score_)\n",
    "gs1.best_params_"
   ]
  },
  {
   "cell_type": "code",
   "execution_count": 28,
   "id": "d798f221",
   "metadata": {},
   "outputs": [
    {
     "data": {
      "text/plain": [
       "<sklearn.metrics._plot.confusion_matrix.ConfusionMatrixDisplay at 0x146459137c0>"
      ]
     },
     "execution_count": 28,
     "metadata": {},
     "output_type": "execute_result"
    },
    {
     "data": {
      "image/png": "[encoded data removed]",
      "text/plain": [
       "<Figure size 432x288 with 2 Axes>"
      ]
     },
     "metadata": {
      "needs_background": "light"
     },
     "output_type": "display_data"
    }
   ],
   "source": [
    "plot_confusion_matrix(gs1, X_train, y_train, display_labels=['Tomorrowland', 'PremierLeague'])"
   ]
  },
  {
   "cell_type": "code",
   "execution_count": 29,
   "id": "2f811b94",
   "metadata": {},
   "outputs": [
    {
     "data": {
      "text/plain": [
       "<sklearn.metrics._plot.confusion_matrix.ConfusionMatrixDisplay at 0x14645913580>"
      ]
     },
     "execution_count": 29,
     "metadata": {},
     "output_type": "execute_result"
    },
    {
     "data": {
      "image/png": "[encoded data removed]",
      "text/plain": [
       "<Figure size 432x288 with 2 Axes>"
      ]
     },
     "metadata": {
      "needs_background": "light"
     },
     "output_type": "display_data"
    }
   ],
   "source": [
    "plot_confusion_matrix(gs1, X_test, y_test, display_labels=['Tomorrowland', 'PremierLeague'])"
   ]
  },
  {
   "cell_type": "code",
   "execution_count": 30,
   "id": "9c8bf916",
   "metadata": {},
   "outputs": [
    {
     "data": {
      "text/plain": [
       "270    Ugh of course they messed up PDT again, where ...\n",
       "937    Getting static / distortion while playing thro...\n",
       "106                                            [removed]\n",
       "475                                            [removed]\n",
       "553                                            [removed]\n",
       "491    Hello all! Since we still don't know if the fe...\n",
       "562                                            [removed]\n",
       "214                                            [removed]\n",
       "413    I saw some of you wondering when/who received ...\n",
       "987    Includes Train ride from Amsterdam to Belgium\\...\n",
       "269    Not only that I have to see that \"You are a pi...\n",
       "928    Sorry if this is a stupid question - I was jus...\n",
       "337    Hey guys, do u know if there is any discount c...\n",
       "98                                             [removed]\n",
       "315    I‘m amazed by the quality of everything surrou...\n",
       "880                                            [removed]\n",
       "782    When are we able to and when is the deadline t...\n",
       "540                                            [removed]\n",
       "317                                            [removed]\n",
       "64     \\n\\n[View Poll](https://www.reddit.com/poll/q9...\n",
       "105    Can't find a second person to go with locally,...\n",
       "Name: selftext, dtype: object"
      ]
     },
     "execution_count": 30,
     "metadata": {},
     "output_type": "execute_result"
    }
   ],
   "source": [
    "preds1 = gs1.predict(X_test)\n",
    "X_test[(y_test != preds1) & (preds1 == 1)].head(60)"
   ]
  },
  {
   "cell_type": "code",
   "execution_count": 31,
   "id": "3f831a25",
   "metadata": {},
   "outputs": [
    {
     "data": {
      "text/plain": [
       "270    Ugh of course they messed up PDT again, where ...\n",
       "937    Getting static / distortion while playing thro...\n",
       "106                                            [removed]\n",
       "475                                            [removed]\n",
       "553                                            [removed]\n",
       "491    Hello all! Since we still don't know if the fe...\n",
       "562                                            [removed]\n",
       "214                                            [removed]\n",
       "413    I saw some of you wondering when/who received ...\n",
       "987    Includes Train ride from Amsterdam to Belgium\\...\n",
       "269    Not only that I have to see that \"You are a pi...\n",
       "928    Sorry if this is a stupid question - I was jus...\n",
       "337    Hey guys, do u know if there is any discount c...\n",
       "98                                             [removed]\n",
       "315    I‘m amazed by the quality of everything surrou...\n",
       "880                                            [removed]\n",
       "782    When are we able to and when is the deadline t...\n",
       "540                                            [removed]\n",
       "317                                            [removed]\n",
       "64     \\n\\n[View Poll](https://www.reddit.com/poll/q9...\n",
       "105    Can't find a second person to go with locally,...\n",
       "Name: selftext, dtype: object"
      ]
     },
     "execution_count": 31,
     "metadata": {},
     "output_type": "execute_result"
    }
   ],
   "source": [
    "X_test[(y_test != preds1) & (preds1 == 1)].tail(60)"
   ]
  },
  {
   "cell_type": "markdown",
   "id": "1c5db026",
   "metadata": {},
   "source": [
    "---"
   ]
  },
  {
   "cell_type": "markdown",
   "id": "11e94f3d",
   "metadata": {},
   "source": [
    "### Model 2 - KNN with TFIDF"
   ]
  },
  {
   "cell_type": "code",
   "execution_count": 32,
   "id": "cc2f3901",
   "metadata": {},
   "outputs": [],
   "source": [
    "pipe2 = Pipeline([\n",
    "    ('tvec', TfidfVectorizer()),\n",
    "    ('knn', KNeighborsClassifier())\n",
    "])"
   ]
  },
  {
   "cell_type": "code",
   "execution_count": 33,
   "id": "e23ef8b2",
   "metadata": {},
   "outputs": [],
   "source": [
    "params2 = {\n",
    "    'knn__n_neighbors': [4, 5, 6, 7],\n",
    "    'tvec__stop_words': ['english', None],\n",
    "    'tvec__min_df': [22, 23, 24, 25, 26, 27],\n",
    "    'tvec__max_df': [.1, .2, .3],\n",
    "    'tvec__ngram_range': [(1,1), (1,2)]\n",
    "}"
   ]
  },
  {
   "cell_type": "code",
   "execution_count": 34,
   "id": "97b5a0aa",
   "metadata": {},
   "outputs": [
    {
     "name": "stdout",
     "output_type": "stream",
     "text": [
      "0.6859999999999999\n"
     ]
    },
    {
     "data": {
      "text/plain": [
       "{'knn__n_neighbors': 5,\n",
       " 'tvec__max_df': 0.1,\n",
       " 'tvec__min_df': 24,\n",
       " 'tvec__ngram_range': (1, 2),\n",
       " 'tvec__stop_words': 'english'}"
      ]
     },
     "execution_count": 34,
     "metadata": {},
     "output_type": "execute_result"
    }
   ],
   "source": [
    "gs2 = GridSearchCV(pipe2, param_grid=params2)\n",
    "gs2.fit(X_train, y_train)\n",
    "print(gs2.best_score_)\n",
    "gs2.best_params_"
   ]
  },
  {
   "cell_type": "code",
   "execution_count": 35,
   "id": "efcbc8d5",
   "metadata": {},
   "outputs": [
    {
     "data": {
      "text/plain": [
       "<sklearn.metrics._plot.confusion_matrix.ConfusionMatrixDisplay at 0x14652e64f40>"
      ]
     },
     "execution_count": 35,
     "metadata": {},
     "output_type": "execute_result"
    },
    {
     "data": {
      "image/png": "[encoded data removed]",
      "text/plain": [
       "<Figure size 432x288 with 2 Axes>"
      ]
     },
     "metadata": {
      "needs_background": "light"
     },
     "output_type": "display_data"
    }
   ],
   "source": [
    "plot_confusion_matrix(gs2, X_train, y_train, display_labels=['Tomorrowland', 'PremierLeague'])"
   ]
  },
  {
   "cell_type": "code",
   "execution_count": 36,
   "id": "a5bd1268",
   "metadata": {},
   "outputs": [
    {
     "data": {
      "text/plain": [
       "<sklearn.metrics._plot.confusion_matrix.ConfusionMatrixDisplay at 0x14652ffa580>"
      ]
     },
     "execution_count": 36,
     "metadata": {},
     "output_type": "execute_result"
    },
    {
     "data": {
      "image/png": "[encoded data removed]",
      "text/plain": [
       "<Figure size 432x288 with 2 Axes>"
      ]
     },
     "metadata": {
      "needs_background": "light"
     },
     "output_type": "display_data"
    }
   ],
   "source": [
    "plot_confusion_matrix(gs2, X_test, y_test, display_labels=['Tomorrowland', 'PremierLeague'])"
   ]
  },
  {
   "cell_type": "markdown",
   "id": "a64d3eae",
   "metadata": {},
   "source": [
    "---"
   ]
  },
  {
   "cell_type": "markdown",
   "id": "da09c68e",
   "metadata": {},
   "source": [
    "### Model 3 - Logistic Regression with CountVectorizer"
   ]
  },
  {
   "cell_type": "code",
   "execution_count": 37,
   "id": "0c3e8d14",
   "metadata": {},
   "outputs": [],
   "source": [
    "pipe3 = Pipeline([\n",
    "    ('cvec', CountVectorizer()),\n",
    "    ('logreg', LogisticRegression())\n",
    "])"
   ]
  },
  {
   "cell_type": "code",
   "execution_count": 38,
   "id": "a56ec45e",
   "metadata": {},
   "outputs": [],
   "source": [
    "params3 = {\n",
    "    'cvec__min_df': [1, 2, 3],\n",
    "    'cvec__max_df': [.1, .2, .3],\n",
    "    'cvec__binary': [True, False],\n",
    "    'cvec__stop_words': [None, 'english'],\n",
    "    'cvec__ngram_range': [(1,1), (1,2)],\n",
    "    'logreg__C': [1, 2, 3]\n",
    "}"
   ]
  },
  {
   "cell_type": "code",
   "execution_count": 39,
   "id": "e16c7d04",
   "metadata": {},
   "outputs": [
    {
     "name": "stdout",
     "output_type": "stream",
     "text": [
      "0.7360000000000001\n"
     ]
    },
    {
     "data": {
      "text/plain": [
       "{'cvec__binary': True,\n",
       " 'cvec__max_df': 0.1,\n",
       " 'cvec__min_df': 2,\n",
       " 'cvec__ngram_range': (1, 1),\n",
       " 'cvec__stop_words': 'english',\n",
       " 'logreg__C': 1}"
      ]
     },
     "execution_count": 39,
     "metadata": {},
     "output_type": "execute_result"
    }
   ],
   "source": [
    "gs3 = GridSearchCV(pipe3, param_grid=params3)\n",
    "gs3.fit(X_train, y_train)\n",
    "print(gs3.best_score_)\n",
    "gs3.best_params_"
   ]
  },
  {
   "cell_type": "code",
   "execution_count": 40,
   "id": "901e68ce",
   "metadata": {},
   "outputs": [
    {
     "data": {
      "text/plain": [
       "<sklearn.metrics._plot.confusion_matrix.ConfusionMatrixDisplay at 0x14654361d60>"
      ]
     },
     "execution_count": 40,
     "metadata": {},
     "output_type": "execute_result"
    },
    {
     "data": {
      "image/png": "[encoded data removed]",
      "text/plain": [
       "<Figure size 432x288 with 2 Axes>"
      ]
     },
     "metadata": {
      "needs_background": "light"
     },
     "output_type": "display_data"
    }
   ],
   "source": [
    "plot_confusion_matrix(gs3, X_train, y_train, display_labels=['Tomorrowland', 'PremierLeague'])"
   ]
  },
  {
   "cell_type": "code",
   "execution_count": 41,
   "id": "70e782c1",
   "metadata": {},
   "outputs": [
    {
     "data": {
      "text/plain": [
       "<sklearn.metrics._plot.confusion_matrix.ConfusionMatrixDisplay at 0x14652dd5ca0>"
      ]
     },
     "execution_count": 41,
     "metadata": {},
     "output_type": "execute_result"
    },
    {
     "data": {
      "image/png": "[encoded data removed]",
      "text/plain": [
       "<Figure size 432x288 with 2 Axes>"
      ]
     },
     "metadata": {
      "needs_background": "light"
     },
     "output_type": "display_data"
    }
   ],
   "source": [
    "plot_confusion_matrix(gs3, X_test, y_test, display_labels=['Tomorrowland', 'PremierLeague'])"
   ]
  },
  {
   "cell_type": "markdown",
   "id": "7751eb5c",
   "metadata": {},
   "source": [
    "---"
   ]
  },
  {
   "cell_type": "markdown",
   "id": "da88eee7",
   "metadata": {},
   "source": [
    "### Model 4 - Logistic Regression with TFIDF"
   ]
  },
  {
   "cell_type": "code",
   "execution_count": 42,
   "id": "940ebef2",
   "metadata": {},
   "outputs": [],
   "source": [
    "pipe4 = Pipeline([\n",
    "    ('tvec', TfidfVectorizer()),\n",
    "    ('logreg', LogisticRegression())\n",
    "])"
   ]
  },
  {
   "cell_type": "code",
   "execution_count": 43,
   "id": "b0518026",
   "metadata": {},
   "outputs": [],
   "source": [
    "params4 = {\n",
    "    'tvec__stop_words': [None, 'english'],\n",
    "    'tvec__min_df': [1, 2, 3, 4, 5],\n",
    "    'tvec__max_df': [.2, .3, .4],\n",
    "    'tvec__ngram_range': [(1,1), (1,2)],\n",
    "    'logreg__C': [1, 2, 3]\n",
    "}"
   ]
  },
  {
   "cell_type": "code",
   "execution_count": 44,
   "id": "f6785ede",
   "metadata": {},
   "outputs": [
    {
     "name": "stdout",
     "output_type": "stream",
     "text": [
      "0.74\n"
     ]
    },
    {
     "data": {
      "text/plain": [
       "{'logreg__C': 3,\n",
       " 'tvec__max_df': 0.2,\n",
       " 'tvec__min_df': 2,\n",
       " 'tvec__ngram_range': (1, 2),\n",
       " 'tvec__stop_words': 'english'}"
      ]
     },
     "execution_count": 44,
     "metadata": {},
     "output_type": "execute_result"
    }
   ],
   "source": [
    "gs4 = GridSearchCV(pipe4, param_grid=params4)\n",
    "gs4.fit(X_train, y_train)\n",
    "print(gs4.best_score_)\n",
    "gs4.best_params_"
   ]
  },
  {
   "cell_type": "code",
   "execution_count": 45,
   "id": "27711080",
   "metadata": {},
   "outputs": [
    {
     "data": {
      "text/plain": [
       "<sklearn.metrics._plot.confusion_matrix.ConfusionMatrixDisplay at 0x14654b658b0>"
      ]
     },
     "execution_count": 45,
     "metadata": {},
     "output_type": "execute_result"
    },
    {
     "data": {
      "image/png": "[encoded data removed]",
      "text/plain": [
       "<Figure size 432x288 with 2 Axes>"
      ]
     },
     "metadata": {
      "needs_background": "light"
     },
     "output_type": "display_data"
    }
   ],
   "source": [
    "plot_confusion_matrix(gs4, X_train, y_train, display_labels=['Tomorrowland', 'PremierLeague'])"
   ]
  },
  {
   "cell_type": "code",
   "execution_count": 46,
   "id": "7e687ca5",
   "metadata": {},
   "outputs": [
    {
     "data": {
      "text/plain": [
       "<sklearn.metrics._plot.confusion_matrix.ConfusionMatrixDisplay at 0x146541243a0>"
      ]
     },
     "execution_count": 46,
     "metadata": {},
     "output_type": "execute_result"
    },
    {
     "data": {
      "image/png": "[encoded data removed]",
      "text/plain": [
       "<Figure size 432x288 with 2 Axes>"
      ]
     },
     "metadata": {
      "needs_background": "light"
     },
     "output_type": "display_data"
    }
   ],
   "source": [
    "plot_confusion_matrix(gs4, X_test, y_test, display_labels=['Tomorrowland', 'PremierLeague'])"
   ]
  },
  {
   "cell_type": "markdown",
   "id": "7e12ef0c",
   "metadata": {},
   "source": [
    "---"
   ]
  },
  {
   "cell_type": "markdown",
   "id": "4559c614",
   "metadata": {},
   "source": [
    "### Model 5 - Decision Tree with CountVectorizer"
   ]
  },
  {
   "cell_type": "code",
   "execution_count": 47,
   "id": "7655ae82",
   "metadata": {},
   "outputs": [],
   "source": [
    "pipe5 = Pipeline([\n",
    "    ('cvec', CountVectorizer()),\n",
    "    ('dt', DecisionTreeClassifier())\n",
    "])"
   ]
  },
  {
   "cell_type": "code",
   "execution_count": 48,
   "id": "248ee4af",
   "metadata": {},
   "outputs": [],
   "source": [
    "params5 = {\n",
    "    'cvec__min_df': [1, 2, 3, 4],\n",
    "    'cvec__max_df': [.1, .2, .3, .4],\n",
    "    'cvec__binary': [True, False],\n",
    "    'cvec__stop_words': ['english', None],\n",
    "    'dt__random_state': [10],\n",
    "    'dt__min_samples_split': [5, 6, 7, 8, 9, 10]\n",
    "}"
   ]
  },
  {
   "cell_type": "code",
   "execution_count": 49,
   "id": "b579b7d8",
   "metadata": {},
   "outputs": [
    {
     "name": "stdout",
     "output_type": "stream",
     "text": [
      "0.7133333333333333\n"
     ]
    },
    {
     "data": {
      "text/plain": [
       "{'cvec__binary': True,\n",
       " 'cvec__max_df': 0.2,\n",
       " 'cvec__min_df': 2,\n",
       " 'cvec__stop_words': 'english',\n",
       " 'dt__min_samples_split': 8,\n",
       " 'dt__random_state': 10}"
      ]
     },
     "execution_count": 49,
     "metadata": {},
     "output_type": "execute_result"
    }
   ],
   "source": [
    "gs5 = GridSearchCV(pipe5, param_grid=params5)\n",
    "gs5.fit(X_train, y_train)\n",
    "print(gs5.best_score_)\n",
    "gs5.best_params_"
   ]
  },
  {
   "cell_type": "code",
   "execution_count": 50,
   "id": "88dfb4b5",
   "metadata": {},
   "outputs": [
    {
     "data": {
      "text/plain": [
       "<sklearn.metrics._plot.confusion_matrix.ConfusionMatrixDisplay at 0x14652f91070>"
      ]
     },
     "execution_count": 50,
     "metadata": {},
     "output_type": "execute_result"
    },
    {
     "data": {
      "image/png": "[encoded data removed]",
      "text/plain": [
       "<Figure size 432x288 with 2 Axes>"
      ]
     },
     "metadata": {
      "needs_background": "light"
     },
     "output_type": "display_data"
    }
   ],
   "source": [
    "plot_confusion_matrix(gs5, X_train, y_train, display_labels=['Tomorrowland', 'PremierLeague'])"
   ]
  },
  {
   "cell_type": "code",
   "execution_count": 51,
   "id": "4ff92bfa",
   "metadata": {},
   "outputs": [
    {
     "data": {
      "text/plain": [
       "<sklearn.metrics._plot.confusion_matrix.ConfusionMatrixDisplay at 0x1465434bbe0>"
      ]
     },
     "execution_count": 51,
     "metadata": {},
     "output_type": "execute_result"
    },
    {
     "data": {
      "image/png": "[encoded data removed]",
      "text/plain": [
       "<Figure size 432x288 with 2 Axes>"
      ]
     },
     "metadata": {
      "needs_background": "light"
     },
     "output_type": "display_data"
    }
   ],
   "source": [
    "plot_confusion_matrix(gs5, X_test, y_test, display_labels=['Tomorrowland', 'PremierLeague'])"
   ]
  },
  {
   "cell_type": "markdown",
   "id": "c3300c60",
   "metadata": {},
   "source": [
    "---"
   ]
  },
  {
   "cell_type": "markdown",
   "id": "29a37d3a",
   "metadata": {},
   "source": [
    "### Model 6 - Decision Tree with TFIDF"
   ]
  },
  {
   "cell_type": "code",
   "execution_count": 52,
   "id": "6d913fab",
   "metadata": {},
   "outputs": [],
   "source": [
    "pipe6 = Pipeline([\n",
    "    ('tvec', TfidfVectorizer()),\n",
    "    ('dt', DecisionTreeClassifier())\n",
    "])"
   ]
  },
  {
   "cell_type": "code",
   "execution_count": 53,
   "id": "cc351ee1",
   "metadata": {},
   "outputs": [],
   "source": [
    "params6 = {\n",
    "    'tvec__stop_words': ['english', None],\n",
    "    'tvec__min_df': [2, 3, 4, 5, 6],\n",
    "    'tvec__max_df': [.1, .2, .3, .4],\n",
    "    'tvec__ngram_range': [(1,1), (1,2)],\n",
    "    'dt__random_state': [42],\n",
    "    'dt__min_samples_split': [2, 3, 4]\n",
    "}"
   ]
  },
  {
   "cell_type": "code",
   "execution_count": 54,
   "id": "35d1e5b5",
   "metadata": {},
   "outputs": [
    {
     "name": "stdout",
     "output_type": "stream",
     "text": [
      "0.7033333333333334\n"
     ]
    },
    {
     "data": {
      "text/plain": [
       "{'dt__min_samples_split': 3,\n",
       " 'dt__random_state': 42,\n",
       " 'tvec__max_df': 0.2,\n",
       " 'tvec__min_df': 2,\n",
       " 'tvec__ngram_range': (1, 2),\n",
       " 'tvec__stop_words': 'english'}"
      ]
     },
     "execution_count": 54,
     "metadata": {},
     "output_type": "execute_result"
    }
   ],
   "source": [
    "gs6 = GridSearchCV(pipe6, param_grid=params6)\n",
    "gs6.fit(X_train, y_train)\n",
    "print(gs6.best_score_)\n",
    "gs6.best_params_"
   ]
  },
  {
   "cell_type": "code",
   "execution_count": 55,
   "id": "5a4730eb",
   "metadata": {},
   "outputs": [
    {
     "data": {
      "text/plain": [
       "<sklearn.metrics._plot.confusion_matrix.ConfusionMatrixDisplay at 0x1465449f4f0>"
      ]
     },
     "execution_count": 55,
     "metadata": {},
     "output_type": "execute_result"
    },
    {
     "data": {
      "image/png": "[encoded data removed]",
      "text/plain": [
       "<Figure size 432x288 with 2 Axes>"
      ]
     },
     "metadata": {
      "needs_background": "light"
     },
     "output_type": "display_data"
    }
   ],
   "source": [
    "plot_confusion_matrix(gs6, X_train, y_train, display_labels=['Tomorrowland', 'PremierLeague'])"
   ]
  },
  {
   "cell_type": "code",
   "execution_count": 56,
   "id": "3533d036",
   "metadata": {},
   "outputs": [
    {
     "data": {
      "text/plain": [
       "<sklearn.metrics._plot.confusion_matrix.ConfusionMatrixDisplay at 0x14654b4bf40>"
      ]
     },
     "execution_count": 56,
     "metadata": {},
     "output_type": "execute_result"
    },
    {
     "data": {
      "image/png": "[encoded data removed]",
      "text/plain": [
       "<Figure size 432x288 with 2 Axes>"
      ]
     },
     "metadata": {
      "needs_background": "light"
     },
     "output_type": "display_data"
    }
   ],
   "source": [
    "plot_confusion_matrix(gs6, X_test, y_test, display_labels=['Tomorrowland', 'PremierLeague'])"
   ]
  },
  {
   "cell_type": "markdown",
   "id": "e3b6d14b",
   "metadata": {},
   "source": [
    "---"
   ]
  },
  {
   "cell_type": "markdown",
   "id": "54eb9f1c",
   "metadata": {},
   "source": [
    "### Model 7 - RandomForest with CountVectorizer"
   ]
  },
  {
   "cell_type": "code",
   "execution_count": 57,
   "id": "a4eaaa4c",
   "metadata": {},
   "outputs": [],
   "source": [
    "pipe7 = Pipeline([\n",
    "    ('cvec', CountVectorizer()),\n",
    "    ('rf', RandomForestClassifier())\n",
    "])"
   ]
  },
  {
   "cell_type": "code",
   "execution_count": 58,
   "id": "67a5cad3",
   "metadata": {},
   "outputs": [],
   "source": [
    "params7 = {\n",
    "    'cvec__min_df': [1, 2, 3, 4],\n",
    "    'cvec__max_df': [.1, .2, .3, .4],\n",
    "    'cvec__binary': [True, False],\n",
    "    'cvec__stop_words': ['english', None],\n",
    "    'rf__random_state': [42]\n",
    "}"
   ]
  },
  {
   "cell_type": "code",
   "execution_count": 59,
   "id": "b4f69e3d",
   "metadata": {},
   "outputs": [
    {
     "name": "stdout",
     "output_type": "stream",
     "text": [
      "0.7366666666666667\n"
     ]
    },
    {
     "data": {
      "text/plain": [
       "{'cvec__binary': True,\n",
       " 'cvec__max_df': 0.2,\n",
       " 'cvec__min_df': 2,\n",
       " 'cvec__stop_words': 'english',\n",
       " 'rf__random_state': 42}"
      ]
     },
     "execution_count": 59,
     "metadata": {},
     "output_type": "execute_result"
    }
   ],
   "source": [
    "gs7 = GridSearchCV(pipe7, param_grid=params7)\n",
    "gs7.fit(X_train, y_train)\n",
    "print(gs7.best_score_)\n",
    "gs7.best_params_"
   ]
  },
  {
   "cell_type": "code",
   "execution_count": 60,
   "id": "f966d5b1",
   "metadata": {},
   "outputs": [
    {
     "data": {
      "text/plain": [
       "<sklearn.metrics._plot.confusion_matrix.ConfusionMatrixDisplay at 0x14654a74c40>"
      ]
     },
     "execution_count": 60,
     "metadata": {},
     "output_type": "execute_result"
    },
    {
     "data": {
      "image/png": "[encoded data removed]",
      "text/plain": [
       "<Figure size 432x288 with 2 Axes>"
      ]
     },
     "metadata": {
      "needs_background": "light"
     },
     "output_type": "display_data"
    }
   ],
   "source": [
    "plot_confusion_matrix(gs7, X_train, y_train, display_labels=['Tomorrowland', 'PremierLeague'])"
   ]
  },
  {
   "cell_type": "code",
   "execution_count": 61,
   "id": "37efd817",
   "metadata": {},
   "outputs": [
    {
     "data": {
      "text/plain": [
       "<sklearn.metrics._plot.confusion_matrix.ConfusionMatrixDisplay at 0x146549b24c0>"
      ]
     },
     "execution_count": 61,
     "metadata": {},
     "output_type": "execute_result"
    },
    {
     "data": {
      "image/png": "[encoded data removed]",
      "text/plain": [
       "<Figure size 432x288 with 2 Axes>"
      ]
     },
     "metadata": {
      "needs_background": "light"
     },
     "output_type": "display_data"
    }
   ],
   "source": [
    "plot_confusion_matrix(gs7, X_test, y_test, display_labels=['Tomorrowland', 'PremierLeague'])"
   ]
  },
  {
   "cell_type": "markdown",
   "id": "cdfa4bba",
   "metadata": {},
   "source": [
    "---"
   ]
  },
  {
   "cell_type": "markdown",
   "id": "35dff267",
   "metadata": {},
   "source": [
    "### Model 8 - RandomForest with TFIDF"
   ]
  },
  {
   "cell_type": "code",
   "execution_count": 62,
   "id": "a2dbe41e",
   "metadata": {},
   "outputs": [],
   "source": [
    "pipe8 = Pipeline([\n",
    "    ('tvec', TfidfVectorizer()),\n",
    "    ('rf', RandomForestClassifier())\n",
    "])"
   ]
  },
  {
   "cell_type": "code",
   "execution_count": 63,
   "id": "83fa73f7",
   "metadata": {},
   "outputs": [],
   "source": [
    "params8 = {\n",
    "    'tvec__stop_words': [None, 'english'],\n",
    "    'tvec__min_df': [1, 2, 3, 4, 5],\n",
    "    'tvec__max_df': [.2, .3, .4],\n",
    "    'tvec__ngram_range': [(1,1), (1,2)],\n",
    "    'rf__random_state': [42]\n",
    "}"
   ]
  },
  {
   "cell_type": "code",
   "execution_count": 64,
   "id": "884a511e",
   "metadata": {},
   "outputs": [
    {
     "name": "stdout",
     "output_type": "stream",
     "text": [
      "0.7353333333333334\n"
     ]
    },
    {
     "data": {
      "text/plain": [
       "{'rf__random_state': 42,\n",
       " 'tvec__max_df': 0.2,\n",
       " 'tvec__min_df': 1,\n",
       " 'tvec__ngram_range': (1, 1),\n",
       " 'tvec__stop_words': 'english'}"
      ]
     },
     "execution_count": 64,
     "metadata": {},
     "output_type": "execute_result"
    }
   ],
   "source": [
    "gs8 = GridSearchCV(pipe8, param_grid=params8)\n",
    "gs8.fit(X_train, y_train)\n",
    "print(gs8.best_score_)\n",
    "gs8.best_params_"
   ]
  },
  {
   "cell_type": "code",
   "execution_count": 65,
   "id": "405801d1",
   "metadata": {},
   "outputs": [
    {
     "data": {
      "text/plain": [
       "<sklearn.metrics._plot.confusion_matrix.ConfusionMatrixDisplay at 0x14654fc4190>"
      ]
     },
     "execution_count": 65,
     "metadata": {},
     "output_type": "execute_result"
    },
    {
     "data": {
      "image/png": "[encoded data removed]",
      "text/plain": [
       "<Figure size 432x288 with 2 Axes>"
      ]
     },
     "metadata": {
      "needs_background": "light"
     },
     "output_type": "display_data"
    }
   ],
   "source": [
    "plot_confusion_matrix(gs8, X_train, y_train, display_labels=['Tomorrowland', 'PremierLeague'])"
   ]
  },
  {
   "cell_type": "code",
   "execution_count": 66,
   "id": "b32fb447",
   "metadata": {},
   "outputs": [
    {
     "data": {
      "text/plain": [
       "<sklearn.metrics._plot.confusion_matrix.ConfusionMatrixDisplay at 0x14654ba5c40>"
      ]
     },
     "execution_count": 66,
     "metadata": {},
     "output_type": "execute_result"
    },
    {
     "data": {
      "image/png": "[encoded data removed]",
      "text/plain": [
       "<Figure size 432x288 with 2 Axes>"
      ]
     },
     "metadata": {
      "needs_background": "light"
     },
     "output_type": "display_data"
    }
   ],
   "source": [
    "plot_confusion_matrix(gs8, X_test, y_test, display_labels=['Tomorrowland', 'PremierLeague'])"
   ]
  },
  {
   "cell_type": "code",
   "execution_count": null,
   "id": "a2648473",
   "metadata": {},
   "outputs": [],
   "source": []
  }
 ],
 "metadata": {
  "kernelspec": {
   "display_name": "Python 3",
   "language": "python",
   "name": "python3"
  },
  "language_info": {
   "codemirror_mode": {
    "name": "ipython",
    "version": 3
   },
   "file_extension": ".py",
   "mimetype": "text/x-python",
   "name": "python",
   "nbconvert_exporter": "python",
   "pygments_lexer": "ipython3",
   "version": "3.8.8"
  }
 },
 "nbformat": 4,
 "nbformat_minor": 5
}
