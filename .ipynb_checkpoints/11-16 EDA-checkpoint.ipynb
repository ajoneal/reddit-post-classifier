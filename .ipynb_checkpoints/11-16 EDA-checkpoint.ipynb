{
 "cells": [
  {
   "cell_type": "code",
   "execution_count": 5,
   "id": "e2113b6f",
   "metadata": {},
   "outputs": [],
   "source": [
    "import pandas as pd\n",
    "import numpy as np\n",
    "import matplotlib.pyplot as plt\n",
    "import seaborn as sns\n",
    "\n",
    "from sklearn.feature_extraction.text import CountVectorizer, TfidfVectorizer"
   ]
  },
  {
   "cell_type": "code",
   "execution_count": 6,
   "id": "f6ba9998",
   "metadata": {},
   "outputs": [
    {
     "data": {
      "text/html": [
       "<div>\n",
       "<style scoped>\n",
       "    .dataframe tbody tr th:only-of-type {\n",
       "        vertical-align: middle;\n",
       "    }\n",
       "\n",
       "    .dataframe tbody tr th {\n",
       "        vertical-align: top;\n",
       "    }\n",
       "\n",
       "    .dataframe thead th {\n",
       "        text-align: right;\n",
       "    }\n",
       "</style>\n",
       "<table border=\"1\" class=\"dataframe\">\n",
       "  <thead>\n",
       "    <tr style=\"text-align: right;\">\n",
       "      <th></th>\n",
       "      <th>title</th>\n",
       "      <th>selftext</th>\n",
       "      <th>subreddit</th>\n",
       "      <th>created_utc</th>\n",
       "    </tr>\n",
       "  </thead>\n",
       "  <tbody>\n",
       "    <tr>\n",
       "      <th>0</th>\n",
       "      <td>Genreverse</td>\n",
       "      <td>Hi everyone, \\n\\nHere at Genreverse our ultima...</td>\n",
       "      <td>Tomorrowland</td>\n",
       "      <td>1637031457</td>\n",
       "    </tr>\n",
       "    <tr>\n",
       "      <th>1</th>\n",
       "      <td>Tomorrowland and it's bass line-up</td>\n",
       "      <td>So obviously Tomorrowland has always had a gre...</td>\n",
       "      <td>Tomorrowland</td>\n",
       "      <td>1637002849</td>\n",
       "    </tr>\n",
       "    <tr>\n",
       "      <th>2</th>\n",
       "      <td>Hand crafts 2021</td>\n",
       "      <td>NaN</td>\n",
       "      <td>Tomorrowland</td>\n",
       "      <td>1636935255</td>\n",
       "    </tr>\n",
       "    <tr>\n",
       "      <th>3</th>\n",
       "      <td>Winter TML lodging</td>\n",
       "      <td>hello! I have the 4 day pass without lodging a...</td>\n",
       "      <td>Tomorrowland</td>\n",
       "      <td>1636922669</td>\n",
       "    </tr>\n",
       "    <tr>\n",
       "      <th>4</th>\n",
       "      <td>Was Tomorrowland around the world 2020 a speci...</td>\n",
       "      <td>NaN</td>\n",
       "      <td>Tomorrowland</td>\n",
       "      <td>1636904090</td>\n",
       "    </tr>\n",
       "  </tbody>\n",
       "</table>\n",
       "</div>"
      ],
      "text/plain": [
       "                                               title  \\\n",
       "0                                         Genreverse   \n",
       "1                 Tomorrowland and it's bass line-up   \n",
       "2                                   Hand crafts 2021   \n",
       "3                                 Winter TML lodging   \n",
       "4  Was Tomorrowland around the world 2020 a speci...   \n",
       "\n",
       "                                            selftext     subreddit  \\\n",
       "0  Hi everyone, \\n\\nHere at Genreverse our ultima...  Tomorrowland   \n",
       "1  So obviously Tomorrowland has always had a gre...  Tomorrowland   \n",
       "2                                                NaN  Tomorrowland   \n",
       "3  hello! I have the 4 day pass without lodging a...  Tomorrowland   \n",
       "4                                                NaN  Tomorrowland   \n",
       "\n",
       "   created_utc  \n",
       "0   1637031457  \n",
       "1   1637002849  \n",
       "2   1636935255  \n",
       "3   1636922669  \n",
       "4   1636904090  "
      ]
     },
     "execution_count": 6,
     "metadata": {},
     "output_type": "execute_result"
    }
   ],
   "source": [
    "df = pd.read_csv('Data/Prem-Tomorrowland_posts_11-16.csv')\n",
    "df.head()"
   ]
  },
  {
   "cell_type": "code",
   "execution_count": 8,
   "id": "8fb081c7",
   "metadata": {},
   "outputs": [
    {
     "data": {
      "text/plain": [
       "(2000, 4)"
      ]
     },
     "execution_count": 8,
     "metadata": {},
     "output_type": "execute_result"
    }
   ],
   "source": [
    "df.shape"
   ]
  },
  {
   "cell_type": "code",
   "execution_count": 9,
   "id": "005ee0d5",
   "metadata": {},
   "outputs": [
    {
     "data": {
      "text/plain": [
       "title            0\n",
       "selftext       885\n",
       "subreddit        0\n",
       "created_utc      0\n",
       "dtype: int64"
      ]
     },
     "execution_count": 9,
     "metadata": {},
     "output_type": "execute_result"
    }
   ],
   "source": [
    "df.isnull().sum()"
   ]
  },
  {
   "cell_type": "code",
   "execution_count": 14,
   "id": "e08fdc1e",
   "metadata": {},
   "outputs": [
    {
     "data": {
      "text/plain": [
       "(451, 4)"
      ]
     },
     "execution_count": 14,
     "metadata": {},
     "output_type": "execute_result"
    }
   ],
   "source": [
    "df[(df['selftext'].isnull()) & (df['subreddit'] == 'Tomorrowland')].shape\n",
    "# almost even split of null values in selftext column between Tomorrowland and Premier League Reddits"
   ]
  },
  {
   "cell_type": "code",
   "execution_count": 15,
   "id": "873b70c7",
   "metadata": {},
   "outputs": [
    {
     "data": {
      "text/html": [
       "<div>\n",
       "<style scoped>\n",
       "    .dataframe tbody tr th:only-of-type {\n",
       "        vertical-align: middle;\n",
       "    }\n",
       "\n",
       "    .dataframe tbody tr th {\n",
       "        vertical-align: top;\n",
       "    }\n",
       "\n",
       "    .dataframe thead th {\n",
       "        text-align: right;\n",
       "    }\n",
       "</style>\n",
       "<table border=\"1\" class=\"dataframe\">\n",
       "  <thead>\n",
       "    <tr style=\"text-align: right;\">\n",
       "      <th></th>\n",
       "      <th>title</th>\n",
       "      <th>selftext</th>\n",
       "      <th>subreddit</th>\n",
       "      <th>created_utc</th>\n",
       "    </tr>\n",
       "  </thead>\n",
       "  <tbody>\n",
       "  </tbody>\n",
       "</table>\n",
       "</div>"
      ],
      "text/plain": [
       "Empty DataFrame\n",
       "Columns: [title, selftext, subreddit, created_utc]\n",
       "Index: []"
      ]
     },
     "execution_count": 15,
     "metadata": {},
     "output_type": "execute_result"
    }
   ],
   "source": [
    "df[df['selftext'] == 'None']"
   ]
  },
  {
   "cell_type": "code",
   "execution_count": 19,
   "id": "1f22bb64",
   "metadata": {},
   "outputs": [],
   "source": [
    "df['selftext'].fillna('None', inplace=True)  # good imputation or no? (almost even split of nulls)"
   ]
  },
  {
   "cell_type": "code",
   "execution_count": 25,
   "id": "76e27292",
   "metadata": {},
   "outputs": [],
   "source": [
    "length = []\n",
    "for i in df['title']:\n",
    "    length.append(len(i))\n",
    "    \n",
    "df['title_length'] = length"
   ]
  },
  {
   "cell_type": "code",
   "execution_count": 26,
   "id": "5d3649c7",
   "metadata": {},
   "outputs": [],
   "source": [
    "num_words = []\n",
    "for i in df['title']:\n",
    "    num_words.append(len(i.split()))\n",
    "\n",
    "df['title_word_count'] = num_words"
   ]
  },
  {
   "cell_type": "code",
   "execution_count": 27,
   "id": "ff3b8677",
   "metadata": {},
   "outputs": [],
   "source": [
    "length = []\n",
    "for i in df['selftext']:\n",
    "    length.append(len(i))\n",
    "    \n",
    "df['selftext_length'] = length"
   ]
  },
  {
   "cell_type": "code",
   "execution_count": 28,
   "id": "625d2251",
   "metadata": {},
   "outputs": [],
   "source": [
    "num_words = []\n",
    "for i in df['selftext']:\n",
    "    num_words.append(len(i.split()))\n",
    "\n",
    "df['selftext_word_count'] = num_words"
   ]
  },
  {
   "cell_type": "code",
   "execution_count": 29,
   "id": "fdb11614",
   "metadata": {},
   "outputs": [
    {
     "data": {
      "text/html": [
       "<div>\n",
       "<style scoped>\n",
       "    .dataframe tbody tr th:only-of-type {\n",
       "        vertical-align: middle;\n",
       "    }\n",
       "\n",
       "    .dataframe tbody tr th {\n",
       "        vertical-align: top;\n",
       "    }\n",
       "\n",
       "    .dataframe thead th {\n",
       "        text-align: right;\n",
       "    }\n",
       "</style>\n",
       "<table border=\"1\" class=\"dataframe\">\n",
       "  <thead>\n",
       "    <tr style=\"text-align: right;\">\n",
       "      <th></th>\n",
       "      <th>title</th>\n",
       "      <th>selftext</th>\n",
       "      <th>subreddit</th>\n",
       "      <th>created_utc</th>\n",
       "      <th>title_length</th>\n",
       "      <th>title_word_count</th>\n",
       "      <th>selftext_length</th>\n",
       "      <th>selftext_word_count</th>\n",
       "    </tr>\n",
       "  </thead>\n",
       "  <tbody>\n",
       "    <tr>\n",
       "      <th>0</th>\n",
       "      <td>Genreverse</td>\n",
       "      <td>Hi everyone, \\n\\nHere at Genreverse our ultima...</td>\n",
       "      <td>Tomorrowland</td>\n",
       "      <td>1637031457</td>\n",
       "      <td>10</td>\n",
       "      <td>1</td>\n",
       "      <td>398</td>\n",
       "      <td>57</td>\n",
       "    </tr>\n",
       "    <tr>\n",
       "      <th>1</th>\n",
       "      <td>Tomorrowland and it's bass line-up</td>\n",
       "      <td>So obviously Tomorrowland has always had a gre...</td>\n",
       "      <td>Tomorrowland</td>\n",
       "      <td>1637002849</td>\n",
       "      <td>34</td>\n",
       "      <td>5</td>\n",
       "      <td>620</td>\n",
       "      <td>104</td>\n",
       "    </tr>\n",
       "    <tr>\n",
       "      <th>2</th>\n",
       "      <td>Hand crafts 2021</td>\n",
       "      <td>None</td>\n",
       "      <td>Tomorrowland</td>\n",
       "      <td>1636935255</td>\n",
       "      <td>16</td>\n",
       "      <td>3</td>\n",
       "      <td>4</td>\n",
       "      <td>1</td>\n",
       "    </tr>\n",
       "    <tr>\n",
       "      <th>3</th>\n",
       "      <td>Winter TML lodging</td>\n",
       "      <td>hello! I have the 4 day pass without lodging a...</td>\n",
       "      <td>Tomorrowland</td>\n",
       "      <td>1636922669</td>\n",
       "      <td>18</td>\n",
       "      <td>3</td>\n",
       "      <td>334</td>\n",
       "      <td>65</td>\n",
       "    </tr>\n",
       "    <tr>\n",
       "      <th>4</th>\n",
       "      <td>Was Tomorrowland around the world 2020 a speci...</td>\n",
       "      <td>None</td>\n",
       "      <td>Tomorrowland</td>\n",
       "      <td>1636904090</td>\n",
       "      <td>60</td>\n",
       "      <td>9</td>\n",
       "      <td>4</td>\n",
       "      <td>1</td>\n",
       "    </tr>\n",
       "  </tbody>\n",
       "</table>\n",
       "</div>"
      ],
      "text/plain": [
       "                                               title  \\\n",
       "0                                         Genreverse   \n",
       "1                 Tomorrowland and it's bass line-up   \n",
       "2                                   Hand crafts 2021   \n",
       "3                                 Winter TML lodging   \n",
       "4  Was Tomorrowland around the world 2020 a speci...   \n",
       "\n",
       "                                            selftext     subreddit  \\\n",
       "0  Hi everyone, \\n\\nHere at Genreverse our ultima...  Tomorrowland   \n",
       "1  So obviously Tomorrowland has always had a gre...  Tomorrowland   \n",
       "2                                               None  Tomorrowland   \n",
       "3  hello! I have the 4 day pass without lodging a...  Tomorrowland   \n",
       "4                                               None  Tomorrowland   \n",
       "\n",
       "   created_utc  title_length  title_word_count  selftext_length  \\\n",
       "0   1637031457            10                 1              398   \n",
       "1   1637002849            34                 5              620   \n",
       "2   1636935255            16                 3                4   \n",
       "3   1636922669            18                 3              334   \n",
       "4   1636904090            60                 9                4   \n",
       "\n",
       "   selftext_word_count  \n",
       "0                   57  \n",
       "1                  104  \n",
       "2                    1  \n",
       "3                   65  \n",
       "4                    1  "
      ]
     },
     "execution_count": 29,
     "metadata": {},
     "output_type": "execute_result"
    }
   ],
   "source": [
    "df.head()"
   ]
  },
  {
   "cell_type": "code",
   "execution_count": 35,
   "id": "5c852ea3",
   "metadata": {},
   "outputs": [
    {
     "data": {
      "text/html": [
       "<div>\n",
       "<style scoped>\n",
       "    .dataframe tbody tr th:only-of-type {\n",
       "        vertical-align: middle;\n",
       "    }\n",
       "\n",
       "    .dataframe tbody tr th {\n",
       "        vertical-align: top;\n",
       "    }\n",
       "\n",
       "    .dataframe thead th {\n",
       "        text-align: right;\n",
       "    }\n",
       "</style>\n",
       "<table border=\"1\" class=\"dataframe\">\n",
       "  <thead>\n",
       "    <tr style=\"text-align: right;\">\n",
       "      <th></th>\n",
       "      <th>created_utc</th>\n",
       "      <th>title_length</th>\n",
       "      <th>title_word_count</th>\n",
       "      <th>selftext_length</th>\n",
       "      <th>selftext_word_count</th>\n",
       "    </tr>\n",
       "    <tr>\n",
       "      <th>subreddit</th>\n",
       "      <th></th>\n",
       "      <th></th>\n",
       "      <th></th>\n",
       "      <th></th>\n",
       "      <th></th>\n",
       "    </tr>\n",
       "  </thead>\n",
       "  <tbody>\n",
       "    <tr>\n",
       "      <th>PremierLeague</th>\n",
       "      <td>1.636099e+09</td>\n",
       "      <td>61.019</td>\n",
       "      <td>10.807</td>\n",
       "      <td>183.992</td>\n",
       "      <td>28.719</td>\n",
       "    </tr>\n",
       "    <tr>\n",
       "      <th>Tomorrowland</th>\n",
       "      <td>1.621520e+09</td>\n",
       "      <td>47.623</td>\n",
       "      <td>8.171</td>\n",
       "      <td>198.603</td>\n",
       "      <td>33.946</td>\n",
       "    </tr>\n",
       "  </tbody>\n",
       "</table>\n",
       "</div>"
      ],
      "text/plain": [
       "                created_utc  title_length  title_word_count  selftext_length  \\\n",
       "subreddit                                                                      \n",
       "PremierLeague  1.636099e+09        61.019            10.807          183.992   \n",
       "Tomorrowland   1.621520e+09        47.623             8.171          198.603   \n",
       "\n",
       "               selftext_word_count  \n",
       "subreddit                           \n",
       "PremierLeague               28.719  \n",
       "Tomorrowland                33.946  "
      ]
     },
     "execution_count": 35,
     "metadata": {},
     "output_type": "execute_result"
    }
   ],
   "source": [
    "df.groupby('subreddit').mean()"
   ]
  },
  {
   "cell_type": "markdown",
   "id": "427d74b9",
   "metadata": {},
   "source": [
    "**Premier Leauge posts tend to have longer titles and shorter entries than Tomorrowland posts**"
   ]
  }
 ],
 "metadata": {
  "kernelspec": {
   "display_name": "Python 3",
   "language": "python",
   "name": "python3"
  },
  "language_info": {
   "codemirror_mode": {
    "name": "ipython",
    "version": 3
   },
   "file_extension": ".py",
   "mimetype": "text/x-python",
   "name": "python",
   "nbconvert_exporter": "python",
   "pygments_lexer": "ipython3",
   "version": "3.8.8"
  }
 },
 "nbformat": 4,
 "nbformat_minor": 5
}
