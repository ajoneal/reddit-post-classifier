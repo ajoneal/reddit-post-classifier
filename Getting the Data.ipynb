{
 "cells": [
  {
   "cell_type": "code",
   "execution_count": 4,
   "id": "67f30f5a",
   "metadata": {},
   "outputs": [],
   "source": [
    "import pandas as pd\n",
    "import numpy as np\n",
    "import requests\n",
    "import time\n",
    "\n",
    "pd.set_option('max_columns', 100)"
   ]
  },
  {
   "cell_type": "code",
   "execution_count": 5,
   "id": "9a9d2e7f",
   "metadata": {},
   "outputs": [],
   "source": [
    "url = 'https://api.pushshift.io/reddit/search/submission'"
   ]
  },
  {
   "cell_type": "code",
   "execution_count": 6,
   "id": "dd246187",
   "metadata": {},
   "outputs": [],
   "source": [
    "subreddits = ['Tomorrowland', 'PremierLeague']\n",
    "dfs = []\n",
    "\n",
    "for subreddit in subreddits:\n",
    "    for i in range(10):\n",
    "        # build your params to get the posts\n",
    "        params = {\n",
    "            'subreddit': subreddit,\n",
    "            'size': 100\n",
    "        }\n",
    "        # set before if i is not 0\n",
    "        if i != 0:\n",
    "            params['before'] = last_time\n",
    "        # get the response using requests\n",
    "        res = requests.get(url, params=params)\n",
    "        # turn the response into JSON\n",
    "        data = res.json()\n",
    "        # turn the JSON into a posts dataframe\n",
    "        posts = pd.DataFrame(data['data'])\n",
    "        # narrow the df to just be the columns you care about\n",
    "        posts = posts[['title', 'selftext', 'subreddit', 'created_utc']]\n",
    "        # set before if i is not 0\n",
    "        last_time = posts['created_utc'].values[-1]\n",
    "        # append the dataframe to dfs\n",
    "        dfs.append(posts)\n",
    "        time.sleep(3) # slow down three seconds in between each loop\n",
    "df = pd.concat(dfs)"
   ]
  },
  {
   "cell_type": "code",
   "execution_count": 7,
   "id": "bbe642cf",
   "metadata": {},
   "outputs": [],
   "source": [
    "df.reset_index(inplace=True)  # resetting index so each row has unique index"
   ]
  },
  {
   "cell_type": "code",
   "execution_count": 8,
   "id": "22f0d338",
   "metadata": {},
   "outputs": [],
   "source": [
    "df.drop(columns='index', inplace=True)"
   ]
  },
  {
   "cell_type": "code",
   "execution_count": 9,
   "id": "8b1901ab",
   "metadata": {},
   "outputs": [
    {
     "data": {
      "text/html": [
       "<div>\n",
       "<style scoped>\n",
       "    .dataframe tbody tr th:only-of-type {\n",
       "        vertical-align: middle;\n",
       "    }\n",
       "\n",
       "    .dataframe tbody tr th {\n",
       "        vertical-align: top;\n",
       "    }\n",
       "\n",
       "    .dataframe thead th {\n",
       "        text-align: right;\n",
       "    }\n",
       "</style>\n",
       "<table border=\"1\" class=\"dataframe\">\n",
       "  <thead>\n",
       "    <tr style=\"text-align: right;\">\n",
       "      <th></th>\n",
       "      <th>title</th>\n",
       "      <th>selftext</th>\n",
       "      <th>subreddit</th>\n",
       "      <th>created_utc</th>\n",
       "    </tr>\n",
       "  </thead>\n",
       "  <tbody>\n",
       "    <tr>\n",
       "      <th>0</th>\n",
       "      <td>Future Rave ⚡</td>\n",
       "      <td></td>\n",
       "      <td>Tomorrowland</td>\n",
       "      <td>1636697987</td>\n",
       "    </tr>\n",
       "    <tr>\n",
       "      <th>1</th>\n",
       "      <td>Trustworthy sites to sell tickets on</td>\n",
       "      <td>I may not be able to go to Tomorrowland winter...</td>\n",
       "      <td>Tomorrowland</td>\n",
       "      <td>1636680769</td>\n",
       "    </tr>\n",
       "    <tr>\n",
       "      <th>2</th>\n",
       "      <td>Drugs</td>\n",
       "      <td>Will it be hard to get a hold of drugs at tomo...</td>\n",
       "      <td>Tomorrowland</td>\n",
       "      <td>1636663049</td>\n",
       "    </tr>\n",
       "    <tr>\n",
       "      <th>3</th>\n",
       "      <td>Winter xxxxx</td>\n",
       "      <td>So winter 22 will be my first tomorrowland and...</td>\n",
       "      <td>Tomorrowland</td>\n",
       "      <td>1636655062</td>\n",
       "    </tr>\n",
       "    <tr>\n",
       "      <th>4</th>\n",
       "      <td>Tomorrowland 2022 or 2023</td>\n",
       "      <td>Hey so me and ny buddy are thinking of going t...</td>\n",
       "      <td>Tomorrowland</td>\n",
       "      <td>1636624601</td>\n",
       "    </tr>\n",
       "  </tbody>\n",
       "</table>\n",
       "</div>"
      ],
      "text/plain": [
       "                                  title  \\\n",
       "0                         Future Rave ⚡   \n",
       "1  Trustworthy sites to sell tickets on   \n",
       "2                                 Drugs   \n",
       "3                          Winter xxxxx   \n",
       "4             Tomorrowland 2022 or 2023   \n",
       "\n",
       "                                            selftext     subreddit  \\\n",
       "0                                                     Tomorrowland   \n",
       "1  I may not be able to go to Tomorrowland winter...  Tomorrowland   \n",
       "2  Will it be hard to get a hold of drugs at tomo...  Tomorrowland   \n",
       "3  So winter 22 will be my first tomorrowland and...  Tomorrowland   \n",
       "4  Hey so me and ny buddy are thinking of going t...  Tomorrowland   \n",
       "\n",
       "   created_utc  \n",
       "0   1636697987  \n",
       "1   1636680769  \n",
       "2   1636663049  \n",
       "3   1636655062  \n",
       "4   1636624601  "
      ]
     },
     "execution_count": 9,
     "metadata": {},
     "output_type": "execute_result"
    }
   ],
   "source": [
    "df.head()"
   ]
  },
  {
   "cell_type": "code",
   "execution_count": 14,
   "id": "c1aa18c6",
   "metadata": {},
   "outputs": [
    {
     "data": {
      "text/plain": [
       "2000"
      ]
     },
     "execution_count": 14,
     "metadata": {},
     "output_type": "execute_result"
    }
   ],
   "source": [
    "len(df['created_utc'].unique())   # 2000 unique columns"
   ]
  },
  {
   "cell_type": "code",
   "execution_count": null,
   "id": "7424740f",
   "metadata": {},
   "outputs": [],
   "source": []
  }
 ],
 "metadata": {
  "kernelspec": {
   "display_name": "Python 3",
   "language": "python",
   "name": "python3"
  },
  "language_info": {
   "codemirror_mode": {
    "name": "ipython",
    "version": 3
   },
   "file_extension": ".py",
   "mimetype": "text/x-python",
   "name": "python",
   "nbconvert_exporter": "python",
   "pygments_lexer": "ipython3",
   "version": "3.8.8"
  }
 },
 "nbformat": 4,
 "nbformat_minor": 5
}
