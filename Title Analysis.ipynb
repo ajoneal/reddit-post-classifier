{
 "cells": [
  {
   "cell_type": "markdown",
   "id": "453cbfaf",
   "metadata": {},
   "source": [
    "# Importing Libraries/Reading in Data"
   ]
  },
  {
   "cell_type": "code",
   "execution_count": 1,
   "id": "e2113b6f",
   "metadata": {},
   "outputs": [],
   "source": [
    "import pandas as pd\n",
    "import numpy as np\n",
    "import matplotlib.pyplot as plt\n",
    "import seaborn as sns\n",
    "\n",
    "from sklearn.feature_extraction.text import CountVectorizer, TfidfVectorizer\n",
    "from sklearn.model_selection import train_test_split, GridSearchCV\n",
    "from sklearn.pipeline import Pipeline\n",
    "from sklearn.linear_model import LogisticRegression\n",
    "import sklearn.metrics as metrics\n",
    "from sklearn.neighbors import KNeighborsClassifier\n",
    "from sklearn.tree import DecisionTreeClassifier\n",
    "from sklearn.ensemble import RandomForestClassifier"
   ]
  },
  {
   "cell_type": "code",
   "execution_count": 2,
   "id": "f6ba9998",
   "metadata": {},
   "outputs": [
    {
     "data": {
      "text/html": [
       "<div>\n",
       "<style scoped>\n",
       "    .dataframe tbody tr th:only-of-type {\n",
       "        vertical-align: middle;\n",
       "    }\n",
       "\n",
       "    .dataframe tbody tr th {\n",
       "        vertical-align: top;\n",
       "    }\n",
       "\n",
       "    .dataframe thead th {\n",
       "        text-align: right;\n",
       "    }\n",
       "</style>\n",
       "<table border=\"1\" class=\"dataframe\">\n",
       "  <thead>\n",
       "    <tr style=\"text-align: right;\">\n",
       "      <th></th>\n",
       "      <th>title</th>\n",
       "      <th>selftext</th>\n",
       "      <th>subreddit</th>\n",
       "      <th>created_utc</th>\n",
       "    </tr>\n",
       "  </thead>\n",
       "  <tbody>\n",
       "    <tr>\n",
       "      <th>0</th>\n",
       "      <td>Genreverse</td>\n",
       "      <td>Hi everyone, \\n\\nHere at Genreverse our ultima...</td>\n",
       "      <td>Tomorrowland</td>\n",
       "      <td>1637031457</td>\n",
       "    </tr>\n",
       "    <tr>\n",
       "      <th>1</th>\n",
       "      <td>Tomorrowland and it's bass line-up</td>\n",
       "      <td>So obviously Tomorrowland has always had a gre...</td>\n",
       "      <td>Tomorrowland</td>\n",
       "      <td>1637002849</td>\n",
       "    </tr>\n",
       "    <tr>\n",
       "      <th>2</th>\n",
       "      <td>Hand crafts 2021</td>\n",
       "      <td>NaN</td>\n",
       "      <td>Tomorrowland</td>\n",
       "      <td>1636935255</td>\n",
       "    </tr>\n",
       "    <tr>\n",
       "      <th>3</th>\n",
       "      <td>Winter TML lodging</td>\n",
       "      <td>hello! I have the 4 day pass without lodging a...</td>\n",
       "      <td>Tomorrowland</td>\n",
       "      <td>1636922669</td>\n",
       "    </tr>\n",
       "    <tr>\n",
       "      <th>4</th>\n",
       "      <td>Was Tomorrowland around the world 2020 a speci...</td>\n",
       "      <td>NaN</td>\n",
       "      <td>Tomorrowland</td>\n",
       "      <td>1636904090</td>\n",
       "    </tr>\n",
       "  </tbody>\n",
       "</table>\n",
       "</div>"
      ],
      "text/plain": [
       "                                               title  \\\n",
       "0                                         Genreverse   \n",
       "1                 Tomorrowland and it's bass line-up   \n",
       "2                                   Hand crafts 2021   \n",
       "3                                 Winter TML lodging   \n",
       "4  Was Tomorrowland around the world 2020 a speci...   \n",
       "\n",
       "                                            selftext     subreddit  \\\n",
       "0  Hi everyone, \\n\\nHere at Genreverse our ultima...  Tomorrowland   \n",
       "1  So obviously Tomorrowland has always had a gre...  Tomorrowland   \n",
       "2                                                NaN  Tomorrowland   \n",
       "3  hello! I have the 4 day pass without lodging a...  Tomorrowland   \n",
       "4                                                NaN  Tomorrowland   \n",
       "\n",
       "   created_utc  \n",
       "0   1637031457  \n",
       "1   1637002849  \n",
       "2   1636935255  \n",
       "3   1636922669  \n",
       "4   1636904090  "
      ]
     },
     "execution_count": 2,
     "metadata": {},
     "output_type": "execute_result"
    }
   ],
   "source": [
    "df = pd.read_csv('Data/Prem-Tomorrowland_posts_11-16.csv')\n",
    "df.head()"
   ]
  },
  {
   "cell_type": "code",
   "execution_count": 3,
   "id": "8fb081c7",
   "metadata": {},
   "outputs": [
    {
     "data": {
      "text/plain": [
       "(2000, 4)"
      ]
     },
     "execution_count": 3,
     "metadata": {},
     "output_type": "execute_result"
    }
   ],
   "source": [
    "df.shape"
   ]
  },
  {
   "cell_type": "markdown",
   "id": "2100831a",
   "metadata": {},
   "source": [
    "---"
   ]
  },
  {
   "cell_type": "markdown",
   "id": "381243dc",
   "metadata": {},
   "source": [
    "# Cleaning/Preprocessing/EDA"
   ]
  },
  {
   "cell_type": "markdown",
   "id": "ba5ad326",
   "metadata": {},
   "source": [
    "### Cleaning/Creating Length Columns"
   ]
  },
  {
   "cell_type": "code",
   "execution_count": 4,
   "id": "005ee0d5",
   "metadata": {
    "scrolled": true
   },
   "outputs": [
    {
     "data": {
      "text/plain": [
       "title            0\n",
       "selftext       885\n",
       "subreddit        0\n",
       "created_utc      0\n",
       "dtype: int64"
      ]
     },
     "execution_count": 4,
     "metadata": {},
     "output_type": "execute_result"
    }
   ],
   "source": [
    "df.isnull().sum()"
   ]
  },
  {
   "cell_type": "code",
   "execution_count": 5,
   "id": "5fe809a6",
   "metadata": {},
   "outputs": [
    {
     "data": {
      "text/plain": [
       "(434, 4)"
      ]
     },
     "execution_count": 5,
     "metadata": {},
     "output_type": "execute_result"
    }
   ],
   "source": [
    "df[(df['selftext'].isnull()) & (df['subreddit'] == 'PremierLeague')].shape"
   ]
  },
  {
   "cell_type": "code",
   "execution_count": 6,
   "id": "e08fdc1e",
   "metadata": {},
   "outputs": [
    {
     "data": {
      "text/plain": [
       "(451, 4)"
      ]
     },
     "execution_count": 6,
     "metadata": {},
     "output_type": "execute_result"
    }
   ],
   "source": [
    "df[(df['selftext'].isnull()) & (df['subreddit'] == 'Tomorrowland')].shape\n",
    "# almost even split of null values in selftext column between Tomorrowland and Premier League Reddits"
   ]
  },
  {
   "cell_type": "code",
   "execution_count": 7,
   "id": "873b70c7",
   "metadata": {},
   "outputs": [
    {
     "data": {
      "text/html": [
       "<div>\n",
       "<style scoped>\n",
       "    .dataframe tbody tr th:only-of-type {\n",
       "        vertical-align: middle;\n",
       "    }\n",
       "\n",
       "    .dataframe tbody tr th {\n",
       "        vertical-align: top;\n",
       "    }\n",
       "\n",
       "    .dataframe thead th {\n",
       "        text-align: right;\n",
       "    }\n",
       "</style>\n",
       "<table border=\"1\" class=\"dataframe\">\n",
       "  <thead>\n",
       "    <tr style=\"text-align: right;\">\n",
       "      <th></th>\n",
       "      <th>title</th>\n",
       "      <th>selftext</th>\n",
       "      <th>subreddit</th>\n",
       "      <th>created_utc</th>\n",
       "    </tr>\n",
       "  </thead>\n",
       "  <tbody>\n",
       "  </tbody>\n",
       "</table>\n",
       "</div>"
      ],
      "text/plain": [
       "Empty DataFrame\n",
       "Columns: [title, selftext, subreddit, created_utc]\n",
       "Index: []"
      ]
     },
     "execution_count": 7,
     "metadata": {},
     "output_type": "execute_result"
    }
   ],
   "source": [
    "df[df['selftext'] == '']"
   ]
  },
  {
   "cell_type": "code",
   "execution_count": 8,
   "id": "1f22bb64",
   "metadata": {},
   "outputs": [],
   "source": [
    "df['selftext'].fillna('', inplace=True)  # focusing on titles in this notebook, so not worried about these nulls"
   ]
  },
  {
   "cell_type": "code",
   "execution_count": 9,
   "id": "76e27292",
   "metadata": {},
   "outputs": [],
   "source": [
    "length = []\n",
    "for i in df['title']:\n",
    "    length.append(len(i))\n",
    "    \n",
    "df['title_length'] = length"
   ]
  },
  {
   "cell_type": "code",
   "execution_count": 10,
   "id": "5d3649c7",
   "metadata": {},
   "outputs": [],
   "source": [
    "num_words = []\n",
    "for i in df['title']:\n",
    "    num_words.append(len(i.split()))\n",
    "\n",
    "df['title_word_count'] = num_words"
   ]
  },
  {
   "cell_type": "code",
   "execution_count": 11,
   "id": "fdb11614",
   "metadata": {
    "scrolled": true
   },
   "outputs": [
    {
     "data": {
      "text/html": [
       "<div>\n",
       "<style scoped>\n",
       "    .dataframe tbody tr th:only-of-type {\n",
       "        vertical-align: middle;\n",
       "    }\n",
       "\n",
       "    .dataframe tbody tr th {\n",
       "        vertical-align: top;\n",
       "    }\n",
       "\n",
       "    .dataframe thead th {\n",
       "        text-align: right;\n",
       "    }\n",
       "</style>\n",
       "<table border=\"1\" class=\"dataframe\">\n",
       "  <thead>\n",
       "    <tr style=\"text-align: right;\">\n",
       "      <th></th>\n",
       "      <th>title</th>\n",
       "      <th>selftext</th>\n",
       "      <th>subreddit</th>\n",
       "      <th>created_utc</th>\n",
       "      <th>title_length</th>\n",
       "      <th>title_word_count</th>\n",
       "    </tr>\n",
       "  </thead>\n",
       "  <tbody>\n",
       "    <tr>\n",
       "      <th>0</th>\n",
       "      <td>Genreverse</td>\n",
       "      <td>Hi everyone, \\n\\nHere at Genreverse our ultima...</td>\n",
       "      <td>Tomorrowland</td>\n",
       "      <td>1637031457</td>\n",
       "      <td>10</td>\n",
       "      <td>1</td>\n",
       "    </tr>\n",
       "    <tr>\n",
       "      <th>1</th>\n",
       "      <td>Tomorrowland and it's bass line-up</td>\n",
       "      <td>So obviously Tomorrowland has always had a gre...</td>\n",
       "      <td>Tomorrowland</td>\n",
       "      <td>1637002849</td>\n",
       "      <td>34</td>\n",
       "      <td>5</td>\n",
       "    </tr>\n",
       "    <tr>\n",
       "      <th>2</th>\n",
       "      <td>Hand crafts 2021</td>\n",
       "      <td></td>\n",
       "      <td>Tomorrowland</td>\n",
       "      <td>1636935255</td>\n",
       "      <td>16</td>\n",
       "      <td>3</td>\n",
       "    </tr>\n",
       "    <tr>\n",
       "      <th>3</th>\n",
       "      <td>Winter TML lodging</td>\n",
       "      <td>hello! I have the 4 day pass without lodging a...</td>\n",
       "      <td>Tomorrowland</td>\n",
       "      <td>1636922669</td>\n",
       "      <td>18</td>\n",
       "      <td>3</td>\n",
       "    </tr>\n",
       "    <tr>\n",
       "      <th>4</th>\n",
       "      <td>Was Tomorrowland around the world 2020 a speci...</td>\n",
       "      <td></td>\n",
       "      <td>Tomorrowland</td>\n",
       "      <td>1636904090</td>\n",
       "      <td>60</td>\n",
       "      <td>9</td>\n",
       "    </tr>\n",
       "  </tbody>\n",
       "</table>\n",
       "</div>"
      ],
      "text/plain": [
       "                                               title  \\\n",
       "0                                         Genreverse   \n",
       "1                 Tomorrowland and it's bass line-up   \n",
       "2                                   Hand crafts 2021   \n",
       "3                                 Winter TML lodging   \n",
       "4  Was Tomorrowland around the world 2020 a speci...   \n",
       "\n",
       "                                            selftext     subreddit  \\\n",
       "0  Hi everyone, \\n\\nHere at Genreverse our ultima...  Tomorrowland   \n",
       "1  So obviously Tomorrowland has always had a gre...  Tomorrowland   \n",
       "2                                                     Tomorrowland   \n",
       "3  hello! I have the 4 day pass without lodging a...  Tomorrowland   \n",
       "4                                                     Tomorrowland   \n",
       "\n",
       "   created_utc  title_length  title_word_count  \n",
       "0   1637031457            10                 1  \n",
       "1   1637002849            34                 5  \n",
       "2   1636935255            16                 3  \n",
       "3   1636922669            18                 3  \n",
       "4   1636904090            60                 9  "
      ]
     },
     "execution_count": 11,
     "metadata": {},
     "output_type": "execute_result"
    }
   ],
   "source": [
    "df.head()"
   ]
  },
  {
   "cell_type": "code",
   "execution_count": 12,
   "id": "5c852ea3",
   "metadata": {
    "scrolled": true
   },
   "outputs": [
    {
     "data": {
      "text/html": [
       "<div>\n",
       "<style scoped>\n",
       "    .dataframe tbody tr th:only-of-type {\n",
       "        vertical-align: middle;\n",
       "    }\n",
       "\n",
       "    .dataframe tbody tr th {\n",
       "        vertical-align: top;\n",
       "    }\n",
       "\n",
       "    .dataframe thead th {\n",
       "        text-align: right;\n",
       "    }\n",
       "</style>\n",
       "<table border=\"1\" class=\"dataframe\">\n",
       "  <thead>\n",
       "    <tr style=\"text-align: right;\">\n",
       "      <th></th>\n",
       "      <th>title_length</th>\n",
       "      <th>title_word_count</th>\n",
       "    </tr>\n",
       "    <tr>\n",
       "      <th>subreddit</th>\n",
       "      <th></th>\n",
       "      <th></th>\n",
       "    </tr>\n",
       "  </thead>\n",
       "  <tbody>\n",
       "    <tr>\n",
       "      <th>PremierLeague</th>\n",
       "      <td>61.019</td>\n",
       "      <td>10.807</td>\n",
       "    </tr>\n",
       "    <tr>\n",
       "      <th>Tomorrowland</th>\n",
       "      <td>47.623</td>\n",
       "      <td>8.171</td>\n",
       "    </tr>\n",
       "  </tbody>\n",
       "</table>\n",
       "</div>"
      ],
      "text/plain": [
       "               title_length  title_word_count\n",
       "subreddit                                    \n",
       "PremierLeague        61.019            10.807\n",
       "Tomorrowland         47.623             8.171"
      ]
     },
     "execution_count": 12,
     "metadata": {},
     "output_type": "execute_result"
    }
   ],
   "source": [
    "df.groupby('subreddit').mean()[['title_length', 'title_word_count']]"
   ]
  },
  {
   "cell_type": "markdown",
   "id": "427d74b9",
   "metadata": {},
   "source": [
    "**Premier Leauge posts tend to have longer titles than Tomorrowland posts on average.**"
   ]
  },
  {
   "cell_type": "code",
   "execution_count": 13,
   "id": "4a5e2eba",
   "metadata": {},
   "outputs": [],
   "source": [
    "cvec = CountVectorizer(stop_words='english')\n",
    "cvec.fit(df['title'])\n",
    "title_cvec = cvec.transform(df['title'])"
   ]
  },
  {
   "cell_type": "code",
   "execution_count": 14,
   "id": "26b43346",
   "metadata": {},
   "outputs": [
    {
     "data": {
      "text/html": [
       "<div>\n",
       "<style scoped>\n",
       "    .dataframe tbody tr th:only-of-type {\n",
       "        vertical-align: middle;\n",
       "    }\n",
       "\n",
       "    .dataframe tbody tr th {\n",
       "        vertical-align: top;\n",
       "    }\n",
       "\n",
       "    .dataframe thead th {\n",
       "        text-align: right;\n",
       "    }\n",
       "</style>\n",
       "<table border=\"1\" class=\"dataframe\">\n",
       "  <thead>\n",
       "    <tr style=\"text-align: right;\">\n",
       "      <th></th>\n",
       "      <th>00</th>\n",
       "      <th>000</th>\n",
       "      <th>007</th>\n",
       "      <th>00a</th>\n",
       "      <th>05</th>\n",
       "      <th>06</th>\n",
       "      <th>07</th>\n",
       "      <th>08</th>\n",
       "      <th>09</th>\n",
       "      <th>10</th>\n",
       "      <th>...</th>\n",
       "      <th>zrfj</th>\n",
       "      <th>ខភ</th>\n",
       "      <th>គជ</th>\n",
       "      <th>𝗕𝗼𝘂𝗻𝗱𝗮𝗿𝗶𝗲𝘀</th>\n",
       "      <th>𝗕𝗿𝗲𝗮𝗸𝗶𝗻𝗴</th>\n",
       "      <th>𝗤𝗼𝗻𝘁𝗶𝗻𝗲𝗻𝘁</th>\n",
       "      <th>𝗧𝗵𝗲</th>\n",
       "      <th>𝗽𝗼𝘀𝘁𝗽𝗼𝗻𝗲𝗱</th>\n",
       "      <th>𝘁𝗼</th>\n",
       "      <th>𝟮𝟬𝟮𝟮</th>\n",
       "    </tr>\n",
       "  </thead>\n",
       "  <tbody>\n",
       "    <tr>\n",
       "      <th>0</th>\n",
       "      <td>0</td>\n",
       "      <td>0</td>\n",
       "      <td>0</td>\n",
       "      <td>0</td>\n",
       "      <td>0</td>\n",
       "      <td>0</td>\n",
       "      <td>0</td>\n",
       "      <td>0</td>\n",
       "      <td>0</td>\n",
       "      <td>0</td>\n",
       "      <td>...</td>\n",
       "      <td>0</td>\n",
       "      <td>0</td>\n",
       "      <td>0</td>\n",
       "      <td>0</td>\n",
       "      <td>0</td>\n",
       "      <td>0</td>\n",
       "      <td>0</td>\n",
       "      <td>0</td>\n",
       "      <td>0</td>\n",
       "      <td>0</td>\n",
       "    </tr>\n",
       "    <tr>\n",
       "      <th>1</th>\n",
       "      <td>0</td>\n",
       "      <td>0</td>\n",
       "      <td>0</td>\n",
       "      <td>0</td>\n",
       "      <td>0</td>\n",
       "      <td>0</td>\n",
       "      <td>0</td>\n",
       "      <td>0</td>\n",
       "      <td>0</td>\n",
       "      <td>0</td>\n",
       "      <td>...</td>\n",
       "      <td>0</td>\n",
       "      <td>0</td>\n",
       "      <td>0</td>\n",
       "      <td>0</td>\n",
       "      <td>0</td>\n",
       "      <td>0</td>\n",
       "      <td>0</td>\n",
       "      <td>0</td>\n",
       "      <td>0</td>\n",
       "      <td>0</td>\n",
       "    </tr>\n",
       "    <tr>\n",
       "      <th>2</th>\n",
       "      <td>0</td>\n",
       "      <td>0</td>\n",
       "      <td>0</td>\n",
       "      <td>0</td>\n",
       "      <td>0</td>\n",
       "      <td>0</td>\n",
       "      <td>0</td>\n",
       "      <td>0</td>\n",
       "      <td>0</td>\n",
       "      <td>0</td>\n",
       "      <td>...</td>\n",
       "      <td>0</td>\n",
       "      <td>0</td>\n",
       "      <td>0</td>\n",
       "      <td>0</td>\n",
       "      <td>0</td>\n",
       "      <td>0</td>\n",
       "      <td>0</td>\n",
       "      <td>0</td>\n",
       "      <td>0</td>\n",
       "      <td>0</td>\n",
       "    </tr>\n",
       "    <tr>\n",
       "      <th>3</th>\n",
       "      <td>0</td>\n",
       "      <td>0</td>\n",
       "      <td>0</td>\n",
       "      <td>0</td>\n",
       "      <td>0</td>\n",
       "      <td>0</td>\n",
       "      <td>0</td>\n",
       "      <td>0</td>\n",
       "      <td>0</td>\n",
       "      <td>0</td>\n",
       "      <td>...</td>\n",
       "      <td>0</td>\n",
       "      <td>0</td>\n",
       "      <td>0</td>\n",
       "      <td>0</td>\n",
       "      <td>0</td>\n",
       "      <td>0</td>\n",
       "      <td>0</td>\n",
       "      <td>0</td>\n",
       "      <td>0</td>\n",
       "      <td>0</td>\n",
       "    </tr>\n",
       "    <tr>\n",
       "      <th>4</th>\n",
       "      <td>0</td>\n",
       "      <td>0</td>\n",
       "      <td>0</td>\n",
       "      <td>0</td>\n",
       "      <td>0</td>\n",
       "      <td>0</td>\n",
       "      <td>0</td>\n",
       "      <td>0</td>\n",
       "      <td>0</td>\n",
       "      <td>0</td>\n",
       "      <td>...</td>\n",
       "      <td>0</td>\n",
       "      <td>0</td>\n",
       "      <td>0</td>\n",
       "      <td>0</td>\n",
       "      <td>0</td>\n",
       "      <td>0</td>\n",
       "      <td>0</td>\n",
       "      <td>0</td>\n",
       "      <td>0</td>\n",
       "      <td>0</td>\n",
       "    </tr>\n",
       "    <tr>\n",
       "      <th>...</th>\n",
       "      <td>...</td>\n",
       "      <td>...</td>\n",
       "      <td>...</td>\n",
       "      <td>...</td>\n",
       "      <td>...</td>\n",
       "      <td>...</td>\n",
       "      <td>...</td>\n",
       "      <td>...</td>\n",
       "      <td>...</td>\n",
       "      <td>...</td>\n",
       "      <td>...</td>\n",
       "      <td>...</td>\n",
       "      <td>...</td>\n",
       "      <td>...</td>\n",
       "      <td>...</td>\n",
       "      <td>...</td>\n",
       "      <td>...</td>\n",
       "      <td>...</td>\n",
       "      <td>...</td>\n",
       "      <td>...</td>\n",
       "      <td>...</td>\n",
       "    </tr>\n",
       "    <tr>\n",
       "      <th>1995</th>\n",
       "      <td>0</td>\n",
       "      <td>0</td>\n",
       "      <td>0</td>\n",
       "      <td>0</td>\n",
       "      <td>0</td>\n",
       "      <td>0</td>\n",
       "      <td>0</td>\n",
       "      <td>0</td>\n",
       "      <td>0</td>\n",
       "      <td>0</td>\n",
       "      <td>...</td>\n",
       "      <td>0</td>\n",
       "      <td>0</td>\n",
       "      <td>0</td>\n",
       "      <td>0</td>\n",
       "      <td>0</td>\n",
       "      <td>0</td>\n",
       "      <td>0</td>\n",
       "      <td>0</td>\n",
       "      <td>0</td>\n",
       "      <td>0</td>\n",
       "    </tr>\n",
       "    <tr>\n",
       "      <th>1996</th>\n",
       "      <td>0</td>\n",
       "      <td>0</td>\n",
       "      <td>0</td>\n",
       "      <td>0</td>\n",
       "      <td>0</td>\n",
       "      <td>0</td>\n",
       "      <td>0</td>\n",
       "      <td>0</td>\n",
       "      <td>0</td>\n",
       "      <td>0</td>\n",
       "      <td>...</td>\n",
       "      <td>0</td>\n",
       "      <td>0</td>\n",
       "      <td>0</td>\n",
       "      <td>0</td>\n",
       "      <td>0</td>\n",
       "      <td>0</td>\n",
       "      <td>0</td>\n",
       "      <td>0</td>\n",
       "      <td>0</td>\n",
       "      <td>0</td>\n",
       "    </tr>\n",
       "    <tr>\n",
       "      <th>1997</th>\n",
       "      <td>0</td>\n",
       "      <td>0</td>\n",
       "      <td>0</td>\n",
       "      <td>0</td>\n",
       "      <td>0</td>\n",
       "      <td>0</td>\n",
       "      <td>0</td>\n",
       "      <td>0</td>\n",
       "      <td>0</td>\n",
       "      <td>0</td>\n",
       "      <td>...</td>\n",
       "      <td>0</td>\n",
       "      <td>0</td>\n",
       "      <td>0</td>\n",
       "      <td>0</td>\n",
       "      <td>0</td>\n",
       "      <td>0</td>\n",
       "      <td>0</td>\n",
       "      <td>0</td>\n",
       "      <td>0</td>\n",
       "      <td>0</td>\n",
       "    </tr>\n",
       "    <tr>\n",
       "      <th>1998</th>\n",
       "      <td>0</td>\n",
       "      <td>0</td>\n",
       "      <td>0</td>\n",
       "      <td>0</td>\n",
       "      <td>0</td>\n",
       "      <td>0</td>\n",
       "      <td>0</td>\n",
       "      <td>0</td>\n",
       "      <td>0</td>\n",
       "      <td>0</td>\n",
       "      <td>...</td>\n",
       "      <td>0</td>\n",
       "      <td>0</td>\n",
       "      <td>0</td>\n",
       "      <td>0</td>\n",
       "      <td>0</td>\n",
       "      <td>0</td>\n",
       "      <td>0</td>\n",
       "      <td>0</td>\n",
       "      <td>0</td>\n",
       "      <td>0</td>\n",
       "    </tr>\n",
       "    <tr>\n",
       "      <th>1999</th>\n",
       "      <td>0</td>\n",
       "      <td>0</td>\n",
       "      <td>0</td>\n",
       "      <td>0</td>\n",
       "      <td>0</td>\n",
       "      <td>0</td>\n",
       "      <td>0</td>\n",
       "      <td>0</td>\n",
       "      <td>0</td>\n",
       "      <td>0</td>\n",
       "      <td>...</td>\n",
       "      <td>0</td>\n",
       "      <td>0</td>\n",
       "      <td>0</td>\n",
       "      <td>0</td>\n",
       "      <td>0</td>\n",
       "      <td>0</td>\n",
       "      <td>0</td>\n",
       "      <td>0</td>\n",
       "      <td>0</td>\n",
       "      <td>0</td>\n",
       "    </tr>\n",
       "  </tbody>\n",
       "</table>\n",
       "<p>2000 rows × 3420 columns</p>\n",
       "</div>"
      ],
      "text/plain": [
       "      00  000  007  00a  05  06  07  08  09  10  ...  zrfj  ខភ  គជ  \\\n",
       "0      0    0    0    0   0   0   0   0   0   0  ...     0   0   0   \n",
       "1      0    0    0    0   0   0   0   0   0   0  ...     0   0   0   \n",
       "2      0    0    0    0   0   0   0   0   0   0  ...     0   0   0   \n",
       "3      0    0    0    0   0   0   0   0   0   0  ...     0   0   0   \n",
       "4      0    0    0    0   0   0   0   0   0   0  ...     0   0   0   \n",
       "...   ..  ...  ...  ...  ..  ..  ..  ..  ..  ..  ...   ...  ..  ..   \n",
       "1995   0    0    0    0   0   0   0   0   0   0  ...     0   0   0   \n",
       "1996   0    0    0    0   0   0   0   0   0   0  ...     0   0   0   \n",
       "1997   0    0    0    0   0   0   0   0   0   0  ...     0   0   0   \n",
       "1998   0    0    0    0   0   0   0   0   0   0  ...     0   0   0   \n",
       "1999   0    0    0    0   0   0   0   0   0   0  ...     0   0   0   \n",
       "\n",
       "      𝗕𝗼𝘂𝗻𝗱𝗮𝗿𝗶𝗲𝘀  𝗕𝗿𝗲𝗮𝗸𝗶𝗻𝗴  𝗤𝗼𝗻𝘁𝗶𝗻𝗲𝗻𝘁  𝗧𝗵𝗲  𝗽𝗼𝘀𝘁𝗽𝗼𝗻𝗲𝗱  𝘁𝗼  𝟮𝟬𝟮𝟮  \n",
       "0              0         0          0    0          0   0     0  \n",
       "1              0         0          0    0          0   0     0  \n",
       "2              0         0          0    0          0   0     0  \n",
       "3              0         0          0    0          0   0     0  \n",
       "4              0         0          0    0          0   0     0  \n",
       "...          ...       ...        ...  ...        ...  ..   ...  \n",
       "1995           0         0          0    0          0   0     0  \n",
       "1996           0         0          0    0          0   0     0  \n",
       "1997           0         0          0    0          0   0     0  \n",
       "1998           0         0          0    0          0   0     0  \n",
       "1999           0         0          0    0          0   0     0  \n",
       "\n",
       "[2000 rows x 3420 columns]"
      ]
     },
     "execution_count": 14,
     "metadata": {},
     "output_type": "execute_result"
    }
   ],
   "source": [
    "title_words = pd.DataFrame(title_cvec.todense(), columns=cvec.get_feature_names())\n",
    "title_words"
   ]
  },
  {
   "cell_type": "code",
   "execution_count": 15,
   "id": "40c4391a",
   "metadata": {},
   "outputs": [],
   "source": [
    "title_words['which_sub'] = df['subreddit']"
   ]
  },
  {
   "cell_type": "code",
   "execution_count": 16,
   "id": "e4423c64",
   "metadata": {},
   "outputs": [
    {
     "data": {
      "image/png": "[encoded data removed]",
      "text/plain": [
       "<Figure size 864x432 with 1 Axes>"
      ]
     },
     "metadata": {
      "needs_background": "light"
     },
     "output_type": "display_data"
    }
   ],
   "source": [
    "ax = title_words.groupby('which_sub').sum().T.sort_values('Tomorrowland', ascending=False).head(15).sort_values('Tomorrowland').plot(kind='barh', figsize=(12,6))\n",
    "plt.title('Top 15 Tomorrowland Title Words', size=20)\n",
    "plt.xlabel('Frequency of Word in Titles', size=15)\n",
    "plt.ylabel('Word', size=15)\n",
    "ax.legend(title='Subreddit', labels=(\"PremierLeague\",\"Tomorrowland\"))\n",
    "plt.savefig('./Visuals/top15tomo_title_words.png', bbox_inches='tight');\n",
    "plt.show();"
   ]
  },
  {
   "cell_type": "markdown",
   "id": "d490e221",
   "metadata": {},
   "source": [
    "*Of the top words, not very many seem to similar so hopefully the model should be able to predict subreddits with high accuracy*"
   ]
  },
  {
   "cell_type": "code",
   "execution_count": 17,
   "id": "34629285",
   "metadata": {},
   "outputs": [
    {
     "data": {
      "image/png": "[encoded data removed]",
      "text/plain": [
       "<Figure size 864x432 with 1 Axes>"
      ]
     },
     "metadata": {
      "needs_background": "light"
     },
     "output_type": "display_data"
    }
   ],
   "source": [
    "ax = title_words.groupby('which_sub').sum().T.sort_values('PremierLeague', ascending=False).head(15).sort_values('PremierLeague').plot(kind='barh', figsize=(12,6))\n",
    "plt.title('Top 15 PremierLeague Title Words', size=20)\n",
    "plt.xlabel('Frequency of Word in Titles', size=15)\n",
    "plt.ylabel('Word', size=15)\n",
    "ax.legend(title='Subreddit', labels=(\"PremierLeague\",\"Tomorrowland\"))\n",
    "plt.savefig('./Visuals/top15prem_title_words.png', bbox_inches='tight');\n",
    "plt.show();"
   ]
  },
  {
   "cell_type": "markdown",
   "id": "dae9ae6b",
   "metadata": {},
   "source": [
    "*Of the top words, not very many seem to similar so hopefully the model should be able to predict subreddits with high accuracy*"
   ]
  },
  {
   "cell_type": "code",
   "execution_count": 18,
   "id": "37275551",
   "metadata": {},
   "outputs": [],
   "source": [
    "titles_and_words = pd.merge(df, title_words, on=df.index)\n",
    "titles_and_words.drop(columns='key_0', inplace=True)"
   ]
  },
  {
   "cell_type": "code",
   "execution_count": 19,
   "id": "b8e31681",
   "metadata": {},
   "outputs": [
    {
     "data": {
      "text/html": [
       "<div>\n",
       "<style scoped>\n",
       "    .dataframe tbody tr th:only-of-type {\n",
       "        vertical-align: middle;\n",
       "    }\n",
       "\n",
       "    .dataframe tbody tr th {\n",
       "        vertical-align: top;\n",
       "    }\n",
       "\n",
       "    .dataframe thead th {\n",
       "        text-align: right;\n",
       "    }\n",
       "</style>\n",
       "<table border=\"1\" class=\"dataframe\">\n",
       "  <thead>\n",
       "    <tr style=\"text-align: right;\">\n",
       "      <th></th>\n",
       "      <th>title_x</th>\n",
       "      <th>selftext</th>\n",
       "      <th>subreddit_x</th>\n",
       "      <th>created_utc</th>\n",
       "      <th>title_length</th>\n",
       "      <th>title_word_count</th>\n",
       "      <th>00</th>\n",
       "      <th>000</th>\n",
       "      <th>007</th>\n",
       "      <th>00a</th>\n",
       "      <th>...</th>\n",
       "      <th>ខភ</th>\n",
       "      <th>គជ</th>\n",
       "      <th>𝗕𝗼𝘂𝗻𝗱𝗮𝗿𝗶𝗲𝘀</th>\n",
       "      <th>𝗕𝗿𝗲𝗮𝗸𝗶𝗻𝗴</th>\n",
       "      <th>𝗤𝗼𝗻𝘁𝗶𝗻𝗲𝗻𝘁</th>\n",
       "      <th>𝗧𝗵𝗲</th>\n",
       "      <th>𝗽𝗼𝘀𝘁𝗽𝗼𝗻𝗲𝗱</th>\n",
       "      <th>𝘁𝗼</th>\n",
       "      <th>𝟮𝟬𝟮𝟮</th>\n",
       "      <th>which_sub</th>\n",
       "    </tr>\n",
       "  </thead>\n",
       "  <tbody>\n",
       "    <tr>\n",
       "      <th>0</th>\n",
       "      <td>Genreverse</td>\n",
       "      <td>Hi everyone, \\n\\nHere at Genreverse our ultima...</td>\n",
       "      <td>Tomorrowland</td>\n",
       "      <td>1637031457</td>\n",
       "      <td>10</td>\n",
       "      <td>1</td>\n",
       "      <td>0</td>\n",
       "      <td>0</td>\n",
       "      <td>0</td>\n",
       "      <td>0</td>\n",
       "      <td>...</td>\n",
       "      <td>0</td>\n",
       "      <td>0</td>\n",
       "      <td>0</td>\n",
       "      <td>0</td>\n",
       "      <td>0</td>\n",
       "      <td>0</td>\n",
       "      <td>0</td>\n",
       "      <td>0</td>\n",
       "      <td>0</td>\n",
       "      <td>Tomorrowland</td>\n",
       "    </tr>\n",
       "    <tr>\n",
       "      <th>1</th>\n",
       "      <td>Tomorrowland and it's bass line-up</td>\n",
       "      <td>So obviously Tomorrowland has always had a gre...</td>\n",
       "      <td>Tomorrowland</td>\n",
       "      <td>1637002849</td>\n",
       "      <td>34</td>\n",
       "      <td>5</td>\n",
       "      <td>0</td>\n",
       "      <td>0</td>\n",
       "      <td>0</td>\n",
       "      <td>0</td>\n",
       "      <td>...</td>\n",
       "      <td>0</td>\n",
       "      <td>0</td>\n",
       "      <td>0</td>\n",
       "      <td>0</td>\n",
       "      <td>0</td>\n",
       "      <td>0</td>\n",
       "      <td>0</td>\n",
       "      <td>0</td>\n",
       "      <td>0</td>\n",
       "      <td>Tomorrowland</td>\n",
       "    </tr>\n",
       "  </tbody>\n",
       "</table>\n",
       "<p>2 rows × 3427 columns</p>\n",
       "</div>"
      ],
      "text/plain": [
       "                              title_x  \\\n",
       "0                          Genreverse   \n",
       "1  Tomorrowland and it's bass line-up   \n",
       "\n",
       "                                            selftext   subreddit_x  \\\n",
       "0  Hi everyone, \\n\\nHere at Genreverse our ultima...  Tomorrowland   \n",
       "1  So obviously Tomorrowland has always had a gre...  Tomorrowland   \n",
       "\n",
       "   created_utc  title_length  title_word_count  00  000  007  00a  ...  ខភ  \\\n",
       "0   1637031457            10                 1   0    0    0    0  ...   0   \n",
       "1   1637002849            34                 5   0    0    0    0  ...   0   \n",
       "\n",
       "   គជ  𝗕𝗼𝘂𝗻𝗱𝗮𝗿𝗶𝗲𝘀  𝗕𝗿𝗲𝗮𝗸𝗶𝗻𝗴  𝗤𝗼𝗻𝘁𝗶𝗻𝗲𝗻𝘁  𝗧𝗵𝗲  𝗽𝗼𝘀𝘁𝗽𝗼𝗻𝗲𝗱  𝘁𝗼  𝟮𝟬𝟮𝟮     which_sub  \n",
       "0   0           0         0          0    0          0   0     0  Tomorrowland  \n",
       "1   0           0         0          0    0          0   0     0  Tomorrowland  \n",
       "\n",
       "[2 rows x 3427 columns]"
      ]
     },
     "execution_count": 19,
     "metadata": {},
     "output_type": "execute_result"
    }
   ],
   "source": [
    "titles_and_words.head(2)"
   ]
  },
  {
   "cell_type": "code",
   "execution_count": 20,
   "id": "0158db69",
   "metadata": {},
   "outputs": [
    {
     "data": {
      "text/plain": [
       "league        168\n",
       "premier       141\n",
       "united         97\n",
       "manchester     94\n",
       "team           78\n",
       "best           74\n",
       "think          61\n",
       "vs             54\n",
       "season         54\n",
       "club           49\n",
       "liverpool      48\n",
       "pl             48\n",
       "player         48\n",
       "match          42\n",
       "man            41\n",
       "dtype: int64"
      ]
     },
     "execution_count": 20,
     "metadata": {},
     "output_type": "execute_result"
    }
   ],
   "source": [
    "prem_titlewords = titles_and_words[titles_and_words['subreddit_x'] == 'PremierLeague'].drop(columns=['title_x', 'selftext', \n",
    "                                                                                                    'subreddit_x', 'created_utc',\n",
    "                                                                                                    'title_length', 'title_word_count',\n",
    "                                                                                                    'which_sub'])\n",
    "top15_prem_titlewords = prem_titlewords.sum().sort_values(ascending=False).head(15)\n",
    "top15_prem_titlewords"
   ]
  },
  {
   "cell_type": "code",
   "execution_count": 21,
   "id": "9936c7a3",
   "metadata": {},
   "outputs": [
    {
     "data": {
      "image/png": "[encoded data removed]",
      "text/plain": [
       "<Figure size 720x432 with 1 Axes>"
      ]
     },
     "metadata": {
      "needs_background": "light"
     },
     "output_type": "display_data"
    }
   ],
   "source": [
    "plt.figure(figsize=(10,6))\n",
    "plt.title('Top 15 Premier League Words', size=18)\n",
    "plt.ylabel('Word', size=12)\n",
    "plt.xlabel('Frequency of Word', size=12)\n",
    "plt.barh(y=top15_prem_titlewords.sort_values().index, width=top15_prem_titlewords.sort_values());"
   ]
  },
  {
   "cell_type": "code",
   "execution_count": 22,
   "id": "189854ef",
   "metadata": {},
   "outputs": [
    {
     "data": {
      "text/plain": [
       "tomorrowland    250\n",
       "2021             71\n",
       "2022             69\n",
       "tml              69\n",
       "winter           60\n",
       "tickets          57\n",
       "new              36\n",
       "ticket           34\n",
       "world            31\n",
       "global           31\n",
       "journey          30\n",
       "package          29\n",
       "festival         25\n",
       "nye              25\n",
       "amp              23\n",
       "dtype: int64"
      ]
     },
     "execution_count": 22,
     "metadata": {},
     "output_type": "execute_result"
    }
   ],
   "source": [
    "tomo_titlewords = titles_and_words[titles_and_words['subreddit_x'] == 'Tomorrowland'].drop(columns=['title_x', 'selftext', \n",
    "                                                                                                    'subreddit_x', 'created_utc',\n",
    "                                                                                                    'title_length', 'title_word_count', \n",
    "                                                                                                   'which_sub'])\n",
    "top15_tomo_titlewords = tomo_titlewords.sum().sort_values(ascending=False).head(15)\n",
    "top15_tomo_titlewords"
   ]
  },
  {
   "cell_type": "code",
   "execution_count": 23,
   "id": "751522f6",
   "metadata": {},
   "outputs": [
    {
     "data": {
      "text/plain": [
       "<BarContainer object of 15 artists>"
      ]
     },
     "execution_count": 23,
     "metadata": {},
     "output_type": "execute_result"
    },
    {
     "data": {
      "image/png": "[encoded data removed]",
      "text/plain": [
       "<Figure size 720x432 with 1 Axes>"
      ]
     },
     "metadata": {
      "needs_background": "light"
     },
     "output_type": "display_data"
    }
   ],
   "source": [
    "plt.figure(figsize=(10,6))\n",
    "plt.title('Top 15 Tomorrowland Words', size=18)\n",
    "plt.ylabel('Word', size=12)\n",
    "plt.xlabel('Frequency of Word', size=12)\n",
    "plt.barh(y=top15_tomo_titlewords.sort_values().index, width=top15_tomo_titlewords.sort_values())"
   ]
  },
  {
   "cell_type": "markdown",
   "id": "c77ae491",
   "metadata": {},
   "source": [
    "---"
   ]
  },
  {
   "cell_type": "markdown",
   "id": "0751d7aa",
   "metadata": {},
   "source": [
    "# Models"
   ]
  },
  {
   "cell_type": "markdown",
   "id": "b2432ebd",
   "metadata": {},
   "source": [
    "### Model Preparation"
   ]
  },
  {
   "cell_type": "code",
   "execution_count": 24,
   "id": "e02fc636",
   "metadata": {},
   "outputs": [],
   "source": [
    "df['subreddit'] = df['subreddit'].map({'Tomorrowland': 0, 'PremierLeague': 1})\n",
    "# target column created"
   ]
  },
  {
   "cell_type": "code",
   "execution_count": 25,
   "id": "57829ccf",
   "metadata": {},
   "outputs": [],
   "source": [
    "X = df['title']\n",
    "y = df['subreddit']"
   ]
  },
  {
   "cell_type": "code",
   "execution_count": 26,
   "id": "eae017a3",
   "metadata": {},
   "outputs": [
    {
     "data": {
      "text/plain": [
       "0    0.5\n",
       "1    0.5\n",
       "Name: subreddit, dtype: float64"
      ]
     },
     "execution_count": 26,
     "metadata": {},
     "output_type": "execute_result"
    }
   ],
   "source": [
    "y.value_counts(normalize=True)\n",
    "# baseline accuracy of 50% if predicting subreddit is from Premier League subreddit <- looking to beat this"
   ]
  },
  {
   "cell_type": "code",
   "execution_count": 27,
   "id": "05758519",
   "metadata": {},
   "outputs": [],
   "source": [
    "X_train, X_test, y_train, y_test = train_test_split(X, y, random_state=42, stratify=y)"
   ]
  },
  {
   "cell_type": "markdown",
   "id": "650961d7",
   "metadata": {},
   "source": [
    "---"
   ]
  },
  {
   "cell_type": "markdown",
   "id": "15f59f98",
   "metadata": {},
   "source": [
    "### Model 1 - KNN with CountVectorizer"
   ]
  },
  {
   "cell_type": "code",
   "execution_count": 28,
   "id": "86a9c864",
   "metadata": {},
   "outputs": [],
   "source": [
    "pipe1 = Pipeline([\n",
    "    ('cvec', CountVectorizer()),\n",
    "    ('knn', KNeighborsClassifier())\n",
    "])"
   ]
  },
  {
   "cell_type": "code",
   "execution_count": 29,
   "id": "c0b3ccff",
   "metadata": {},
   "outputs": [],
   "source": [
    "params1 = {\n",
    "    'cvec__min_df': [8, 9, 10],\n",
    "    'cvec__max_df': [.1, .2, .3],\n",
    "    'cvec__binary': [True, False],\n",
    "    'cvec__stop_words': [None, 'english'],\n",
    "    'knn__weights': ['uniform', 'distance']\n",
    "}"
   ]
  },
  {
   "cell_type": "code",
   "execution_count": 30,
   "id": "1aa0ad02",
   "metadata": {},
   "outputs": [
    {
     "name": "stdout",
     "output_type": "stream",
     "text": [
      "0.834\n"
     ]
    },
    {
     "data": {
      "text/plain": [
       "{'cvec__binary': False,\n",
       " 'cvec__max_df': 0.2,\n",
       " 'cvec__min_df': 9,\n",
       " 'cvec__stop_words': 'english',\n",
       " 'knn__weights': 'distance'}"
      ]
     },
     "execution_count": 30,
     "metadata": {},
     "output_type": "execute_result"
    }
   ],
   "source": [
    "gs1 = GridSearchCV(pipe1, param_grid=params1)\n",
    "gs1.fit(X_train, y_train)\n",
    "print(gs1.best_score_)\n",
    "gs1.best_params_"
   ]
  },
  {
   "cell_type": "code",
   "execution_count": 31,
   "id": "5f4a998f",
   "metadata": {},
   "outputs": [
    {
     "data": {
      "image/png": "[encoded data removed]",
      "text/plain": [
       "<Figure size 432x288 with 2 Axes>"
      ]
     },
     "metadata": {
      "needs_background": "light"
     },
     "output_type": "display_data"
    }
   ],
   "source": [
    "cm1 = metrics.plot_confusion_matrix(gs1, X_test, y_test, display_labels=['Tomorrowland', 'PremierLeague'])\n",
    "plt.savefig('./Visuals/worst_title_cm.png', bbox_inches='tight')\n",
    "plt.show(cm1)"
   ]
  },
  {
   "cell_type": "code",
   "execution_count": 32,
   "id": "6aa41293",
   "metadata": {},
   "outputs": [],
   "source": [
    "preds1 = gs1.predict(X_test)\n",
    "tn1, fp1, fn1, tp1 = metrics.confusion_matrix(y_test, preds1).flatten()"
   ]
  },
  {
   "cell_type": "markdown",
   "id": "beb7b52d",
   "metadata": {},
   "source": [
    "**Specificity - How good did the model perform at predicting Tomorrowland titles?**"
   ]
  },
  {
   "cell_type": "code",
   "execution_count": 33,
   "id": "c98a7e34",
   "metadata": {},
   "outputs": [
    {
     "data": {
      "text/plain": [
       "0.936"
      ]
     },
     "execution_count": 33,
     "metadata": {},
     "output_type": "execute_result"
    }
   ],
   "source": [
    "tn1 / (tn1 + fp1)   # Model was very good at predicting subreddit if title came from Tomorrowland"
   ]
  },
  {
   "cell_type": "markdown",
   "id": "75fe654c",
   "metadata": {},
   "source": [
    "**Sensitivity - How good did the model perform at predicting Premier League titles?**"
   ]
  },
  {
   "cell_type": "code",
   "execution_count": 34,
   "id": "65c05a6d",
   "metadata": {},
   "outputs": [
    {
     "data": {
      "text/plain": [
       "0.732"
      ]
     },
     "execution_count": 34,
     "metadata": {},
     "output_type": "execute_result"
    }
   ],
   "source": [
    "tp1 / (tp1 + fn1)   # Model was not as good at predicting subreddit if title came from Premier League"
   ]
  },
  {
   "cell_type": "code",
   "execution_count": 35,
   "id": "d8d82f63",
   "metadata": {},
   "outputs": [
    {
     "data": {
      "text/plain": [
       "1778                           Someone explain this to me\n",
       "1605                     Online Career Mode - FIFA 22 XB1\n",
       "1571                      Breakdown of annual squad wages\n",
       "1024    Ward-prowse, TAA, and Maddison, who are you ta...\n",
       "1295                              Proper baller. Deserved\n",
       "1919                       Please subscribe to my channel\n",
       "1641                                    Pretty much this!\n",
       "1981                                                Salah\n",
       "1797                               Heung-min Son or Kane?\n",
       "1228    A commanding performance or a open-ended thril...\n",
       "1459    Which are the most unexpected signings in rece...\n",
       "1574    Word is circulating that managers love it at S...\n",
       "1062    Anyone else fed up of 3pm games not being tele...\n",
       "1560        Do you guys have a second team? Who are they?\n",
       "1290    Former wonder kids who failed to live up to th...\n",
       "1409                                    I'm fed up of FSG\n",
       "1317    Seems you lot appreciated the last one I poste...\n",
       "1074                                      Switching Clubs\n",
       "1954                                         Need a chant\n",
       "1798      Honestly, what manger would want the spurs job?\n",
       "1928      What is happening at the RED side of Manchester\n",
       "1050    A video providing a surface level breakdown of...\n",
       "1214                             Can someone explain ffp?\n",
       "1068    How do you all feel about the international br...\n",
       "1536    'Bad, very bad indeed' - Italian media denounc...\n",
       "1269          Who remembers this classic Redknapp moment?\n",
       "1626                                     Pure masterclass\n",
       "1595                                Van Nistelrooy or RVP\n",
       "1810    Is Sean Dyche the most underrated manager in w...\n",
       "1907    Have goals outside the box declined in the EPL...\n",
       "1440        Which minute of the match has the most goals?\n",
       "1126    City supporters, what's your opinion on Gabrie...\n",
       "1136             Reece James or Trent Alexander Arnold???\n",
       "1253    'I am not sure what the plan is' - why are Eve...\n",
       "1004    Hwang Hee-chan: Had a chat with Shin Joo-hyun ...\n",
       "1669      Wolves fans,what's your opinion on Lage so far?\n",
       "1328                           God I love Moyes's Westham\n",
       "1566                                RVP or Van Nistelrooy\n",
       "1668                        I made this on the glowforge.\n",
       "1910                     What are you unpopular opinions?\n",
       "1900                       How good was was Poch's Spurs?\n",
       "1659    Who was best at their prime? I know comparison...\n",
       "1587                      Does Brighton fly to Newcastle?\n",
       "1843                                            Transfers\n",
       "1831    For all the Spurs fans what made you support t...\n",
       "1725    Mexican League Point System If Superleague wer...\n",
       "1103    Interesting. Is it because Scholes played the ...\n",
       "1897    American with a ticket question- How to get ti...\n",
       "1474    Can Someone British Translate a Term the Comme...\n",
       "1131    Lukaku Cross Body Finish! PES 2021 Ultra Reali...\n",
       "1319                               NEW PL TOP 6,NEW ORDER\n",
       "1401                       Anybody need a new goalkeeper?\n",
       "1348                      guess the hammers are for real.\n",
       "1784    Thoughts on Arsenal? Predictions on Top4 &amp;...\n",
       "1754             Let's talk about Alex Oxlade-Chamberlain\n",
       "1957                     They just announced the new 007!\n",
       "1012                                           Genesis576\n",
       "1197    Join the Darryl’s prem discussion Discord Serv...\n",
       "1525      ELI5: How is Conte signing different than Jose?\n",
       "1410            Eddie Howe on his way into the Amex today\n",
       "Name: title, dtype: object"
      ]
     },
     "execution_count": 35,
     "metadata": {},
     "output_type": "execute_result"
    }
   ],
   "source": [
    "preds1 = gs1.predict(X_test)\n",
    "X_test[(y_test != preds1) & (preds1 == 0)].head(60)"
   ]
  },
  {
   "cell_type": "code",
   "execution_count": 36,
   "id": "c3c31245",
   "metadata": {
    "scrolled": true
   },
   "outputs": [
    {
     "data": {
      "text/plain": [
       "821    I really hope Martin Garrix features whoever m...\n",
       "504                            Good luck getting refunds\n",
       "240                                 Can i still buy tix?\n",
       "270                                     Change time zone\n",
       "560    Buy Xanax Online without Prescription for Anxi...\n",
       "805    The best time of my life deserves to be on my ...\n",
       "492                          Time to make legal steps...\n",
       "267    One of the best ways to watch: with Philips Hu...\n",
       "738            Some of the best memories of my lifetyme!\n",
       "373    Did your heard about the new electronic versio...\n",
       "847                                   Good time at B.Eat\n",
       "64                                    Best treasure case\n",
       "953                  Can I Watch On IOS ?! (PLEASE HELP)\n",
       "410    Workin' on my stage Name for 2024. Lmk what yo...\n",
       "944    When you change the 31.12.2020 timezone, you s...\n",
       "418            Can I stay the entire week at dreamville?\n",
       "Name: title, dtype: object"
      ]
     },
     "execution_count": 36,
     "metadata": {},
     "output_type": "execute_result"
    }
   ],
   "source": [
    "X_test[(y_test != preds1) & (preds1 == 1)].head(16)"
   ]
  },
  {
   "cell_type": "code",
   "execution_count": 37,
   "id": "ed79556a",
   "metadata": {},
   "outputs": [
    {
     "data": {
      "text/html": [
       "<div>\n",
       "<style scoped>\n",
       "    .dataframe tbody tr th:only-of-type {\n",
       "        vertical-align: middle;\n",
       "    }\n",
       "\n",
       "    .dataframe tbody tr th {\n",
       "        vertical-align: top;\n",
       "    }\n",
       "\n",
       "    .dataframe thead th {\n",
       "        text-align: right;\n",
       "    }\n",
       "</style>\n",
       "<table border=\"1\" class=\"dataframe\">\n",
       "  <thead>\n",
       "    <tr style=\"text-align: right;\">\n",
       "      <th></th>\n",
       "      <th>true_values</th>\n",
       "      <th>pred_probs</th>\n",
       "    </tr>\n",
       "  </thead>\n",
       "  <tbody>\n",
       "    <tr>\n",
       "      <th>1370</th>\n",
       "      <td>1</td>\n",
       "      <td>0.800000</td>\n",
       "    </tr>\n",
       "    <tr>\n",
       "      <th>654</th>\n",
       "      <td>0</td>\n",
       "      <td>0.000000</td>\n",
       "    </tr>\n",
       "    <tr>\n",
       "      <th>1778</th>\n",
       "      <td>1</td>\n",
       "      <td>0.200000</td>\n",
       "    </tr>\n",
       "    <tr>\n",
       "      <th>646</th>\n",
       "      <td>0</td>\n",
       "      <td>0.320377</td>\n",
       "    </tr>\n",
       "    <tr>\n",
       "      <th>1171</th>\n",
       "      <td>1</td>\n",
       "      <td>1.000000</td>\n",
       "    </tr>\n",
       "  </tbody>\n",
       "</table>\n",
       "</div>"
      ],
      "text/plain": [
       "      true_values  pred_probs\n",
       "1370            1    0.800000\n",
       "654             0    0.000000\n",
       "1778            1    0.200000\n",
       "646             0    0.320377\n",
       "1171            1    1.000000"
      ]
     },
     "execution_count": 37,
     "metadata": {},
     "output_type": "execute_result"
    }
   ],
   "source": [
    "pred1_df = pd.DataFrame({'true_values': y_test,\n",
    "                        'pred_probs': gs1.predict_proba(X_test)[:,1]})\n",
    "\n",
    "pred1_df.head()"
   ]
  },
  {
   "cell_type": "code",
   "execution_count": 38,
   "id": "4095e97c",
   "metadata": {},
   "outputs": [
    {
     "name": "stderr",
     "output_type": "stream",
     "text": [
      "C:\\Users\\ao322\\anaconda3\\lib\\site-packages\\seaborn\\distributions.py:2557: FutureWarning: `distplot` is a deprecated function and will be removed in a future version. Please adapt your code to use either `displot` (a figure-level function with similar flexibility) or `histplot` (an axes-level function for histograms).\n",
      "  warnings.warn(msg, FutureWarning)\n"
     ]
    },
    {
     "data": {
      "image/png": "[encoded data removed]",
      "text/plain": [
       "<Figure size 864x360 with 1 Axes>"
      ]
     },
     "metadata": {
      "needs_background": "light"
     },
     "output_type": "display_data"
    }
   ],
   "source": [
    "plt.figure(figsize = (12, 5))\n",
    "\n",
    "# code from classification metrics lecture ii\n",
    "for group in pred1_df.groupby('true_values'):\n",
    "    sns.distplot(group[1], kde = False, bins = 20, label = [f'Actual Outcome = {group[0]}'])\n",
    "\n",
    "plt.axvline(y.mean(), color='r')\n",
    "plt.xlabel('Predicted Probability that Outcome = 1')\n",
    "plt.legend();"
   ]
  },
  {
   "cell_type": "code",
   "execution_count": 39,
   "id": "a25203ec",
   "metadata": {},
   "outputs": [
    {
     "data": {
      "image/png": "[encoded data removed]",
      "text/plain": [
       "<Figure size 432x288 with 1 Axes>"
      ]
     },
     "metadata": {
      "needs_background": "light"
     },
     "output_type": "display_data"
    }
   ],
   "source": [
    "# ROC curve for Model 1\n",
    "metrics.plot_roc_curve(gs1, X_test, y_test)\n",
    "# worst case scenario line\n",
    "plt.plot([0,1], [0,1], label='Baseline');"
   ]
  },
  {
   "cell_type": "markdown",
   "id": "646db40a",
   "metadata": {},
   "source": [
    "---"
   ]
  },
  {
   "cell_type": "markdown",
   "id": "ef7772e4",
   "metadata": {},
   "source": [
    "### Model 2 - KNN with TFIDF"
   ]
  },
  {
   "cell_type": "code",
   "execution_count": 40,
   "id": "493d713e",
   "metadata": {},
   "outputs": [],
   "source": [
    "pipe2 = Pipeline([\n",
    "    ('tvec', TfidfVectorizer()),\n",
    "    ('knn', KNeighborsClassifier())\n",
    "])"
   ]
  },
  {
   "cell_type": "code",
   "execution_count": 41,
   "id": "1fab75e9",
   "metadata": {},
   "outputs": [],
   "source": [
    "params2 = {\n",
    "    'tvec__stop_words': ['english', None],\n",
    "    'tvec__min_df': [7, 8, 9],\n",
    "    'tvec__max_df': [.1, .2, .3],\n",
    "    'tvec__ngram_range': [(1,1), (1,2)],\n",
    "    'knn__weights': ['uniform', 'distance']\n",
    "}"
   ]
  },
  {
   "cell_type": "code",
   "execution_count": 42,
   "id": "96376c55",
   "metadata": {},
   "outputs": [
    {
     "name": "stdout",
     "output_type": "stream",
     "text": [
      "0.8453333333333333\n"
     ]
    },
    {
     "data": {
      "text/plain": [
       "{'knn__weights': 'uniform',\n",
       " 'tvec__max_df': 0.2,\n",
       " 'tvec__min_df': 8,\n",
       " 'tvec__ngram_range': (1, 1),\n",
       " 'tvec__stop_words': 'english'}"
      ]
     },
     "execution_count": 42,
     "metadata": {},
     "output_type": "execute_result"
    }
   ],
   "source": [
    "gs2 = GridSearchCV(pipe2, param_grid=params2)\n",
    "gs2.fit(X_train, y_train)\n",
    "print(gs2.best_score_)\n",
    "gs2.best_params_"
   ]
  },
  {
   "cell_type": "code",
   "execution_count": 43,
   "id": "1928384a",
   "metadata": {},
   "outputs": [
    {
     "data": {
      "image/png": "[encoded data removed]",
      "text/plain": [
       "<Figure size 432x288 with 2 Axes>"
      ]
     },
     "metadata": {
      "needs_background": "light"
     },
     "output_type": "display_data"
    }
   ],
   "source": [
    "cm2 = metrics.plot_confusion_matrix(gs2, X_test, y_test, display_labels=['Tomorrowland', 'PremierLeague'])\n",
    "plt.show(cm2)"
   ]
  },
  {
   "cell_type": "code",
   "execution_count": 44,
   "id": "41884ba9",
   "metadata": {},
   "outputs": [],
   "source": [
    "preds2 = gs2.predict(X_test)\n",
    "tn2, fp2, fn2, tp2 = metrics.confusion_matrix(y_test, preds2).flatten()"
   ]
  },
  {
   "cell_type": "markdown",
   "id": "aab5a25c",
   "metadata": {},
   "source": [
    "**Specificity - How good did the model perform at predicting Tomorrowland titles?**"
   ]
  },
  {
   "cell_type": "code",
   "execution_count": 45,
   "id": "a888e08a",
   "metadata": {},
   "outputs": [
    {
     "data": {
      "text/plain": [
       "0.712"
      ]
     },
     "execution_count": 45,
     "metadata": {},
     "output_type": "execute_result"
    }
   ],
   "source": [
    "tn2 / (tn2 + fp2)   # Model was not good at predicting subreddit if title came from Tomorrowland"
   ]
  },
  {
   "cell_type": "markdown",
   "id": "defc5af6",
   "metadata": {},
   "source": [
    "**Sensitivity - How good did the model perform at predicting Premier League titles?**"
   ]
  },
  {
   "cell_type": "code",
   "execution_count": 46,
   "id": "82561253",
   "metadata": {},
   "outputs": [
    {
     "data": {
      "text/plain": [
       "0.848"
      ]
     },
     "execution_count": 46,
     "metadata": {},
     "output_type": "execute_result"
    }
   ],
   "source": [
    "tp2 / (tp2 + fn2)   # Model was good at predicting subreddit if title came from Premier League"
   ]
  },
  {
   "cell_type": "code",
   "execution_count": 47,
   "id": "e5869e6b",
   "metadata": {},
   "outputs": [
    {
     "data": {
      "text/plain": [
       "1167    Are there any PL manager who got sacked but re...\n",
       "1333    I've rewatched the Chelsea-Tottenham game back...\n",
       "1459    Which are the most unexpected signings in rece...\n",
       "1560        Do you guys have a second team? Who are they?\n",
       "1724               Match, Team and Player of the weekend!\n",
       "1290    Former wonder kids who failed to live up to th...\n",
       "1748    Do you think Suarez would get away with this t...\n",
       "1954                                         Need a chant\n",
       "1050    A video providing a surface level breakdown of...\n",
       "1176    Premier League clubs set to benefit from three...\n",
       "1684    If Conte steadies the ship &amp; wins a title ...\n",
       "1294    Remember that Wilshere “golaço” vs Norwich? It...\n",
       "1404    How good/ bad of a manager really is Ole when ...\n",
       "1328                           God I love Moyes's Westham\n",
       "1776        Having a debate with a fellow Liverpool fan .\n",
       "1179    Pogba is ready to take a pay cut to return to ...\n",
       "1304    If ole stays till the end of the season what c...\n",
       "1659    Who was best at their prime? I know comparison...\n",
       "1587                      Does Brighton fly to Newcastle?\n",
       "1243    How to watch All Today’s Football Matches For ...\n",
       "1083    Study abroad student wanting to experience the...\n",
       "1634    Tottenham fans - let's hear your predictions o...\n",
       "1872    Teams I don't support, but why I root for them...\n",
       "1897    American with a ticket question- How to get ti...\n",
       "1131    Lukaku Cross Body Finish! PES 2021 Ultra Reali...\n",
       "1319                               NEW PL TOP 6,NEW ORDER\n",
       "1401                       Anybody need a new goalkeeper?\n",
       "1799    Thank you for your sacrifice nuno and spur. Yo...\n",
       "1000    What does it mean when a commentator says that...\n",
       "1768    Does Kane still get a move to Man City next se...\n",
       "1197    Join the Darryl’s prem discussion Discord Serv...\n",
       "1410            Eddie Howe on his way into the Amex today\n",
       "1133    Why don't you think The 2 Clubs from Birmingha...\n",
       "1814    Newcastle vs Chelsea has shown why added time ...\n",
       "1421                              Toty needs to sell Kane\n",
       "1841    Would you like a Premier League contest day li...\n",
       "1661    TOTS so far in my opinion. What do you guys th...\n",
       "1320                                            NEW ORDER\n",
       "Name: title, dtype: object"
      ]
     },
     "execution_count": 47,
     "metadata": {},
     "output_type": "execute_result"
    }
   ],
   "source": [
    "preds2 = gs2.predict(X_test)\n",
    "X_test[(y_test != preds2) & (preds2 == 0)].head(38)"
   ]
  },
  {
   "cell_type": "code",
   "execution_count": 48,
   "id": "d5fe8787",
   "metadata": {},
   "outputs": [
    {
     "data": {
      "text/plain": [
       "484                                                22:00\n",
       "566                                   NFTb Bot @nftb_bot\n",
       "35                                        tcka tcka tcka\n",
       "156                                          Golden flag\n",
       "700    +++UPDATE+++ So, my mom painted me ODESZA's \"A...\n",
       "233                                           HornyGirls\n",
       "686    Let's gooooo!!!! Finally something to look for...\n",
       "504                            Good luck getting refunds\n",
       "937                         Static / distortion via hdmi\n",
       "639                                            yuutatinn\n",
       "224                                          Moto racing\n",
       "472                                     Changing address\n",
       "794               Every day I try not to think about TML\n",
       "642                                  These took too long\n",
       "981                                  Talk about details!\n",
       "553                                SOCIAL MEDIA MANAGING\n",
       "508                                       Miracle items?\n",
       "803                                                   🙄😅\n",
       "161                                                    ‍\n",
       "563                                       THE KUMBH MELA\n",
       "982    I get the chills evrytime I find this photo.. ...\n",
       "768    French government just said that festival will...\n",
       "134                                               Top 20\n",
       "972                                             Armin 💪🏻\n",
       "562                       KUMBH MELA WITH WATER BROTHERS\n",
       "804                                                   😅😍\n",
       "733                  Back To The Past Smashup | P-Simmax\n",
       "34                                      Share the gospel\n",
       "805    The best time of my life deserves to be on my ...\n",
       "276    Cheers from Australia, can't wait to be there ...\n",
       "492                          Time to make legal steps...\n",
       "330                                    Star Seed Reunion\n",
       "600                                               Mashup\n",
       "738            Some of the best memories of my lifetyme!\n",
       "128                                         Madness👨‍🚀💛.\n",
       "592                                When personalization?\n",
       "40                                          ANAL OR HEAD\n",
       "719                TML potentially in Aug/Sep? Thoughts?\n",
       "619       The lineup of the new record... (just arrived)\n",
       "455                                                  😅😅😂\n",
       "21     In light of the Astroworld tragedy, can we ple...\n",
       "458                                   Anyone Interested?\n",
       "87                                                   Vax\n",
       "251                                           Keinemusik\n",
       "459                    It's done (2nd part of the story)\n",
       "831                                    Magical 500 list?\n",
       "366                                Red bull cups battery\n",
       "47                                              Breeze 😍\n",
       "726         Yo, get your free skin with code \"free100cc\"\n",
       "880                    Info request // swapping weekends\n",
       "555                        Panchakarma Ayurveda Wellness\n",
       "929                Where to find access code for tonight\n",
       "62                                  Booking confirmation\n",
       "524                                      Js (wi are wie)\n",
       "776                                        Classic house\n",
       "138                                         Waiting list\n",
       "847                                   Good time at B.Eat\n",
       "848                                MG Tent 1 Person 950$\n",
       "540     India’s COVID crisis ‘beyond heartbreaking’: WHO\n",
       "317                                               NeKKoN\n",
       "Name: title, dtype: object"
      ]
     },
     "execution_count": 48,
     "metadata": {},
     "output_type": "execute_result"
    }
   ],
   "source": [
    "X_test[(y_test != preds2) & (preds2 == 1)].head(60)"
   ]
  },
  {
   "cell_type": "code",
   "execution_count": 49,
   "id": "4d742e30",
   "metadata": {},
   "outputs": [
    {
     "data": {
      "text/html": [
       "<div>\n",
       "<style scoped>\n",
       "    .dataframe tbody tr th:only-of-type {\n",
       "        vertical-align: middle;\n",
       "    }\n",
       "\n",
       "    .dataframe tbody tr th {\n",
       "        vertical-align: top;\n",
       "    }\n",
       "\n",
       "    .dataframe thead th {\n",
       "        text-align: right;\n",
       "    }\n",
       "</style>\n",
       "<table border=\"1\" class=\"dataframe\">\n",
       "  <thead>\n",
       "    <tr style=\"text-align: right;\">\n",
       "      <th></th>\n",
       "      <th>true_values</th>\n",
       "      <th>pred_probs</th>\n",
       "    </tr>\n",
       "  </thead>\n",
       "  <tbody>\n",
       "    <tr>\n",
       "      <th>1370</th>\n",
       "      <td>1</td>\n",
       "      <td>0.8</td>\n",
       "    </tr>\n",
       "    <tr>\n",
       "      <th>654</th>\n",
       "      <td>0</td>\n",
       "      <td>0.2</td>\n",
       "    </tr>\n",
       "    <tr>\n",
       "      <th>1778</th>\n",
       "      <td>1</td>\n",
       "      <td>0.8</td>\n",
       "    </tr>\n",
       "    <tr>\n",
       "      <th>646</th>\n",
       "      <td>0</td>\n",
       "      <td>0.2</td>\n",
       "    </tr>\n",
       "    <tr>\n",
       "      <th>1171</th>\n",
       "      <td>1</td>\n",
       "      <td>1.0</td>\n",
       "    </tr>\n",
       "  </tbody>\n",
       "</table>\n",
       "</div>"
      ],
      "text/plain": [
       "      true_values  pred_probs\n",
       "1370            1         0.8\n",
       "654             0         0.2\n",
       "1778            1         0.8\n",
       "646             0         0.2\n",
       "1171            1         1.0"
      ]
     },
     "execution_count": 49,
     "metadata": {},
     "output_type": "execute_result"
    }
   ],
   "source": [
    "pred2_df = pd.DataFrame({'true_values': y_test,\n",
    "                        'pred_probs': gs2.predict_proba(X_test)[:,1]})\n",
    "\n",
    "pred2_df.head()"
   ]
  },
  {
   "cell_type": "code",
   "execution_count": 50,
   "id": "6fc69e1f",
   "metadata": {},
   "outputs": [
    {
     "name": "stderr",
     "output_type": "stream",
     "text": [
      "C:\\Users\\ao322\\anaconda3\\lib\\site-packages\\seaborn\\distributions.py:2557: FutureWarning: `distplot` is a deprecated function and will be removed in a future version. Please adapt your code to use either `displot` (a figure-level function with similar flexibility) or `histplot` (an axes-level function for histograms).\n",
      "  warnings.warn(msg, FutureWarning)\n"
     ]
    },
    {
     "data": {
      "image/png": "[encoded data removed]",
      "text/plain": [
       "<Figure size 864x360 with 1 Axes>"
      ]
     },
     "metadata": {
      "needs_background": "light"
     },
     "output_type": "display_data"
    }
   ],
   "source": [
    "plt.figure(figsize = (12, 5))\n",
    "\n",
    "# code from classification metrics lecture ii\n",
    "for group in pred2_df.groupby('true_values'):\n",
    "    sns.distplot(group[1], kde = False, bins = 20, label = [f'Actual Outcome = {group[0]}'])\n",
    "\n",
    "plt.axvline(y.mean(), color='r')\n",
    "plt.xlabel('Predicted Probability that Outcome = 1')\n",
    "plt.legend();"
   ]
  },
  {
   "cell_type": "code",
   "execution_count": 51,
   "id": "30446157",
   "metadata": {},
   "outputs": [
    {
     "data": {
      "image/png": "[encoded data removed]",
      "text/plain": [
       "<Figure size 432x288 with 1 Axes>"
      ]
     },
     "metadata": {
      "needs_background": "light"
     },
     "output_type": "display_data"
    }
   ],
   "source": [
    "# ROC curve for Model 2\n",
    "metrics.plot_roc_curve(gs2, X_test, y_test)\n",
    "# worst case scenario line\n",
    "plt.plot([0,1], [0,1], label='Baseline');"
   ]
  },
  {
   "cell_type": "markdown",
   "id": "6610f4ab",
   "metadata": {},
   "source": [
    "---"
   ]
  },
  {
   "cell_type": "markdown",
   "id": "ca243be9",
   "metadata": {},
   "source": [
    "### Model 3 - Logistic Regression with CountVectorizer"
   ]
  },
  {
   "cell_type": "code",
   "execution_count": 52,
   "id": "4e60c876",
   "metadata": {},
   "outputs": [],
   "source": [
    "pipe3 = Pipeline([\n",
    "    ('cvec', CountVectorizer()),\n",
    "    ('logreg', LogisticRegression())\n",
    "])"
   ]
  },
  {
   "cell_type": "code",
   "execution_count": 53,
   "id": "90dd4d77",
   "metadata": {},
   "outputs": [],
   "source": [
    "params3 = {\n",
    "    'cvec__min_df': [2, 3, 4, 5, 6],\n",
    "    'cvec__max_df': [.1, .2, .3],\n",
    "    'cvec__binary': [True, False],\n",
    "    'cvec__stop_words': [None, 'english'],\n",
    "    'cvec__ngram_range': [(1,1), (1,2)],\n",
    "    'logreg__C': [1, 2, 3]\n",
    "}"
   ]
  },
  {
   "cell_type": "code",
   "execution_count": 54,
   "id": "cd977e13",
   "metadata": {},
   "outputs": [
    {
     "name": "stdout",
     "output_type": "stream",
     "text": [
      "0.898\n"
     ]
    },
    {
     "data": {
      "text/plain": [
       "{'cvec__binary': False,\n",
       " 'cvec__max_df': 0.2,\n",
       " 'cvec__min_df': 2,\n",
       " 'cvec__ngram_range': (1, 1),\n",
       " 'cvec__stop_words': 'english',\n",
       " 'logreg__C': 2}"
      ]
     },
     "execution_count": 54,
     "metadata": {},
     "output_type": "execute_result"
    }
   ],
   "source": [
    "gs3 = GridSearchCV(pipe3, param_grid=params3)\n",
    "gs3.fit(X_train, y_train)\n",
    "print(gs3.best_score_)\n",
    "gs3.best_params_"
   ]
  },
  {
   "cell_type": "code",
   "execution_count": 55,
   "id": "7711a41c",
   "metadata": {},
   "outputs": [
    {
     "data": {
      "image/png": "[encoded data removed]",
      "text/plain": [
       "<Figure size 432x288 with 2 Axes>"
      ]
     },
     "metadata": {
      "needs_background": "light"
     },
     "output_type": "display_data"
    }
   ],
   "source": [
    "cm3 = metrics.plot_confusion_matrix(gs3, X_test, y_test, display_labels=['Tomorrowland', 'PremierLeague'])\n",
    "plt.show(cm3)"
   ]
  },
  {
   "cell_type": "code",
   "execution_count": 56,
   "id": "9c87db2f",
   "metadata": {},
   "outputs": [],
   "source": [
    "preds3 = gs3.predict(X_test)\n",
    "tn3, fp3, fn3, tp3 = metrics.confusion_matrix(y_test, preds3).flatten()"
   ]
  },
  {
   "cell_type": "markdown",
   "id": "103a6aef",
   "metadata": {},
   "source": [
    "**Specificity - How good did the model perform at predicting Tomorrowland titles?**"
   ]
  },
  {
   "cell_type": "code",
   "execution_count": 57,
   "id": "82179eb9",
   "metadata": {},
   "outputs": [
    {
     "data": {
      "text/plain": [
       "0.968"
      ]
     },
     "execution_count": 57,
     "metadata": {},
     "output_type": "execute_result"
    }
   ],
   "source": [
    "tn3 / (tn3 + fp3)   # Model was very good at predicting subreddit if title came from Tomorrowland"
   ]
  },
  {
   "cell_type": "markdown",
   "id": "03a3f346",
   "metadata": {},
   "source": [
    "**Sensitivity - How good did the model perform at predicting Premier League titles?**"
   ]
  },
  {
   "cell_type": "code",
   "execution_count": 58,
   "id": "e3a2e94f",
   "metadata": {},
   "outputs": [
    {
     "data": {
      "text/plain": [
       "0.876"
      ]
     },
     "execution_count": 58,
     "metadata": {},
     "output_type": "execute_result"
    }
   ],
   "source": [
    "tp3 / (tp3 + fn3)   # Model was good at predicting subreddit if title came from Premier League"
   ]
  },
  {
   "cell_type": "code",
   "execution_count": 59,
   "id": "6ab2e502",
   "metadata": {},
   "outputs": [
    {
     "data": {
      "text/plain": [
       "1778                           Someone explain this to me\n",
       "1605                     Online Career Mode - FIFA 22 XB1\n",
       "1024    Ward-prowse, TAA, and Maddison, who are you ta...\n",
       "1295                              Proper baller. Deserved\n",
       "1919                       Please subscribe to my channel\n",
       "1641                                    Pretty much this!\n",
       "1228    A commanding performance or a open-ended thril...\n",
       "1459    Which are the most unexpected signings in rece...\n",
       "1290    Former wonder kids who failed to live up to th...\n",
       "1409                                    I'm fed up of FSG\n",
       "1317    Seems you lot appreciated the last one I poste...\n",
       "1954                                         Need a chant\n",
       "1214                             Can someone explain ffp?\n",
       "1626                                     Pure masterclass\n",
       "1136             Reece James or Trent Alexander Arnold???\n",
       "1004    Hwang Hee-chan: Had a chat with Shin Joo-hyun ...\n",
       "1328                           God I love Moyes's Westham\n",
       "1668                        I made this on the glowforge.\n",
       "1843                                            Transfers\n",
       "1103    Interesting. Is it because Scholes played the ...\n",
       "1897    American with a ticket question- How to get ti...\n",
       "1474    Can Someone British Translate a Term the Comme...\n",
       "1131    Lukaku Cross Body Finish! PES 2021 Ultra Reali...\n",
       "1348                      guess the hammers are for real.\n",
       "1957                     They just announced the new 007!\n",
       "1012                                           Genesis576\n",
       "1410            Eddie Howe on his way into the Amex today\n",
       "1827    Neymar da Silva Santos, why doesn’t Neymar rec...\n",
       "1663                                                    😳\n",
       "1362    Operation Exercise: What's the coded message b...\n",
       "1320                                            NEW ORDER\n",
       "Name: title, dtype: object"
      ]
     },
     "execution_count": 59,
     "metadata": {},
     "output_type": "execute_result"
    }
   ],
   "source": [
    "preds3 = gs3.predict(X_test)\n",
    "X_test[(y_test != preds3) & (preds3 == 0)].head(31)"
   ]
  },
  {
   "cell_type": "code",
   "execution_count": 60,
   "id": "68d25b3f",
   "metadata": {},
   "outputs": [
    {
     "data": {
      "text/plain": [
       "686    Let's gooooo!!!! Finally something to look for...\n",
       "805    The best time of my life deserves to be on my ...\n",
       "492                          Time to make legal steps...\n",
       "267    One of the best ways to watch: with Philips Hu...\n",
       "339    Anyone Know what camping is dis? I've never se...\n",
       "847                                   Good time at B.Eat\n",
       "64                                    Best treasure case\n",
       "418            Can I stay the entire week at dreamville?\n",
       "Name: title, dtype: object"
      ]
     },
     "execution_count": 60,
     "metadata": {},
     "output_type": "execute_result"
    }
   ],
   "source": [
    "X_test[(y_test != preds3) & (preds3 == 1)].head(8)"
   ]
  },
  {
   "cell_type": "code",
   "execution_count": 61,
   "id": "da91b956",
   "metadata": {},
   "outputs": [
    {
     "data": {
      "text/html": [
       "<div>\n",
       "<style scoped>\n",
       "    .dataframe tbody tr th:only-of-type {\n",
       "        vertical-align: middle;\n",
       "    }\n",
       "\n",
       "    .dataframe tbody tr th {\n",
       "        vertical-align: top;\n",
       "    }\n",
       "\n",
       "    .dataframe thead th {\n",
       "        text-align: right;\n",
       "    }\n",
       "</style>\n",
       "<table border=\"1\" class=\"dataframe\">\n",
       "  <thead>\n",
       "    <tr style=\"text-align: right;\">\n",
       "      <th></th>\n",
       "      <th>true_values</th>\n",
       "      <th>pred_probs</th>\n",
       "    </tr>\n",
       "  </thead>\n",
       "  <tbody>\n",
       "    <tr>\n",
       "      <th>1370</th>\n",
       "      <td>1</td>\n",
       "      <td>0.865643</td>\n",
       "    </tr>\n",
       "    <tr>\n",
       "      <th>654</th>\n",
       "      <td>0</td>\n",
       "      <td>0.055751</td>\n",
       "    </tr>\n",
       "    <tr>\n",
       "      <th>1778</th>\n",
       "      <td>1</td>\n",
       "      <td>0.316927</td>\n",
       "    </tr>\n",
       "    <tr>\n",
       "      <th>646</th>\n",
       "      <td>0</td>\n",
       "      <td>0.211946</td>\n",
       "    </tr>\n",
       "    <tr>\n",
       "      <th>1171</th>\n",
       "      <td>1</td>\n",
       "      <td>0.991122</td>\n",
       "    </tr>\n",
       "  </tbody>\n",
       "</table>\n",
       "</div>"
      ],
      "text/plain": [
       "      true_values  pred_probs\n",
       "1370            1    0.865643\n",
       "654             0    0.055751\n",
       "1778            1    0.316927\n",
       "646             0    0.211946\n",
       "1171            1    0.991122"
      ]
     },
     "execution_count": 61,
     "metadata": {},
     "output_type": "execute_result"
    }
   ],
   "source": [
    "pred3_df = pd.DataFrame({'true_values': y_test,\n",
    "                        'pred_probs': gs3.predict_proba(X_test)[:,1]})\n",
    "\n",
    "pred3_df.head()"
   ]
  },
  {
   "cell_type": "code",
   "execution_count": 62,
   "id": "9429fae1",
   "metadata": {},
   "outputs": [
    {
     "name": "stderr",
     "output_type": "stream",
     "text": [
      "C:\\Users\\ao322\\anaconda3\\lib\\site-packages\\seaborn\\distributions.py:2557: FutureWarning: `distplot` is a deprecated function and will be removed in a future version. Please adapt your code to use either `displot` (a figure-level function with similar flexibility) or `histplot` (an axes-level function for histograms).\n",
      "  warnings.warn(msg, FutureWarning)\n"
     ]
    },
    {
     "data": {
      "image/png": "[encoded data removed]",
      "text/plain": [
       "<Figure size 864x360 with 1 Axes>"
      ]
     },
     "metadata": {
      "needs_background": "light"
     },
     "output_type": "display_data"
    }
   ],
   "source": [
    "plt.figure(figsize = (12, 5))\n",
    "\n",
    "# code from classification metrics lecture ii\n",
    "for group in pred3_df.groupby('true_values'):\n",
    "    sns.distplot(group[1], kde = False, bins = 20, label = [f'Actual Outcome = {group[0]}'])\n",
    "\n",
    "plt.axvline(y.mean(), color='r')\n",
    "plt.xlabel('Predicted Probability that Outcome = 1')\n",
    "plt.legend();"
   ]
  },
  {
   "cell_type": "code",
   "execution_count": 63,
   "id": "dce37563",
   "metadata": {},
   "outputs": [
    {
     "data": {
      "image/png": "[encoded data removed]",
      "text/plain": [
       "<Figure size 432x288 with 1 Axes>"
      ]
     },
     "metadata": {
      "needs_background": "light"
     },
     "output_type": "display_data"
    }
   ],
   "source": [
    "# ROC curve for Model 3\n",
    "metrics.plot_roc_curve(gs3, X_test, y_test)\n",
    "# worst case scenario line\n",
    "plt.plot([0,1], [0,1], label='Baseline');"
   ]
  },
  {
   "cell_type": "markdown",
   "id": "8304072c",
   "metadata": {},
   "source": [
    "---"
   ]
  },
  {
   "cell_type": "markdown",
   "id": "1b3585ae",
   "metadata": {},
   "source": [
    "### Model 4 - Logistic Regression with TFIDF"
   ]
  },
  {
   "cell_type": "code",
   "execution_count": 64,
   "id": "e4c63b04",
   "metadata": {},
   "outputs": [],
   "source": [
    "pipe4 = Pipeline([\n",
    "    ('tvec', TfidfVectorizer()),\n",
    "    ('logreg', LogisticRegression())\n",
    "])"
   ]
  },
  {
   "cell_type": "code",
   "execution_count": 65,
   "id": "649dc93b",
   "metadata": {},
   "outputs": [],
   "source": [
    "params4 = {\n",
    "    'tvec__stop_words': [None, 'english'],\n",
    "    'tvec__min_df': [1, 2, 3, 4, 5],\n",
    "    'tvec__max_df': [.2, .3, .4],\n",
    "    'tvec__ngram_range': [(1,1), (1,2)],\n",
    "    'logreg__C': [1, 2, 3]\n",
    "}"
   ]
  },
  {
   "cell_type": "code",
   "execution_count": 66,
   "id": "726f30f7",
   "metadata": {},
   "outputs": [
    {
     "name": "stdout",
     "output_type": "stream",
     "text": [
      "0.9113333333333333\n"
     ]
    },
    {
     "data": {
      "text/plain": [
       "{'logreg__C': 1,\n",
       " 'tvec__max_df': 0.2,\n",
       " 'tvec__min_df': 1,\n",
       " 'tvec__ngram_range': (1, 2),\n",
       " 'tvec__stop_words': 'english'}"
      ]
     },
     "execution_count": 66,
     "metadata": {},
     "output_type": "execute_result"
    }
   ],
   "source": [
    "gs4 = GridSearchCV(pipe4, param_grid=params4)\n",
    "gs4.fit(X_train, y_train)\n",
    "print(gs4.best_score_)\n",
    "gs4.best_params_"
   ]
  },
  {
   "cell_type": "code",
   "execution_count": 67,
   "id": "3a6e2aef",
   "metadata": {},
   "outputs": [
    {
     "data": {
      "image/png": "[encoded data removed]",
      "text/plain": [
       "<Figure size 432x288 with 2 Axes>"
      ]
     },
     "metadata": {
      "needs_background": "light"
     },
     "output_type": "display_data"
    }
   ],
   "source": [
    "cm4 = metrics.plot_confusion_matrix(gs4, X_test, y_test, display_labels=['Tomorrowland', 'PremierLeague'])\n",
    "plt.savefig('./Visuals/top_title_cm.png', bbox_inches='tight')\n",
    "plt.show(cm4)"
   ]
  },
  {
   "cell_type": "code",
   "execution_count": 68,
   "id": "454099e9",
   "metadata": {},
   "outputs": [],
   "source": [
    "preds4 = gs4.predict(X_test)\n",
    "tn4, fp4, fn4, tp4 = metrics.confusion_matrix(y_test, preds4).flatten()"
   ]
  },
  {
   "cell_type": "markdown",
   "id": "7c6e7678",
   "metadata": {},
   "source": [
    "**Specificity - How good did the model perform at predicting Tomorrowland titles?**"
   ]
  },
  {
   "cell_type": "code",
   "execution_count": 69,
   "id": "b4edabe2",
   "metadata": {},
   "outputs": [
    {
     "data": {
      "text/plain": [
       "0.956"
      ]
     },
     "execution_count": 69,
     "metadata": {},
     "output_type": "execute_result"
    }
   ],
   "source": [
    "tn4 / (tn4 + fp4)   # Model was very good at predicting subreddit if title came from Tomorrowland"
   ]
  },
  {
   "cell_type": "markdown",
   "id": "f125e3d2",
   "metadata": {},
   "source": [
    "**Sensitivity - How good did the model perform at predicting Premier League titles?**"
   ]
  },
  {
   "cell_type": "code",
   "execution_count": 70,
   "id": "76adc5b6",
   "metadata": {},
   "outputs": [
    {
     "data": {
      "text/plain": [
       "0.904"
      ]
     },
     "execution_count": 70,
     "metadata": {},
     "output_type": "execute_result"
    }
   ],
   "source": [
    "tp4 / (tp4 + fn4)   # Model was very good at predicting subreddit if title came from Premier League"
   ]
  },
  {
   "cell_type": "code",
   "execution_count": 71,
   "id": "a84d4cbb",
   "metadata": {},
   "outputs": [
    {
     "data": {
      "text/plain": [
       "1778                           Someone explain this to me\n",
       "1295                              Proper baller. Deserved\n",
       "1919                       Please subscribe to my channel\n",
       "1641                                    Pretty much this!\n",
       "1228    A commanding performance or a open-ended thril...\n",
       "1290    Former wonder kids who failed to live up to th...\n",
       "1409                                    I'm fed up of FSG\n",
       "1317    Seems you lot appreciated the last one I poste...\n",
       "1214                             Can someone explain ffp?\n",
       "1626                                     Pure masterclass\n",
       "1328                           God I love Moyes's Westham\n",
       "1668                        I made this on the glowforge.\n",
       "1843                                            Transfers\n",
       "1083    Study abroad student wanting to experience the...\n",
       "1458    According to statistics from Artificial Intell...\n",
       "1897    American with a ticket question- How to get ti...\n",
       "1401                       Anybody need a new goalkeeper?\n",
       "1348                      guess the hammers are for real.\n",
       "1957                     They just announced the new 007!\n",
       "1012                                           Genesis576\n",
       "1827    Neymar da Silva Santos, why doesn’t Neymar rec...\n",
       "1663                                                    😳\n",
       "1362    Operation Exercise: What's the coded message b...\n",
       "1320                                            NEW ORDER\n",
       "Name: title, dtype: object"
      ]
     },
     "execution_count": 71,
     "metadata": {},
     "output_type": "execute_result"
    }
   ],
   "source": [
    "preds4 = gs4.predict(X_test)\n",
    "X_test[(y_test != preds4) & (preds4 == 0)].head(24)"
   ]
  },
  {
   "cell_type": "code",
   "execution_count": 72,
   "id": "84c3b60b",
   "metadata": {},
   "outputs": [
    {
     "data": {
      "text/plain": [
       "981                                  Talk about details!\n",
       "805    The best time of my life deserves to be on my ...\n",
       "492                          Time to make legal steps...\n",
       "267    One of the best ways to watch: with Philips Hu...\n",
       "738            Some of the best memories of my lifetyme!\n",
       "339    Anyone Know what camping is dis? I've never se...\n",
       "847                                   Good time at B.Eat\n",
       "64                                    Best treasure case\n",
       "387                                           It arrived\n",
       "624                               Most memorable speech?\n",
       "418            Can I stay the entire week at dreamville?\n",
       "Name: title, dtype: object"
      ]
     },
     "execution_count": 72,
     "metadata": {},
     "output_type": "execute_result"
    }
   ],
   "source": [
    "X_test[(y_test != preds4) & (preds4 == 1)].head(11)"
   ]
  },
  {
   "cell_type": "code",
   "execution_count": 73,
   "id": "6b355310",
   "metadata": {},
   "outputs": [
    {
     "data": {
      "text/html": [
       "<div>\n",
       "<style scoped>\n",
       "    .dataframe tbody tr th:only-of-type {\n",
       "        vertical-align: middle;\n",
       "    }\n",
       "\n",
       "    .dataframe tbody tr th {\n",
       "        vertical-align: top;\n",
       "    }\n",
       "\n",
       "    .dataframe thead th {\n",
       "        text-align: right;\n",
       "    }\n",
       "</style>\n",
       "<table border=\"1\" class=\"dataframe\">\n",
       "  <thead>\n",
       "    <tr style=\"text-align: right;\">\n",
       "      <th></th>\n",
       "      <th>true_values</th>\n",
       "      <th>pred_probs</th>\n",
       "    </tr>\n",
       "  </thead>\n",
       "  <tbody>\n",
       "    <tr>\n",
       "      <th>1370</th>\n",
       "      <td>1</td>\n",
       "      <td>0.736142</td>\n",
       "    </tr>\n",
       "    <tr>\n",
       "      <th>654</th>\n",
       "      <td>0</td>\n",
       "      <td>0.248558</td>\n",
       "    </tr>\n",
       "    <tr>\n",
       "      <th>1778</th>\n",
       "      <td>1</td>\n",
       "      <td>0.448336</td>\n",
       "    </tr>\n",
       "    <tr>\n",
       "      <th>646</th>\n",
       "      <td>0</td>\n",
       "      <td>0.412691</td>\n",
       "    </tr>\n",
       "    <tr>\n",
       "      <th>1171</th>\n",
       "      <td>1</td>\n",
       "      <td>0.964026</td>\n",
       "    </tr>\n",
       "  </tbody>\n",
       "</table>\n",
       "</div>"
      ],
      "text/plain": [
       "      true_values  pred_probs\n",
       "1370            1    0.736142\n",
       "654             0    0.248558\n",
       "1778            1    0.448336\n",
       "646             0    0.412691\n",
       "1171            1    0.964026"
      ]
     },
     "execution_count": 73,
     "metadata": {},
     "output_type": "execute_result"
    }
   ],
   "source": [
    "pred4_df = pd.DataFrame({'true_values': y_test,\n",
    "                        'pred_probs': gs4.predict_proba(X_test)[:,1]})\n",
    "\n",
    "pred4_df.head()"
   ]
  },
  {
   "cell_type": "code",
   "execution_count": 74,
   "id": "933a379a",
   "metadata": {},
   "outputs": [
    {
     "name": "stderr",
     "output_type": "stream",
     "text": [
      "C:\\Users\\ao322\\anaconda3\\lib\\site-packages\\seaborn\\distributions.py:2557: FutureWarning: `distplot` is a deprecated function and will be removed in a future version. Please adapt your code to use either `displot` (a figure-level function with similar flexibility) or `histplot` (an axes-level function for histograms).\n",
      "  warnings.warn(msg, FutureWarning)\n"
     ]
    },
    {
     "data": {
      "image/png": "[encoded data removed]",
      "text/plain": [
       "<Figure size 864x360 with 1 Axes>"
      ]
     },
     "metadata": {
      "needs_background": "light"
     },
     "output_type": "display_data"
    }
   ],
   "source": [
    "plt.figure(figsize = (12, 5))\n",
    "\n",
    "# code from classification metrics lecture ii\n",
    "for group in pred4_df.groupby('true_values'):\n",
    "    sns.distplot(group[1], kde = False, bins = 20, label = [f'Actual Outcome = {group[0]}'])\n",
    "\n",
    "plt.axvline(y.mean(), color='r')\n",
    "plt.xlabel('Predicted Probability that Outcome = 1')\n",
    "plt.legend();"
   ]
  },
  {
   "cell_type": "code",
   "execution_count": 75,
   "id": "1caebe9e",
   "metadata": {},
   "outputs": [
    {
     "data": {
      "image/png": "[encoded data removed]",
      "text/plain": [
       "<Figure size 432x288 with 1 Axes>"
      ]
     },
     "metadata": {
      "needs_background": "light"
     },
     "output_type": "display_data"
    }
   ],
   "source": [
    "# ROC curve for Model 4\n",
    "metrics.plot_roc_curve(gs4, X_test, y_test)\n",
    "# worst case scenario line\n",
    "plt.plot([0,1], [0,1], label='Baseline');"
   ]
  },
  {
   "cell_type": "markdown",
   "id": "b81e62e0",
   "metadata": {},
   "source": [
    "---"
   ]
  },
  {
   "cell_type": "markdown",
   "id": "545bc10d",
   "metadata": {},
   "source": [
    "### Model 5 - Decision Tree with CountVectorizer"
   ]
  },
  {
   "cell_type": "code",
   "execution_count": 76,
   "id": "e16810bc",
   "metadata": {},
   "outputs": [],
   "source": [
    "pipe5 = Pipeline([\n",
    "    ('cvec', CountVectorizer()),\n",
    "    ('dt', DecisionTreeClassifier())\n",
    "])"
   ]
  },
  {
   "cell_type": "code",
   "execution_count": 77,
   "id": "4a35c916",
   "metadata": {},
   "outputs": [],
   "source": [
    "params5 = {\n",
    "    'cvec__min_df': [2],\n",
    "    'cvec__max_df': [.2],\n",
    "    'cvec__binary': [True],\n",
    "    'cvec__stop_words': ['english'],\n",
    "    'dt__random_state': [10],\n",
    "    'dt__min_samples_split': [5, 6, 7, 8, 9, 10]\n",
    "}"
   ]
  },
  {
   "cell_type": "code",
   "execution_count": 78,
   "id": "60d78ab9",
   "metadata": {},
   "outputs": [
    {
     "name": "stdout",
     "output_type": "stream",
     "text": [
      "0.8726666666666667\n"
     ]
    },
    {
     "data": {
      "text/plain": [
       "{'cvec__binary': True,\n",
       " 'cvec__max_df': 0.2,\n",
       " 'cvec__min_df': 2,\n",
       " 'cvec__stop_words': 'english',\n",
       " 'dt__min_samples_split': 8,\n",
       " 'dt__random_state': 10}"
      ]
     },
     "execution_count": 78,
     "metadata": {},
     "output_type": "execute_result"
    }
   ],
   "source": [
    "gs5 = GridSearchCV(pipe5, param_grid=params5)\n",
    "gs5.fit(X_train, y_train)\n",
    "print(gs5.best_score_)\n",
    "gs5.best_params_"
   ]
  },
  {
   "cell_type": "code",
   "execution_count": 79,
   "id": "1b9b1e29",
   "metadata": {},
   "outputs": [
    {
     "data": {
      "image/png": "[encoded data removed]",
      "text/plain": [
       "<Figure size 432x288 with 2 Axes>"
      ]
     },
     "metadata": {
      "needs_background": "light"
     },
     "output_type": "display_data"
    }
   ],
   "source": [
    "cm5 = metrics.plot_confusion_matrix(gs5, X_test, y_test, display_labels=['Tomorrowland', 'PremierLeague'])\n",
    "plt.show(cm5)"
   ]
  },
  {
   "cell_type": "code",
   "execution_count": 80,
   "id": "c3f11a50",
   "metadata": {},
   "outputs": [],
   "source": [
    "preds5 = gs5.predict(X_test)\n",
    "tn5, fp5, fn5, tp5 = metrics.confusion_matrix(y_test, preds5).flatten()"
   ]
  },
  {
   "cell_type": "markdown",
   "id": "9e9ba8cb",
   "metadata": {},
   "source": [
    "**Specificity - How good did the model perform at predicting Tomorrowland titles?**"
   ]
  },
  {
   "cell_type": "code",
   "execution_count": 81,
   "id": "51ae290d",
   "metadata": {},
   "outputs": [
    {
     "data": {
      "text/plain": [
       "0.956"
      ]
     },
     "execution_count": 81,
     "metadata": {},
     "output_type": "execute_result"
    }
   ],
   "source": [
    "tn5 / (tn5 + fp5)   # Model was very good at predicting subreddit if title came from Tomorrowland"
   ]
  },
  {
   "cell_type": "markdown",
   "id": "32b38e43",
   "metadata": {},
   "source": [
    "**Sensitivity - How good did the model perform at predicting Premier League titles?**"
   ]
  },
  {
   "cell_type": "code",
   "execution_count": 82,
   "id": "e2305a45",
   "metadata": {},
   "outputs": [
    {
     "data": {
      "text/plain": [
       "0.84"
      ]
     },
     "execution_count": 82,
     "metadata": {},
     "output_type": "execute_result"
    }
   ],
   "source": [
    "tp5 / (tp5 + fn5)   # Model was not as good at predicting subreddit if title came from Premier League"
   ]
  },
  {
   "cell_type": "code",
   "execution_count": 83,
   "id": "b88e6905",
   "metadata": {},
   "outputs": [
    {
     "data": {
      "text/plain": [
       "1778                           Someone explain this to me\n",
       "1605                     Online Career Mode - FIFA 22 XB1\n",
       "1571                      Breakdown of annual squad wages\n",
       "1024    Ward-prowse, TAA, and Maddison, who are you ta...\n",
       "1295                              Proper baller. Deserved\n",
       "1919                       Please subscribe to my channel\n",
       "1641                                    Pretty much this!\n",
       "1038                        Are fan channels independent?\n",
       "1797                               Heung-min Son or Kane?\n",
       "1228    A commanding performance or a open-ended thril...\n",
       "1459    Which are the most unexpected signings in rece...\n",
       "1409                                    I'm fed up of FSG\n",
       "1317    Seems you lot appreciated the last one I poste...\n",
       "1074                                      Switching Clubs\n",
       "1954                                         Need a chant\n",
       "1928      What is happening at the RED side of Manchester\n",
       "1214                             Can someone explain ffp?\n",
       "1536    'Bad, very bad indeed' - Italian media denounc...\n",
       "1269          Who remembers this classic Redknapp moment?\n",
       "1626                                     Pure masterclass\n",
       "1126    City supporters, what's your opinion on Gabrie...\n",
       "1136             Reece James or Trent Alexander Arnold???\n",
       "1004    Hwang Hee-chan: Had a chat with Shin Joo-hyun ...\n",
       "1669      Wolves fans,what's your opinion on Lage so far?\n",
       "1328                           God I love Moyes's Westham\n",
       "1668                        I made this on the glowforge.\n",
       "1843                                            Transfers\n",
       "1377                                                 Good\n",
       "1458    According to statistics from Artificial Intell...\n",
       "1103    Interesting. Is it because Scholes played the ...\n",
       "1897    American with a ticket question- How to get ti...\n",
       "1474    Can Someone British Translate a Term the Comme...\n",
       "1348                      guess the hammers are for real.\n",
       "1957                     They just announced the new 007!\n",
       "1012                                           Genesis576\n",
       "1410            Eddie Howe on his way into the Amex today\n",
       "1827    Neymar da Silva Santos, why doesn’t Neymar rec...\n",
       "1663                                                    😳\n",
       "1362    Operation Exercise: What's the coded message b...\n",
       "1320                                            NEW ORDER\n",
       "Name: title, dtype: object"
      ]
     },
     "execution_count": 83,
     "metadata": {},
     "output_type": "execute_result"
    }
   ],
   "source": [
    "preds5 = gs5.predict(X_test)\n",
    "X_test[(y_test != preds5) & (preds5 == 0)].head(40)"
   ]
  },
  {
   "cell_type": "code",
   "execution_count": 84,
   "id": "4ea8c12b",
   "metadata": {},
   "outputs": [
    {
     "data": {
      "text/plain": [
       "686    Let's gooooo!!!! Finally something to look for...\n",
       "805    The best time of my life deserves to be on my ...\n",
       "987    I have a Week 2 Global Journey Package availab...\n",
       "267    One of the best ways to watch: with Philips Hu...\n",
       "738            Some of the best memories of my lifetyme!\n",
       "339    Anyone Know what camping is dis? I've never se...\n",
       "645                 La música es vida- The music is life\n",
       "64                                    Best treasure case\n",
       "410    Workin' on my stage Name for 2024. Lmk what yo...\n",
       "418            Can I stay the entire week at dreamville?\n",
       "561    [OFFER] 20€ FOR YOU + 20€ FOR YOUR FRIEND! (MA...\n",
       "Name: title, dtype: object"
      ]
     },
     "execution_count": 84,
     "metadata": {},
     "output_type": "execute_result"
    }
   ],
   "source": [
    "X_test[(y_test != preds5) & (preds5 == 1)].head(11)"
   ]
  },
  {
   "cell_type": "code",
   "execution_count": 85,
   "id": "ec784cec",
   "metadata": {},
   "outputs": [
    {
     "data": {
      "text/html": [
       "<div>\n",
       "<style scoped>\n",
       "    .dataframe tbody tr th:only-of-type {\n",
       "        vertical-align: middle;\n",
       "    }\n",
       "\n",
       "    .dataframe tbody tr th {\n",
       "        vertical-align: top;\n",
       "    }\n",
       "\n",
       "    .dataframe thead th {\n",
       "        text-align: right;\n",
       "    }\n",
       "</style>\n",
       "<table border=\"1\" class=\"dataframe\">\n",
       "  <thead>\n",
       "    <tr style=\"text-align: right;\">\n",
       "      <th></th>\n",
       "      <th>true_values</th>\n",
       "      <th>pred_probs</th>\n",
       "    </tr>\n",
       "  </thead>\n",
       "  <tbody>\n",
       "    <tr>\n",
       "      <th>1370</th>\n",
       "      <td>1</td>\n",
       "      <td>1.000000</td>\n",
       "    </tr>\n",
       "    <tr>\n",
       "      <th>654</th>\n",
       "      <td>0</td>\n",
       "      <td>0.000000</td>\n",
       "    </tr>\n",
       "    <tr>\n",
       "      <th>1778</th>\n",
       "      <td>1</td>\n",
       "      <td>0.222222</td>\n",
       "    </tr>\n",
       "    <tr>\n",
       "      <th>646</th>\n",
       "      <td>0</td>\n",
       "      <td>0.000000</td>\n",
       "    </tr>\n",
       "    <tr>\n",
       "      <th>1171</th>\n",
       "      <td>1</td>\n",
       "      <td>1.000000</td>\n",
       "    </tr>\n",
       "  </tbody>\n",
       "</table>\n",
       "</div>"
      ],
      "text/plain": [
       "      true_values  pred_probs\n",
       "1370            1    1.000000\n",
       "654             0    0.000000\n",
       "1778            1    0.222222\n",
       "646             0    0.000000\n",
       "1171            1    1.000000"
      ]
     },
     "execution_count": 85,
     "metadata": {},
     "output_type": "execute_result"
    }
   ],
   "source": [
    "pred5_df = pd.DataFrame({'true_values': y_test,\n",
    "                        'pred_probs': gs5.predict_proba(X_test)[:,1]})\n",
    "\n",
    "pred5_df.head()"
   ]
  },
  {
   "cell_type": "code",
   "execution_count": 86,
   "id": "8fbc2621",
   "metadata": {},
   "outputs": [
    {
     "name": "stderr",
     "output_type": "stream",
     "text": [
      "C:\\Users\\ao322\\anaconda3\\lib\\site-packages\\seaborn\\distributions.py:2557: FutureWarning: `distplot` is a deprecated function and will be removed in a future version. Please adapt your code to use either `displot` (a figure-level function with similar flexibility) or `histplot` (an axes-level function for histograms).\n",
      "  warnings.warn(msg, FutureWarning)\n"
     ]
    },
    {
     "data": {
      "image/png": "[encoded data removed]",
      "text/plain": [
       "<Figure size 864x360 with 1 Axes>"
      ]
     },
     "metadata": {
      "needs_background": "light"
     },
     "output_type": "display_data"
    }
   ],
   "source": [
    "plt.figure(figsize = (12, 5))\n",
    "\n",
    "# code from classification metrics lecture ii\n",
    "for group in pred5_df.groupby('true_values'):\n",
    "    sns.distplot(group[1], kde = False, bins = 20, label = [f'Actual Outcome = {group[0]}'])\n",
    "\n",
    "plt.axvline(y.mean(), color='r')\n",
    "plt.xlabel('Predicted Probability that Outcome = 1')\n",
    "plt.legend();"
   ]
  },
  {
   "cell_type": "code",
   "execution_count": 87,
   "id": "1223ad53",
   "metadata": {},
   "outputs": [
    {
     "data": {
      "image/png": "[encoded data removed]",
      "text/plain": [
       "<Figure size 432x288 with 1 Axes>"
      ]
     },
     "metadata": {
      "needs_background": "light"
     },
     "output_type": "display_data"
    }
   ],
   "source": [
    "# ROC curve for Model 5\n",
    "metrics.plot_roc_curve(gs5, X_test, y_test)\n",
    "# worst case scenario line\n",
    "plt.plot([0,1], [0,1], label='Baseline');"
   ]
  },
  {
   "cell_type": "markdown",
   "id": "4a833861",
   "metadata": {},
   "source": [
    "---"
   ]
  },
  {
   "cell_type": "markdown",
   "id": "e38c47db",
   "metadata": {},
   "source": [
    "### Model 6 - Decision Tree with TFIDF"
   ]
  },
  {
   "cell_type": "code",
   "execution_count": 88,
   "id": "d9ea2234",
   "metadata": {},
   "outputs": [],
   "source": [
    "pipe6 = Pipeline([\n",
    "    ('tvec', TfidfVectorizer()),\n",
    "    ('dt', DecisionTreeClassifier())\n",
    "])"
   ]
  },
  {
   "cell_type": "code",
   "execution_count": 89,
   "id": "32ed5756",
   "metadata": {},
   "outputs": [],
   "source": [
    "params6 = {\n",
    "    'tvec__stop_words': ['english'],\n",
    "    'tvec__min_df': [4],\n",
    "    'tvec__max_df': [.2],\n",
    "    'tvec__ngram_range': [(1,1)],\n",
    "    'dt__random_state': [42],\n",
    "    'dt__min_samples_split': [9]\n",
    "}"
   ]
  },
  {
   "cell_type": "code",
   "execution_count": 90,
   "id": "fdd51302",
   "metadata": {},
   "outputs": [
    {
     "name": "stdout",
     "output_type": "stream",
     "text": [
      "0.8713333333333333\n"
     ]
    },
    {
     "data": {
      "text/plain": [
       "{'dt__min_samples_split': 9,\n",
       " 'dt__random_state': 42,\n",
       " 'tvec__max_df': 0.2,\n",
       " 'tvec__min_df': 4,\n",
       " 'tvec__ngram_range': (1, 1),\n",
       " 'tvec__stop_words': 'english'}"
      ]
     },
     "execution_count": 90,
     "metadata": {},
     "output_type": "execute_result"
    }
   ],
   "source": [
    "gs6 = GridSearchCV(pipe6, param_grid=params6)\n",
    "gs6.fit(X_train, y_train)\n",
    "print(gs6.best_score_)\n",
    "gs6.best_params_"
   ]
  },
  {
   "cell_type": "code",
   "execution_count": 91,
   "id": "286a823f",
   "metadata": {},
   "outputs": [
    {
     "data": {
      "image/png": "[encoded data removed]",
      "text/plain": [
       "<Figure size 432x288 with 2 Axes>"
      ]
     },
     "metadata": {
      "needs_background": "light"
     },
     "output_type": "display_data"
    }
   ],
   "source": [
    "cm6 = metrics.plot_confusion_matrix(gs6, X_test, y_test, display_labels=['Tomorrowland', 'PremierLeague'])\n",
    "plt.show(cm6)"
   ]
  },
  {
   "cell_type": "code",
   "execution_count": 92,
   "id": "42f5f90b",
   "metadata": {},
   "outputs": [],
   "source": [
    "preds6 = gs6.predict(X_test)\n",
    "tn6, fp6, fn6, tp6 = metrics.confusion_matrix(y_test, preds6).flatten()"
   ]
  },
  {
   "cell_type": "markdown",
   "id": "5c18804c",
   "metadata": {},
   "source": [
    "**Specificity - How good did the model perform at predicting Tomorrowland titles?**"
   ]
  },
  {
   "cell_type": "code",
   "execution_count": 93,
   "id": "02c34b39",
   "metadata": {},
   "outputs": [
    {
     "data": {
      "text/plain": [
       "0.948"
      ]
     },
     "execution_count": 93,
     "metadata": {},
     "output_type": "execute_result"
    }
   ],
   "source": [
    "tn6 / (tn6 + fp6)   # Model was very good at predicting subreddit if title came from Tomorrowland"
   ]
  },
  {
   "cell_type": "markdown",
   "id": "7ca9c08b",
   "metadata": {},
   "source": [
    "**Sensitivity - How good did the model perform at predicting Premier League titles?**"
   ]
  },
  {
   "cell_type": "code",
   "execution_count": 94,
   "id": "50d51af1",
   "metadata": {},
   "outputs": [
    {
     "data": {
      "text/plain": [
       "0.824"
      ]
     },
     "execution_count": 94,
     "metadata": {},
     "output_type": "execute_result"
    }
   ],
   "source": [
    "tp6 / (tp6 + fn6)   # Model was not as good at predicting subreddit if title came from Premier League"
   ]
  },
  {
   "cell_type": "code",
   "execution_count": 95,
   "id": "9a6281ef",
   "metadata": {},
   "outputs": [
    {
     "data": {
      "text/plain": [
       "1778                           Someone explain this to me\n",
       "1571                      Breakdown of annual squad wages\n",
       "1024    Ward-prowse, TAA, and Maddison, who are you ta...\n",
       "1295                              Proper baller. Deserved\n",
       "1919                       Please subscribe to my channel\n",
       "1641                                    Pretty much this!\n",
       "1797                               Heung-min Son or Kane?\n",
       "1228    A commanding performance or a open-ended thril...\n",
       "1459    Which are the most unexpected signings in rece...\n",
       "1290    Former wonder kids who failed to live up to th...\n",
       "1409                                    I'm fed up of FSG\n",
       "1317    Seems you lot appreciated the last one I poste...\n",
       "1074                                      Switching Clubs\n",
       "1954                                         Need a chant\n",
       "1928      What is happening at the RED side of Manchester\n",
       "1050    A video providing a surface level breakdown of...\n",
       "1214                             Can someone explain ffp?\n",
       "1068    How do you all feel about the international br...\n",
       "1536    'Bad, very bad indeed' - Italian media denounc...\n",
       "1269          Who remembers this classic Redknapp moment?\n",
       "1626                                     Pure masterclass\n",
       "1660                              Best Gk out of these 3?\n",
       "1126    City supporters, what's your opinion on Gabrie...\n",
       "1136             Reece James or Trent Alexander Arnold???\n",
       "1004    Hwang Hee-chan: Had a chat with Shin Joo-hyun ...\n",
       "1668                        I made this on the glowforge.\n",
       "1910                     What are you unpopular opinions?\n",
       "1927    What current duos seem to have the most on-fie...\n",
       "1843                                            Transfers\n",
       "1103    Interesting. Is it because Scholes played the ...\n",
       "1872    Teams I don't support, but why I root for them...\n",
       "1897    American with a ticket question- How to get ti...\n",
       "1474    Can Someone British Translate a Term the Comme...\n",
       "1131    Lukaku Cross Body Finish! PES 2021 Ultra Reali...\n",
       "1401                       Anybody need a new goalkeeper?\n",
       "1348                      guess the hammers are for real.\n",
       "1754             Let's talk about Alex Oxlade-Chamberlain\n",
       "1012                                           Genesis576\n",
       "1525      ELI5: How is Conte signing different than Jose?\n",
       "1421                              Toty needs to sell Kane\n",
       "1827    Neymar da Silva Santos, why doesn’t Neymar rec...\n",
       "1663                                                    😳\n",
       "1601                                     Conte to Hotspur\n",
       "1362    Operation Exercise: What's the coded message b...\n",
       "Name: title, dtype: object"
      ]
     },
     "execution_count": 95,
     "metadata": {},
     "output_type": "execute_result"
    }
   ],
   "source": [
    "preds6 = gs6.predict(X_test)\n",
    "X_test[(y_test != preds6) & (preds6 == 0)].head(44)"
   ]
  },
  {
   "cell_type": "code",
   "execution_count": 96,
   "id": "cd9f322e",
   "metadata": {},
   "outputs": [
    {
     "data": {
      "text/plain": [
       "504                            Good luck getting refunds\n",
       "982    I get the chills evrytime I find this photo.. ...\n",
       "805    The best time of my life deserves to be on my ...\n",
       "276    Cheers from Australia, can't wait to be there ...\n",
       "267    One of the best ways to watch: with Philips Hu...\n",
       "389    How it the festival next year safer than that?...\n",
       "339    Anyone Know what camping is dis? I've never se...\n",
       "242    Anyone having Streaming Problems with the Replay?\n",
       "847                                   Good time at B.Eat\n",
       "410    Workin' on my stage Name for 2024. Lmk what yo...\n",
       "857                What happened with the Chainsmokers??\n",
       "418            Can I stay the entire week at dreamville?\n",
       "241          Thinking about 2022. 12 months and counting\n",
       "Name: title, dtype: object"
      ]
     },
     "execution_count": 96,
     "metadata": {},
     "output_type": "execute_result"
    }
   ],
   "source": [
    "X_test[(y_test != preds6) & (preds6 == 1)].head(13)"
   ]
  },
  {
   "cell_type": "code",
   "execution_count": 97,
   "id": "3325932a",
   "metadata": {},
   "outputs": [
    {
     "data": {
      "text/html": [
       "<div>\n",
       "<style scoped>\n",
       "    .dataframe tbody tr th:only-of-type {\n",
       "        vertical-align: middle;\n",
       "    }\n",
       "\n",
       "    .dataframe tbody tr th {\n",
       "        vertical-align: top;\n",
       "    }\n",
       "\n",
       "    .dataframe thead th {\n",
       "        text-align: right;\n",
       "    }\n",
       "</style>\n",
       "<table border=\"1\" class=\"dataframe\">\n",
       "  <thead>\n",
       "    <tr style=\"text-align: right;\">\n",
       "      <th></th>\n",
       "      <th>true_values</th>\n",
       "      <th>pred_probs</th>\n",
       "    </tr>\n",
       "  </thead>\n",
       "  <tbody>\n",
       "    <tr>\n",
       "      <th>1370</th>\n",
       "      <td>1</td>\n",
       "      <td>1.0000</td>\n",
       "    </tr>\n",
       "    <tr>\n",
       "      <th>654</th>\n",
       "      <td>0</td>\n",
       "      <td>0.0000</td>\n",
       "    </tr>\n",
       "    <tr>\n",
       "      <th>1778</th>\n",
       "      <td>1</td>\n",
       "      <td>0.3125</td>\n",
       "    </tr>\n",
       "    <tr>\n",
       "      <th>646</th>\n",
       "      <td>0</td>\n",
       "      <td>0.0000</td>\n",
       "    </tr>\n",
       "    <tr>\n",
       "      <th>1171</th>\n",
       "      <td>1</td>\n",
       "      <td>1.0000</td>\n",
       "    </tr>\n",
       "  </tbody>\n",
       "</table>\n",
       "</div>"
      ],
      "text/plain": [
       "      true_values  pred_probs\n",
       "1370            1      1.0000\n",
       "654             0      0.0000\n",
       "1778            1      0.3125\n",
       "646             0      0.0000\n",
       "1171            1      1.0000"
      ]
     },
     "execution_count": 97,
     "metadata": {},
     "output_type": "execute_result"
    }
   ],
   "source": [
    "pred6_df = pd.DataFrame({'true_values': y_test,\n",
    "                        'pred_probs': gs6.predict_proba(X_test)[:,1]})\n",
    "\n",
    "pred6_df.head()"
   ]
  },
  {
   "cell_type": "code",
   "execution_count": 98,
   "id": "d7c2fcf5",
   "metadata": {},
   "outputs": [
    {
     "name": "stderr",
     "output_type": "stream",
     "text": [
      "C:\\Users\\ao322\\anaconda3\\lib\\site-packages\\seaborn\\distributions.py:2557: FutureWarning: `distplot` is a deprecated function and will be removed in a future version. Please adapt your code to use either `displot` (a figure-level function with similar flexibility) or `histplot` (an axes-level function for histograms).\n",
      "  warnings.warn(msg, FutureWarning)\n"
     ]
    },
    {
     "data": {
      "image/png": "[encoded data removed]",
      "text/plain": [
       "<Figure size 864x360 with 1 Axes>"
      ]
     },
     "metadata": {
      "needs_background": "light"
     },
     "output_type": "display_data"
    }
   ],
   "source": [
    "plt.figure(figsize = (12, 5))\n",
    "\n",
    "# code from classification metrics lecture ii\n",
    "for group in pred6_df.groupby('true_values'):\n",
    "    sns.distplot(group[1], kde = False, bins = 20, label = [f'Actual Outcome = {group[0]}'])\n",
    "\n",
    "plt.axvline(y.mean(), color='r')\n",
    "plt.xlabel('Predicted Probability that Outcome = 1')\n",
    "plt.legend();"
   ]
  },
  {
   "cell_type": "code",
   "execution_count": 99,
   "id": "f4d4d62c",
   "metadata": {},
   "outputs": [
    {
     "data": {
      "image/png": "[encoded data removed]",
      "text/plain": [
       "<Figure size 432x288 with 1 Axes>"
      ]
     },
     "metadata": {
      "needs_background": "light"
     },
     "output_type": "display_data"
    }
   ],
   "source": [
    "# ROC curve for Model 6\n",
    "metrics.plot_roc_curve(gs6, X_test, y_test)\n",
    "# worst case scenario line\n",
    "plt.plot([0,1], [0,1], label='Baseline');"
   ]
  },
  {
   "cell_type": "markdown",
   "id": "7c45f491",
   "metadata": {},
   "source": [
    "---"
   ]
  },
  {
   "cell_type": "markdown",
   "id": "3d41d002",
   "metadata": {},
   "source": [
    "### Model 7 - RandomForest with CountVectorizer"
   ]
  },
  {
   "cell_type": "code",
   "execution_count": 100,
   "id": "a1c27f13",
   "metadata": {},
   "outputs": [],
   "source": [
    "pipe7 = Pipeline([\n",
    "    ('cvec', CountVectorizer()),\n",
    "    ('rf', RandomForestClassifier())\n",
    "])"
   ]
  },
  {
   "cell_type": "code",
   "execution_count": 101,
   "id": "e560c70e",
   "metadata": {},
   "outputs": [],
   "source": [
    "params7 = {\n",
    "    'cvec__min_df': [1, 2],\n",
    "    'cvec__max_df': [.1, .2],\n",
    "    'cvec__binary': [False],\n",
    "    'cvec__stop_words': ['english'],\n",
    "    'rf__random_state': [42]\n",
    "}"
   ]
  },
  {
   "cell_type": "code",
   "execution_count": 102,
   "id": "1f61e38f",
   "metadata": {},
   "outputs": [
    {
     "name": "stdout",
     "output_type": "stream",
     "text": [
      "0.8846666666666667\n"
     ]
    },
    {
     "data": {
      "text/plain": [
       "{'cvec__binary': False,\n",
       " 'cvec__max_df': 0.2,\n",
       " 'cvec__min_df': 1,\n",
       " 'cvec__stop_words': 'english',\n",
       " 'rf__random_state': 42}"
      ]
     },
     "execution_count": 102,
     "metadata": {},
     "output_type": "execute_result"
    }
   ],
   "source": [
    "gs7 = GridSearchCV(pipe7, param_grid=params7)\n",
    "gs7.fit(X_train, y_train)\n",
    "print(gs7.best_score_)\n",
    "gs7.best_params_"
   ]
  },
  {
   "cell_type": "code",
   "execution_count": 103,
   "id": "b5468c42",
   "metadata": {},
   "outputs": [
    {
     "data": {
      "image/png": "[encoded data removed]",
      "text/plain": [
       "<Figure size 432x288 with 2 Axes>"
      ]
     },
     "metadata": {
      "needs_background": "light"
     },
     "output_type": "display_data"
    }
   ],
   "source": [
    "cm7 = metrics.plot_confusion_matrix(gs7, X_test, y_test, display_labels=['Tomorrowland', 'PremierLeague'])\n",
    "plt.show(cm7)"
   ]
  },
  {
   "cell_type": "code",
   "execution_count": 104,
   "id": "69c667ac",
   "metadata": {},
   "outputs": [],
   "source": [
    "preds7 = gs7.predict(X_test)\n",
    "tn7, fp7, fn7, tp7 = metrics.confusion_matrix(y_test, preds7).flatten()"
   ]
  },
  {
   "cell_type": "markdown",
   "id": "ac92fd9f",
   "metadata": {},
   "source": [
    "**Specificity - How good did the model perform at predicting Tomorrowland titles?**"
   ]
  },
  {
   "cell_type": "code",
   "execution_count": 105,
   "id": "0838f5df",
   "metadata": {},
   "outputs": [
    {
     "data": {
      "text/plain": [
       "0.968"
      ]
     },
     "execution_count": 105,
     "metadata": {},
     "output_type": "execute_result"
    }
   ],
   "source": [
    "tn7 / (tn7 + fp7)    # Model was very good at predicting subreddit if title came from Tomorrowland"
   ]
  },
  {
   "cell_type": "markdown",
   "id": "0bf1abc5",
   "metadata": {},
   "source": [
    "**Sensitivity - How good did the model perform at predicting Premier League titles?**"
   ]
  },
  {
   "cell_type": "code",
   "execution_count": 106,
   "id": "24097417",
   "metadata": {},
   "outputs": [
    {
     "data": {
      "text/plain": [
       "0.852"
      ]
     },
     "execution_count": 106,
     "metadata": {},
     "output_type": "execute_result"
    }
   ],
   "source": [
    "tp7 / (tp7 + fn7)   # Model was not as good at predicting subreddit if title came from Premier League"
   ]
  },
  {
   "cell_type": "code",
   "execution_count": 107,
   "id": "05d94d3c",
   "metadata": {},
   "outputs": [
    {
     "data": {
      "text/plain": [
       "1778                           Someone explain this to me\n",
       "1605                     Online Career Mode - FIFA 22 XB1\n",
       "1571                      Breakdown of annual squad wages\n",
       "1024    Ward-prowse, TAA, and Maddison, who are you ta...\n",
       "1295                              Proper baller. Deserved\n",
       "1919                       Please subscribe to my channel\n",
       "1641                                    Pretty much this!\n",
       "1981                                                Salah\n",
       "1228    A commanding performance or a open-ended thril...\n",
       "1459    Which are the most unexpected signings in rece...\n",
       "1290    Former wonder kids who failed to live up to th...\n",
       "1409                                    I'm fed up of FSG\n",
       "1317    Seems you lot appreciated the last one I poste...\n",
       "1954                                         Need a chant\n",
       "1214                             Can someone explain ffp?\n",
       "1536    'Bad, very bad indeed' - Italian media denounc...\n",
       "1269          Who remembers this classic Redknapp moment?\n",
       "1626                                     Pure masterclass\n",
       "1253    'I am not sure what the plan is' - why are Eve...\n",
       "1328                           God I love Moyes's Westham\n",
       "1668                        I made this on the glowforge.\n",
       "1843                                            Transfers\n",
       "1377                                                 Good\n",
       "1458    According to statistics from Artificial Intell...\n",
       "1103    Interesting. Is it because Scholes played the ...\n",
       "1897    American with a ticket question- How to get ti...\n",
       "1474    Can Someone British Translate a Term the Comme...\n",
       "1131    Lukaku Cross Body Finish! PES 2021 Ultra Reali...\n",
       "1348                      guess the hammers are for real.\n",
       "1754             Let's talk about Alex Oxlade-Chamberlain\n",
       "1957                     They just announced the new 007!\n",
       "1012                                           Genesis576\n",
       "1410            Eddie Howe on his way into the Amex today\n",
       "1827    Neymar da Silva Santos, why doesn’t Neymar rec...\n",
       "1663                                                    😳\n",
       "1362    Operation Exercise: What's the coded message b...\n",
       "1320                                            NEW ORDER\n",
       "Name: title, dtype: object"
      ]
     },
     "execution_count": 107,
     "metadata": {},
     "output_type": "execute_result"
    }
   ],
   "source": [
    "preds7 = gs7.predict(X_test)\n",
    "X_test[(y_test != preds7) & (preds7 == 0)].head(37)"
   ]
  },
  {
   "cell_type": "code",
   "execution_count": 108,
   "id": "da2b00f4",
   "metadata": {},
   "outputs": [
    {
     "data": {
      "text/plain": [
       "821    I really hope Martin Garrix features whoever m...\n",
       "270                                     Change time zone\n",
       "805    The best time of my life deserves to be on my ...\n",
       "492                          Time to make legal steps...\n",
       "267    One of the best ways to watch: with Philips Hu...\n",
       "847                                   Good time at B.Eat\n",
       "64                                    Best treasure case\n",
       "418            Can I stay the entire week at dreamville?\n",
       "Name: title, dtype: object"
      ]
     },
     "execution_count": 108,
     "metadata": {},
     "output_type": "execute_result"
    }
   ],
   "source": [
    "X_test[(y_test != preds7) & (preds7 == 1)].head(8)"
   ]
  },
  {
   "cell_type": "code",
   "execution_count": 109,
   "id": "ff318e21",
   "metadata": {},
   "outputs": [
    {
     "data": {
      "text/html": [
       "<div>\n",
       "<style scoped>\n",
       "    .dataframe tbody tr th:only-of-type {\n",
       "        vertical-align: middle;\n",
       "    }\n",
       "\n",
       "    .dataframe tbody tr th {\n",
       "        vertical-align: top;\n",
       "    }\n",
       "\n",
       "    .dataframe thead th {\n",
       "        text-align: right;\n",
       "    }\n",
       "</style>\n",
       "<table border=\"1\" class=\"dataframe\">\n",
       "  <thead>\n",
       "    <tr style=\"text-align: right;\">\n",
       "      <th></th>\n",
       "      <th>true_values</th>\n",
       "      <th>pred_probs</th>\n",
       "    </tr>\n",
       "  </thead>\n",
       "  <tbody>\n",
       "    <tr>\n",
       "      <th>1370</th>\n",
       "      <td>1</td>\n",
       "      <td>0.970000</td>\n",
       "    </tr>\n",
       "    <tr>\n",
       "      <th>654</th>\n",
       "      <td>0</td>\n",
       "      <td>0.410000</td>\n",
       "    </tr>\n",
       "    <tr>\n",
       "      <th>1778</th>\n",
       "      <td>1</td>\n",
       "      <td>0.201599</td>\n",
       "    </tr>\n",
       "    <tr>\n",
       "      <th>646</th>\n",
       "      <td>0</td>\n",
       "      <td>0.096352</td>\n",
       "    </tr>\n",
       "    <tr>\n",
       "      <th>1171</th>\n",
       "      <td>1</td>\n",
       "      <td>1.000000</td>\n",
       "    </tr>\n",
       "  </tbody>\n",
       "</table>\n",
       "</div>"
      ],
      "text/plain": [
       "      true_values  pred_probs\n",
       "1370            1    0.970000\n",
       "654             0    0.410000\n",
       "1778            1    0.201599\n",
       "646             0    0.096352\n",
       "1171            1    1.000000"
      ]
     },
     "execution_count": 109,
     "metadata": {},
     "output_type": "execute_result"
    }
   ],
   "source": [
    "pred7_df = pd.DataFrame({'true_values': y_test,\n",
    "                        'pred_probs': gs7.predict_proba(X_test)[:,1]})\n",
    "\n",
    "pred7_df.head()"
   ]
  },
  {
   "cell_type": "code",
   "execution_count": 110,
   "id": "d31a493b",
   "metadata": {},
   "outputs": [
    {
     "name": "stderr",
     "output_type": "stream",
     "text": [
      "C:\\Users\\ao322\\anaconda3\\lib\\site-packages\\seaborn\\distributions.py:2557: FutureWarning: `distplot` is a deprecated function and will be removed in a future version. Please adapt your code to use either `displot` (a figure-level function with similar flexibility) or `histplot` (an axes-level function for histograms).\n",
      "  warnings.warn(msg, FutureWarning)\n"
     ]
    },
    {
     "data": {
      "image/png": "[encoded data removed]",
      "text/plain": [
       "<Figure size 864x360 with 1 Axes>"
      ]
     },
     "metadata": {
      "needs_background": "light"
     },
     "output_type": "display_data"
    }
   ],
   "source": [
    "plt.figure(figsize = (12, 5))\n",
    "\n",
    "# code from classification metrics lecture ii\n",
    "for group in pred7_df.groupby('true_values'):\n",
    "    sns.distplot(group[1], kde = False, bins = 20, label = [f'Actual Outcome = {group[0]}'])\n",
    "\n",
    "plt.axvline(y.mean(), color='r')\n",
    "plt.xlabel('Predicted Probability that Outcome = 1')\n",
    "plt.legend();"
   ]
  },
  {
   "cell_type": "code",
   "execution_count": 111,
   "id": "ee57cda2",
   "metadata": {},
   "outputs": [
    {
     "data": {
      "image/png": "[encoded data removed]",
      "text/plain": [
       "<Figure size 432x288 with 1 Axes>"
      ]
     },
     "metadata": {
      "needs_background": "light"
     },
     "output_type": "display_data"
    }
   ],
   "source": [
    "# ROC curve for Model 7\n",
    "metrics.plot_roc_curve(gs7, X_test, y_test)\n",
    "# worst case scenario line\n",
    "plt.plot([0,1], [0,1], label='Baseline');"
   ]
  },
  {
   "cell_type": "markdown",
   "id": "e36fdf2e",
   "metadata": {},
   "source": [
    "---"
   ]
  },
  {
   "cell_type": "markdown",
   "id": "aa9b0c78",
   "metadata": {},
   "source": [
    "### Model 8 - RandomForest with TFIDF"
   ]
  },
  {
   "cell_type": "code",
   "execution_count": 112,
   "id": "58bb06ad",
   "metadata": {},
   "outputs": [],
   "source": [
    "pipe8 = Pipeline([\n",
    "    ('tvec', TfidfVectorizer()),\n",
    "    ('rf', RandomForestClassifier())\n",
    "])"
   ]
  },
  {
   "cell_type": "code",
   "execution_count": 113,
   "id": "ea4454a3",
   "metadata": {},
   "outputs": [],
   "source": [
    "params8 = {\n",
    "    'tvec__stop_words': [None, 'english'],\n",
    "    'tvec__min_df': [1, 2, 3, 4, 5],\n",
    "    'tvec__max_df': [.2, .3, .4],\n",
    "    'tvec__ngram_range': [(1,1), (1,2)],\n",
    "    'rf__random_state': [42]\n",
    "}"
   ]
  },
  {
   "cell_type": "code",
   "execution_count": 114,
   "id": "28640a4f",
   "metadata": {},
   "outputs": [
    {
     "name": "stdout",
     "output_type": "stream",
     "text": [
      "0.8879999999999999\n"
     ]
    },
    {
     "data": {
      "text/plain": [
       "{'rf__random_state': 42,\n",
       " 'tvec__max_df': 0.2,\n",
       " 'tvec__min_df': 1,\n",
       " 'tvec__ngram_range': (1, 1),\n",
       " 'tvec__stop_words': 'english'}"
      ]
     },
     "execution_count": 114,
     "metadata": {},
     "output_type": "execute_result"
    }
   ],
   "source": [
    "gs8 = GridSearchCV(pipe8, param_grid=params8)\n",
    "gs8.fit(X_train, y_train)\n",
    "print(gs8.best_score_)\n",
    "gs8.best_params_"
   ]
  },
  {
   "cell_type": "code",
   "execution_count": 115,
   "id": "131aa829",
   "metadata": {
    "scrolled": true
   },
   "outputs": [
    {
     "data": {
      "image/png": "[encoded data removed]",
      "text/plain": [
       "<Figure size 432x288 with 2 Axes>"
      ]
     },
     "metadata": {
      "needs_background": "light"
     },
     "output_type": "display_data"
    }
   ],
   "source": [
    "cm8 = metrics.plot_confusion_matrix(gs8, X_test, y_test, display_labels=['Tomorrowland', 'PremierLeague'])\n",
    "plt.show(cm8)"
   ]
  },
  {
   "cell_type": "code",
   "execution_count": 116,
   "id": "13b64fc8",
   "metadata": {},
   "outputs": [],
   "source": [
    "preds8 = gs8.predict(X_test)\n",
    "tn8, fp8, fn8, tp8 = metrics.confusion_matrix(y_test, preds8).flatten()"
   ]
  },
  {
   "cell_type": "markdown",
   "id": "0583705f",
   "metadata": {},
   "source": [
    "**Specificity - How good did the model perform at predicting Tomorrowland titles?**"
   ]
  },
  {
   "cell_type": "code",
   "execution_count": 117,
   "id": "e052cd24",
   "metadata": {},
   "outputs": [
    {
     "data": {
      "text/plain": [
       "0.972"
      ]
     },
     "execution_count": 117,
     "metadata": {},
     "output_type": "execute_result"
    }
   ],
   "source": [
    "tn8 / (tn8 + fp8)    # Model was very good at predicting subreddit if title came from Tomorrowland"
   ]
  },
  {
   "cell_type": "markdown",
   "id": "482240da",
   "metadata": {},
   "source": [
    "**Sensitivity - How good did the model perform at predicting Premier League titles?**"
   ]
  },
  {
   "cell_type": "code",
   "execution_count": 118,
   "id": "cad5d598",
   "metadata": {},
   "outputs": [
    {
     "data": {
      "text/plain": [
       "0.868"
      ]
     },
     "execution_count": 118,
     "metadata": {},
     "output_type": "execute_result"
    }
   ],
   "source": [
    "tp8 / (tp8 + fn8)   # Model was good but not as good at predicting subreddit if title came from Premier League"
   ]
  },
  {
   "cell_type": "code",
   "execution_count": 119,
   "id": "be5342f6",
   "metadata": {},
   "outputs": [
    {
     "data": {
      "text/plain": [
       "1778                           Someone explain this to me\n",
       "1605                     Online Career Mode - FIFA 22 XB1\n",
       "1571                      Breakdown of annual squad wages\n",
       "1024    Ward-prowse, TAA, and Maddison, who are you ta...\n",
       "1295                              Proper baller. Deserved\n",
       "1919                       Please subscribe to my channel\n",
       "1641                                    Pretty much this!\n",
       "1228    A commanding performance or a open-ended thril...\n",
       "1459    Which are the most unexpected signings in rece...\n",
       "1290    Former wonder kids who failed to live up to th...\n",
       "1409                                    I'm fed up of FSG\n",
       "1317    Seems you lot appreciated the last one I poste...\n",
       "1954                                         Need a chant\n",
       "1214                             Can someone explain ffp?\n",
       "1269          Who remembers this classic Redknapp moment?\n",
       "1626                                     Pure masterclass\n",
       "1253    'I am not sure what the plan is' - why are Eve...\n",
       "1328                           God I love Moyes's Westham\n",
       "1668                        I made this on the glowforge.\n",
       "1843                                            Transfers\n",
       "1458    According to statistics from Artificial Intell...\n",
       "1103    Interesting. Is it because Scholes played the ...\n",
       "1897    American with a ticket question- How to get ti...\n",
       "1474    Can Someone British Translate a Term the Comme...\n",
       "1131    Lukaku Cross Body Finish! PES 2021 Ultra Reali...\n",
       "1348                      guess the hammers are for real.\n",
       "1957                     They just announced the new 007!\n",
       "1012                                           Genesis576\n",
       "1410            Eddie Howe on his way into the Amex today\n",
       "1827    Neymar da Silva Santos, why doesn’t Neymar rec...\n",
       "1663                                                    😳\n",
       "1362    Operation Exercise: What's the coded message b...\n",
       "1320                                            NEW ORDER\n",
       "Name: title, dtype: object"
      ]
     },
     "execution_count": 119,
     "metadata": {},
     "output_type": "execute_result"
    }
   ],
   "source": [
    "preds8 = gs8.predict(X_test)\n",
    "X_test[(y_test != preds8) & (preds8 == 0)].head(33)"
   ]
  },
  {
   "cell_type": "code",
   "execution_count": 120,
   "id": "3fcde04b",
   "metadata": {},
   "outputs": [
    {
     "data": {
      "text/plain": [
       "805    The best time of my life deserves to be on my ...\n",
       "492                          Time to make legal steps...\n",
       "267    One of the best ways to watch: with Philips Hu...\n",
       "738            Some of the best memories of my lifetyme!\n",
       "847                                   Good time at B.Eat\n",
       "64                                    Best treasure case\n",
       "418            Can I stay the entire week at dreamville?\n",
       "Name: title, dtype: object"
      ]
     },
     "execution_count": 120,
     "metadata": {},
     "output_type": "execute_result"
    }
   ],
   "source": [
    "X_test[(y_test != preds8) & (preds8 == 1)].head(7)"
   ]
  },
  {
   "cell_type": "code",
   "execution_count": 121,
   "id": "7ef7075d",
   "metadata": {},
   "outputs": [
    {
     "data": {
      "text/html": [
       "<div>\n",
       "<style scoped>\n",
       "    .dataframe tbody tr th:only-of-type {\n",
       "        vertical-align: middle;\n",
       "    }\n",
       "\n",
       "    .dataframe tbody tr th {\n",
       "        vertical-align: top;\n",
       "    }\n",
       "\n",
       "    .dataframe thead th {\n",
       "        text-align: right;\n",
       "    }\n",
       "</style>\n",
       "<table border=\"1\" class=\"dataframe\">\n",
       "  <thead>\n",
       "    <tr style=\"text-align: right;\">\n",
       "      <th></th>\n",
       "      <th>true_values</th>\n",
       "      <th>pred_probs</th>\n",
       "    </tr>\n",
       "  </thead>\n",
       "  <tbody>\n",
       "    <tr>\n",
       "      <th>1370</th>\n",
       "      <td>1</td>\n",
       "      <td>0.950000</td>\n",
       "    </tr>\n",
       "    <tr>\n",
       "      <th>654</th>\n",
       "      <td>0</td>\n",
       "      <td>0.370000</td>\n",
       "    </tr>\n",
       "    <tr>\n",
       "      <th>1778</th>\n",
       "      <td>1</td>\n",
       "      <td>0.184709</td>\n",
       "    </tr>\n",
       "    <tr>\n",
       "      <th>646</th>\n",
       "      <td>0</td>\n",
       "      <td>0.172906</td>\n",
       "    </tr>\n",
       "    <tr>\n",
       "      <th>1171</th>\n",
       "      <td>1</td>\n",
       "      <td>1.000000</td>\n",
       "    </tr>\n",
       "  </tbody>\n",
       "</table>\n",
       "</div>"
      ],
      "text/plain": [
       "      true_values  pred_probs\n",
       "1370            1    0.950000\n",
       "654             0    0.370000\n",
       "1778            1    0.184709\n",
       "646             0    0.172906\n",
       "1171            1    1.000000"
      ]
     },
     "execution_count": 121,
     "metadata": {},
     "output_type": "execute_result"
    }
   ],
   "source": [
    "pred8_df = pd.DataFrame({'true_values': y_test,\n",
    "                        'pred_probs': gs8.predict_proba(X_test)[:,1]})\n",
    "\n",
    "pred8_df.head()"
   ]
  },
  {
   "cell_type": "code",
   "execution_count": 122,
   "id": "2dd99728",
   "metadata": {},
   "outputs": [
    {
     "name": "stderr",
     "output_type": "stream",
     "text": [
      "C:\\Users\\ao322\\anaconda3\\lib\\site-packages\\seaborn\\distributions.py:2557: FutureWarning: `distplot` is a deprecated function and will be removed in a future version. Please adapt your code to use either `displot` (a figure-level function with similar flexibility) or `histplot` (an axes-level function for histograms).\n",
      "  warnings.warn(msg, FutureWarning)\n"
     ]
    },
    {
     "data": {
      "image/png": "[encoded data removed]",
      "text/plain": [
       "<Figure size 864x360 with 1 Axes>"
      ]
     },
     "metadata": {
      "needs_background": "light"
     },
     "output_type": "display_data"
    }
   ],
   "source": [
    "plt.figure(figsize = (12, 5))\n",
    "\n",
    "# code from classification metrics lecture ii\n",
    "for group in pred8_df.groupby('true_values'):\n",
    "    sns.distplot(group[1], kde = False, bins = 20, label = [f'Actual Outcome = {group[0]}'])\n",
    "\n",
    "plt.axvline(y.mean(), color='r')\n",
    "plt.xlabel('Predicted Probability that Outcome = 1')\n",
    "plt.legend();"
   ]
  },
  {
   "cell_type": "code",
   "execution_count": 123,
   "id": "8cb3fcad",
   "metadata": {},
   "outputs": [
    {
     "data": {
      "image/png": "[encoded data removed]",
      "text/plain": [
       "<Figure size 432x288 with 1 Axes>"
      ]
     },
     "metadata": {
      "needs_background": "light"
     },
     "output_type": "display_data"
    }
   ],
   "source": [
    "# ROC curve for Model 8\n",
    "metrics.plot_roc_curve(gs8, X_test, y_test)\n",
    "# worst case scenario line\n",
    "plt.plot([0,1], [0,1], label='Baseline');"
   ]
  },
  {
   "cell_type": "markdown",
   "id": "2336597e",
   "metadata": {},
   "source": [
    "---"
   ]
  },
  {
   "cell_type": "markdown",
   "id": "c77c7f33",
   "metadata": {},
   "source": [
    "# Analysis"
   ]
  },
  {
   "cell_type": "markdown",
   "id": "52617463",
   "metadata": {},
   "source": [
    "### EDA"
   ]
  },
  {
   "cell_type": "markdown",
   "id": "dbfd3c55",
   "metadata": {},
   "source": [
    "*Premier League titles seemed to be longer than Tomorrowland titles based on total title length and title word count.  Could be signal for model to help predict between the two subreddits.*\n",
    "\n",
    "*In looking at top title words between the two subreddits, there was not much overlap with top title words of one subreddit showing up in top title words of the other subreddit.  Should make it easier for models to predict between the two subreddits.*"
   ]
  },
  {
   "cell_type": "markdown",
   "id": "e1f19854",
   "metadata": {},
   "source": [
    "---"
   ]
  },
  {
   "cell_type": "markdown",
   "id": "8bb254e0",
   "metadata": {},
   "source": [
    "### Model Analysis"
   ]
  },
  {
   "cell_type": "markdown",
   "id": "b1157d56",
   "metadata": {},
   "source": [
    "*All models were able to predict the correct subreddit with accuracies ranging from 83% to 91%, so they were all good models.  Also, verified that models were good based on ROC curves that all had AUC's at or above a 0.88.*\n",
    "\n",
    "*In every model except the KNN with tfidfvectorizer, the Tomorrowland subreddit was predicted much more than the Premier League subreddit which led higher specificities than sensitivities in those models.*\n",
    "\n",
    "*When reviewing some of the incorrectly predicted titles, there seem to be a lot of the top words from the other subreddit that could possibly be the reason for the incorrect predictions.  The Tomorrowland titles tended to have more top words that were also frequently in Premier League titles which could be the reason that Tomorrowland was predicted more than Premier League consistently.*\n",
    "\n",
    "*Although, I didn't calculate them it is clear that precision scores are also very high for each model except the KNN with tfidfvectorizer based on the small amounts of false positives in those models.*\n",
    "\n",
    "*The logistic regression model with the tfidfvectorizer was the most accurate model and was able to predict the correct subreddit based on the title with an accuracy of 91%.*\n",
    "\n",
    "*The KNN with the countvectorizer was the least accurate model correctly predicting the subreddit the title came from 83% of the time.*\n",
    "\n",
    "*In all of the models the tfidfvectorizer and the countvectorizer gave similar scores.  Scoring vs. counting words in subreddit titles didn't seem to impact the models very much.*"
   ]
  },
  {
   "cell_type": "markdown",
   "id": "246fc4ed",
   "metadata": {},
   "source": [
    "---"
   ]
  }
 ],
 "metadata": {
  "kernelspec": {
   "display_name": "Python 3",
   "language": "python",
   "name": "python3"
  },
  "language_info": {
   "codemirror_mode": {
    "name": "ipython",
    "version": 3
   },
   "file_extension": ".py",
   "mimetype": "text/x-python",
   "name": "python",
   "nbconvert_exporter": "python",
   "pygments_lexer": "ipython3",
   "version": "3.8.8"
  }
 },
 "nbformat": 4,
 "nbformat_minor": 5
}
